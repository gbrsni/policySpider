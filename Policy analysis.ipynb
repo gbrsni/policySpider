{
 "cells": [
  {
   "cell_type": "markdown",
   "id": "ea808d30",
   "metadata": {},
   "source": [
    "# Policy analysis\n",
    "The point of this notebook is to analyze the privacy policies fetched with the spider.  \n",
    "This presumes all the policies that are marked as successfully gathered in the report file are good, and only looks at said policies"
   ]
  },
  {
   "cell_type": "code",
   "execution_count": 1,
   "id": "21766db6",
   "metadata": {},
   "outputs": [],
   "source": [
    "import os\n",
    "import json\n",
    "import justext\n",
    "import math\n",
    "import numpy as np\n",
    "import pandas as pd\n",
    "import matplotlib.pyplot as plt\n",
    "from wordcloud import WordCloud, STOPWORDS, ImageColorGenerator\n",
    "import langid\n",
    "from readability import Readability\n",
    "import textstat\n",
    "    \n",
    "from sklearn.decomposition import TruncatedSVD\n",
    "from sklearn.pipeline import make_pipeline\n",
    "from sklearn.preprocessing import Normalizer\n",
    "from sklearn.feature_extraction.text import TfidfVectorizer\n",
    "from sklearn.cluster import MiniBatchKMeans, KMeans\n",
    "from sklearn.cluster import DBSCAN"
   ]
  },
  {
   "cell_type": "code",
   "execution_count": 2,
   "id": "5197ab8a",
   "metadata": {},
   "outputs": [],
   "source": [
    "def site_name_from_file_name(file_name):\n",
    "    return file_name[len(\"policy_\"):len(file_name) - 4]"
   ]
  },
  {
   "cell_type": "code",
   "execution_count": 3,
   "id": "8f9c977f",
   "metadata": {},
   "outputs": [],
   "source": [
    "def make_policy_files():\n",
    "    policy_files = []\n",
    "    for filename in policy_file_names:\n",
    "        policy_files.append(open(DATADIR + filename))\n",
    "    return policy_files"
   ]
  },
  {
   "cell_type": "markdown",
   "id": "d76e338b",
   "metadata": {},
   "source": [
    "## 1 Overview"
   ]
  },
  {
   "cell_type": "code",
   "execution_count": 4,
   "id": "19be9b07",
   "metadata": {},
   "outputs": [],
   "source": [
    "DATADIR = \"data/\"\n",
    "POLICY_FILE_PREFIX = \"policy_\"\n",
    "REPORT_FILE_NAME = \"crawl_report.json\""
   ]
  },
  {
   "cell_type": "code",
   "execution_count": 5,
   "id": "b59a3306",
   "metadata": {},
   "outputs": [
    {
     "data": {
      "text/html": [
       "<div>\n",
       "<style scoped>\n",
       "    .dataframe tbody tr th:only-of-type {\n",
       "        vertical-align: middle;\n",
       "    }\n",
       "\n",
       "    .dataframe tbody tr th {\n",
       "        vertical-align: top;\n",
       "    }\n",
       "\n",
       "    .dataframe thead th {\n",
       "        text-align: right;\n",
       "    }\n",
       "</style>\n",
       "<table border=\"1\" class=\"dataframe\">\n",
       "  <thead>\n",
       "    <tr style=\"text-align: right;\">\n",
       "      <th></th>\n",
       "      <th>url</th>\n",
       "      <th>policy_domain</th>\n",
       "      <th>policy_url</th>\n",
       "      <th>policy_file</th>\n",
       "      <th>uses_iubenda</th>\n",
       "      <th>success</th>\n",
       "      <th>ignore</th>\n",
       "    </tr>\n",
       "  </thead>\n",
       "  <tbody>\n",
       "    <tr>\n",
       "      <th>0</th>\n",
       "      <td>https://www.3bmeteo.com/</td>\n",
       "      <td>www.3bmeteo.com</td>\n",
       "      <td>https://www.3bmeteo.com/policies</td>\n",
       "      <td>policy_www.3bmeteo.com.txt</td>\n",
       "      <td>True</td>\n",
       "      <td>True</td>\n",
       "      <td>False</td>\n",
       "    </tr>\n",
       "    <tr>\n",
       "      <th>1</th>\n",
       "      <td>https://www.ilfattoquotidiano.it/</td>\n",
       "      <td>www.ilfattoquotidiano.it</td>\n",
       "      <td>https://www.ilfattoquotidiano.it/2022/12/05/fq...</td>\n",
       "      <td>policy_www.ilfattoquotidiano.it.txt</td>\n",
       "      <td>False</td>\n",
       "      <td>True</td>\n",
       "      <td>False</td>\n",
       "    </tr>\n",
       "    <tr>\n",
       "      <th>2</th>\n",
       "      <td>https://www.wikipedia.org/</td>\n",
       "      <td>meta.wikimedia.org</td>\n",
       "      <td>https://meta.wikimedia.org/wiki/Privacy_policy</td>\n",
       "      <td>policy_www.wikipedia.org.txt</td>\n",
       "      <td>False</td>\n",
       "      <td>True</td>\n",
       "      <td>False</td>\n",
       "    </tr>\n",
       "    <tr>\n",
       "      <th>3</th>\n",
       "      <td>https://www.ansa.it/</td>\n",
       "      <td>www.ansa.it</td>\n",
       "      <td>https://www.ansa.it/sito/static/privacy.html</td>\n",
       "      <td>policy_www.ansa.it.txt</td>\n",
       "      <td>True</td>\n",
       "      <td>True</td>\n",
       "      <td>False</td>\n",
       "    </tr>\n",
       "    <tr>\n",
       "      <th>4</th>\n",
       "      <td>https://twitter.com</td>\n",
       "      <td>twitter.com</td>\n",
       "      <td>https://twitter.com/privacy</td>\n",
       "      <td>policy_twitter.com.txt</td>\n",
       "      <td>False</td>\n",
       "      <td>True</td>\n",
       "      <td>False</td>\n",
       "    </tr>\n",
       "    <tr>\n",
       "      <th>...</th>\n",
       "      <td>...</td>\n",
       "      <td>...</td>\n",
       "      <td>...</td>\n",
       "      <td>...</td>\n",
       "      <td>...</td>\n",
       "      <td>...</td>\n",
       "      <td>...</td>\n",
       "    </tr>\n",
       "    <tr>\n",
       "      <th>465</th>\n",
       "      <td>https://www.maart.mi.it/</td>\n",
       "      <td>www.maart.mi.it</td>\n",
       "      <td>https://www.maart.mi.it/</td>\n",
       "      <td>policy_www.maart.mi.it.txt</td>\n",
       "      <td>True</td>\n",
       "      <td>True</td>\n",
       "      <td>False</td>\n",
       "    </tr>\n",
       "    <tr>\n",
       "      <th>466</th>\n",
       "      <td>https://fast.mi.it</td>\n",
       "      <td>fast.mi.it</td>\n",
       "      <td>https://fast.mi.it/privacy-policy/</td>\n",
       "      <td>policy_fast.mi.it.txt</td>\n",
       "      <td>False</td>\n",
       "      <td>False</td>\n",
       "      <td>False</td>\n",
       "    </tr>\n",
       "    <tr>\n",
       "      <th>467</th>\n",
       "      <td>https://www.pim.mi.it/</td>\n",
       "      <td>www.iubenda.com</td>\n",
       "      <td>https://www.iubenda.com/privacy-policy/39112369</td>\n",
       "      <td>policy_www.pim.mi.it.txt</td>\n",
       "      <td>True</td>\n",
       "      <td>False</td>\n",
       "      <td>False</td>\n",
       "    </tr>\n",
       "    <tr>\n",
       "      <th>468</th>\n",
       "      <td>https://www.afor.mi.it/</td>\n",
       "      <td>www.afor.mi.it</td>\n",
       "      <td>http://www.afor.mi.it/privacy</td>\n",
       "      <td>policy_www.afor.mi.it.txt</td>\n",
       "      <td>False</td>\n",
       "      <td>True</td>\n",
       "      <td>False</td>\n",
       "    </tr>\n",
       "    <tr>\n",
       "      <th>469</th>\n",
       "      <td>https://www.pages.mi.it/</td>\n",
       "      <td>None</td>\n",
       "      <td>None</td>\n",
       "      <td>policy_www.pages.mi.it.txt</td>\n",
       "      <td>False</td>\n",
       "      <td>False</td>\n",
       "      <td>False</td>\n",
       "    </tr>\n",
       "  </tbody>\n",
       "</table>\n",
       "<p>470 rows × 7 columns</p>\n",
       "</div>"
      ],
      "text/plain": [
       "                                   url             policy_domain  \\\n",
       "0             https://www.3bmeteo.com/           www.3bmeteo.com   \n",
       "1    https://www.ilfattoquotidiano.it/  www.ilfattoquotidiano.it   \n",
       "2           https://www.wikipedia.org/        meta.wikimedia.org   \n",
       "3                 https://www.ansa.it/               www.ansa.it   \n",
       "4                  https://twitter.com               twitter.com   \n",
       "..                                 ...                       ...   \n",
       "465           https://www.maart.mi.it/           www.maart.mi.it   \n",
       "466                 https://fast.mi.it                fast.mi.it   \n",
       "467             https://www.pim.mi.it/           www.iubenda.com   \n",
       "468            https://www.afor.mi.it/            www.afor.mi.it   \n",
       "469           https://www.pages.mi.it/                      None   \n",
       "\n",
       "                                            policy_url  \\\n",
       "0                     https://www.3bmeteo.com/policies   \n",
       "1    https://www.ilfattoquotidiano.it/2022/12/05/fq...   \n",
       "2       https://meta.wikimedia.org/wiki/Privacy_policy   \n",
       "3         https://www.ansa.it/sito/static/privacy.html   \n",
       "4                          https://twitter.com/privacy   \n",
       "..                                                 ...   \n",
       "465                           https://www.maart.mi.it/   \n",
       "466                 https://fast.mi.it/privacy-policy/   \n",
       "467    https://www.iubenda.com/privacy-policy/39112369   \n",
       "468                      http://www.afor.mi.it/privacy   \n",
       "469                                               None   \n",
       "\n",
       "                             policy_file  uses_iubenda  success  ignore  \n",
       "0             policy_www.3bmeteo.com.txt          True     True   False  \n",
       "1    policy_www.ilfattoquotidiano.it.txt         False     True   False  \n",
       "2           policy_www.wikipedia.org.txt         False     True   False  \n",
       "3                 policy_www.ansa.it.txt          True     True   False  \n",
       "4                 policy_twitter.com.txt         False     True   False  \n",
       "..                                   ...           ...      ...     ...  \n",
       "465           policy_www.maart.mi.it.txt          True     True   False  \n",
       "466                policy_fast.mi.it.txt         False    False   False  \n",
       "467             policy_www.pim.mi.it.txt          True    False   False  \n",
       "468            policy_www.afor.mi.it.txt         False     True   False  \n",
       "469           policy_www.pages.mi.it.txt         False    False   False  \n",
       "\n",
       "[470 rows x 7 columns]"
      ]
     },
     "execution_count": 5,
     "metadata": {},
     "output_type": "execute_result"
    }
   ],
   "source": [
    "report_json = pd.read_json(DATADIR + REPORT_FILE_NAME)\n",
    "report_json"
   ]
  },
  {
   "cell_type": "markdown",
   "id": "0ddaa9cd",
   "metadata": {},
   "source": [
    "### 1.1 Success rate"
   ]
  },
  {
   "cell_type": "code",
   "execution_count": 6,
   "id": "ff28d040",
   "metadata": {},
   "outputs": [
    {
     "name": "stdout",
     "output_type": "stream",
     "text": [
      "Analyzed sites: 470\n",
      "Successfully downloaded: 379\n",
      "Success rate: 80.6%\n",
      "Policy url found but no good policy found: 37\n"
     ]
    },
    {
     "data": {
      "text/html": [
       "<div>\n",
       "<style scoped>\n",
       "    .dataframe tbody tr th:only-of-type {\n",
       "        vertical-align: middle;\n",
       "    }\n",
       "\n",
       "    .dataframe tbody tr th {\n",
       "        vertical-align: top;\n",
       "    }\n",
       "\n",
       "    .dataframe thead th {\n",
       "        text-align: right;\n",
       "    }\n",
       "</style>\n",
       "<table border=\"1\" class=\"dataframe\">\n",
       "  <thead>\n",
       "    <tr style=\"text-align: right;\">\n",
       "      <th></th>\n",
       "      <th>url</th>\n",
       "      <th>policy_domain</th>\n",
       "      <th>policy_url</th>\n",
       "      <th>policy_file</th>\n",
       "      <th>uses_iubenda</th>\n",
       "      <th>success</th>\n",
       "      <th>ignore</th>\n",
       "    </tr>\n",
       "  </thead>\n",
       "  <tbody>\n",
       "    <tr>\n",
       "      <th>26</th>\n",
       "      <td>https://www.mygpteam.com/</td>\n",
       "      <td>www.mygpteam.com</td>\n",
       "      <td>https://www.mygpteam.com/privacy.php</td>\n",
       "      <td>policy_www.mygpteam.com.txt</td>\n",
       "      <td>False</td>\n",
       "      <td>False</td>\n",
       "      <td>False</td>\n",
       "    </tr>\n",
       "    <tr>\n",
       "      <th>35</th>\n",
       "      <td>https://www.sky.it/</td>\n",
       "      <td>www.sky.it</td>\n",
       "      <td>https://www.sky.it/info/moduli-contrattuali/pr...</td>\n",
       "      <td>policy_www.sky.it.txt</td>\n",
       "      <td>False</td>\n",
       "      <td>False</td>\n",
       "      <td>False</td>\n",
       "    </tr>\n",
       "    <tr>\n",
       "      <th>67</th>\n",
       "      <td>https://consent.yahoo.com/v2/collectConsent?se...</td>\n",
       "      <td>consent.yahoo.com</td>\n",
       "      <td>https://consent.yahoo.com/redirect?to=https%3A...</td>\n",
       "      <td>policy_consent.yahoo.com.txt</td>\n",
       "      <td>False</td>\n",
       "      <td>False</td>\n",
       "      <td>False</td>\n",
       "    </tr>\n",
       "    <tr>\n",
       "      <th>68</th>\n",
       "      <td>https://freenem.com</td>\n",
       "      <td>freenem.com</td>\n",
       "      <td>https://freenem.com/gdpr</td>\n",
       "      <td>policy_freenem.com.txt</td>\n",
       "      <td>False</td>\n",
       "      <td>False</td>\n",
       "      <td>False</td>\n",
       "    </tr>\n",
       "    <tr>\n",
       "      <th>74</th>\n",
       "      <td>https://www.paypal.com/it/home</td>\n",
       "      <td>www.paypal.com</td>\n",
       "      <td>https://www.paypal.com/privacy-center</td>\n",
       "      <td>policy_www.paypal.com.txt</td>\n",
       "      <td>False</td>\n",
       "      <td>False</td>\n",
       "      <td>False</td>\n",
       "    </tr>\n",
       "    <tr>\n",
       "      <th>78</th>\n",
       "      <td>https://www.aranzulla.it:443/</td>\n",
       "      <td>www.iubenda.com</td>\n",
       "      <td>https://www.iubenda.com/privacy-policy/281842</td>\n",
       "      <td>policy_www.aranzulla.it:443.txt</td>\n",
       "      <td>True</td>\n",
       "      <td>False</td>\n",
       "      <td>False</td>\n",
       "    </tr>\n",
       "    <tr>\n",
       "      <th>104</th>\n",
       "      <td>https://www.leggo.it/</td>\n",
       "      <td>www.leggo.it</td>\n",
       "      <td>https://www.leggo.it/javascript:acceptAllCooki...</td>\n",
       "      <td>policy_www.leggo.it.txt</td>\n",
       "      <td>True</td>\n",
       "      <td>False</td>\n",
       "      <td>False</td>\n",
       "    </tr>\n",
       "    <tr>\n",
       "      <th>124</th>\n",
       "      <td>https://www.airbnb.it/</td>\n",
       "      <td>www.airbnb.it</td>\n",
       "      <td>https://www.airbnb.it/terms/privacy_policy</td>\n",
       "      <td>policy_www.airbnb.it.txt</td>\n",
       "      <td>False</td>\n",
       "      <td>False</td>\n",
       "      <td>False</td>\n",
       "    </tr>\n",
       "    <tr>\n",
       "      <th>183</th>\n",
       "      <td>https://www.pmi.it/</td>\n",
       "      <td>www.pmi.it</td>\n",
       "      <td>https://www.pmi.it/privacy-policy</td>\n",
       "      <td>policy_www.pmi.it.txt</td>\n",
       "      <td>False</td>\n",
       "      <td>False</td>\n",
       "      <td>False</td>\n",
       "    </tr>\n",
       "    <tr>\n",
       "      <th>187</th>\n",
       "      <td>https://www.wikihow.it/Pagina-principale</td>\n",
       "      <td>www.wikihow.it</td>\n",
       "      <td>https://www.wikihow.it/wikiHow:Policy</td>\n",
       "      <td>policy_www.wikihow.it.txt</td>\n",
       "      <td>False</td>\n",
       "      <td>False</td>\n",
       "      <td>False</td>\n",
       "    </tr>\n",
       "    <tr>\n",
       "      <th>208</th>\n",
       "      <td>https://meglio.it</td>\n",
       "      <td>aforismi.meglio.it</td>\n",
       "      <td>https://aforismi.meglio.it/disclaimer.htm</td>\n",
       "      <td>policy_meglio.it.txt</td>\n",
       "      <td>False</td>\n",
       "      <td>False</td>\n",
       "      <td>False</td>\n",
       "    </tr>\n",
       "    <tr>\n",
       "      <th>211</th>\n",
       "      <td>https://www.decathlon.it/</td>\n",
       "      <td>www.decathlon.it</td>\n",
       "      <td>https://www.decathlon.it/landing/privacy/_/R-a...</td>\n",
       "      <td>policy_www.decathlon.it.txt</td>\n",
       "      <td>False</td>\n",
       "      <td>False</td>\n",
       "      <td>False</td>\n",
       "    </tr>\n",
       "    <tr>\n",
       "      <th>230</th>\n",
       "      <td>https://biografieonline.it</td>\n",
       "      <td>www.iubenda.com</td>\n",
       "      <td>https://www.iubenda.com/privacy-policy/96554383</td>\n",
       "      <td>policy_biografieonline.it.txt</td>\n",
       "      <td>False</td>\n",
       "      <td>False</td>\n",
       "      <td>False</td>\n",
       "    </tr>\n",
       "    <tr>\n",
       "      <th>240</th>\n",
       "      <td>https://www.units.it/</td>\n",
       "      <td>www.units.it</td>\n",
       "      <td>https://www.units.it/privacy-policy</td>\n",
       "      <td>policy_www.units.it.txt</td>\n",
       "      <td>False</td>\n",
       "      <td>False</td>\n",
       "      <td>False</td>\n",
       "    </tr>\n",
       "    <tr>\n",
       "      <th>246</th>\n",
       "      <td>https://www.pianetadonna.it/</td>\n",
       "      <td>www.iubenda.com</td>\n",
       "      <td>https://www.iubenda.com/privacy-policy/26184072</td>\n",
       "      <td>policy_www.pianetadonna.it.txt</td>\n",
       "      <td>False</td>\n",
       "      <td>False</td>\n",
       "      <td>False</td>\n",
       "    </tr>\n",
       "    <tr>\n",
       "      <th>279</th>\n",
       "      <td>https://www.tuttitalia.it/</td>\n",
       "      <td>www.tuttitalia.it</td>\n",
       "      <td>https://www.tuttitalia.it/privacy-policy/</td>\n",
       "      <td>policy_www.tuttitalia.it.txt</td>\n",
       "      <td>False</td>\n",
       "      <td>False</td>\n",
       "      <td>False</td>\n",
       "    </tr>\n",
       "    <tr>\n",
       "      <th>286</th>\n",
       "      <td>https://www.tvblog.it/</td>\n",
       "      <td>www.tvblog.it</td>\n",
       "      <td>https://www.tvblog.it/privacy-policy</td>\n",
       "      <td>policy_www.tvblog.it.txt</td>\n",
       "      <td>False</td>\n",
       "      <td>False</td>\n",
       "      <td>False</td>\n",
       "    </tr>\n",
       "    <tr>\n",
       "      <th>293</th>\n",
       "      <td>https://www.agrodolce.it/</td>\n",
       "      <td>www.agrodolce.it</td>\n",
       "      <td>https://www.agrodolce.it/policy-contatti/</td>\n",
       "      <td>policy_www.agrodolce.it.txt</td>\n",
       "      <td>False</td>\n",
       "      <td>False</td>\n",
       "      <td>False</td>\n",
       "    </tr>\n",
       "    <tr>\n",
       "      <th>314</th>\n",
       "      <td>https://www.doveconviene.it/</td>\n",
       "      <td>www.doveconviene.it</td>\n",
       "      <td>https://www.doveconviene.it/privacy-policy</td>\n",
       "      <td>policy_www.doveconviene.it.txt</td>\n",
       "      <td>True</td>\n",
       "      <td>False</td>\n",
       "      <td>False</td>\n",
       "    </tr>\n",
       "    <tr>\n",
       "      <th>317</th>\n",
       "      <td>https://www.aci.it/</td>\n",
       "      <td>www.aci.it</td>\n",
       "      <td>https://www.aci.it/per-la-navigazione-del-sito...</td>\n",
       "      <td>policy_www.aci.it.txt</td>\n",
       "      <td>True</td>\n",
       "      <td>False</td>\n",
       "      <td>False</td>\n",
       "    </tr>\n",
       "    <tr>\n",
       "      <th>328</th>\n",
       "      <td>https://www.tuttocitta.it/</td>\n",
       "      <td>privacy.italiaonline.it</td>\n",
       "      <td>https://privacy.italiaonline.it/common/cookie/...</td>\n",
       "      <td>policy_www.tuttocitta.it.txt</td>\n",
       "      <td>True</td>\n",
       "      <td>False</td>\n",
       "      <td>False</td>\n",
       "    </tr>\n",
       "    <tr>\n",
       "      <th>340</th>\n",
       "      <td>https://www.dire.it/</td>\n",
       "      <td>www.iubenda.com</td>\n",
       "      <td>https://www.iubenda.com/privacy-policy/971395</td>\n",
       "      <td>policy_www.dire.it.txt</td>\n",
       "      <td>True</td>\n",
       "      <td>False</td>\n",
       "      <td>False</td>\n",
       "    </tr>\n",
       "    <tr>\n",
       "      <th>346</th>\n",
       "      <td>https://www.asianews.it/</td>\n",
       "      <td>www.iubenda.com</td>\n",
       "      <td>https://www.iubenda.com/privacy-policy/92266936</td>\n",
       "      <td>policy_www.asianews.it.txt</td>\n",
       "      <td>True</td>\n",
       "      <td>False</td>\n",
       "      <td>False</td>\n",
       "    </tr>\n",
       "    <tr>\n",
       "      <th>349</th>\n",
       "      <td>https://www.bancobpm.it/</td>\n",
       "      <td>gruppo.bancobpm.it</td>\n",
       "      <td>https://gruppo.bancobpm.it/privacy</td>\n",
       "      <td>policy_www.bancobpm.it.txt</td>\n",
       "      <td>False</td>\n",
       "      <td>False</td>\n",
       "      <td>False</td>\n",
       "    </tr>\n",
       "    <tr>\n",
       "      <th>392</th>\n",
       "      <td>https://www.lanuovasardegna.it:443/</td>\n",
       "      <td>www.lanuovasardegna.it:443</td>\n",
       "      <td>https://www.lanuovasardegna.it:443/privacy</td>\n",
       "      <td>policy_www.lanuovasardegna.it:443.txt</td>\n",
       "      <td>False</td>\n",
       "      <td>False</td>\n",
       "      <td>False</td>\n",
       "    </tr>\n",
       "    <tr>\n",
       "      <th>393</th>\n",
       "      <td>https://www.editorialedomani.it/</td>\n",
       "      <td>www.editorialedomani.it</td>\n",
       "      <td>https://www.editorialedomani.it/privacy</td>\n",
       "      <td>policy_www.editorialedomani.it.txt</td>\n",
       "      <td>False</td>\n",
       "      <td>False</td>\n",
       "      <td>False</td>\n",
       "    </tr>\n",
       "    <tr>\n",
       "      <th>410</th>\n",
       "      <td>https://www.sony.it:443/</td>\n",
       "      <td>www.sony.it</td>\n",
       "      <td>https://www.sony.it/eu/pages/privacy/it_IT/pri...</td>\n",
       "      <td>policy_www.sony.it:443.txt</td>\n",
       "      <td>False</td>\n",
       "      <td>False</td>\n",
       "      <td>False</td>\n",
       "    </tr>\n",
       "    <tr>\n",
       "      <th>412</th>\n",
       "      <td>https://www.playbasket.it/index.php</td>\n",
       "      <td>www.playbasket.it</td>\n",
       "      <td>https://www.playbasket.it/javascript:null;</td>\n",
       "      <td>policy_www.playbasket.it.txt</td>\n",
       "      <td>False</td>\n",
       "      <td>False</td>\n",
       "      <td>False</td>\n",
       "    </tr>\n",
       "    <tr>\n",
       "      <th>415</th>\n",
       "      <td>https://www.anpal.gov.it/</td>\n",
       "      <td>www.anpal.gov.it</td>\n",
       "      <td>https://www.anpal.gov.it/privacy-policy</td>\n",
       "      <td>policy_www.anpal.gov.it.txt</td>\n",
       "      <td>False</td>\n",
       "      <td>False</td>\n",
       "      <td>False</td>\n",
       "    </tr>\n",
       "    <tr>\n",
       "      <th>416</th>\n",
       "      <td>https://www.politichegiovanili.gov.it/</td>\n",
       "      <td>www.politichegiovanili.gov.it</td>\n",
       "      <td>https://www.politichegiovanili.gov.it/privacy-...</td>\n",
       "      <td>policy_www.politichegiovanili.gov.it.txt</td>\n",
       "      <td>False</td>\n",
       "      <td>False</td>\n",
       "      <td>False</td>\n",
       "    </tr>\n",
       "    <tr>\n",
       "      <th>422</th>\n",
       "      <td>https://scelgoilserviziocivile.gov.it</td>\n",
       "      <td>scelgoilserviziocivile.gov.it</td>\n",
       "      <td>https://scelgoilserviziocivile.gov.it/privacy-...</td>\n",
       "      <td>policy_scelgoilserviziocivile.gov.it.txt</td>\n",
       "      <td>False</td>\n",
       "      <td>False</td>\n",
       "      <td>False</td>\n",
       "    </tr>\n",
       "    <tr>\n",
       "      <th>444</th>\n",
       "      <td>https://microcredito.gov.it</td>\n",
       "      <td>microcredito.gov.it</td>\n",
       "      <td>https://microcredito.gov.it/privacy-enm.html</td>\n",
       "      <td>policy_microcredito.gov.it.txt</td>\n",
       "      <td>False</td>\n",
       "      <td>False</td>\n",
       "      <td>False</td>\n",
       "    </tr>\n",
       "    <tr>\n",
       "      <th>450</th>\n",
       "      <td>https://fermenti.gov.it</td>\n",
       "      <td>fermenti.gov.it</td>\n",
       "      <td>https://fermenti.gov.it/notizie/bando-fermenti...</td>\n",
       "      <td>policy_fermenti.gov.it.txt</td>\n",
       "      <td>False</td>\n",
       "      <td>False</td>\n",
       "      <td>False</td>\n",
       "    </tr>\n",
       "    <tr>\n",
       "      <th>458</th>\n",
       "      <td>https://consulentidellavoro.mi.it</td>\n",
       "      <td>www.iubenda.com</td>\n",
       "      <td>https://www.iubenda.com/privacy-policy/97010751</td>\n",
       "      <td>policy_consulentidellavoro.mi.it.txt</td>\n",
       "      <td>True</td>\n",
       "      <td>False</td>\n",
       "      <td>False</td>\n",
       "    </tr>\n",
       "    <tr>\n",
       "      <th>462</th>\n",
       "      <td>https://aji.mi.it/home</td>\n",
       "      <td>www.iubenda.com</td>\n",
       "      <td>https://www.iubenda.com/privacy-policy/98486864</td>\n",
       "      <td>policy_aji.mi.it.txt</td>\n",
       "      <td>True</td>\n",
       "      <td>False</td>\n",
       "      <td>False</td>\n",
       "    </tr>\n",
       "    <tr>\n",
       "      <th>466</th>\n",
       "      <td>https://fast.mi.it</td>\n",
       "      <td>fast.mi.it</td>\n",
       "      <td>https://fast.mi.it/privacy-policy/</td>\n",
       "      <td>policy_fast.mi.it.txt</td>\n",
       "      <td>False</td>\n",
       "      <td>False</td>\n",
       "      <td>False</td>\n",
       "    </tr>\n",
       "    <tr>\n",
       "      <th>467</th>\n",
       "      <td>https://www.pim.mi.it/</td>\n",
       "      <td>www.iubenda.com</td>\n",
       "      <td>https://www.iubenda.com/privacy-policy/39112369</td>\n",
       "      <td>policy_www.pim.mi.it.txt</td>\n",
       "      <td>True</td>\n",
       "      <td>False</td>\n",
       "      <td>False</td>\n",
       "    </tr>\n",
       "  </tbody>\n",
       "</table>\n",
       "</div>"
      ],
      "text/plain": [
       "                                                   url  \\\n",
       "26                           https://www.mygpteam.com/   \n",
       "35                                 https://www.sky.it/   \n",
       "67   https://consent.yahoo.com/v2/collectConsent?se...   \n",
       "68                                 https://freenem.com   \n",
       "74                      https://www.paypal.com/it/home   \n",
       "78                       https://www.aranzulla.it:443/   \n",
       "104                              https://www.leggo.it/   \n",
       "124                             https://www.airbnb.it/   \n",
       "183                                https://www.pmi.it/   \n",
       "187           https://www.wikihow.it/Pagina-principale   \n",
       "208                                  https://meglio.it   \n",
       "211                          https://www.decathlon.it/   \n",
       "230                         https://biografieonline.it   \n",
       "240                              https://www.units.it/   \n",
       "246                       https://www.pianetadonna.it/   \n",
       "279                         https://www.tuttitalia.it/   \n",
       "286                             https://www.tvblog.it/   \n",
       "293                          https://www.agrodolce.it/   \n",
       "314                       https://www.doveconviene.it/   \n",
       "317                                https://www.aci.it/   \n",
       "328                         https://www.tuttocitta.it/   \n",
       "340                               https://www.dire.it/   \n",
       "346                           https://www.asianews.it/   \n",
       "349                           https://www.bancobpm.it/   \n",
       "392                https://www.lanuovasardegna.it:443/   \n",
       "393                   https://www.editorialedomani.it/   \n",
       "410                           https://www.sony.it:443/   \n",
       "412                https://www.playbasket.it/index.php   \n",
       "415                          https://www.anpal.gov.it/   \n",
       "416             https://www.politichegiovanili.gov.it/   \n",
       "422              https://scelgoilserviziocivile.gov.it   \n",
       "444                        https://microcredito.gov.it   \n",
       "450                            https://fermenti.gov.it   \n",
       "458                  https://consulentidellavoro.mi.it   \n",
       "462                             https://aji.mi.it/home   \n",
       "466                                 https://fast.mi.it   \n",
       "467                             https://www.pim.mi.it/   \n",
       "\n",
       "                     policy_domain  \\\n",
       "26                www.mygpteam.com   \n",
       "35                      www.sky.it   \n",
       "67               consent.yahoo.com   \n",
       "68                     freenem.com   \n",
       "74                  www.paypal.com   \n",
       "78                 www.iubenda.com   \n",
       "104                   www.leggo.it   \n",
       "124                  www.airbnb.it   \n",
       "183                     www.pmi.it   \n",
       "187                 www.wikihow.it   \n",
       "208             aforismi.meglio.it   \n",
       "211               www.decathlon.it   \n",
       "230                www.iubenda.com   \n",
       "240                   www.units.it   \n",
       "246                www.iubenda.com   \n",
       "279              www.tuttitalia.it   \n",
       "286                  www.tvblog.it   \n",
       "293               www.agrodolce.it   \n",
       "314            www.doveconviene.it   \n",
       "317                     www.aci.it   \n",
       "328        privacy.italiaonline.it   \n",
       "340                www.iubenda.com   \n",
       "346                www.iubenda.com   \n",
       "349             gruppo.bancobpm.it   \n",
       "392     www.lanuovasardegna.it:443   \n",
       "393        www.editorialedomani.it   \n",
       "410                    www.sony.it   \n",
       "412              www.playbasket.it   \n",
       "415               www.anpal.gov.it   \n",
       "416  www.politichegiovanili.gov.it   \n",
       "422  scelgoilserviziocivile.gov.it   \n",
       "444            microcredito.gov.it   \n",
       "450                fermenti.gov.it   \n",
       "458                www.iubenda.com   \n",
       "462                www.iubenda.com   \n",
       "466                     fast.mi.it   \n",
       "467                www.iubenda.com   \n",
       "\n",
       "                                            policy_url  \\\n",
       "26                https://www.mygpteam.com/privacy.php   \n",
       "35   https://www.sky.it/info/moduli-contrattuali/pr...   \n",
       "67   https://consent.yahoo.com/redirect?to=https%3A...   \n",
       "68                            https://freenem.com/gdpr   \n",
       "74               https://www.paypal.com/privacy-center   \n",
       "78       https://www.iubenda.com/privacy-policy/281842   \n",
       "104  https://www.leggo.it/javascript:acceptAllCooki...   \n",
       "124         https://www.airbnb.it/terms/privacy_policy   \n",
       "183                  https://www.pmi.it/privacy-policy   \n",
       "187              https://www.wikihow.it/wikiHow:Policy   \n",
       "208          https://aforismi.meglio.it/disclaimer.htm   \n",
       "211  https://www.decathlon.it/landing/privacy/_/R-a...   \n",
       "230    https://www.iubenda.com/privacy-policy/96554383   \n",
       "240                https://www.units.it/privacy-policy   \n",
       "246    https://www.iubenda.com/privacy-policy/26184072   \n",
       "279          https://www.tuttitalia.it/privacy-policy/   \n",
       "286               https://www.tvblog.it/privacy-policy   \n",
       "293          https://www.agrodolce.it/policy-contatti/   \n",
       "314         https://www.doveconviene.it/privacy-policy   \n",
       "317  https://www.aci.it/per-la-navigazione-del-sito...   \n",
       "328  https://privacy.italiaonline.it/common/cookie/...   \n",
       "340      https://www.iubenda.com/privacy-policy/971395   \n",
       "346    https://www.iubenda.com/privacy-policy/92266936   \n",
       "349                 https://gruppo.bancobpm.it/privacy   \n",
       "392         https://www.lanuovasardegna.it:443/privacy   \n",
       "393            https://www.editorialedomani.it/privacy   \n",
       "410  https://www.sony.it/eu/pages/privacy/it_IT/pri...   \n",
       "412         https://www.playbasket.it/javascript:null;   \n",
       "415            https://www.anpal.gov.it/privacy-policy   \n",
       "416  https://www.politichegiovanili.gov.it/privacy-...   \n",
       "422  https://scelgoilserviziocivile.gov.it/privacy-...   \n",
       "444       https://microcredito.gov.it/privacy-enm.html   \n",
       "450  https://fermenti.gov.it/notizie/bando-fermenti...   \n",
       "458    https://www.iubenda.com/privacy-policy/97010751   \n",
       "462    https://www.iubenda.com/privacy-policy/98486864   \n",
       "466                 https://fast.mi.it/privacy-policy/   \n",
       "467    https://www.iubenda.com/privacy-policy/39112369   \n",
       "\n",
       "                                  policy_file  uses_iubenda  success  ignore  \n",
       "26                policy_www.mygpteam.com.txt         False    False   False  \n",
       "35                      policy_www.sky.it.txt         False    False   False  \n",
       "67               policy_consent.yahoo.com.txt         False    False   False  \n",
       "68                     policy_freenem.com.txt         False    False   False  \n",
       "74                  policy_www.paypal.com.txt         False    False   False  \n",
       "78            policy_www.aranzulla.it:443.txt          True    False   False  \n",
       "104                   policy_www.leggo.it.txt          True    False   False  \n",
       "124                  policy_www.airbnb.it.txt         False    False   False  \n",
       "183                     policy_www.pmi.it.txt         False    False   False  \n",
       "187                 policy_www.wikihow.it.txt         False    False   False  \n",
       "208                      policy_meglio.it.txt         False    False   False  \n",
       "211               policy_www.decathlon.it.txt         False    False   False  \n",
       "230             policy_biografieonline.it.txt         False    False   False  \n",
       "240                   policy_www.units.it.txt         False    False   False  \n",
       "246            policy_www.pianetadonna.it.txt         False    False   False  \n",
       "279              policy_www.tuttitalia.it.txt         False    False   False  \n",
       "286                  policy_www.tvblog.it.txt         False    False   False  \n",
       "293               policy_www.agrodolce.it.txt         False    False   False  \n",
       "314            policy_www.doveconviene.it.txt          True    False   False  \n",
       "317                     policy_www.aci.it.txt          True    False   False  \n",
       "328              policy_www.tuttocitta.it.txt          True    False   False  \n",
       "340                    policy_www.dire.it.txt          True    False   False  \n",
       "346                policy_www.asianews.it.txt          True    False   False  \n",
       "349                policy_www.bancobpm.it.txt         False    False   False  \n",
       "392     policy_www.lanuovasardegna.it:443.txt         False    False   False  \n",
       "393        policy_www.editorialedomani.it.txt         False    False   False  \n",
       "410                policy_www.sony.it:443.txt         False    False   False  \n",
       "412              policy_www.playbasket.it.txt         False    False   False  \n",
       "415               policy_www.anpal.gov.it.txt         False    False   False  \n",
       "416  policy_www.politichegiovanili.gov.it.txt         False    False   False  \n",
       "422  policy_scelgoilserviziocivile.gov.it.txt         False    False   False  \n",
       "444            policy_microcredito.gov.it.txt         False    False   False  \n",
       "450                policy_fermenti.gov.it.txt         False    False   False  \n",
       "458      policy_consulentidellavoro.mi.it.txt          True    False   False  \n",
       "462                      policy_aji.mi.it.txt          True    False   False  \n",
       "466                     policy_fast.mi.it.txt         False    False   False  \n",
       "467                  policy_www.pim.mi.it.txt          True    False   False  "
      ]
     },
     "execution_count": 6,
     "metadata": {},
     "output_type": "execute_result"
    }
   ],
   "source": [
    "# Recap\n",
    "number_total = len(report_json)\n",
    "print(\"Analyzed sites: \" + str(number_total))\n",
    "\n",
    "successful = report_json.loc[report_json[\"success\"] == True]\n",
    "number_successful = len(successful)\n",
    "print(\"Successfully downloaded: \" + str(number_successful))\n",
    "\n",
    "print(\"Success rate: \" + str(round((100 * number_successful / number_total), 1)) + \"%\")\n",
    "\n",
    "failed_with_url = report_json.loc[pd.notna(report_json[\"policy_url\"])\n",
    "                                  & (report_json[\"success\"] == False)]\n",
    "print(\"Policy url found but no good policy found: \" + str(len(failed_with_url)))\n",
    "failed_with_url"
   ]
  },
  {
   "cell_type": "markdown",
   "id": "a49cae29",
   "metadata": {},
   "source": [
    "### 1.2 Sites overview"
   ]
  },
  {
   "cell_type": "code",
   "execution_count": 7,
   "id": "5361d9ce",
   "metadata": {},
   "outputs": [
    {
     "data": {
      "image/png": "[encoded data removed]",
      "text/plain": [
       "<Figure size 432x288 with 1 Axes>"
      ]
     },
     "metadata": {
      "needs_background": "light"
     },
     "output_type": "display_data"
    }
   ],
   "source": [
    "# TLDs\n",
    "\n",
    "urls = report_json[\"url\"]\n",
    "ul = urls.tolist()\n",
    "\n",
    "tlds = {}\n",
    "for url in ul:\n",
    "    tld = (url.split(\"/\")[2]).sp[l]\n",
    "    tld = ((url.split(\".\")[len(url.split(\".\")) - 1]).split(\"/\")[0]).split(\":\")[0]\n",
    "    if tld in tlds.keys():\n",
    "        tlds[tld] = tlds[tld] + 1\n",
    "    else:\n",
    "        tlds[tld] = 1\n",
    "        \n",
    "pd.Series(tlds).sort_values(ascending = False).plot.bar()\n",
    "plt.show()"
   ]
  },
  {
   "cell_type": "markdown",
   "id": "a37d8f56",
   "metadata": {},
   "source": [
    "## 2 Simple analysis"
   ]
  },
  {
   "cell_type": "code",
   "execution_count": 8,
   "id": "f5d25eb2",
   "metadata": {},
   "outputs": [],
   "source": [
    "# Open policy files\n",
    "policy_file_names = successful[\"policy_file\"].tolist()"
   ]
  },
  {
   "cell_type": "markdown",
   "id": "64f4cebf",
   "metadata": {},
   "source": [
    "### 2.1 Language detection"
   ]
  },
  {
   "cell_type": "code",
   "execution_count": 9,
   "id": "50ebd697",
   "metadata": {},
   "outputs": [
    {
     "data": {
      "image/png": "[encoded data removed]",
      "text/plain": [
       "<Figure size 432x288 with 1 Axes>"
      ]
     },
     "metadata": {
      "needs_background": "light"
     },
     "output_type": "display_data"
    }
   ],
   "source": [
    "# Language detection\n",
    "policy_files = []\n",
    "for filename in policy_file_names:\n",
    "    policy_files.append(open(DATADIR + filename))\n",
    "\n",
    "\n",
    "languages = {}\n",
    "for file in policy_files:\n",
    "    languages[file.name] = langid.classify(file.read())[0]\n",
    "\n",
    "plt.bar(pd.Series(languages).value_counts().keys(), pd.Series(languages).value_counts())\n",
    "plt.show()"
   ]
  },
  {
   "cell_type": "markdown",
   "id": "75da564b",
   "metadata": {},
   "source": [
    "### 2.2 Detecting suspicious entries with DBSCAN\n",
    "Some bad text will make it through the spider. With some clustering we can find suspicious texts and weed them out manually.  \n",
    "Language detection is done before this in order to do clustering separately for each detected language.  \n",
    "This step also detects policies from the same company on different sites i.e. wikimedia.org and wikipedia.org quite well."
   ]
  },
  {
   "cell_type": "code",
   "execution_count": 22,
   "id": "2a956b34",
   "metadata": {
    "scrolled": false
   },
   "outputs": [
    {
     "name": "stdout",
     "output_type": "stream",
     "text": [
      "\n",
      "Current language: en\n",
      "Found 7 clusters\n",
      "Labels: \n",
      "[ 0  1  2  3  1  1  1  1 -1  1  1  1  1  2  1  1  1  1  1  1  1  1  1  3\n",
      "  1  1  1  1  1 -1  1 -1  1  1  1  1  1  1  4  1  1  0  1  1  1  1  1  2\n",
      "  1  1  1  1  1  1  1  1  1  1  1  1  1  1  1  1  1  1  1  1  1  1  1  1\n",
      " -1  1  5  1  1  1  1  1  1  1  1  1  1  4  1  1  1  1  1  1  1  1  1  1\n",
      "  1  1  2  1  1  1  1  1  1  1  1  1  1  1  1  1  1  1  1  1  1  1  1  1\n",
      "  1  1  1  5  1  1  1  1  1  1  1  1  1  1  1  1  1  1  1  1  1  1  1  1\n",
      "  1  1  1  1  1  1  5  1  1  1  1  1  1  1  1  1  1  1  1  1  1  1  1  1\n",
      "  1  1  1  1  1  1  1  1  1  1  1  1  1  1  1  1  1  1  1  1  1  1  1  1\n",
      "  1  1  1  1  1  1  0  1  1  1  1  1  1  1]\n",
      "\n",
      "Cluster: -1 with 4 elements\n",
      "data/policy_www.reddit.com.txt    Advertisement Reddit and its partners use cook...\n",
      "data/policy_www.w3.org.txt        W3C Standards Participate Membership About W3C...\n",
      "data/policy_www.etsy.com.txt      Etsy Search for items or shops Skip to Content...\n",
      "data/policy_www.npr.org.txt       Accessibility links Skip to main content Keybo...\n",
      "Name: Text, dtype: object\n",
      "\n",
      "Higher score is harder to read.\n",
      "Hard to read texts: 2\n",
      "as a percentage of total: 50.0%\n",
      "Average grade level: 18.0\n",
      "Texts above recommended level (8th grade) 100.0%\n",
      "[14.0, 24.0, 20.0, 14.0]\n"
     ]
    },
    {
     "data": {
      "image/png": "[encoded data removed]",
      "text/plain": [
       "<Figure size 432x288 with 1 Axes>"
      ]
     },
     "metadata": {
      "needs_background": "light"
     },
     "output_type": "display_data"
    },
    {
     "name": "stdout",
     "output_type": "stream",
     "text": [
      "\n",
      "Cluster: 0 with 3 elements\n",
      "data/policy_www.wikipedia.org.txt     Privacy policy From Meta, a Wikimedia project ...\n",
      "data/policy_www.wikimedia.org.txt     Privacy policy From Meta, a Wikimedia project ...\n",
      "data/policy_www.wiktionary.org.txt    Privacy policy From Meta, a Wikimedia project ...\n",
      "Name: Text, dtype: object\n",
      "\n",
      "Higher score is harder to read.\n",
      "Hard to read texts: 0\n",
      "as a percentage of total: 0.0%\n",
      "Average grade level: 15.0\n",
      "Texts above recommended level (8th grade) 100.0%\n",
      "[15.0, 15.0, 15.0]\n"
     ]
    },
    {
     "data": {
      "image/png": "[encoded data removed]",
      "text/plain": [
       "<Figure size 432x288 with 1 Axes>"
      ]
     },
     "metadata": {
      "needs_background": "light"
     },
     "output_type": "display_data"
    },
    {
     "name": "stdout",
     "output_type": "stream",
     "text": [
      "\n",
      "Cluster: 1 with 188 elements\n",
      "data/policy_twitter.com.txt            Skip to main content Privacy Policy Twitter Pr...\n",
      "data/policy_wordpress.org.txt          Skip to content Log In Register WordPress.org ...\n",
      "data/policy_www.apple.com.txt          Global Nav Open MenuGlobal Nav Close Menu Appl...\n",
      "data/policy_www.amazon.com.txt         Skip to main content .us Deliver to\\nItaly All...\n",
      "data/policy_vimeo.com.txt              Contact Sales Upload Create video Record scree...\n",
      "                                                             ...                        \n",
      "data/policy_www.newyorker.com.txt      Skip to main content About Brands Stores Comme...\n",
      "data/policy_www.irs.gov.txt            Skip to main content An official website of th...\n",
      "data/policy_www.frontiersin.org.txt    Skip to main content Navigation Top bar naviga...\n",
      "data/policy_www.oreilly.com.txt        Skip to main content Sign In Try Now Teams For...\n",
      "data/policy_uci.edu.txt                Skip to main content UCI homepage About About ...\n",
      "Name: Text, Length: 188, dtype: object\n",
      "\n",
      "Higher score is harder to read.\n",
      "Hard to read texts: 40\n",
      "as a percentage of total: 21.3%\n",
      "Average grade level: 16.9\n",
      "Texts above recommended level (8th grade) 100.0%\n",
      "[13.0, 16.0, 9.0, 23.0, 12.0, 16.0, 15.0, 16.0, 22.0, 12.0, 15.0, 17.0, 18.0, 10.0, 11.0, 19.0, 16.0, 15.0, 16.0, 14.0, 15.0, 33.0, 21.0, 17.0, 16.0, 21.0, 13.0, 29.0, 12.0, 15.0, 16.0, 17.0, 17.0, 16.0, 20.0, 14.0, 18.0, 13.0, 15.0, 12.0, 15.0, 16.0, 15.0, 13.0, 14.0, 13.0, 16.0, 17.0, 46.0, 16.0, 19.0, 18.0, 15.0, 14.0, 17.0, 17.0, 17.0, 15.0, 14.0, 15.0, 14.0, 19.0, 14.0, 15.0, 49.0, 21.0, 18.0, 17.0, 14.0, 17.0, 18.0, 15.0, 21.0, 16.0, 16.0, 14.0, 17.0, 14.0, 19.0, 16.0, 15.0, 14.0, 19.0, 17.0, 12.0, 9.0, 17.0, 15.0, 13.0, 14.0, 14.0, 32.0, 13.0, 15.0, 16.0, 14.0, 18.0, 21.0, 30.0, 17.0, 16.0, 18.0, 20.0, 14.0, 14.0, 22.0, 14.0, 19.0, 15.0, 26.0, 17.0, 23.0, 11.0, 11.0, 13.0, 14.0, 26.0, 15.0, 14.0, 17.0, 19.0, 19.0, 13.0, 16.0, 16.0, 13.0, 9.0, 14.0, 18.0, 17.0, 16.0, 18.0, 20.0, 13.0, 19.0, 17.0, 17.0, 20.0, 16.0, 13.0, 17.0, 15.0, 14.0, 52.0, 14.0, 13.0, 16.0, 16.0, 15.0, 18.0, 14.0, 14.0, 19.0, 17.0, 19.0, 12.0, 17.0, 15.0, 19.0, 17.0, 17.0, 13.0, 13.0, 20.0, 14.0, 18.0, 17.0, 21.0, 23.0, 18.0, 15.0, 16.0, 16.0, 19.0, 15.0, 16.0, 16.0, 9.0, 18.0, 14.0, 23.0, 15.0, 14.0, 18.0, 19.0, 16.0, 18.0, 18.0]\n"
     ]
    },
    {
     "data": {
      "image/png": "[encoded data removed]",
      "text/plain": [
       "<Figure size 432x288 with 1 Axes>"
      ]
     },
     "metadata": {
      "needs_background": "light"
     },
     "output_type": "display_data"
    },
    {
     "name": "stdout",
     "output_type": "stream",
     "text": [
      "\n",
      "Cluster: 2 with 4 elements\n",
      "data/policy_outlook.live.com.txt        Skip to main content Microsoft Privacy Privacy...\n",
      "data/policy_www.msn.com.txt             Skip to main content Microsoft Privacy Privacy...\n",
      "data/policy_dotnet.microsoft.com.txt    Skip to main content Microsoft Privacy Privacy...\n",
      "data/policy_azure.microsoft.com.txt     Skip to main content Microsoft Privacy Privacy...\n",
      "Name: Text, dtype: object\n",
      "\n",
      "Higher score is harder to read.\n",
      "Hard to read texts: 0\n",
      "as a percentage of total: 0.0%\n",
      "Average grade level: 13.0\n",
      "Texts above recommended level (8th grade) 100.0%\n",
      "[13.0, 13.0, 13.0, 13.0]\n"
     ]
    },
    {
     "data": {
      "image/png": "[encoded data removed]",
      "text/plain": [
       "<Figure size 432x288 with 1 Axes>"
      ]
     },
     "metadata": {
      "needs_background": "light"
     },
     "output_type": "display_data"
    },
    {
     "name": "stdout",
     "output_type": "stream",
     "text": [
      "\n",
      "Cluster: 3 with 2 elements\n",
      "data/policy_github.com.txt          Skip to main content GitHub Docs All products ...\n",
      "data/policy_pages.github.com.txt    Skip to main content GitHub Docs All products ...\n",
      "Name: Text, dtype: object\n",
      "\n",
      "Higher score is harder to read.\n",
      "Hard to read texts: 0\n",
      "as a percentage of total: 0.0%\n",
      "Average grade level: 15.0\n",
      "Texts above recommended level (8th grade) 100.0%\n",
      "[15.0, 15.0]\n"
     ]
    },
    {
     "data": {
      "image/png": "[encoded data removed]",
      "text/plain": [
       "<Figure size 432x288 with 1 Axes>"
      ]
     },
     "metadata": {
      "needs_background": "light"
     },
     "output_type": "display_data"
    },
    {
     "name": "stdout",
     "output_type": "stream",
     "text": [
      "\n",
      "Cluster: 4 with 2 elements\n",
      "data/policy_www.oracle.com.txt    Click to view our Accessibility Policy Skip to...\n",
      "data/policy_www.mysql.com.txt     Click to view our Accessibility Policy Skip to...\n",
      "Name: Text, dtype: object\n",
      "\n",
      "Higher score is harder to read.\n",
      "Hard to read texts: 0\n",
      "as a percentage of total: 0.0%\n",
      "Average grade level: 17.5\n",
      "Texts above recommended level (8th grade) 100.0%\n",
      "[17.0, 18.0]\n"
     ]
    },
    {
     "data": {
      "image/png": "[encoded data removed]",
      "text/plain": [
       "<Figure size 432x288 with 1 Axes>"
      ]
     },
     "metadata": {
      "needs_background": "light"
     },
     "output_type": "display_data"
    },
    {
     "name": "stdout",
     "output_type": "stream",
     "text": [
      "\n",
      "Cluster: 5 with 3 elements\n",
      "data/policy_www.espn.com.txt                  Skip to contentSkip to navigation Country/Regi...\n",
      "data/policy_www.nationalgeographic.com.txt    Skip to contentSkip to navigation Country/Regi...\n",
      "data/policy_www.hulu.com.txt                  Skip to contentSkip to navigation Country/Regi...\n",
      "Name: Text, dtype: object\n",
      "\n",
      "Higher score is harder to read.\n",
      "Hard to read texts: 3\n",
      "as a percentage of total: 100.0%\n",
      "Average grade level: 29.0\n",
      "Texts above recommended level (8th grade) 100.0%\n",
      "[29.0, 29.0, 29.0]\n"
     ]
    },
    {
     "data": {
      "image/png": "[encoded data removed]",
      "text/plain": [
       "<Figure size 432x288 with 1 Axes>"
      ]
     },
     "metadata": {
      "needs_background": "light"
     },
     "output_type": "display_data"
    },
    {
     "name": "stdout",
     "output_type": "stream",
     "text": [
      "\n",
      "Current language: it\n",
      "Found 5 clusters\n",
      "Labels: \n",
      "[ 0  0  1  2  1  3 -1  0  0  1  0  3  0 -1  0  3  3  0  3  2  3  3  3  0\n",
      "  3  0  0  3  0  1 -1  0  0  3  3  3  3  0  0 -1]\n",
      "\n",
      "Cluster: -1 with 4 elements\n",
      "data/policy_www.mozilla.org.txt            Scarica Firefox\\nInformativa sulla privacy di ...\n",
      "data/policy_www.samsung.com.txt            Skip to contentSkip to accessibility help Sams...\n",
      "data/policy_www.nvidia.com.txt             NVIDIA HomeNVIDIA HomeMenuMenu iconMenuMenu ic...\n",
      "data/policy_www.americanexpress.com.txt    Skip to content MenuMenu Il seguente elemento ...\n",
      "Name: Text, dtype: object\n",
      "\n",
      "Higher score is easier to read\n",
      "Hard to read texts: 3\n",
      "as a percentage of total: 75.0%\n",
      "Average gulpease index: 39.0\n",
      "Texts above recommended level (8th grade rough italian equivalent) 100.0%\n",
      "[43.0, 37.6, 38.4, 37.0]\n"
     ]
    },
    {
     "data": {
      "image/png": "[encoded data removed]",
      "text/plain": [
       "<Figure size 432x288 with 1 Axes>"
      ]
     },
     "metadata": {
      "needs_background": "light"
     },
     "output_type": "display_data"
    },
    {
     "name": "stdout",
     "output_type": "stream",
     "text": [
      "\n",
      "Cluster: 0 with 16 elements\n",
      "data/policy_www.google.com.txt       Privacy e termini Accedi Introduzione Norme su...\n",
      "data/policy_www.youtube.com.txt      Privacy e termini Accedi Introduzione Norme su...\n",
      "data/policy_www.blogger.com.txt      Privacy e termini Privacy e termini Accedi Int...\n",
      "data/policy_www.google.com.hk.txt    Privacy e termini Privacy e termini Accedi Int...\n",
      "data/policy_www.google.co.in.txt     Privacy e termini Privacy e termini Accedi Int...\n",
      "data/policy_www.google.co.uk.txt     Privacy e termini Privacy e termini Accedi Int...\n",
      "data/policy_www.google.de.txt        Privacy e termini Privacy e termini Accedi Int...\n",
      "data/policy_www.google.co.jp.txt     Privacy e termini Privacy e termini Accedi Int...\n",
      "data/policy_www.google.ru.txt        Privacy e termini Privacy e termini Accedi Int...\n",
      "data/policy_www.google.ca.txt        Privacy e termini Privacy e termini Accedi Int...\n",
      "data/policy_www.google.fr.txt        Privacy e termini Privacy e termini Accedi Int...\n",
      "data/policy_www.google.es.txt        Privacy e termini Privacy e termini Accedi Int...\n",
      "data/policy_www.google.com.br.txt    Privacy e termini Privacy e termini Accedi Int...\n",
      "data/policy_www.google.com.tw.txt    Privacy e termini Privacy e termini Accedi Int...\n",
      "data/policy_www.google.com.mx.txt    Privacy e termini Privacy e termini Accedi Int...\n",
      "data/policy_www.google.it.txt        Privacy e termini Privacy e termini Accedi Int...\n",
      "Name: Text, dtype: object\n",
      "\n",
      "Higher score is easier to read\n",
      "Hard to read texts: 0\n",
      "as a percentage of total: 0.0%\n",
      "Average gulpease index: 42.1\n",
      "Texts above recommended level (8th grade rough italian equivalent) 100.0%\n",
      "[42.0, 42.0, 42.0, 42.3, 42.3, 42.0, 42.0, 42.2, 42.3, 42.3, 42.0, 42.0, 42.2, 42.3, 42.2, 42.0]\n"
     ]
    },
    {
     "data": {
      "image/png": "[encoded data removed]",
      "text/plain": [
       "<Figure size 432x288 with 1 Axes>"
      ]
     },
     "metadata": {
      "needs_background": "light"
     },
     "output_type": "display_data"
    },
    {
     "name": "stdout",
     "output_type": "stream",
     "text": [
      "\n",
      "Cluster: 1 with 4 elements\n",
      "data/policy_www.microsoft.com.txt             Passa a contenuti principali Microsoft Privacy...\n",
      "data/policy_www.office.com.txt                Passa a contenuti principali Microsoft Privacy...\n",
      "data/policy_www.skype.com.txt                 Passa a contenuti principali Microsoft Privacy...\n",
      "data/policy_visualstudio.microsoft.com.txt    Passa a contenuti principali Microsoft Privacy...\n",
      "Name: Text, dtype: object\n",
      "\n",
      "Higher score is easier to read\n",
      "Hard to read texts: 3\n",
      "as a percentage of total: 75.0%\n",
      "Average gulpease index: 40.2\n",
      "Texts above recommended level (8th grade rough italian equivalent) 100.0%\n",
      "[39.7, 39.7, 39.7, 41.7]\n"
     ]
    },
    {
     "data": {
      "image/png": "[encoded data removed]",
      "text/plain": [
       "<Figure size 432x288 with 1 Axes>"
      ]
     },
     "metadata": {
      "needs_background": "light"
     },
     "output_type": "display_data"
    },
    {
     "name": "stdout",
     "output_type": "stream",
     "text": [
      "\n",
      "Cluster: 2 with 2 elements\n",
      "data/policy_www.whatsapp.com.txt    WHATSAPP WEB FUNZIONI SCARICA PRIVACY CENTRO A...\n",
      "data/policy_stripe.com.txt          Stripe logo Stripe Services Agreement Stripe C...\n",
      "Name: Text, dtype: object\n",
      "\n",
      "Higher score is easier to read\n",
      "Hard to read texts: 0\n",
      "as a percentage of total: 0.0%\n",
      "Average gulpease index: 43.5\n",
      "Texts above recommended level (8th grade rough italian equivalent) 100.0%\n",
      "[41.9, 45.1]\n"
     ]
    },
    {
     "data": {
      "image/png": "[encoded data removed]",
      "text/plain": [
       "<Figure size 432x288 with 1 Axes>"
      ]
     },
     "metadata": {
      "needs_background": "light"
     },
     "output_type": "display_data"
    },
    {
     "name": "stdout",
     "output_type": "stream",
     "text": [
      "\n",
      "Cluster: 3 with 14 elements\n",
      "data/policy_zoom.us.txt                Assistenza 1.888.799.9666 Chiedi una dimostraz...\n",
      "data/policy_www.salesforce.com.txt     Passa direttamente al contenuto CHI SIAMO Chi ...\n",
      "data/policy_www.eventbrite.com.txt     Skip Main Navigation Eventbrite\\nCentro di Ass...\n",
      "data/policy_www.godaddy.com.txt        Nomi di dominio Cerca i nomi di dominio Trasfe...\n",
      "data/policy_mailchimp.com.txt          Passa al contenuto principale Ricerca Prova a ...\n",
      "data/policy_www.zendesk.com.txt        Accedi Assistenza prodotto Azienda Chi siamo S...\n",
      "data/policy_weather.com.txt            Passa al contenuto principaleAssistenza per ac...\n",
      "data/policy_it.squarespace.com.txt     Passa al contenuto principale Squarespace Logo...\n",
      "data/policy_www.amazon.it.txt          Continua senza accettare Selezione delle prefe...\n",
      "data/policy_www.change.org.txt         Lancia una petizione Le mie petizioni Sfoglia ...\n",
      "data/policy_www.vice.com.txt           VICE INFORMATIVA SULLA PRIVACY DI VICE MEDIA G...\n",
      "data/policy_www2.deloitte.com.txt      Per favore abilita JavaScript per visualizzare...\n",
      "data/policy_www.istockphoto.com.txt    Home page Video Serie selezionate Collezione S...\n",
      "data/policy_www.nike.com.txt           INFORMATIVA SULLA PRIVACY E SUI COOKIE DI NIKE...\n",
      "Name: Text, dtype: object\n",
      "\n",
      "Higher score is easier to read\n",
      "Hard to read texts: 5\n",
      "as a percentage of total: 35.7%\n",
      "Average gulpease index: 40.6\n",
      "Texts above recommended level (8th grade rough italian equivalent) 100.0%\n",
      "[35.9, 38.0, 43.8, 40.1, 45.8, 38.9, 38.2, 40.6, 41.2, 44.7, 41.9, 36.8, 40.9, 41.3]\n"
     ]
    },
    {
     "data": {
      "image/png": "[encoded data removed]",
      "text/plain": [
       "<Figure size 432x288 with 1 Axes>"
      ]
     },
     "metadata": {
      "needs_background": "light"
     },
     "output_type": "display_data"
    },
    {
     "name": "stdout",
     "output_type": "stream",
     "text": [
      "\n",
      "Current language: fr\n",
      "Sample size for  too small\n",
      "\n",
      "Current language: es\n",
      "Sample size for  too small\n",
      "\n",
      "Current language: pt\n",
      "Sample size for  too small\n"
     ]
    }
   ],
   "source": [
    "# core_samples_mask = np.zeros_like(db.labels_, dtype=bool)\n",
    "# core_samples_mask[db.core_sample_indices_] = True\n",
    "\n",
    "# # n_clusters_ = len(set(labels)) - (1 if -1 in labels else 0)\n",
    "\n",
    "langs = pd.Series(languages).unique()\n",
    "\n",
    "for lang in langs:\n",
    "    language = \"\"\n",
    "    \n",
    "    if lang == \"it\":\n",
    "        language = \"italian\"\n",
    "    elif lang == \"en\":\n",
    "        language = \"english\"\n",
    "#     else:\n",
    "#         break\n",
    "        \n",
    "    print(\"\\nCurrent language: \" + lang)\n",
    "\n",
    "    vectorizer = TfidfVectorizer(\n",
    "        max_df=0.5,\n",
    "        min_df=5,\n",
    "    )\n",
    "\n",
    "\n",
    "    texts_in_lang = []\n",
    "    \n",
    "    df_texts_in_lang = pd.DataFrame(columns = [\"Text\"])\n",
    "\n",
    "    for file in make_policy_files():\n",
    "        file_text = file.read()\n",
    "        file_lang = langid.classify(file_text)[0]\n",
    "        if file_lang == lang:\n",
    "            texts_in_lang.append(file_text)\n",
    "            df_texts_in_lang.loc[file.name] = file_text\n",
    "            \n",
    "    if len(texts_in_lang) < 10: # Ignore small sample sizes\n",
    "        print(\"Sample size for \" + language + \" too small\")\n",
    "        continue\n",
    "\n",
    "    # --\n",
    "\n",
    "    X_tfidf = vectorizer.fit_transform(df_texts_in_lang.Text)\n",
    "    \n",
    "    lsa = make_pipeline(TruncatedSVD(n_components=100), Normalizer(copy=False))\n",
    "\n",
    "    X_lsa = lsa.fit_transform(X_tfidf)\n",
    "    explained_variance = lsa[0].explained_variance_ratio_.sum()\n",
    "\n",
    "    X = X_lsa\n",
    "\n",
    "    # eps=1.30 works well\n",
    "    # 1.20 is where it starts to make to many clusters with just one element\n",
    "    # 1.25 with min_samples=2 has a reasonable amount of outliers\n",
    "    \n",
    "    custom_eps = 1.25\n",
    "    \n",
    "#     db = DBSCAN(eps=custom_eps, min_samples=len(df_texts_in_lang) // 10).fit(X) # each cluster must contain at lesast 1/10th of the total\n",
    "#     db = DBSCAN(eps=custom_eps, min_samples=1).fit(X)\n",
    "    db = DBSCAN(eps=custom_eps, min_samples=2).fit(X) # Avoid singletons\n",
    "\n",
    "    print(\"Found \" +  str(len(np.unique(db.labels_))) + \" clusters\")\n",
    "    print(\"Labels: \\n\" + str(db.labels_))\n",
    "    \n",
    "    db_df = pd.DataFrame(data = {\"Cluster\" : db.labels_,\n",
    "                                 \"Text\" : df_texts_in_lang.Text},\n",
    "    #                              \"Filename\" : df_texts_in_lang.index},\n",
    "                         index = df_texts_in_lang.index)\n",
    "    db_df\n",
    "\n",
    "    dissimilar_entries_urls = db_df.loc[db_df[\"Cluster\"] != 0].index.tolist()\n",
    "#     print(dissimilar_entries_urls) # Dissimilar entries\n",
    "#     print(db_df.loc[db_df[\"Cluster\"] == 0])\n",
    "\n",
    "    # Print out each cluster\n",
    "    for cluster in np.unique(db.labels_):\n",
    "        cluster_content = db_df.loc[db_df[\"Cluster\"] == cluster][\"Text\"]\n",
    "        cluster_size = len(cluster_content)\n",
    "        \n",
    "        print(\"\\nCluster: \" + str(cluster) + \" with \" + str(cluster_size) + \" elements\")\n",
    "        print(cluster_content)\n",
    "        \n",
    "        ## Make wordclouds for each cluster?\n",
    "#         all_policy_text = \"\"\n",
    "#         for policy_text in cluster_content:\n",
    "#             all_policy_text += policy_text\n",
    "\n",
    "#         wordcloud = WordCloud().generate(all_policy_text)\n",
    "\n",
    "#         plt.imshow(wordcloud, interpolation='bilinear')\n",
    "#         plt.axis(\"off\")\n",
    "#         plt.show()\n",
    "        \n",
    "        ## Readability analysis\n",
    "        ar_readability_scores = []\n",
    "        \n",
    "        if lang == \"en\": ## Readability is only available in English and Italian\n",
    "            # Set box plot scale\n",
    "            plt.ylim(0, 100)\n",
    "            \n",
    "            hard_to_read = 0\n",
    "            above_8th_grade = 0\n",
    "            avg_grade_level = 0.0\n",
    "            for policy_text in cluster_content:\n",
    "                r = Readability(policy_text)\n",
    "                fk = r.flesch_kincaid()\n",
    "                grade_level = fk.grade_level\n",
    "\n",
    "                avg_grade_level = avg_grade_level + float(grade_level)\n",
    "\n",
    "                if int(grade_level) > 8:\n",
    "                    above_8th_grade = above_8th_grade + 1\n",
    "\n",
    "                if int(grade_level) > 18:\n",
    "    #                 print(fk.grade_level)\n",
    "                    hard_to_read = hard_to_read + 1\n",
    "            \n",
    "                ar_readability_scores.append(float(grade_level))\n",
    "\n",
    "            avg_grade_level = round((avg_grade_level / len(cluster_content)), 1)\n",
    "\n",
    "            print(\"\\nHigher score is harder to read.\\nHard to read texts: \" + str(hard_to_read) + \"\\n\" +\n",
    "                \"as a percentage of total: \"  + str(round((100 * hard_to_read / len(cluster_content)), 1)) + \"%\\n\" + \n",
    "                 \"Average grade level: \" + str(avg_grade_level) + \"\\n\" +\n",
    "                 \"Texts above recommended level (8th grade) \" + str(round((100 * above_8th_grade / len(cluster_content)), 1)) + \"%\")\n",
    "        elif lang == \"it\":\n",
    "            # Set box plot scale\n",
    "            plt.ylim(-10, 110)\n",
    "            \n",
    "            hard_to_read = 0\n",
    "            above_8th_grade = 0\n",
    "            avg_gulpease_index = 0.0\n",
    "            for policy_text in cluster_content:\n",
    "                gulpease = textstat.gulpease_index(policy_text) # Lower is more complex\n",
    "\n",
    "                avg_gulpease_index = avg_gulpease_index + float(gulpease)\n",
    "                \n",
    "                if int(gulpease) < 60:\n",
    "                    above_8th_grade = above_8th_grade + 1\n",
    "                    \n",
    "                if gulpease < 40:\n",
    "                    hard_to_read = hard_to_read + 1\n",
    "            \n",
    "                ar_readability_scores.append(float(gulpease))\n",
    "                    \n",
    "            avg_gulpease_index = round((avg_gulpease_index / len(cluster_content)), 1)\n",
    "            \n",
    "            print(\"\\nHigher score is easier to read\\nHard to read texts: \" + str(hard_to_read) + \"\\n\" +\n",
    "                \"as a percentage of total: \"  + str(round((100 * hard_to_read / len(cluster_content)), 1)) + \"%\\n\" + \n",
    "                 \"Average gulpease index: \" + str(avg_gulpease_index) + \"\\n\" +\n",
    "                 \"Texts above recommended level (8th grade rough italian equivalent) \" + str(round((100 * above_8th_grade / len(cluster_content)), 1)) + \"%\")\n",
    "        \n",
    "        print(ar_readability_scores)\n",
    "        plt.boxplot(ar_readability_scores)\n",
    "        plt.show()\n",
    "            \n",
    "        \n",
    "        # Would probably be better to visualize these readability scores\n",
    "\n",
    "        \n",
    "#     print(\"Found \" + str(len(dissimilar_entries_urls)) + \" dissimilar entries\")"
   ]
  },
  {
   "cell_type": "code",
   "execution_count": 44,
   "id": "f4d9f2d8",
   "metadata": {},
   "outputs": [],
   "source": [
    "# db_df = pd.DataFrame(data = {\"Cluster\" : db.labels_,\n",
    "#                              \"Text\" : df_texts_in_lang.Text},\n",
    "# #                              \"Filename\" : df_texts_in_lang.index},\n",
    "#                      index = df_texts_in_lang.index)\n",
    "# db_df"
   ]
  },
  {
   "attachments": {
    "image.png": {
     "image/png": "[encoded data removed]"
    }
   },
   "cell_type": "markdown",
   "id": "bb2cfc8b",
   "metadata": {},
   "source": [
    "![image.png](attachment:image.png)"
   ]
  },
  {
   "cell_type": "code",
   "execution_count": 11,
   "id": "08ab5769",
   "metadata": {},
   "outputs": [
    {
     "name": "stdout",
     "output_type": "stream",
     "text": [
      "11.675919793850593\n",
      "12\n"
     ]
    }
   ],
   "source": [
    "r = Readability(make_policy_files()[23].read())\n",
    "fk = r.flesch_kincaid()\n",
    "print(fk.score)\n",
    "print(fk.grade_level) ## Higher is more complex"
   ]
  },
  {
   "cell_type": "code",
   "execution_count": 45,
   "id": "6d342ab3",
   "metadata": {},
   "outputs": [],
   "source": [
    "# db_df.loc[db_df[\"Cluster\"] == -1] # Dissimilar entries"
   ]
  },
  {
   "cell_type": "markdown",
   "id": "373d9bf8",
   "metadata": {},
   "source": [
    "### 2.3 Wordcounts"
   ]
  },
  {
   "cell_type": "code",
   "execution_count": 14,
   "id": "10cc96c1",
   "metadata": {},
   "outputs": [
    {
     "name": "stdout",
     "output_type": "stream",
     "text": [
      "en\n",
      "206 total policies\n"
     ]
    },
    {
     "data": {
      "image/png": "[encoded data removed]",
      "text/plain": [
       "<Figure size 432x288 with 1 Axes>"
      ]
     },
     "metadata": {
      "needs_background": "light"
     },
     "output_type": "display_data"
    },
    {
     "data": {
      "image/png": "[encoded data removed]",
      "text/plain": [
       "<Figure size 432x288 with 1 Axes>"
      ]
     },
     "metadata": {
      "needs_background": "light"
     },
     "output_type": "display_data"
    },
    {
     "name": "stdout",
     "output_type": "stream",
     "text": [
      "it\n",
      "40 total policies\n"
     ]
    },
    {
     "data": {
      "image/png": "[encoded data removed]",
      "text/plain": [
       "<Figure size 432x288 with 1 Axes>"
      ]
     },
     "metadata": {
      "needs_background": "light"
     },
     "output_type": "display_data"
    },
    {
     "data": {
      "image/png": "[encoded data removed]",
      "text/plain": [
       "<Figure size 432x288 with 1 Axes>"
      ]
     },
     "metadata": {
      "needs_background": "light"
     },
     "output_type": "display_data"
    },
    {
     "name": "stdout",
     "output_type": "stream",
     "text": [
      "fr\n",
      "1 total policies\n",
      "Sample size for fr too small\n",
      "es\n",
      "1 total policies\n",
      "Sample size for es too small\n",
      "pt\n",
      "1 total policies\n",
      "Sample size for pt too small\n"
     ]
    }
   ],
   "source": [
    "# Simple analysis i.e. wordcount\n",
    "\n",
    "policy_files = []\n",
    "for filename in policy_file_names:\n",
    "    policy_files.append(open(DATADIR + filename))\n",
    "\n",
    "highest_wordcount = 0\n",
    "for file in policy_files:\n",
    "    file_wordcount = len(file.read().split())\n",
    "    if file_wordcount > highest_wordcount:\n",
    "        highest_wordcount = file_wordcount\n",
    "\n",
    "    \n",
    "for language in pd.Series(languages).value_counts().keys():\n",
    "    policy_files = []\n",
    "    for filename in languages.keys():\n",
    "        if languages[filename] == language:\n",
    "            filename = filename[len(\"data/\"):]\n",
    "            policy_files.append(open(DATADIR + filename))\n",
    "    \n",
    "    print(language)\n",
    "    total_policies_current_language = len(policy_files)\n",
    "    print(str(total_policies_current_language) + \" total policies\")\n",
    "    if total_policies_current_language < 10: # Ignore small sample sizes\n",
    "        print(\"Sample size for \" + language + \" too small\")\n",
    "        continue\n",
    "    \n",
    "    wordcounts = []\n",
    "    for file in policy_files:\n",
    "        wordcounts.append(len(file.read().split()))\n",
    "\n",
    "#     plt.ylim(0, 15)\n",
    "    plt.ylim(0, 110)\n",
    "    plt.xlim(0, highest_wordcount * 1.1)\n",
    "    plt.hist(wordcounts, 20)\n",
    "    plt.show()\n",
    "    \n",
    "    plt.ylim(-(highest_wordcount / 100), highest_wordcount * 1.1)\n",
    "    plt.boxplot(wordcounts)\n",
    "    plt.show()"
   ]
  },
  {
   "cell_type": "code",
   "execution_count": 15,
   "id": "5d7e870b",
   "metadata": {},
   "outputs": [
    {
     "data": {
      "image/png": "[encoded data removed]",
      "text/plain": [
       "<Figure size 432x288 with 1 Axes>"
      ]
     },
     "metadata": {
      "needs_background": "light"
     },
     "output_type": "display_data"
    }
   ],
   "source": [
    "# Top 3 longest policies by wordcount overall\n",
    "\n",
    "policy_files = []\n",
    "for filename in policy_file_names:\n",
    "    policy_files.append(open(DATADIR + filename))\n",
    "\n",
    "wc_dict = {}\n",
    "\n",
    "for file in policy_files:\n",
    "    wc_dict[file.name] = len(file.read().split())\n",
    "    \n",
    "wc_s = pd.Series(wc_dict).sort_values(ascending=True)\n",
    "wc_s[len(wc_s) - 3:].plot.barh()\n",
    "plt.show()"
   ]
  },
  {
   "cell_type": "code",
   "execution_count": 16,
   "id": "8cac3cfc",
   "metadata": {},
   "outputs": [
    {
     "data": {
      "text/plain": [
       "data/policy_outlook.live.com.txt              39532\n",
       "data/policy_visualstudio.microsoft.com.txt    42626\n",
       "data/policy_www.pixiv.net.txt                 54348\n",
       "dtype: int64"
      ]
     },
     "execution_count": 16,
     "metadata": {},
     "output_type": "execute_result"
    }
   ],
   "source": [
    "wc_s[len(wc_s) - 3:]"
   ]
  },
  {
   "cell_type": "markdown",
   "id": "422378b5",
   "metadata": {},
   "source": [
    "### 2.4 Wordclouds"
   ]
  },
  {
   "cell_type": "code",
   "execution_count": 17,
   "id": "6c4de764",
   "metadata": {
    "scrolled": false
   },
   "outputs": [
    {
     "data": {
      "image/png": "[encoded data removed]",
      "text/plain": [
       "<Figure size 432x288 with 1 Axes>"
      ]
     },
     "metadata": {
      "needs_background": "light"
     },
     "output_type": "display_data"
    },
    {
     "data": {
      "image/png": "[encoded data removed]",
      "text/plain": [
       "<Figure size 432x288 with 1 Axes>"
      ]
     },
     "metadata": {
      "needs_background": "light"
     },
     "output_type": "display_data"
    }
   ],
   "source": [
    "# Some fun wordclouds :)\n",
    "policy_files = []\n",
    "for filename in policy_file_names:\n",
    "    policy_files.append(open(DATADIR + filename))\n",
    "\n",
    "all_policy_text = \"\"\n",
    "for file in policy_files:\n",
    "    all_policy_text += file.read()\n",
    "\n",
    "wordcloud = WordCloud().generate(all_policy_text)\n",
    "\n",
    "plt.imshow(wordcloud, interpolation='bilinear')\n",
    "plt.axis(\"off\")\n",
    "plt.show()\n",
    "\n",
    "# Unsurprisingly you have to filter out heaps of words...\n",
    "policy_files = []\n",
    "for filename in policy_file_names:\n",
    "    policy_files.append(open(DATADIR + filename))\n",
    "\n",
    "all_policy_text_filtered = \"\"\n",
    "for file in policy_files:\n",
    "    for word in file.read().split():\n",
    "        if word not in (justext.get_stoplist(\"Italian\")):\n",
    "            all_policy_text_filtered += word + \" \"\n",
    "\n",
    "wordcloud = WordCloud().generate(all_policy_text_filtered)\n",
    "\n",
    "plt.imshow(wordcloud, interpolation='bilinear')\n",
    "plt.axis(\"off\")\n",
    "plt.show()"
   ]
  },
  {
   "cell_type": "markdown",
   "id": "a605ffdb",
   "metadata": {},
   "source": [
    "### 2.5 Emotion analysis"
   ]
  },
  {
   "cell_type": "code",
   "execution_count": 11,
   "id": "bc4314ee",
   "metadata": {
    "collapsed": true
   },
   "outputs": [
    {
     "name": "stderr",
     "output_type": "stream",
     "text": [
      "[nltk_data] Downloading package stopwords to /home/user/nltk_data...\n",
      "[nltk_data]   Package stopwords is already up-to-date!\n",
      "[nltk_data] Downloading package punkt to /home/user/nltk_data...\n",
      "[nltk_data]   Package punkt is already up-to-date!\n",
      "[nltk_data] Downloading package wordnet to /home/user/nltk_data...\n",
      "[nltk_data]   Package wordnet is already up-to-date!\n",
      "[nltk_data] Downloading package omw-1.4 to /home/user/nltk_data...\n",
      "[nltk_data]   Package omw-1.4 is already up-to-date!\n"
     ]
    },
    {
     "data": {
      "text/plain": [
       "True"
      ]
     },
     "execution_count": 11,
     "metadata": {},
     "output_type": "execute_result"
    }
   ],
   "source": [
    "# # Text2Emotion\n",
    "# import text2emotion as t2e\n",
    "# import emoji\n",
    "# import nltk\n",
    "# nltk.download('omw-1.4')"
   ]
  },
  {
   "cell_type": "code",
   "execution_count": 17,
   "id": "219eb8e1",
   "metadata": {},
   "outputs": [],
   "source": [
    "# emotions_dict = {\n",
    "#     \"Angry\" : 0,\n",
    "#     \"Fear\" : 0,\n",
    "#     \"Happy\" : 0,\n",
    "#     \"Sad\" : 0,\n",
    "#     \"Surprise\" : 0\n",
    "# }"
   ]
  },
  {
   "cell_type": "code",
   "execution_count": 18,
   "id": "de0d6194",
   "metadata": {},
   "outputs": [],
   "source": [
    "# policy_files = []\n",
    "# for filename in policy_file_names:\n",
    "#     policy_files.append(open(DATADIR + filename))"
   ]
  },
  {
   "cell_type": "code",
   "execution_count": 18,
   "id": "98aa6444",
   "metadata": {},
   "outputs": [],
   "source": [
    "# for file in policy_files:\n",
    "#     emotions = t2e.get_emotion(file.read())\n",
    "#     top_emotion = max(emotions)\n",
    "#     emotions_dict[top_emotion] = emotions_dict[top_emotion] + 1\n",
    "\n",
    "# emotions_dict"
   ]
  },
  {
   "cell_type": "code",
   "execution_count": 19,
   "id": "c34eb3fb",
   "metadata": {},
   "outputs": [],
   "source": [
    "# emotions_dict = {\n",
    "#     \"Angry\" : 0,\n",
    "#     \"Fear\" : 0,\n",
    "#     \"Happy\" : 0,\n",
    "#     \"Sad\" : 0,\n",
    "#     \"Surprise\" : 0\n",
    "# }\n",
    "\n",
    "# policy_files = []\n",
    "# for filename in policy_file_names:\n",
    "#     policy_files.append(open(DATADIR + filename))\n",
    "\n",
    "# for file in policy_files:\n",
    "#     emotions = t2e.get_emotion(file.read())\n",
    "#     for emotion in emotions:\n",
    "#         emotions_dict[emotion] = emotions_dict[emotion] + emotions[emotion] # maybe normalize?\n",
    "\n",
    "# emotions_dict"
   ]
  },
  {
   "cell_type": "code",
   "execution_count": 20,
   "id": "4e79735c",
   "metadata": {},
   "outputs": [],
   "source": [
    "# for e in emotions_dict.keys():\n",
    "#     emotions_dict[e] = round(emotions_dict[e] / len(policy_files), 3)\n",
    "\n",
    "# emotions_dict"
   ]
  },
  {
   "cell_type": "markdown",
   "id": "5ab9e7d1",
   "metadata": {},
   "source": [
    "### 2.6 Text clustering"
   ]
  },
  {
   "cell_type": "code",
   "execution_count": 164,
   "id": "63e1f8cf",
   "metadata": {},
   "outputs": [
    {
     "data": {
      "text/html": [
       "<div>\n",
       "<style scoped>\n",
       "    .dataframe tbody tr th:only-of-type {\n",
       "        vertical-align: middle;\n",
       "    }\n",
       "\n",
       "    .dataframe tbody tr th {\n",
       "        vertical-align: top;\n",
       "    }\n",
       "\n",
       "    .dataframe thead th {\n",
       "        text-align: right;\n",
       "    }\n",
       "</style>\n",
       "<table border=\"1\" class=\"dataframe\">\n",
       "  <thead>\n",
       "    <tr style=\"text-align: right;\">\n",
       "      <th></th>\n",
       "      <th>Text</th>\n",
       "    </tr>\n",
       "  </thead>\n",
       "  <tbody>\n",
       "    <tr>\n",
       "      <th>0</th>\n",
       "      <td>Privacy e termini Accedi Introduzione Norme su...</td>\n",
       "    </tr>\n",
       "    <tr>\n",
       "      <th>1</th>\n",
       "      <td>Skip to main content Privacy Policy Twitter Pr...</td>\n",
       "    </tr>\n",
       "    <tr>\n",
       "      <th>2</th>\n",
       "      <td>Privacy e termini Accedi Introduzione Norme su...</td>\n",
       "    </tr>\n",
       "    <tr>\n",
       "      <th>3</th>\n",
       "      <td>Passa a contenuti principali Microsoft Privacy...</td>\n",
       "    </tr>\n",
       "    <tr>\n",
       "      <th>4</th>\n",
       "      <td>Privacy policy From Meta, a Wikimedia project ...</td>\n",
       "    </tr>\n",
       "    <tr>\n",
       "      <th>...</th>\n",
       "      <td>...</td>\n",
       "    </tr>\n",
       "    <tr>\n",
       "      <th>275</th>\n",
       "      <td>Skip to main content An official website of th...</td>\n",
       "    </tr>\n",
       "    <tr>\n",
       "      <th>276</th>\n",
       "      <td>Privacy e termini Privacy e termini Accedi Int...</td>\n",
       "    </tr>\n",
       "    <tr>\n",
       "      <th>277</th>\n",
       "      <td>Skip to content MenuMenu Il seguente elemento ...</td>\n",
       "    </tr>\n",
       "    <tr>\n",
       "      <th>278</th>\n",
       "      <td>Skip to main content Sign In Try Now Teams For...</td>\n",
       "    </tr>\n",
       "    <tr>\n",
       "      <th>279</th>\n",
       "      <td>Skip to main content UCI homepage About About ...</td>\n",
       "    </tr>\n",
       "  </tbody>\n",
       "</table>\n",
       "<p>280 rows × 1 columns</p>\n",
       "</div>"
      ],
      "text/plain": [
       "                                                  Text\n",
       "0    Privacy e termini Accedi Introduzione Norme su...\n",
       "1    Skip to main content Privacy Policy Twitter Pr...\n",
       "2    Privacy e termini Accedi Introduzione Norme su...\n",
       "3    Passa a contenuti principali Microsoft Privacy...\n",
       "4    Privacy policy From Meta, a Wikimedia project ...\n",
       "..                                                 ...\n",
       "275  Skip to main content An official website of th...\n",
       "276  Privacy e termini Privacy e termini Accedi Int...\n",
       "277  Skip to content MenuMenu Il seguente elemento ...\n",
       "278  Skip to main content Sign In Try Now Teams For...\n",
       "279  Skip to main content UCI homepage About About ...\n",
       "\n",
       "[280 rows x 1 columns]"
      ]
     },
     "execution_count": 164,
     "metadata": {},
     "output_type": "execute_result"
    }
   ],
   "source": [
    "policy_files = []\n",
    "for filename in policy_file_names:\n",
    "    policy_files.append(open(DATADIR + filename))\n",
    "\n",
    "policy_texts = []\n",
    "\n",
    "for file in policy_files:\n",
    "    policy_texts.append(file.read())\n",
    "\n",
    "df = pd.DataFrame(data = policy_texts, columns = [\"Text\"])\n",
    "df"
   ]
  },
  {
   "cell_type": "code",
   "execution_count": 165,
   "id": "37d7a04b",
   "metadata": {},
   "outputs": [],
   "source": [
    "# There should be a separation based on the policy's language\n",
    "\n",
    "vec = TfidfVectorizer(stop_words = \"english\", ngram_range = (1, 3))\n",
    "vec.fit(df.Text.values)\n",
    "features = vec.transform(df.Text.values)"
   ]
  },
  {
   "cell_type": "code",
   "execution_count": 166,
   "id": "a1979dc3",
   "metadata": {},
   "outputs": [],
   "source": [
    "clust = KMeans(init = \"k-means++\", n_clusters = 2, n_init = 10)\n",
    "\n",
    "clust.fit(features)\n",
    "yhat = clust.predict(features)\n",
    "df['Cluster Labels'] = clust.labels_\n",
    "\n",
    "# df.loc[df[\"Cluster Labels\"] == 1]"
   ]
  },
  {
   "cell_type": "code",
   "execution_count": 167,
   "id": "fcc17e83",
   "metadata": {},
   "outputs": [],
   "source": [
    "df_similar = pd.DataFrame(df.loc[df[\"Cluster Labels\"] == 1].values)\n",
    "# df_similar"
   ]
  },
  {
   "cell_type": "code",
   "execution_count": 168,
   "id": "104d81f4",
   "metadata": {},
   "outputs": [],
   "source": [
    "df_dissimilar = pd.DataFrame(df.loc[df[\"Cluster Labels\"] == 0].values)\n",
    "# df_dissimilar"
   ]
  },
  {
   "cell_type": "code",
   "execution_count": 169,
   "id": "61448af2",
   "metadata": {},
   "outputs": [
    {
     "name": "stdout",
     "output_type": "stream",
     "text": [
      "it\n",
      "en\n",
      "zh\n",
      "qu\n",
      "la\n",
      "fr\n",
      "pt\n"
     ]
    }
   ],
   "source": [
    "langs = pd.Series(languages).unique()\n",
    "\n",
    "for lang in langs:\n",
    "    print(lang)"
   ]
  },
  {
   "cell_type": "code",
   "execution_count": 276,
   "id": "5f1ffba1",
   "metadata": {},
   "outputs": [
    {
     "name": "stdout",
     "output_type": "stream",
     "text": [
      "Current language: it\n",
      "Cluster 0: youtube risultati gmail esaminare vai android play identificatori chrome inserzionisti \n",
      "Cluster 1: microsoft terzi piattaforma to mail social media business proprio and \n",
      "Current language: en\n",
      "Cluster 0: amazon university gov statement microsoft resources wikimedia disney health copyright \n",
      "Cluster 1: california shield categories profile ccpa legitimate apps platform uk advertisements \n"
     ]
    }
   ],
   "source": [
    "for lang in langs:\n",
    "    language = \"\"\n",
    "    \n",
    "    if lang == \"it\":\n",
    "        language = \"italian\"\n",
    "    elif lang == \"en\":\n",
    "        language = \"english\"\n",
    "    else:\n",
    "        break\n",
    "        \n",
    "    print(\"Current language: \" + lang)\n",
    "\n",
    "#     texts_in_lang = {}\n",
    "\n",
    "    df_texts_in_lang = pd.DataFrame(columns = [\"Text\"])\n",
    "    \n",
    "    for file in make_policy_files():\n",
    "        file_text = file.read()\n",
    "        file_lang = langid.classify(file_text)[0]\n",
    "        if file_lang == lang:\n",
    "#             texts_in_lang.append(file_text)\n",
    "#             texts_in_lang[file.name] = file_text\n",
    "#             print(df_texts_in_lang)\n",
    "#             df_texts_in_lang = df_texts_in_lang.append([file.name, file_text])\n",
    "            df_texts_in_lang.loc[file.name] = file_text\n",
    "    \n",
    "#     print(texts_in_lang)\n",
    "    \n",
    "#     df_texts_in_lang = pd.DataFrame(data = texts_in_lang, columns = [\"Filename\", \"Text\"])\n",
    "\n",
    "    lsa = make_pipeline(TruncatedSVD(n_components=100), Normalizer(copy=False))\n",
    "\n",
    "\n",
    "    vectorizer = TfidfVectorizer(\n",
    "        max_df=0.5,\n",
    "        min_df=5,\n",
    "#         stop_words=\"english\",\n",
    "    )\n",
    "\n",
    "    try:\n",
    "        X_tfidf = vectorizer.fit_transform(df_texts_in_lang.Text)\n",
    "    except ValueError:\n",
    "        continue\n",
    "    \n",
    "    X_lsa = lsa.fit_transform(X_tfidf)\n",
    "    explained_variance = lsa[0].explained_variance_ratio_.sum()\n",
    "\n",
    "\n",
    "    kmeans = KMeans(\n",
    "        n_clusters=2,\n",
    "        max_iter=100,\n",
    "        n_init=1,\n",
    "    )\n",
    "\n",
    "    kmeans.fit(X_lsa)\n",
    "\n",
    "    original_space_centroids = lsa[0].inverse_transform(kmeans.cluster_centers_)\n",
    "    order_centroids = original_space_centroids.argsort()[:, ::-1]\n",
    "    terms = vectorizer.get_feature_names_out()\n",
    "\n",
    "    for i in range(2):\n",
    "        print(f\"Cluster {i}: \", end=\"\")\n",
    "        for ind in order_centroids[i, :10]:\n",
    "            print(f\"{terms[ind]} \", end=\"\")\n",
    "        print()"
   ]
  },
  {
   "cell_type": "code",
   "execution_count": 277,
   "id": "20945099",
   "metadata": {},
   "outputs": [
    {
     "data": {
      "text/html": [
       "<div>\n",
       "<style scoped>\n",
       "    .dataframe tbody tr th:only-of-type {\n",
       "        vertical-align: middle;\n",
       "    }\n",
       "\n",
       "    .dataframe tbody tr th {\n",
       "        vertical-align: top;\n",
       "    }\n",
       "\n",
       "    .dataframe thead th {\n",
       "        text-align: right;\n",
       "    }\n",
       "</style>\n",
       "<table border=\"1\" class=\"dataframe\">\n",
       "  <thead>\n",
       "    <tr style=\"text-align: right;\">\n",
       "      <th></th>\n",
       "      <th>Text</th>\n",
       "    </tr>\n",
       "  </thead>\n",
       "  <tbody>\n",
       "    <tr>\n",
       "      <th>data/policy_twitter.com.txt</th>\n",
       "      <td>Skip to main content Privacy Policy Twitter Pr...</td>\n",
       "    </tr>\n",
       "    <tr>\n",
       "      <th>data/policy_www.wikipedia.org.txt</th>\n",
       "      <td>Privacy policy From Meta, a Wikimedia project ...</td>\n",
       "    </tr>\n",
       "    <tr>\n",
       "      <th>data/policy_outlook.live.com.txt</th>\n",
       "      <td>Skip to main content Microsoft Privacy Privacy...</td>\n",
       "    </tr>\n",
       "    <tr>\n",
       "      <th>data/policy_github.com.txt</th>\n",
       "      <td>Skip to main content GitHub Docs All products ...</td>\n",
       "    </tr>\n",
       "    <tr>\n",
       "      <th>data/policy_wordpress.org.txt</th>\n",
       "      <td>Skip to content Log In Register WordPress.org ...</td>\n",
       "    </tr>\n",
       "    <tr>\n",
       "      <th>...</th>\n",
       "      <td>...</td>\n",
       "    </tr>\n",
       "    <tr>\n",
       "      <th>data/policy_wpengine.com.txt</th>\n",
       "      <td>Skip to content WP Engine Products Resources W...</td>\n",
       "    </tr>\n",
       "    <tr>\n",
       "      <th>data/policy_www.frontiersin.org.txt</th>\n",
       "      <td>Skip to main content Navigation Top bar naviga...</td>\n",
       "    </tr>\n",
       "    <tr>\n",
       "      <th>data/policy_www.irs.gov.txt</th>\n",
       "      <td>Skip to main content An official website of th...</td>\n",
       "    </tr>\n",
       "    <tr>\n",
       "      <th>data/policy_www.oreilly.com.txt</th>\n",
       "      <td>Skip to main content Sign In Try Now Teams For...</td>\n",
       "    </tr>\n",
       "    <tr>\n",
       "      <th>data/policy_uci.edu.txt</th>\n",
       "      <td>Skip to main content UCI homepage About About ...</td>\n",
       "    </tr>\n",
       "  </tbody>\n",
       "</table>\n",
       "<p>221 rows × 1 columns</p>\n",
       "</div>"
      ],
      "text/plain": [
       "                                                                                  Text\n",
       "data/policy_twitter.com.txt          Skip to main content Privacy Policy Twitter Pr...\n",
       "data/policy_www.wikipedia.org.txt    Privacy policy From Meta, a Wikimedia project ...\n",
       "data/policy_outlook.live.com.txt     Skip to main content Microsoft Privacy Privacy...\n",
       "data/policy_github.com.txt           Skip to main content GitHub Docs All products ...\n",
       "data/policy_wordpress.org.txt        Skip to content Log In Register WordPress.org ...\n",
       "...                                                                                ...\n",
       "data/policy_wpengine.com.txt         Skip to content WP Engine Products Resources W...\n",
       "data/policy_www.frontiersin.org.txt  Skip to main content Navigation Top bar naviga...\n",
       "data/policy_www.irs.gov.txt          Skip to main content An official website of th...\n",
       "data/policy_www.oreilly.com.txt      Skip to main content Sign In Try Now Teams For...\n",
       "data/policy_uci.edu.txt              Skip to main content UCI homepage About About ...\n",
       "\n",
       "[221 rows x 1 columns]"
      ]
     },
     "execution_count": 277,
     "metadata": {},
     "output_type": "execute_result"
    }
   ],
   "source": [
    "df_texts_in_lang"
   ]
  },
  {
   "cell_type": "code",
   "execution_count": 278,
   "id": "10a56182",
   "metadata": {},
   "outputs": [],
   "source": [
    "# df_texts_in_lang[\"Text\"].index[2]"
   ]
  },
  {
   "cell_type": "markdown",
   "id": "eeda0a54",
   "metadata": {},
   "source": [
    "#### DBSCAN"
   ]
  },
  {
   "cell_type": "code",
   "execution_count": 297,
   "id": "d9616ac7",
   "metadata": {},
   "outputs": [],
   "source": [
    "core_samples_mask = np.zeros_like(db.labels_, dtype=bool)\n",
    "core_samples_mask[db.core_sample_indices_] = True\n",
    "\n",
    "n_clusters_ = len(set(labels)) - (1 if -1 in labels else 0)\n",
    "\n",
    "vectorizer = TfidfVectorizer(\n",
    "    max_df=0.5,\n",
    "    min_df=5,\n",
    ")\n",
    "\n",
    "\n",
    "texts_in_lang = []\n",
    "\n",
    "for file in make_policy_files():\n",
    "    file_text = file.read()\n",
    "#     file_lang = langid.classify(file_text)[0]\n",
    "#     if file_lang == lang:\n",
    "    texts_in_lang.append(file_text)\n",
    "\n",
    "# df_texts_in_lang = pd.DataFrame(data = texts_in_lang, columns = [\"Text\"])\n",
    "\n",
    "# --\n",
    "\n",
    "X_tfidf = vectorizer.fit_transform(df_texts_in_lang.Text)\n",
    "\n",
    "X_lsa = lsa.fit_transform(X_tfidf)\n",
    "explained_variance = lsa[0].explained_variance_ratio_.sum()\n",
    "\n",
    "X = X_lsa\n",
    "\n",
    "db = DBSCAN(eps=1, min_samples=len(df_texts_in_lang) // 10).fit(X) # each cluster must contain at lesast 1/10th of the total\n",
    "# db.labels_"
   ]
  },
  {
   "cell_type": "code",
   "execution_count": 315,
   "id": "cb8c100d",
   "metadata": {},
   "outputs": [
    {
     "data": {
      "text/html": [
       "<div>\n",
       "<style scoped>\n",
       "    .dataframe tbody tr th:only-of-type {\n",
       "        vertical-align: middle;\n",
       "    }\n",
       "\n",
       "    .dataframe tbody tr th {\n",
       "        vertical-align: top;\n",
       "    }\n",
       "\n",
       "    .dataframe thead th {\n",
       "        text-align: right;\n",
       "    }\n",
       "</style>\n",
       "<table border=\"1\" class=\"dataframe\">\n",
       "  <thead>\n",
       "    <tr style=\"text-align: right;\">\n",
       "      <th></th>\n",
       "      <th>Cluster</th>\n",
       "      <th>Text</th>\n",
       "    </tr>\n",
       "  </thead>\n",
       "  <tbody>\n",
       "    <tr>\n",
       "      <th>data/policy_twitter.com.txt</th>\n",
       "      <td>0</td>\n",
       "      <td>Skip to main content Privacy Policy Twitter Pr...</td>\n",
       "    </tr>\n",
       "    <tr>\n",
       "      <th>data/policy_www.wikipedia.org.txt</th>\n",
       "      <td>0</td>\n",
       "      <td>Privacy policy From Meta, a Wikimedia project ...</td>\n",
       "    </tr>\n",
       "    <tr>\n",
       "      <th>data/policy_outlook.live.com.txt</th>\n",
       "      <td>0</td>\n",
       "      <td>Skip to main content Microsoft Privacy Privacy...</td>\n",
       "    </tr>\n",
       "    <tr>\n",
       "      <th>data/policy_github.com.txt</th>\n",
       "      <td>-1</td>\n",
       "      <td>Skip to main content GitHub Docs All products ...</td>\n",
       "    </tr>\n",
       "    <tr>\n",
       "      <th>data/policy_wordpress.org.txt</th>\n",
       "      <td>0</td>\n",
       "      <td>Skip to content Log In Register WordPress.org ...</td>\n",
       "    </tr>\n",
       "    <tr>\n",
       "      <th>...</th>\n",
       "      <td>...</td>\n",
       "      <td>...</td>\n",
       "    </tr>\n",
       "    <tr>\n",
       "      <th>data/policy_wpengine.com.txt</th>\n",
       "      <td>-1</td>\n",
       "      <td>Skip to content WP Engine Products Resources W...</td>\n",
       "    </tr>\n",
       "    <tr>\n",
       "      <th>data/policy_www.frontiersin.org.txt</th>\n",
       "      <td>-1</td>\n",
       "      <td>Skip to main content Navigation Top bar naviga...</td>\n",
       "    </tr>\n",
       "    <tr>\n",
       "      <th>data/policy_www.irs.gov.txt</th>\n",
       "      <td>-1</td>\n",
       "      <td>Skip to main content An official website of th...</td>\n",
       "    </tr>\n",
       "    <tr>\n",
       "      <th>data/policy_www.oreilly.com.txt</th>\n",
       "      <td>0</td>\n",
       "      <td>Skip to main content Sign In Try Now Teams For...</td>\n",
       "    </tr>\n",
       "    <tr>\n",
       "      <th>data/policy_uci.edu.txt</th>\n",
       "      <td>0</td>\n",
       "      <td>Skip to main content UCI homepage About About ...</td>\n",
       "    </tr>\n",
       "  </tbody>\n",
       "</table>\n",
       "<p>221 rows × 2 columns</p>\n",
       "</div>"
      ],
      "text/plain": [
       "                                     Cluster  \\\n",
       "data/policy_twitter.com.txt                0   \n",
       "data/policy_www.wikipedia.org.txt          0   \n",
       "data/policy_outlook.live.com.txt           0   \n",
       "data/policy_github.com.txt                -1   \n",
       "data/policy_wordpress.org.txt              0   \n",
       "...                                      ...   \n",
       "data/policy_wpengine.com.txt              -1   \n",
       "data/policy_www.frontiersin.org.txt       -1   \n",
       "data/policy_www.irs.gov.txt               -1   \n",
       "data/policy_www.oreilly.com.txt            0   \n",
       "data/policy_uci.edu.txt                    0   \n",
       "\n",
       "                                                                                  Text  \n",
       "data/policy_twitter.com.txt          Skip to main content Privacy Policy Twitter Pr...  \n",
       "data/policy_www.wikipedia.org.txt    Privacy policy From Meta, a Wikimedia project ...  \n",
       "data/policy_outlook.live.com.txt     Skip to main content Microsoft Privacy Privacy...  \n",
       "data/policy_github.com.txt           Skip to main content GitHub Docs All products ...  \n",
       "data/policy_wordpress.org.txt        Skip to content Log In Register WordPress.org ...  \n",
       "...                                                                                ...  \n",
       "data/policy_wpengine.com.txt         Skip to content WP Engine Products Resources W...  \n",
       "data/policy_www.frontiersin.org.txt  Skip to main content Navigation Top bar naviga...  \n",
       "data/policy_www.irs.gov.txt          Skip to main content An official website of th...  \n",
       "data/policy_www.oreilly.com.txt      Skip to main content Sign In Try Now Teams For...  \n",
       "data/policy_uci.edu.txt              Skip to main content UCI homepage About About ...  \n",
       "\n",
       "[221 rows x 2 columns]"
      ]
     },
     "execution_count": 315,
     "metadata": {},
     "output_type": "execute_result"
    }
   ],
   "source": [
    "db_df = pd.DataFrame(data = {\"Cluster\" : db.labels_,\n",
    "                             \"Text\" : df_texts_in_lang.Text},\n",
    "#                              \"Filename\" : df_texts_in_lang.index},\n",
    "                     index = df_texts_in_lang.index)\n",
    "db_df"
   ]
  },
  {
   "cell_type": "code",
   "execution_count": 319,
   "id": "ad6d369d",
   "metadata": {},
   "outputs": [
    {
     "data": {
      "text/html": [
       "<div>\n",
       "<style scoped>\n",
       "    .dataframe tbody tr th:only-of-type {\n",
       "        vertical-align: middle;\n",
       "    }\n",
       "\n",
       "    .dataframe tbody tr th {\n",
       "        vertical-align: top;\n",
       "    }\n",
       "\n",
       "    .dataframe thead th {\n",
       "        text-align: right;\n",
       "    }\n",
       "</style>\n",
       "<table border=\"1\" class=\"dataframe\">\n",
       "  <thead>\n",
       "    <tr style=\"text-align: right;\">\n",
       "      <th></th>\n",
       "      <th>Cluster</th>\n",
       "      <th>Text</th>\n",
       "    </tr>\n",
       "  </thead>\n",
       "  <tbody>\n",
       "    <tr>\n",
       "      <th>data/policy_github.com.txt</th>\n",
       "      <td>-1</td>\n",
       "      <td>Skip to main content GitHub Docs All products ...</td>\n",
       "    </tr>\n",
       "    <tr>\n",
       "      <th>data/policy_www.apple.com.txt</th>\n",
       "      <td>-1</td>\n",
       "      <td>Global Nav Open MenuGlobal Nav Close Menu Appl...</td>\n",
       "    </tr>\n",
       "    <tr>\n",
       "      <th>data/policy_wordpress.com.txt</th>\n",
       "      <td>-1</td>\n",
       "      <td>Automattic Home About Us News Work With Us Pri...</td>\n",
       "    </tr>\n",
       "    <tr>\n",
       "      <th>data/policy_bitly.com.txt</th>\n",
       "      <td>-1</td>\n",
       "      <td>Skip Navigation Get the tools to grow with Sta...</td>\n",
       "    </tr>\n",
       "    <tr>\n",
       "      <th>data/policy_www.nih.gov.txt</th>\n",
       "      <td>-1</td>\n",
       "      <td>Skip to main content An official website of th...</td>\n",
       "    </tr>\n",
       "    <tr>\n",
       "      <th>...</th>\n",
       "      <td>...</td>\n",
       "      <td>...</td>\n",
       "    </tr>\n",
       "    <tr>\n",
       "      <th>data/policy_www.ea.com.txt</th>\n",
       "      <td>-1</td>\n",
       "      <td>Electronic Arts Home\\nFeatured GamesAll GamesC...</td>\n",
       "    </tr>\n",
       "    <tr>\n",
       "      <th>data/policy_www.newyorker.com.txt</th>\n",
       "      <td>-1</td>\n",
       "      <td>Skip to main content About Brands Stores Comme...</td>\n",
       "    </tr>\n",
       "    <tr>\n",
       "      <th>data/policy_wpengine.com.txt</th>\n",
       "      <td>-1</td>\n",
       "      <td>Skip to content WP Engine Products Resources W...</td>\n",
       "    </tr>\n",
       "    <tr>\n",
       "      <th>data/policy_www.frontiersin.org.txt</th>\n",
       "      <td>-1</td>\n",
       "      <td>Skip to main content Navigation Top bar naviga...</td>\n",
       "    </tr>\n",
       "    <tr>\n",
       "      <th>data/policy_www.irs.gov.txt</th>\n",
       "      <td>-1</td>\n",
       "      <td>Skip to main content An official website of th...</td>\n",
       "    </tr>\n",
       "  </tbody>\n",
       "</table>\n",
       "<p>66 rows × 2 columns</p>\n",
       "</div>"
      ],
      "text/plain": [
       "                                     Cluster  \\\n",
       "data/policy_github.com.txt                -1   \n",
       "data/policy_www.apple.com.txt             -1   \n",
       "data/policy_wordpress.com.txt             -1   \n",
       "data/policy_bitly.com.txt                 -1   \n",
       "data/policy_www.nih.gov.txt               -1   \n",
       "...                                      ...   \n",
       "data/policy_www.ea.com.txt                -1   \n",
       "data/policy_www.newyorker.com.txt         -1   \n",
       "data/policy_wpengine.com.txt              -1   \n",
       "data/policy_www.frontiersin.org.txt       -1   \n",
       "data/policy_www.irs.gov.txt               -1   \n",
       "\n",
       "                                                                                  Text  \n",
       "data/policy_github.com.txt           Skip to main content GitHub Docs All products ...  \n",
       "data/policy_www.apple.com.txt        Global Nav Open MenuGlobal Nav Close Menu Appl...  \n",
       "data/policy_wordpress.com.txt        Automattic Home About Us News Work With Us Pri...  \n",
       "data/policy_bitly.com.txt            Skip Navigation Get the tools to grow with Sta...  \n",
       "data/policy_www.nih.gov.txt          Skip to main content An official website of th...  \n",
       "...                                                                                ...  \n",
       "data/policy_www.ea.com.txt           Electronic Arts Home\\nFeatured GamesAll GamesC...  \n",
       "data/policy_www.newyorker.com.txt    Skip to main content About Brands Stores Comme...  \n",
       "data/policy_wpengine.com.txt         Skip to content WP Engine Products Resources W...  \n",
       "data/policy_www.frontiersin.org.txt  Skip to main content Navigation Top bar naviga...  \n",
       "data/policy_www.irs.gov.txt          Skip to main content An official website of th...  \n",
       "\n",
       "[66 rows x 2 columns]"
      ]
     },
     "execution_count": 319,
     "metadata": {},
     "output_type": "execute_result"
    }
   ],
   "source": [
    "db_df.loc[db_df[\"Cluster\"] == -1] # Dissimilar entries"
   ]
  },
  {
   "cell_type": "code",
   "execution_count": 300,
   "id": "78bdc093",
   "metadata": {},
   "outputs": [],
   "source": [
    "# import matplotlib.pyplot as plt\n",
    "\n",
    "# # Black removed and is used for noise instead.\n",
    "# labels = [0, -1]\n",
    "# unique_labels = set(labels)\n",
    "# colors = [plt.cm.Spectral(each) for each in np.linspace(0, 1, len(unique_labels))]\n",
    "\n",
    "# for k, col in zip(unique_labels, colors):\n",
    "#     if k == -1:\n",
    "#         # Black used for noise.\n",
    "#         col = [0, 0, 0, 1]\n",
    "\n",
    "#     class_member_mask = labels == k\n",
    "    \n",
    "#     xy = X[class_member_mask & core_samples_mask]\n",
    "#     plt.plot(\n",
    "#         xy[:, 0],\n",
    "#         xy[:, 1],\n",
    "#         \"o\",\n",
    "#         markerfacecolor=tuple(col),\n",
    "#         markeredgecolor=\"k\",\n",
    "#         markersize=14,\n",
    "#     )\n",
    "\n",
    "#     xy = X[class_member_mask & ~core_samples_mask]\n",
    "#     plt.plot(\n",
    "#         xy[:, 0],\n",
    "#         xy[:, 1],\n",
    "#         \"o\",\n",
    "#         markerfacecolor=tuple(col),\n",
    "#         markeredgecolor=\"k\",\n",
    "#         markersize=6,\n",
    "#     )\n",
    "\n",
    "# plt.title(\"Estimated number of clusters: %d\" % n_clusters_)\n",
    "# plt.show()"
   ]
  },
  {
   "cell_type": "markdown",
   "id": "f2c1beaa",
   "metadata": {},
   "source": [
    "#### 2.6.2 Finer Clustering"
   ]
  },
  {
   "cell_type": "code",
   "execution_count": 301,
   "id": "6e85152b",
   "metadata": {},
   "outputs": [],
   "source": [
    "from sklearn.metrics.pairwise import cosine_similarity\n",
    "cosine_sim = cosine_similarity(features)\n",
    "\n",
    "def getind(c):\n",
    "    return df[df.Text == c].index.tolist()\n",
    "\n",
    "def gettext(i):\n",
    "    return df[df.index == i].Text.tolist()"
   ]
  },
  {
   "cell_type": "code",
   "execution_count": 302,
   "id": "42db1930",
   "metadata": {},
   "outputs": [],
   "source": [
    "similar = list(enumerate(cosine_sim[0]))\n",
    "# similar"
   ]
  },
  {
   "cell_type": "code",
   "execution_count": 303,
   "id": "87784729",
   "metadata": {},
   "outputs": [],
   "source": [
    "# This one kinda does the same thing as the 2 clusters\n",
    "\n",
    "sim_list = []\n",
    "unsim_list = []\n",
    "for m in similar:\n",
    "    t = gettext(m[0])\n",
    "    if m[1] > 0.15:\n",
    "        sim_list.append(t)\n",
    "    else:\n",
    "        unsim_list.append(t)"
   ]
  },
  {
   "cell_type": "code",
   "execution_count": 304,
   "id": "abefc054",
   "metadata": {},
   "outputs": [],
   "source": [
    "df_sim = pd.DataFrame(sim_list, columns = [\"Text\"])\n",
    "df_unsim = pd.DataFrame(unsim_list, columns = [\"Text\"])"
   ]
  },
  {
   "cell_type": "code",
   "execution_count": 305,
   "id": "53dcc089",
   "metadata": {},
   "outputs": [],
   "source": [
    "# df_sim"
   ]
  },
  {
   "cell_type": "code",
   "execution_count": 306,
   "id": "6f2149c5",
   "metadata": {},
   "outputs": [],
   "source": [
    "# df_unsim"
   ]
  },
  {
   "cell_type": "code",
   "execution_count": null,
   "id": "334a6228",
   "metadata": {},
   "outputs": [],
   "source": []
  },
  {
   "cell_type": "code",
   "execution_count": 307,
   "id": "ebf28971",
   "metadata": {},
   "outputs": [],
   "source": [
    "cosim = list(enumerate(cosine_sim))\n",
    "cumulative_sim = []\n",
    "\n",
    "for entry in cosim:\n",
    "    cumulative_sim.append(0)\n",
    "\n",
    "for entry in cosim:\n",
    "    i = 0\n",
    "    for sim_value in entry[1]:\n",
    "        cumulative_sim[i] = cumulative_sim[i] + (sim_value / len(cosim)) # Normalization\n",
    "        \n",
    "        i = i + 1"
   ]
  },
  {
   "cell_type": "code",
   "execution_count": 308,
   "id": "cd28a4a6",
   "metadata": {},
   "outputs": [
    {
     "data": {
      "text/plain": [
       "[<matplotlib.lines.Line2D at 0x7fdee2a18af0>]"
      ]
     },
     "execution_count": 308,
     "metadata": {},
     "output_type": "execute_result"
    },
    {
     "data": {
      "image/png": "[encoded data removed]",
      "text/plain": [
       "<Figure size 432x288 with 1 Axes>"
      ]
     },
     "metadata": {
      "needs_background": "light"
     },
     "output_type": "display_data"
    }
   ],
   "source": [
    "plt.plot(cumulative_sim)"
   ]
  },
  {
   "cell_type": "code",
   "execution_count": 309,
   "id": "f893bd62",
   "metadata": {},
   "outputs": [],
   "source": [
    "sim_list = []\n",
    "unsim_list = []\n",
    "\n",
    "threshold = 0.085\n",
    "\n",
    "i = 0\n",
    "for k in cumulative_sim:\n",
    "    t = gettext(i)\n",
    "    if k > threshold:\n",
    "        sim_list.append(t)\n",
    "    else:\n",
    "        unsim_list.append(t)\n",
    "    i = i + 1"
   ]
  },
  {
   "cell_type": "code",
   "execution_count": 310,
   "id": "d5b1d9a2",
   "metadata": {},
   "outputs": [],
   "source": [
    "df_sim = pd.DataFrame(sim_list, columns = [\"Text\"])\n",
    "df_unsim = pd.DataFrame(unsim_list, columns = [\"Text\"])"
   ]
  },
  {
   "cell_type": "code",
   "execution_count": 311,
   "id": "291314ef",
   "metadata": {},
   "outputs": [],
   "source": [
    "# df_sim"
   ]
  },
  {
   "cell_type": "code",
   "execution_count": 312,
   "id": "1b0fa842",
   "metadata": {},
   "outputs": [],
   "source": [
    "# df_unsim"
   ]
  },
  {
   "cell_type": "code",
   "execution_count": 313,
   "id": "155cfa46",
   "metadata": {},
   "outputs": [],
   "source": [
    "verysim_list = []\n",
    "\n",
    "threshold = 0.185\n",
    "\n",
    "i = 0\n",
    "for k in cumulative_sim:\n",
    "    t = gettext(i)\n",
    "    if k > threshold:\n",
    "        verysim_list.append(t)\n",
    "#     else:\n",
    "#         unsim_list.append(t)\n",
    "    i = i + 1"
   ]
  },
  {
   "cell_type": "code",
   "execution_count": 314,
   "id": "7f7183fd",
   "metadata": {},
   "outputs": [
    {
     "data": {
      "text/html": [
       "<div>\n",
       "<style scoped>\n",
       "    .dataframe tbody tr th:only-of-type {\n",
       "        vertical-align: middle;\n",
       "    }\n",
       "\n",
       "    .dataframe tbody tr th {\n",
       "        vertical-align: top;\n",
       "    }\n",
       "\n",
       "    .dataframe thead th {\n",
       "        text-align: right;\n",
       "    }\n",
       "</style>\n",
       "<table border=\"1\" class=\"dataframe\">\n",
       "  <thead>\n",
       "    <tr style=\"text-align: right;\">\n",
       "      <th></th>\n",
       "      <th>Text</th>\n",
       "    </tr>\n",
       "  </thead>\n",
       "  <tbody>\n",
       "  </tbody>\n",
       "</table>\n",
       "</div>"
      ],
      "text/plain": [
       "Empty DataFrame\n",
       "Columns: [Text]\n",
       "Index: []"
      ]
     },
     "execution_count": 314,
     "metadata": {},
     "output_type": "execute_result"
    }
   ],
   "source": [
    "df_verysim = pd.DataFrame(verysim_list, columns = [\"Text\"])\n",
    "df_verysim"
   ]
  }
 ],
 "metadata": {
  "kernelspec": {
   "display_name": "Python 3 (ipykernel)",
   "language": "python",
   "name": "python3"
  },
  "language_info": {
   "codemirror_mode": {
    "name": "ipython",
    "version": 3
   },
   "file_extension": ".py",
   "mimetype": "text/x-python",
   "name": "python",
   "nbconvert_exporter": "python",
   "pygments_lexer": "ipython3",
   "version": "3.10.8"
  }
 },
 "nbformat": 4,
 "nbformat_minor": 5
}
