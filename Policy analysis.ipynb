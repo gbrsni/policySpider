{
 "cells": [
  {
   "cell_type": "markdown",
   "id": "3ee878dc",
   "metadata": {},
   "source": [
    "# Policy analysis\n",
    "The point of this notebook is to analyze the privacy policies fetched with the spider"
   ]
  },
  {
   "cell_type": "code",
   "execution_count": 122,
   "id": "3b37b16e",
   "metadata": {},
   "outputs": [],
   "source": [
    "import os\n",
    "import json\n",
    "import pandas as pd\n",
    "import matplotlib.pyplot as plt"
   ]
  },
  {
   "cell_type": "code",
   "execution_count": 6,
   "id": "b59f2ad7",
   "metadata": {},
   "outputs": [],
   "source": [
    "DATADIR = \"data/\"\n",
    "POLICY_FILE_PREFIX = \"policy_\"\n",
    "REPORT_FILE_NAME = \"crawl_report.json\""
   ]
  },
  {
   "cell_type": "code",
   "execution_count": 40,
   "id": "23e5f4f8",
   "metadata": {},
   "outputs": [
    {
     "data": {
      "text/html": [
       "<div>\n",
       "<style scoped>\n",
       "    .dataframe tbody tr th:only-of-type {\n",
       "        vertical-align: middle;\n",
       "    }\n",
       "\n",
       "    .dataframe tbody tr th {\n",
       "        vertical-align: top;\n",
       "    }\n",
       "\n",
       "    .dataframe thead th {\n",
       "        text-align: right;\n",
       "    }\n",
       "</style>\n",
       "<table border=\"1\" class=\"dataframe\">\n",
       "  <thead>\n",
       "    <tr style=\"text-align: right;\">\n",
       "      <th></th>\n",
       "      <th>url</th>\n",
       "      <th>policy_domain</th>\n",
       "      <th>policy_url</th>\n",
       "      <th>policy_file</th>\n",
       "      <th>success</th>\n",
       "    </tr>\n",
       "  </thead>\n",
       "  <tbody>\n",
       "    <tr>\n",
       "      <th>0</th>\n",
       "      <td>https://www.ilfattoquotidiano.it/</td>\n",
       "      <td>www.ilfattoquotidiano.it</td>\n",
       "      <td>https://www.ilfattoquotidiano.it/privacy-policy/</td>\n",
       "      <td>policy_www.ilfattoquotidiano.it</td>\n",
       "      <td>True</td>\n",
       "    </tr>\n",
       "    <tr>\n",
       "      <th>1</th>\n",
       "      <td>https://www.wikipedia.org/</td>\n",
       "      <td>meta.wikimedia.org</td>\n",
       "      <td>https://meta.wikimedia.org/wiki/Privacy_policy</td>\n",
       "      <td>policy_www.wikipedia.org</td>\n",
       "      <td>True</td>\n",
       "    </tr>\n",
       "    <tr>\n",
       "      <th>2</th>\n",
       "      <td>https://www.repubblica.it/</td>\n",
       "      <td>None</td>\n",
       "      <td>None</td>\n",
       "      <td>policy_www.repubblica.it</td>\n",
       "      <td>False</td>\n",
       "    </tr>\n",
       "    <tr>\n",
       "      <th>3</th>\n",
       "      <td>https://www.3bmeteo.com/</td>\n",
       "      <td>None</td>\n",
       "      <td>None</td>\n",
       "      <td>policy_www.3bmeteo.com</td>\n",
       "      <td>False</td>\n",
       "    </tr>\n",
       "    <tr>\n",
       "      <th>4</th>\n",
       "      <td>https://www.facebook.com/?_fb_noscript=1</td>\n",
       "      <td>www.facebook.com</td>\n",
       "      <td>https://www.facebook.com/privacy/policy/?entry...</td>\n",
       "      <td>policy_www.facebook.com</td>\n",
       "      <td>False</td>\n",
       "    </tr>\n",
       "    <tr>\n",
       "      <th>...</th>\n",
       "      <td>...</td>\n",
       "      <td>...</td>\n",
       "      <td>...</td>\n",
       "      <td>...</td>\n",
       "      <td>...</td>\n",
       "    </tr>\n",
       "    <tr>\n",
       "      <th>76</th>\n",
       "      <td>https://www.iliad.it/</td>\n",
       "      <td>www.iliad.it</td>\n",
       "      <td>https://www.iliad.it/docs/informativa_privacy/...</td>\n",
       "      <td>policy_www.iliad.it</td>\n",
       "      <td>True</td>\n",
       "    </tr>\n",
       "    <tr>\n",
       "      <th>77</th>\n",
       "      <td>https://www.idealista.it/</td>\n",
       "      <td>www.idealista.it</td>\n",
       "      <td>https://www.idealista.it/assistenzautenti/arti...</td>\n",
       "      <td>policy_www.idealista.it</td>\n",
       "      <td>True</td>\n",
       "    </tr>\n",
       "    <tr>\n",
       "      <th>78</th>\n",
       "      <td>https://www.dailyfx.com/</td>\n",
       "      <td>www.dailyfx.com</td>\n",
       "      <td>https://www.dailyfx.com/news/gbp-usd-outlook-g...</td>\n",
       "      <td>policy_www.dailyfx.com</td>\n",
       "      <td>True</td>\n",
       "    </tr>\n",
       "    <tr>\n",
       "      <th>79</th>\n",
       "      <td>https://www.paypal.com/it/home</td>\n",
       "      <td>www.paypal.com</td>\n",
       "      <td>https://www.paypal.com/privacy-center</td>\n",
       "      <td>policy_www.paypal.com</td>\n",
       "      <td>True</td>\n",
       "    </tr>\n",
       "    <tr>\n",
       "      <th>80</th>\n",
       "      <td>https://www.microsoft.com/it-it/</td>\n",
       "      <td>privacy.microsoft.com</td>\n",
       "      <td>https://privacy.microsoft.com/it-it</td>\n",
       "      <td>policy_www.microsoft.com</td>\n",
       "      <td>True</td>\n",
       "    </tr>\n",
       "  </tbody>\n",
       "</table>\n",
       "<p>81 rows × 5 columns</p>\n",
       "</div>"
      ],
      "text/plain": [
       "                                         url             policy_domain  \\\n",
       "0          https://www.ilfattoquotidiano.it/  www.ilfattoquotidiano.it   \n",
       "1                 https://www.wikipedia.org/        meta.wikimedia.org   \n",
       "2                 https://www.repubblica.it/                      None   \n",
       "3                   https://www.3bmeteo.com/                      None   \n",
       "4   https://www.facebook.com/?_fb_noscript=1          www.facebook.com   \n",
       "..                                       ...                       ...   \n",
       "76                     https://www.iliad.it/              www.iliad.it   \n",
       "77                 https://www.idealista.it/          www.idealista.it   \n",
       "78                  https://www.dailyfx.com/           www.dailyfx.com   \n",
       "79            https://www.paypal.com/it/home            www.paypal.com   \n",
       "80          https://www.microsoft.com/it-it/     privacy.microsoft.com   \n",
       "\n",
       "                                           policy_url  \\\n",
       "0    https://www.ilfattoquotidiano.it/privacy-policy/   \n",
       "1      https://meta.wikimedia.org/wiki/Privacy_policy   \n",
       "2                                                None   \n",
       "3                                                None   \n",
       "4   https://www.facebook.com/privacy/policy/?entry...   \n",
       "..                                                ...   \n",
       "76  https://www.iliad.it/docs/informativa_privacy/...   \n",
       "77  https://www.idealista.it/assistenzautenti/arti...   \n",
       "78  https://www.dailyfx.com/news/gbp-usd-outlook-g...   \n",
       "79              https://www.paypal.com/privacy-center   \n",
       "80                https://privacy.microsoft.com/it-it   \n",
       "\n",
       "                        policy_file  success  \n",
       "0   policy_www.ilfattoquotidiano.it     True  \n",
       "1          policy_www.wikipedia.org     True  \n",
       "2          policy_www.repubblica.it    False  \n",
       "3            policy_www.3bmeteo.com    False  \n",
       "4           policy_www.facebook.com    False  \n",
       "..                              ...      ...  \n",
       "76              policy_www.iliad.it     True  \n",
       "77          policy_www.idealista.it     True  \n",
       "78           policy_www.dailyfx.com     True  \n",
       "79            policy_www.paypal.com     True  \n",
       "80         policy_www.microsoft.com     True  \n",
       "\n",
       "[81 rows x 5 columns]"
      ]
     },
     "execution_count": 40,
     "metadata": {},
     "output_type": "execute_result"
    }
   ],
   "source": [
    "report_json = pd.read_json(DATADIR + REPORT_FILE_NAME)\n",
    "report_json"
   ]
  },
  {
   "cell_type": "code",
   "execution_count": 105,
   "id": "57d95fcb",
   "metadata": {},
   "outputs": [
    {
     "name": "stdout",
     "output_type": "stream",
     "text": [
      "Analyzed sites: 81\n",
      "Successfully analyzed: 58\n",
      "Success rate: 71.6%\n",
      "Policy url found but failed: 1\n"
     ]
    },
    {
     "data": {
      "text/html": [
       "<div>\n",
       "<style scoped>\n",
       "    .dataframe tbody tr th:only-of-type {\n",
       "        vertical-align: middle;\n",
       "    }\n",
       "\n",
       "    .dataframe tbody tr th {\n",
       "        vertical-align: top;\n",
       "    }\n",
       "\n",
       "    .dataframe thead th {\n",
       "        text-align: right;\n",
       "    }\n",
       "</style>\n",
       "<table border=\"1\" class=\"dataframe\">\n",
       "  <thead>\n",
       "    <tr style=\"text-align: right;\">\n",
       "      <th></th>\n",
       "      <th>url</th>\n",
       "      <th>policy_domain</th>\n",
       "      <th>policy_url</th>\n",
       "      <th>policy_file</th>\n",
       "      <th>success</th>\n",
       "    </tr>\n",
       "  </thead>\n",
       "  <tbody>\n",
       "    <tr>\n",
       "      <th>4</th>\n",
       "      <td>https://www.facebook.com/?_fb_noscript=1</td>\n",
       "      <td>www.facebook.com</td>\n",
       "      <td>https://www.facebook.com/privacy/policy/?entry...</td>\n",
       "      <td>policy_www.facebook.com</td>\n",
       "      <td>False</td>\n",
       "    </tr>\n",
       "  </tbody>\n",
       "</table>\n",
       "</div>"
      ],
      "text/plain": [
       "                                        url     policy_domain  \\\n",
       "4  https://www.facebook.com/?_fb_noscript=1  www.facebook.com   \n",
       "\n",
       "                                          policy_url              policy_file  \\\n",
       "4  https://www.facebook.com/privacy/policy/?entry...  policy_www.facebook.com   \n",
       "\n",
       "   success  \n",
       "4    False  "
      ]
     },
     "execution_count": 105,
     "metadata": {},
     "output_type": "execute_result"
    }
   ],
   "source": [
    "# Recap\n",
    "number_total = len(report_json)\n",
    "print(\"Analyzed sites: \" + str(number_total))\n",
    "\n",
    "successful = report_json.loc[report_json[\"success\"] == True]\n",
    "number_successful = len(successful)\n",
    "print(\"Successfully analyzed: \" + str(number_successful))\n",
    "\n",
    "print(\"Success rate: \" + str(round((100 * number_successful / number_total), 1)) + \"%\")\n",
    "\n",
    "failed_with_url = report_json.loc[pd.notna(report_json[\"policy_url\"])\n",
    "                                  & (report_json[\"success\"] == False)]\n",
    "print(\"Policy url found but failed: \" + str(len(failed_with_url)))\n",
    "failed_with_url"
   ]
  },
  {
   "cell_type": "code",
   "execution_count": 161,
   "id": "5b014d7c",
   "metadata": {},
   "outputs": [
    {
     "data": {
      "image/png": "[encoded data removed]",
      "text/plain": [
       "<Figure size 432x288 with 1 Axes>"
      ]
     },
     "metadata": {
      "needs_background": "light"
     },
     "output_type": "display_data"
    },
    {
     "data": {
      "image/png": "[encoded data removed]",
      "text/plain": [
       "<Figure size 432x288 with 1 Axes>"
      ]
     },
     "metadata": {
      "needs_background": "light"
     },
     "output_type": "display_data"
    }
   ],
   "source": [
    "# Simple analysis i.e. wordcount\n",
    "# Open policy files\n",
    "policy_file_names = successful[\"policy_file\"].tolist()\n",
    "\n",
    "policy_files = []\n",
    "for filename in policy_file_names:\n",
    "    policy_files.append(open(DATADIR + filename + \".txt\")) # .txt will be included in policy_file in the future\n",
    "\n",
    "\n",
    "wordcounts = []\n",
    "for file in policy_files:\n",
    "    wordcounts.append(len(file.read().split()))\n",
    "\n",
    "plt.hist(wordcounts, 20)\n",
    "plt.show()\n",
    "plt.boxplot(wordcounts)\n",
    "plt.show()"
   ]
  }
 ],
 "metadata": {
  "kernelspec": {
   "display_name": "Python 3 (ipykernel)",
   "language": "python",
   "name": "python3"
  },
  "language_info": {
   "codemirror_mode": {
    "name": "ipython",
    "version": 3
   },
   "file_extension": ".py",
   "mimetype": "text/x-python",
   "name": "python",
   "nbconvert_exporter": "python",
   "pygments_lexer": "ipython3",
   "version": "3.10.7"
  }
 },
 "nbformat": 4,
 "nbformat_minor": 5
}
