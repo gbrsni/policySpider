{
 "cells": [
  {
   "cell_type": "markdown",
   "id": "50993af2",
   "metadata": {},
   "source": [
    "# Disclaimer\n",
    "This notebook starts out kind of well organized but quickly becomes rather messy.\n",
    "It is not meant to be used as documentation, but rather as a tool to analyze the data and as such it contains many temporary solutions/values. Some values may even be inaccurate as they might be the result of some tests which were just left in as they were."
   ]
  },
  {
   "cell_type": "markdown",
   "id": "ea808d30",
   "metadata": {},
   "source": [
    "### Policy analysis\n",
    "The point of this notebook is to analyze the privacy policies fetched with the spider.  \n",
    "This presumes all the policies that are marked as successfully gathered in the report file are good, and only looks at said policies"
   ]
  },
  {
   "cell_type": "code",
   "execution_count": 1,
   "id": "21766db6",
   "metadata": {},
   "outputs": [],
   "source": [
    "import csv\n",
    "import os\n",
    "import json\n",
    "import math\n",
    "\n",
    "import justext\n",
    "import numpy as np\n",
    "import pandas as pd\n",
    "import matplotlib.pyplot as plt\n",
    "from wordcloud import WordCloud, STOPWORDS, ImageColorGenerator\n",
    "import langid\n",
    "from readability import Readability\n",
    "import textstat\n",
    "    \n",
    "from sklearn.decomposition import TruncatedSVD\n",
    "from sklearn.pipeline import make_pipeline\n",
    "from sklearn.preprocessing import Normalizer\n",
    "from sklearn.feature_extraction.text import TfidfVectorizer\n",
    "from sklearn.cluster import MiniBatchKMeans, KMeans\n",
    "from sklearn.cluster import DBSCAN\n",
    "import sklearn.metrics"
   ]
  },
  {
   "cell_type": "code",
   "execution_count": 2,
   "id": "5197ab8a",
   "metadata": {},
   "outputs": [],
   "source": [
    "def site_name_from_file_name(file_name):\n",
    "    return file_name[len(\"policy_\"):len(file_name) - 4]"
   ]
  },
  {
   "cell_type": "code",
   "execution_count": 3,
   "id": "8f9c977f",
   "metadata": {},
   "outputs": [],
   "source": [
    "def make_policy_files():\n",
    "    policy_files = []\n",
    "    for filename in policy_file_names:\n",
    "        policy_files.append(open(DATADIR + filename))\n",
    "    return policy_files"
   ]
  },
  {
   "cell_type": "code",
   "execution_count": 4,
   "id": "945d6877",
   "metadata": {},
   "outputs": [
    {
     "data": {
      "image/png": "[encoded data removed]",
      "text/plain": [
       "<Figure size 432x288 with 1 Axes>"
      ]
     },
     "metadata": {
      "needs_background": "light"
     },
     "output_type": "display_data"
    }
   ],
   "source": [
    "# Grafico lista siti\n",
    "# colorbrewer2.org\n",
    "\n",
    "plt.bar(0, 0, width = 5, color = 'w')\n",
    "plt.bar(0, height = 95, color = '#1f78b4', label = 'Semrush') # Semrush 1f78b4 85\n",
    "plt.bar(0, height = 346, bottom = 95, color = '#33a02c', label = 'Tranco .it') # Tranco .it 33a02c 356\n",
    "plt.bar(0, height = 64, bottom = 95 + 346, color = '#a6cee3', label = 'Tranco .gov.it') # Tranco .gov.it a6cee3\n",
    "plt.bar(0, height = 61, bottom = 95 + 346 + 64, color = '#b2df8a', label = 'Tranco .mi.it') # Tranco .mi.it b2df8a\n",
    "plt.bar(0, height = 1, bottom = 95 + 346 + 64 + 61, color = '#fb9a99', label = 'Garante') # garante 984ea3\n",
    "\n",
    "plt.legend()\n",
    "plt.xticks([])\n",
    "# plt.yticks([])\n",
    "plt.savefig('images/composizionelista.svg')\n",
    "plt.show()"
   ]
  },
  {
   "cell_type": "markdown",
   "id": "d76e338b",
   "metadata": {},
   "source": [
    "## 1 Overview"
   ]
  },
  {
   "cell_type": "code",
   "execution_count": 5,
   "id": "19be9b07",
   "metadata": {},
   "outputs": [],
   "source": [
    "DATADIR = \"data/\"\n",
    "POLICY_FILE_PREFIX = \"policy_\"\n",
    "REPORT_FILE_NAME = \"crawl_report.json\""
   ]
  },
  {
   "cell_type": "code",
   "execution_count": 6,
   "id": "b59a3306",
   "metadata": {},
   "outputs": [],
   "source": [
    "report_json = pd.read_json(DATADIR + REPORT_FILE_NAME)\n",
    "# report_json"
   ]
  },
  {
   "cell_type": "markdown",
   "id": "0ddaa9cd",
   "metadata": {},
   "source": [
    "### 1.1 Success rate"
   ]
  },
  {
   "cell_type": "code",
   "execution_count": 7,
   "id": "ff28d040",
   "metadata": {
    "scrolled": false
   },
   "outputs": [
    {
     "name": "stdout",
     "output_type": "stream",
     "text": [
      "Analyzed sites: 569\n",
      "Successfully downloaded: 556\n",
      "Success rate: 97.7%\n",
      "Policy url found but no good policy found: 0\n"
     ]
    },
    {
     "data": {
      "text/html": [
       "<div>\n",
       "<style scoped>\n",
       "    .dataframe tbody tr th:only-of-type {\n",
       "        vertical-align: middle;\n",
       "    }\n",
       "\n",
       "    .dataframe tbody tr th {\n",
       "        vertical-align: top;\n",
       "    }\n",
       "\n",
       "    .dataframe thead th {\n",
       "        text-align: right;\n",
       "    }\n",
       "</style>\n",
       "<table border=\"1\" class=\"dataframe\">\n",
       "  <thead>\n",
       "    <tr style=\"text-align: right;\">\n",
       "      <th></th>\n",
       "      <th>url</th>\n",
       "      <th>policy_domain</th>\n",
       "      <th>policy_url</th>\n",
       "      <th>policy_file</th>\n",
       "      <th>uses_iubenda</th>\n",
       "      <th>success</th>\n",
       "      <th>ignore</th>\n",
       "    </tr>\n",
       "  </thead>\n",
       "  <tbody>\n",
       "  </tbody>\n",
       "</table>\n",
       "</div>"
      ],
      "text/plain": [
       "Empty DataFrame\n",
       "Columns: [url, policy_domain, policy_url, policy_file, uses_iubenda, success, ignore]\n",
       "Index: []"
      ]
     },
     "execution_count": 7,
     "metadata": {},
     "output_type": "execute_result"
    }
   ],
   "source": [
    "# Recap\n",
    "number_total = len(report_json)\n",
    "print(\"Analyzed sites: \" + str(number_total))\n",
    "\n",
    "successful = report_json.loc[report_json[\"success\"] == True]\n",
    "\n",
    "# bl = []\n",
    "# for l in report_json[\"policy_file\"]:\n",
    "#     try:\n",
    "#         bl.append(len(open(DATADIR + l).read()) > 0)\n",
    "#     except:\n",
    "#         bl.append(False)\n",
    "\n",
    "# s = pd.Series(bl)\n",
    "\n",
    "# # successful = report_json.loc[(len(open(report_json[\"policy_file\"]).read()) > 0)]\n",
    "# successful = report_json[s.values]\n",
    "\n",
    "number_successful = len(successful)\n",
    "print(\"Successfully downloaded: \" + str(number_successful))\n",
    "\n",
    "print(\"Success rate: \" + str(round((100 * number_successful / number_total), 1)) + \"%\")\n",
    "\n",
    "failed_with_url = report_json.loc[pd.notna(report_json[\"policy_url\"])\n",
    "                                  & (report_json[\"success\"] == False)]\n",
    "print(\"Policy url found but no good policy found: \" + str(len(failed_with_url)))\n",
    "failed_with_url"
   ]
  },
  {
   "cell_type": "code",
   "execution_count": 8,
   "id": "85f6f8a0",
   "metadata": {
    "scrolled": false
   },
   "outputs": [
    {
     "name": "stdout",
     "output_type": "stream",
     "text": [
      "13\n"
     ]
    },
    {
     "data": {
      "text/html": [
       "<div>\n",
       "<style scoped>\n",
       "    .dataframe tbody tr th:only-of-type {\n",
       "        vertical-align: middle;\n",
       "    }\n",
       "\n",
       "    .dataframe tbody tr th {\n",
       "        vertical-align: top;\n",
       "    }\n",
       "\n",
       "    .dataframe thead th {\n",
       "        text-align: right;\n",
       "    }\n",
       "</style>\n",
       "<table border=\"1\" class=\"dataframe\">\n",
       "  <thead>\n",
       "    <tr style=\"text-align: right;\">\n",
       "      <th></th>\n",
       "      <th>url</th>\n",
       "      <th>policy_domain</th>\n",
       "      <th>policy_url</th>\n",
       "      <th>policy_file</th>\n",
       "      <th>uses_iubenda</th>\n",
       "      <th>success</th>\n",
       "      <th>ignore</th>\n",
       "    </tr>\n",
       "  </thead>\n",
       "  <tbody>\n",
       "    <tr>\n",
       "      <th>33</th>\n",
       "      <td>https://procyclinggame.com</td>\n",
       "      <td>None</td>\n",
       "      <td>None</td>\n",
       "      <td>policy_procyclinggame.com.txt</td>\n",
       "      <td>False</td>\n",
       "      <td>False</td>\n",
       "      <td>False</td>\n",
       "    </tr>\n",
       "    <tr>\n",
       "      <th>45</th>\n",
       "      <td>https://zcsazzurrowebportal.com</td>\n",
       "      <td>None</td>\n",
       "      <td>None</td>\n",
       "      <td>policy_zcsazzurrowebportal.com.txt</td>\n",
       "      <td>False</td>\n",
       "      <td>False</td>\n",
       "      <td>False</td>\n",
       "    </tr>\n",
       "    <tr>\n",
       "      <th>52</th>\n",
       "      <td>https://librarymusicthemes.com</td>\n",
       "      <td>None</td>\n",
       "      <td>None</td>\n",
       "      <td>policy_librarymusicthemes.com.txt</td>\n",
       "      <td>False</td>\n",
       "      <td>False</td>\n",
       "      <td>False</td>\n",
       "    </tr>\n",
       "    <tr>\n",
       "      <th>53</th>\n",
       "      <td>https://fantasportal.com</td>\n",
       "      <td>None</td>\n",
       "      <td>None</td>\n",
       "      <td>policy_fantasportal.com.txt</td>\n",
       "      <td>False</td>\n",
       "      <td>False</td>\n",
       "      <td>False</td>\n",
       "    </tr>\n",
       "    <tr>\n",
       "      <th>55</th>\n",
       "      <td>https://www.flashscore.mobi/</td>\n",
       "      <td>None</td>\n",
       "      <td>None</td>\n",
       "      <td>policy_www.flashscore.mobi.txt</td>\n",
       "      <td>False</td>\n",
       "      <td>False</td>\n",
       "      <td>False</td>\n",
       "    </tr>\n",
       "    <tr>\n",
       "      <th>66</th>\n",
       "      <td>https://bonnovel.com</td>\n",
       "      <td>None</td>\n",
       "      <td>None</td>\n",
       "      <td>policy_bonnovel.com.txt</td>\n",
       "      <td>False</td>\n",
       "      <td>False</td>\n",
       "      <td>False</td>\n",
       "    </tr>\n",
       "    <tr>\n",
       "      <th>74</th>\n",
       "      <td>https://www.dv.is/</td>\n",
       "      <td>None</td>\n",
       "      <td>None</td>\n",
       "      <td>policy_www.dv.is.txt</td>\n",
       "      <td>False</td>\n",
       "      <td>False</td>\n",
       "      <td>False</td>\n",
       "    </tr>\n",
       "    <tr>\n",
       "      <th>211</th>\n",
       "      <td>https://cifreincomunespid.infocamere.it/casm/</td>\n",
       "      <td>None</td>\n",
       "      <td>None</td>\n",
       "      <td>policy_cifreincomunespid.infocamere.it.txt</td>\n",
       "      <td>False</td>\n",
       "      <td>False</td>\n",
       "      <td>False</td>\n",
       "    </tr>\n",
       "    <tr>\n",
       "      <th>330</th>\n",
       "      <td>https://www.ilportaledellautomobilista.it/web/...</td>\n",
       "      <td>None</td>\n",
       "      <td>None</td>\n",
       "      <td>policy_www.ilportaledellautomobilista.it.txt</td>\n",
       "      <td>False</td>\n",
       "      <td>False</td>\n",
       "      <td>False</td>\n",
       "    </tr>\n",
       "    <tr>\n",
       "      <th>413</th>\n",
       "      <td>https://hurawatch.it</td>\n",
       "      <td>None</td>\n",
       "      <td>None</td>\n",
       "      <td>policy_hurawatch.it.txt</td>\n",
       "      <td>False</td>\n",
       "      <td>False</td>\n",
       "      <td>False</td>\n",
       "    </tr>\n",
       "    <tr>\n",
       "      <th>493</th>\n",
       "      <td>https://www.impresa.gov.it/intro/</td>\n",
       "      <td>None</td>\n",
       "      <td>None</td>\n",
       "      <td>policy_www.impresa.gov.it.txt</td>\n",
       "      <td>False</td>\n",
       "      <td>False</td>\n",
       "      <td>False</td>\n",
       "    </tr>\n",
       "    <tr>\n",
       "      <th>544</th>\n",
       "      <td>https://magnete.mi.it</td>\n",
       "      <td>None</td>\n",
       "      <td>None</td>\n",
       "      <td>policy_magnete.mi.it.txt</td>\n",
       "      <td>False</td>\n",
       "      <td>False</td>\n",
       "      <td>False</td>\n",
       "    </tr>\n",
       "    <tr>\n",
       "      <th>561</th>\n",
       "      <td>https://www.pages.mi.it/</td>\n",
       "      <td>None</td>\n",
       "      <td>None</td>\n",
       "      <td>policy_www.pages.mi.it.txt</td>\n",
       "      <td>False</td>\n",
       "      <td>False</td>\n",
       "      <td>False</td>\n",
       "    </tr>\n",
       "  </tbody>\n",
       "</table>\n",
       "</div>"
      ],
      "text/plain": [
       "                                                   url policy_domain  \\\n",
       "33                          https://procyclinggame.com          None   \n",
       "45                     https://zcsazzurrowebportal.com          None   \n",
       "52                      https://librarymusicthemes.com          None   \n",
       "53                            https://fantasportal.com          None   \n",
       "55                        https://www.flashscore.mobi/          None   \n",
       "66                                https://bonnovel.com          None   \n",
       "74                                  https://www.dv.is/          None   \n",
       "211      https://cifreincomunespid.infocamere.it/casm/          None   \n",
       "330  https://www.ilportaledellautomobilista.it/web/...          None   \n",
       "413                               https://hurawatch.it          None   \n",
       "493                  https://www.impresa.gov.it/intro/          None   \n",
       "544                              https://magnete.mi.it          None   \n",
       "561                           https://www.pages.mi.it/          None   \n",
       "\n",
       "    policy_url                                   policy_file  uses_iubenda  \\\n",
       "33        None                 policy_procyclinggame.com.txt         False   \n",
       "45        None            policy_zcsazzurrowebportal.com.txt         False   \n",
       "52        None             policy_librarymusicthemes.com.txt         False   \n",
       "53        None                   policy_fantasportal.com.txt         False   \n",
       "55        None                policy_www.flashscore.mobi.txt         False   \n",
       "66        None                       policy_bonnovel.com.txt         False   \n",
       "74        None                          policy_www.dv.is.txt         False   \n",
       "211       None    policy_cifreincomunespid.infocamere.it.txt         False   \n",
       "330       None  policy_www.ilportaledellautomobilista.it.txt         False   \n",
       "413       None                       policy_hurawatch.it.txt         False   \n",
       "493       None                 policy_www.impresa.gov.it.txt         False   \n",
       "544       None                      policy_magnete.mi.it.txt         False   \n",
       "561       None                    policy_www.pages.mi.it.txt         False   \n",
       "\n",
       "     success  ignore  \n",
       "33     False   False  \n",
       "45     False   False  \n",
       "52     False   False  \n",
       "53     False   False  \n",
       "55     False   False  \n",
       "66     False   False  \n",
       "74     False   False  \n",
       "211    False   False  \n",
       "330    False   False  \n",
       "413    False   False  \n",
       "493    False   False  \n",
       "544    False   False  \n",
       "561    False   False  "
      ]
     },
     "execution_count": 8,
     "metadata": {},
     "output_type": "execute_result"
    }
   ],
   "source": [
    "# No policy at all\n",
    "\n",
    "failed = report_json.loc[report_json[\"success\"] == False]\n",
    "print(len(failed))\n",
    "failed"
   ]
  },
  {
   "cell_type": "code",
   "execution_count": 9,
   "id": "26458573",
   "metadata": {},
   "outputs": [
    {
     "name": "stdout",
     "output_type": "stream",
     "text": [
      "556\n"
     ]
    }
   ],
   "source": [
    "successful = report_json.loc[report_json[\"success\"] == True]\n",
    "print(len(successful))"
   ]
  },
  {
   "cell_type": "markdown",
   "id": "a49cae29",
   "metadata": {},
   "source": [
    "### 1.2 Sites overview"
   ]
  },
  {
   "cell_type": "code",
   "execution_count": 10,
   "id": "5361d9ce",
   "metadata": {},
   "outputs": [
    {
     "data": {
      "image/png": "[encoded data removed]",
      "text/plain": [
       "<Figure size 432x288 with 1 Axes>"
      ]
     },
     "metadata": {
      "needs_background": "light"
     },
     "output_type": "display_data"
    }
   ],
   "source": [
    "# TLDs\n",
    "\n",
    "urls = report_json[\"url\"]\n",
    "ul = urls.tolist()\n",
    "\n",
    "tlds = {}\n",
    "for url in ul:\n",
    "    slfssplit = (url.split(\"/\")[2]).split(\".\")\n",
    "    tld = slfssplit[len(slfssplit) - 1].split(\":\")[0]\n",
    "#     tld = ((url.split(\".\")[len(url.split(\".\")) - 1]).split(\"/\")[0]).split(\":\")[0]\n",
    "    if tld in tlds.keys():\n",
    "        tlds[tld] = tlds[tld] + 1\n",
    "    else:\n",
    "        tlds[tld] = 1\n",
    "        \n",
    "pd.Series(tlds).sort_values(ascending = False).plot.bar()\n",
    "plt.savefig('images/tlds.svg')\n",
    "plt.show()"
   ]
  },
  {
   "cell_type": "markdown",
   "id": "a37d8f56",
   "metadata": {},
   "source": [
    "## 2 Simple analysis"
   ]
  },
  {
   "cell_type": "code",
   "execution_count": 11,
   "id": "f5d25eb2",
   "metadata": {},
   "outputs": [],
   "source": [
    "# Open policy files\n",
    "policy_file_names = successful[\"policy_file\"].tolist()"
   ]
  },
  {
   "cell_type": "markdown",
   "id": "7b7969c8",
   "metadata": {},
   "source": [
    "### Gov e PA"
   ]
  },
  {
   "cell_type": "code",
   "execution_count": 12,
   "id": "1d72031d",
   "metadata": {},
   "outputs": [],
   "source": [
    "import re\n",
    "\n",
    "def custom_gulpease(text):\n",
    "    words = text.split()\n",
    "    n_words = len(words)\n",
    "    \n",
    "    n_letters = 0\n",
    "    for word in words:\n",
    "        w_letters = 0\n",
    "        l_word = word.lower()\n",
    "        for c in l_word:\n",
    "            if c in \"qwertyuiopasdfghjklzxcvbnmàèéìòù0123456789\":\n",
    "                w_letters = w_letters + 1\n",
    "        if w_letters == 0:\n",
    "            n_words = n_words - 1\n",
    "        else:\n",
    "            n_letters = n_letters + w_letters\n",
    "    n_sentences = len(re.split('[\\.!?]\\s+', text))\n",
    "                \n",
    "    return 89 + (((300 * n_sentences) - (10 * n_letters)) / n_words)"
   ]
  },
  {
   "cell_type": "code",
   "execution_count": 13,
   "id": "c553a992",
   "metadata": {},
   "outputs": [],
   "source": [
    "\n",
    "def get_pa_files():\n",
    "    gov_pa_files = []\n",
    "    \n",
    "    for name in policy_file_names:\n",
    "        if name[len(name) - 11: ] == \".gov.it.txt\" \\\n",
    "            or name[len(name) - 15: ] == \".gov.it:443.txt\" \\\n",
    "            or name == \"policy_www.garanteprivacy.it.txt\":\n",
    "            gov_pa_files.append(open(DATADIR + name))\n",
    "    #         print(name)\n",
    "    \n",
    "    return gov_pa_files"
   ]
  },
  {
   "cell_type": "code",
   "execution_count": 14,
   "id": "16890b5a",
   "metadata": {
    "scrolled": false
   },
   "outputs": [
    {
     "name": "stdout",
     "output_type": "stream",
     "text": [
      "73\n",
      "Beware different scales!\n",
      "Median wordcount: 1179.0\n",
      "Max wordcount: 3771\n"
     ]
    },
    {
     "data": {
      "image/png": "[encoded data removed]",
      "text/plain": [
       "<Figure size 432x288 with 1 Axes>"
      ]
     },
     "metadata": {
      "needs_background": "light"
     },
     "output_type": "display_data"
    },
    {
     "data": {
      "image/png": "[encoded data removed]",
      "text/plain": [
       "<Figure size 432x288 with 1 Axes>"
      ]
     },
     "metadata": {
      "needs_background": "light"
     },
     "output_type": "display_data"
    },
    {
     "name": "stdout",
     "output_type": "stream",
     "text": [
      "\n",
      "Higher score is easier to read\n",
      "Hard to read texts: 46\n",
      "as a percentage of total: 63.0%\n",
      "Median gulpease index: 38.7090203685742\n",
      "Texts above recommended level (8th grade rough italian equivalent) 100.0%\n"
     ]
    },
    {
     "data": {
      "image/png": "[encoded data removed]",
      "text/plain": [
       "<Figure size 432x288 with 1 Axes>"
      ]
     },
     "metadata": {
      "needs_background": "light"
     },
     "output_type": "display_data"
    }
   ],
   "source": [
    "policy_files = get_pa_files()\n",
    "\n",
    "# GARANTE\n",
    "text_garante = open(DATADIR + 'policy_www.garanteprivacy.it.txt').read()\n",
    "\n",
    "n_words = len(text_garante.split())\n",
    "n_words_garante = n_words\n",
    "n_words_garante = 997\n",
    "\n",
    "# gulpease_garante = custom_gulpease(text_garante)\n",
    "gulpease_garante = 40 # Calcolato sotto\n",
    "\n",
    "\n",
    "# highest_wordcount = 0\n",
    "# for file in policy_files:\n",
    "#     file_wordcount = len(file.read().split())\n",
    "#     if file_wordcount > highest_wordcount:\n",
    "#         highest_wordcount = file_wordcount\n",
    "\n",
    "policy_files = []\n",
    "policy_files = get_pa_files()\n",
    "print(len(policy_files))\n",
    "        \n",
    "wordcounts = []\n",
    "max_wordcount = 0\n",
    "for file in policy_files:\n",
    "    wc = len(file.read().split())\n",
    "    wordcounts.append(wc)\n",
    "    if wc > max_wordcount:\n",
    "        max_wordcount = wc \n",
    "\n",
    "#     plt.ylim(0, 15)\n",
    "\n",
    "#     plt.ylim(0, 300) # !!!\n",
    "print(\"Beware different scales!\")\n",
    "\n",
    "median_wordcount = np.median(wordcounts)\n",
    "print(\"Median wordcount: \" + str(median_wordcount))\n",
    "print(\"Max wordcount: \" + str(max_wordcount))\n",
    "\n",
    "# plt.xlim(0, highest_wordcount * 1.1)\n",
    "plt.hist(wordcounts, 15)\n",
    "plt.savefig('images/wordcounthist' + '_gov' + '.svg')\n",
    "plt.show()\n",
    "\n",
    "# plt.ylim(-(highest_wordcount / 100), highest_wordcount * 1.1)\n",
    "plt.boxplot(wordcounts)\n",
    "plt.axhline(y = 1967) # Italian median wordcount\n",
    "plt.axhline(y = n_words_garante, color = 'green', label = \"Garante\")\n",
    "plt.xticks([])\n",
    "plt.savefig('images/wordcountbox' + '_gov' + '.svg')\n",
    "plt.show()\n",
    "\n",
    "### GULP\n",
    "texts = []\n",
    "for file in get_pa_files():\n",
    "    texts.append(file.read())\n",
    "\n",
    "# Set box plot scale\n",
    "plt.ylim(-10, 110)\n",
    "\n",
    "ar_readability_scores = []\n",
    "\n",
    "hard_to_read = 0\n",
    "above_8th_grade = 0\n",
    "avg_gulpease_index = 0.0\n",
    "thresh_8th = 60\n",
    "thresh_hard = 40\n",
    "for policy_text in texts:\n",
    "    gulpease = custom_gulpease(policy_text)\n",
    "\n",
    "    avg_gulpease_index = avg_gulpease_index + float(gulpease)\n",
    "\n",
    "    if int(gulpease) < thresh_8th:\n",
    "        above_8th_grade = above_8th_grade + 1\n",
    "\n",
    "    if gulpease < thresh_hard:\n",
    "        hard_to_read = hard_to_read + 1\n",
    "        \n",
    "#     if gulpease < 30:\n",
    "#         print(policy_text)\n",
    "\n",
    "        \n",
    "    ar_readability_scores.append(float(gulpease))\n",
    "\n",
    "avg_gulpease_index = round((avg_gulpease_index / len(texts)), 1)\n",
    "median_gulpease_index = np.median(ar_readability_scores)\n",
    "\n",
    "print(\"\\nHigher score is easier to read\\nHard to read texts: \" + str(hard_to_read) + \"\\n\" +\n",
    "    \"as a percentage of total: \"  + str(round((100 * hard_to_read / len(texts)), 1)) + \"%\\n\" + \n",
    "     \"Median gulpease index: \" + str(median_gulpease_index) + \"\\n\" +\n",
    "     \"Texts above recommended level (8th grade rough italian equivalent) \" + str(round((100 * above_8th_grade / len(texts)), 1)) + \"%\")\n",
    "\n",
    "    \n",
    "plt.boxplot(ar_readability_scores)\n",
    "plt.axhline(y = thresh_8th, color = 'orange', label = \"Livello licenza media\")\n",
    "plt.axhline(y = thresh_hard, color = '#E50000', label = \"Livello diploma superiore\")\n",
    "# plt.axhline(y = gulpease_garante, color = 'green', label = \"Garante\")\n",
    "plt.xticks([])\n",
    "# plt.legend()\n",
    "plt.savefig('images/readabilitybox' + \"_gov\" + '.svg')\n",
    "plt.show()"
   ]
  },
  {
   "cell_type": "code",
   "execution_count": 15,
   "id": "f45ad759",
   "metadata": {},
   "outputs": [
    {
     "name": "stdout",
     "output_type": "stream",
     "text": [
      "39.72216649949849\n"
     ]
    }
   ],
   "source": [
    "text_garante = open(DATADIR + 'policy_www.garanteprivacy.it.txt').read()\n",
    "\n",
    "custom_gulpease(text_garante)\n",
    "    \n",
    "print(custom_gulpease(text_garante))"
   ]
  },
  {
   "cell_type": "markdown",
   "id": "64f4cebf",
   "metadata": {},
   "source": [
    "### 2.1 Language detection"
   ]
  },
  {
   "cell_type": "code",
   "execution_count": 16,
   "id": "50ebd697",
   "metadata": {},
   "outputs": [
    {
     "data": {
      "image/png": "[encoded data removed]",
      "text/plain": [
       "<Figure size 432x288 with 1 Axes>"
      ]
     },
     "metadata": {
      "needs_background": "light"
     },
     "output_type": "display_data"
    }
   ],
   "source": [
    "# Language detection\n",
    "policy_files = []\n",
    "for filename in policy_file_names:\n",
    "    policy_files.append(open(DATADIR + filename))\n",
    "\n",
    "languages = {}\n",
    "prevlen = 0\n",
    "for file in policy_files:\n",
    "    languages[file.name] = langid.classify(file.read())[0]\n",
    "#     if languages[file.name] != \"it\" and (languages[file.name]) != \"en\":\n",
    "#         print(languages[file.name])        \n",
    "#         print(len(languages))\n",
    "    if prevlen == len(languages):\n",
    "        print(file.name)\n",
    "    prevlen = len(languages)\n",
    "        \n",
    "plt.bar(pd.Series(languages).value_counts().keys(), pd.Series(languages).value_counts())\n",
    "plt.savefig('images/langs.svg')\n",
    "plt.show()"
   ]
  },
  {
   "cell_type": "code",
   "execution_count": 17,
   "id": "e9b039a1",
   "metadata": {},
   "outputs": [
    {
     "data": {
      "text/plain": [
       "it    521\n",
       "en     32\n",
       "pl      1\n",
       "ar      1\n",
       "de      1\n",
       "dtype: int64"
      ]
     },
     "execution_count": 17,
     "metadata": {},
     "output_type": "execute_result"
    }
   ],
   "source": [
    "pd.Series(languages).value_counts()"
   ]
  },
  {
   "cell_type": "markdown",
   "id": "98ec3805",
   "metadata": {},
   "source": [
    "### Cookie vs privacy\n"
   ]
  },
  {
   "cell_type": "code",
   "execution_count": null,
   "id": "a801886a",
   "metadata": {},
   "outputs": [],
   "source": []
  },
  {
   "cell_type": "code",
   "execution_count": 18,
   "id": "3efc2eb7",
   "metadata": {},
   "outputs": [
    {
     "name": "stdout",
     "output_type": "stream",
     "text": [
      "File name: data/policy_www.wikipedia.org.txt\n",
      "Cookie: 8\n",
      "Privacy: 69\n",
      "Cookie / privacy: 11.6%\n",
      "File name: data/policy_www.google.com.txt\n",
      "Cookie: 29\n",
      "Privacy: 47\n",
      "Cookie / privacy: 61.7%\n",
      "File name: data/policy_www.corriere.it.txt\n",
      "Cookie: 90\n",
      "Privacy: 12\n",
      "Cookie / privacy: 750.0%\n",
      "File name: data/policy_www.gazzetta.it.txt\n",
      "Cookie: 94\n",
      "Privacy: 14\n",
      "Cookie / privacy: 671.4%\n",
      "File name: data/policy_twitter.com.txt\n",
      "Cookie: 2\n",
      "Privacy: 19\n",
      "Cookie / privacy: 10.5%\n",
      "File name: data/policy_www.youtube.com.txt\n",
      "Cookie: 29\n",
      "Privacy: 47\n",
      "Cookie / privacy: 61.7%\n",
      "File name: data/policy_www.repubblica.it.txt\n",
      "Cookie: 1\n",
      "Privacy: 2\n",
      "Cookie / privacy: 50.0%\n",
      "File name: data/policy_www.google.it.txt\n",
      "Cookie: 29\n",
      "Privacy: 47\n",
      "Cookie / privacy: 61.7%\n",
      "File name: data/policy_search-hub.co.txt\n",
      "Cookie: 6\n",
      "Privacy: 14\n",
      "Cookie / privacy: 42.9%\n",
      "File name: data/policy_www.amazon.it.txt\n",
      "Cookie: 19\n",
      "Privacy: 23\n",
      "Cookie / privacy: 82.6%\n",
      "File name: data/policy_www.ansa.it.txt\n",
      "Cookie: 9\n",
      "Privacy: 8\n",
      "Cookie / privacy: 112.5%\n",
      "File name: data/policy_mediasetinfinity.mediaset.it.txt\n",
      "Cookie: 2\n",
      "Privacy: 17\n",
      "Cookie / privacy: 11.8%\n",
      "File name: data/policy_www.3bmeteo.com.txt\n",
      "Cookie: 51\n",
      "Privacy: 21\n",
      "Cookie / privacy: 242.9%\n",
      "File name: data/policy_www.tuttojuve.com.txt\n",
      "Cookie: 4\n",
      "Privacy: 4\n",
      "Cookie / privacy: 100.0%\n",
      "File name: data/policy_weather.com.txt\n",
      "Cookie: 46\n",
      "Privacy: 81\n",
      "Cookie / privacy: 56.8%\n",
      "File name: data/policy_www.tuttomercatoweb.com.txt\n",
      "Cookie: 5\n",
      "Privacy: 5\n",
      "Cookie / privacy: 100.0%\n",
      "File name: data/policy_duckduckgo.com.txt\n",
      "Cookie: 6\n",
      "Privacy: 3\n",
      "Cookie / privacy: 200.0%\n",
      "File name: data/policy_www.fandom.com.txt\n",
      "Cookie: 8\n",
      "Privacy: 42\n",
      "Cookie / privacy: 19.0%\n",
      "File name: data/policy_asura.gg.txt\n",
      "Cookie: 11\n",
      "Privacy: 6\n",
      "Cookie / privacy: 183.3%\n",
      "File name: data/policy_www.tuttosport.com.txt\n",
      "Cookie: 54\n",
      "Privacy: 2\n",
      "Cookie / privacy: 2700.0%\n",
      "File name: data/policy_www.tiktok.com.txt\n",
      "Cookie: 34\n",
      "Privacy: 16\n",
      "Cookie / privacy: 212.5%\n",
      "File name: data/policy_www.mygpteam.com.txt\n",
      "Cookie: 2\n",
      "Privacy: 2\n",
      "Cookie / privacy: 100.0%\n",
      "File name: data/policy_www.fantacalcio.it.txt\n",
      "Cookie: 19\n",
      "Privacy: 99\n",
      "Cookie / privacy: 19.2%\n",
      "File name: data/policy_poste.it.txt\n",
      "Cookie: 4\n",
      "Privacy: 25\n",
      "Cookie / privacy: 16.0%\n",
      "File name: data/policy_multiplayer.it.txt\n",
      "Cookie: 37\n",
      "Privacy: 63\n",
      "Cookie / privacy: 58.7%\n",
      "File name: data/policy_www.reddit.com.txt\n",
      "Cookie: 15\n",
      "Privacy: 18\n",
      "Cookie / privacy: 83.3%\n",
      "File name: data/policy_www.lastampa.it.txt\n",
      "Cookie: 99\n",
      "Privacy: 10\n",
      "Cookie / privacy: 990.0%\n",
      "File name: data/policy_www.sky.it.txt\n",
      "Cookie: 198\n",
      "Privacy: 5\n",
      "Cookie / privacy: 3960.0%\n",
      "File name: data/policy_www.fanpage.it.txt\n",
      "Cookie: 15\n",
      "Privacy: 69\n",
      "Cookie / privacy: 21.7%\n",
      "File name: data/policy_www.libero.it.txt\n",
      "Cookie: 29\n",
      "Privacy: 57\n",
      "Cookie / privacy: 50.9%\n",
      "File name: data/policy_www.bing.com.txt\n",
      "Cookie: 10\n",
      "Privacy: 25\n",
      "Cookie / privacy: 40.0%\n",
      "File name: data/policy_www.messinanelpallone.it.txt\n",
      "Cookie: 1\n",
      "Privacy: 1\n",
      "Cookie / privacy: 100.0%\n",
      "File name: data/policy_www.corrieredellosport.it.txt\n",
      "Cookie: 104\n",
      "Privacy: 5\n",
      "Cookie / privacy: 2080.0%\n",
      "File name: data/policy_airporthandling.eu.txt\n",
      "Cookie: 18\n",
      "Privacy: 2\n",
      "Cookie / privacy: 900.0%\n",
      "File name: data/policy_bitly.com.txt\n",
      "Cookie: 20\n",
      "Privacy: 27\n",
      "Cookie / privacy: 74.1%\n",
      "File name: data/policy_www.ilgiornale.it.txt\n",
      "Cookie: 0\n",
      "Privacy: 1\n",
      "Cookie / privacy: 0.0%\n",
      "File name: data/policy_www.booking.com.txt\n",
      "Cookie: 58\n",
      "Privacy: 24\n",
      "Cookie / privacy: 241.7%\n",
      "File name: data/policy_www.ilmessaggero.it.txt\n",
      "Cookie: 201\n",
      "Privacy: 252\n",
      "Cookie / privacy: 79.8%\n",
      "File name: data/policy_www.ebay.it.txt\n",
      "Cookie: 57\n",
      "Privacy: 71\n",
      "Cookie / privacy: 80.3%\n",
      "File name: data/policy_www.ilpost.it.txt\n",
      "Cookie: 1\n",
      "Privacy: 4\n",
      "Cookie / privacy: 25.0%\n",
      "File name: data/policy_www.tuttonapoli.net.txt\n",
      "Cookie: 4\n",
      "Privacy: 4\n",
      "Cookie / privacy: 100.0%\n",
      "File name: data/policy_www.my-personaltrainer.it.txt\n",
      "Cookie: 0\n",
      "Privacy: 7\n",
      "Cookie / privacy: 0.0%\n",
      "File name: data/policy_chaturbate.com.txt\n",
      "Cookie: 24\n",
      "Privacy: 12\n",
      "Cookie / privacy: 200.0%\n",
      "File name: data/policy_www.ilsole24ore.com.txt\n",
      "Cookie: 28\n",
      "Privacy: 3\n",
      "Cookie / privacy: 933.3%\n",
      "File name: data/policy_www.giallozafferano.it.txt\n",
      "Cookie: 0\n",
      "Privacy: 7\n",
      "Cookie / privacy: 0.0%\n",
      "File name: data/policy_www.twitch.tv.txt\n",
      "Cookie: 37\n",
      "Privacy: 2\n",
      "Cookie / privacy: 1850.0%\n",
      "File name: data/policy_www.immobiliare.it.txt\n",
      "Cookie: 4\n",
      "Privacy: 4\n",
      "Cookie / privacy: 100.0%\n",
      "File name: data/policy_diretta.it.txt\n",
      "Cookie: 8\n",
      "Privacy: 1\n",
      "Cookie / privacy: 800.0%\n",
      "File name: data/policy_www.liberoquotidiano.it.txt\n",
      "Cookie: 50\n",
      "Privacy: 1\n",
      "Cookie / privacy: 5000.0%\n",
      "File name: data/policy_www.whatsapp.com.txt\n",
      "Cookie: 9\n",
      "Privacy: 0\n",
      "Cookie / privacy: inf%\n",
      "File name: data/policy_www.virgilio.it.txt\n",
      "Cookie: 501\n",
      "Privacy: 4\n",
      "Cookie / privacy: 12525.0%\n",
      "File name: data/policy_www.fcinternews.it.txt\n",
      "Cookie: 1\n",
      "Privacy: 1\n",
      "Cookie / privacy: 100.0%\n",
      "File name: data/policy_onlyfans.com.txt\n",
      "Cookie: 4\n",
      "Privacy: 51\n",
      "Cookie / privacy: 7.8%\n",
      "File name: data/policy_www.bankier.pl.txt\n",
      "Cookie: 7\n",
      "Privacy: 0\n",
      "Cookie / privacy: inf%\n",
      "File name: data/policy_spunteblu.it.txt\n",
      "Cookie: 288\n",
      "Privacy: 685\n",
      "Cookie / privacy: 42.0%\n",
      "File name: data/policy_outlook.live.com.txt\n",
      "Cookie: 73\n",
      "Privacy: 137\n",
      "Cookie / privacy: 53.3%\n",
      "File name: data/policy_consent.yahoo.com.txt\n",
      "Cookie: 6\n",
      "Privacy: 24\n",
      "Cookie / privacy: 25.0%\n",
      "File name: data/policy_famiboards.com.txt\n",
      "Cookie: 7\n",
      "Privacy: 14\n",
      "Cookie / privacy: 50.0%\n",
      "File name: data/policy_www.hibasport.com.txt\n",
      "Cookie: 1\n",
      "Privacy: 0\n",
      "Cookie / privacy: inf%\n",
      "File name: data/policy_silverprice.org.txt\n",
      "Cookie: 18\n",
      "Privacy: 23\n",
      "Cookie / privacy: 78.3%\n",
      "File name: data/policy_www.netsdaily.com.txt\n",
      "Cookie: 65\n",
      "Privacy: 14\n",
      "Cookie / privacy: 464.3%\n",
      "File name: data/policy_www.aranzulla.it:443.txt\n",
      "Cookie: 2\n",
      "Privacy: 5\n",
      "Cookie / privacy: 40.0%\n",
      "File name: data/policy_telegram.org.txt\n",
      "Cookie: 6\n",
      "Privacy: 22\n",
      "Cookie / privacy: 27.3%\n",
      "File name: data/policy_www.milannews.it.txt\n",
      "Cookie: 4\n",
      "Privacy: 4\n",
      "Cookie / privacy: 100.0%\n",
      "File name: data/policy_www.rainews.it.txt\n",
      "Cookie: 1\n",
      "Privacy: 1\n",
      "Cookie / privacy: 100.0%\n",
      "File name: data/policy_www.germancarforum.com.txt\n",
      "Cookie: 28\n",
      "Privacy: 9\n",
      "Cookie / privacy: 311.1%\n",
      "File name: data/policy_toonily.com.txt\n",
      "Cookie: 4\n",
      "Privacy: 4\n",
      "Cookie / privacy: 100.0%\n",
      "File name: data/policy_www.ilgazzettino.it.txt\n",
      "Cookie: 192\n",
      "Privacy: 231\n",
      "Cookie / privacy: 83.1%\n",
      "File name: data/policy_freenem.com.txt\n",
      "Cookie: 0\n",
      "Privacy: 0\n",
      "Cookie / privacy: 100%\n",
      "File name: data/policy_formulapassion.it.txt\n",
      "Cookie: 51\n",
      "Privacy: 28\n",
      "Cookie / privacy: 182.1%\n",
      "File name: data/policy_www.treccani.it.txt\n",
      "Cookie: 25\n",
      "Privacy: 0\n",
      "Cookie / privacy: inf%\n",
      "File name: data/policy_www.dailyfx.com.txt\n",
      "Cookie: 8\n",
      "Privacy: 40\n",
      "Cookie / privacy: 20.0%\n",
      "File name: data/policy_www.iliad.it.txt\n",
      "Cookie: 1\n",
      "Privacy: 9\n",
      "Cookie / privacy: 11.1%\n",
      "File name: data/policy_kahoot.it.txt\n",
      "Cookie: 4\n",
      "Privacy: 30\n",
      "Cookie / privacy: 13.3%\n",
      "File name: data/policy_www.paypal.com.txt\n",
      "Cookie: 18\n",
      "Privacy: 26\n",
      "Cookie / privacy: 69.2%\n",
      "File name: data/policy_www.subito.it.txt\n",
      "Cookie: 41\n",
      "Privacy: 12\n",
      "Cookie / privacy: 341.7%\n",
      "File name: data/policy_www.ilmeteo.it.txt\n",
      "Cookie: 21\n",
      "Privacy: 2\n",
      "Cookie / privacy: 1050.0%\n",
      "File name: data/policy_www.microsoft.com.txt\n",
      "Cookie: 73\n",
      "Privacy: 137\n",
      "Cookie / privacy: 53.3%\n",
      "File name: data/policy_www.register.it.txt\n",
      "Cookie: 38\n",
      "Privacy: 15\n",
      "Cookie / privacy: 253.3%\n",
      "File name: data/policy_www.aruba.it.txt\n",
      "Cookie: 0\n",
      "Privacy: 0\n",
      "Cookie / privacy: 100%\n",
      "File name: data/policy_www.autoscout24.it.txt\n",
      "Cookie: 70\n",
      "Privacy: 37\n",
      "Cookie / privacy: 189.2%\n",
      "File name: data/policy_www.tim.it.txt\n",
      "Cookie: 2\n",
      "Privacy: 1\n",
      "Cookie / privacy: 200.0%\n",
      "File name: data/policy_www.eprice.it.txt\n",
      "Cookie: 2\n",
      "Privacy: 7\n",
      "Cookie / privacy: 28.6%\n",
      "File name: data/policy_www.tiscali.it.txt\n",
      "Cookie: 0\n",
      "Privacy: 5\n",
      "Cookie / privacy: 0.0%\n",
      "File name: data/policy_www.paginegialle.it.txt\n",
      "Cookie: 5\n",
      "Privacy: 5\n",
      "Cookie / privacy: 100.0%\n",
      "File name: data/policy_www.ibs.it.txt\n",
      "Cookie: 0\n",
      "Privacy: 0\n",
      "Cookie / privacy: 100%\n",
      "File name: data/policy_www.pinterest.it.txt\n",
      "Cookie: 11\n",
      "Privacy: 5\n",
      "Cookie / privacy: 220.0%\n",
      "File name: data/policy_www.moto.it.txt\n",
      "Cookie: 0\n",
      "Privacy: 4\n",
      "Cookie / privacy: 0.0%\n",
      "File name: data/policy_www.scoop.it.txt\n",
      "Cookie: 46\n",
      "Privacy: 50\n",
      "Cookie / privacy: 92.0%\n",
      "File name: data/policy_forumfree.it.txt\n",
      "Cookie: 5\n",
      "Privacy: 12\n",
      "Cookie / privacy: 41.7%\n",
      "File name: data/policy_www.html.it.txt\n",
      "Cookie: 2\n",
      "Privacy: 6\n",
      "Cookie / privacy: 33.3%\n",
      "File name: data/policy_www.snai.it.txt\n",
      "Cookie: 65\n",
      "Privacy: 5\n",
      "Cookie / privacy: 1300.0%\n",
      "File name: data/policy_www.quattroruote.it.txt\n",
      "Cookie: 0\n",
      "Privacy: 2\n",
      "Cookie / privacy: 0.0%\n",
      "File name: data/policy_www.ilmattino.it.txt\n",
      "Cookie: 5\n",
      "Privacy: 1\n",
      "Cookie / privacy: 500.0%\n",
      "File name: data/policy_www.cnr.it.txt\n",
      "Cookie: 16\n",
      "Privacy: 7\n",
      "Cookie / privacy: 228.6%\n",
      "File name: data/policy_www.groupon.it.txt\n",
      "Cookie: 1\n",
      "Privacy: 19\n",
      "Cookie / privacy: 5.3%\n",
      "File name: data/policy_www.rai.it.txt\n",
      "Cookie: 0\n",
      "Privacy: 1\n",
      "Cookie / privacy: 0.0%\n",
      "File name: data/policy_www.raiplay.it.txt\n",
      "Cookie: 15\n",
      "Privacy: 2\n",
      "Cookie / privacy: 750.0%\n",
      "File name: data/policy_www.leggo.it.txt\n",
      "Cookie: 193\n",
      "Privacy: 233\n",
      "Cookie / privacy: 82.8%\n",
      "File name: data/policy_www.brt.it.txt\n",
      "Cookie: 2\n",
      "Privacy: 2\n",
      "Cookie / privacy: 100.0%\n",
      "File name: data/policy_www.meteo.it.txt\n",
      "Cookie: 4\n",
      "Privacy: 11\n",
      "Cookie / privacy: 36.4%\n",
      "File name: data/policy_agenziaentrate.gov.it.txt\n",
      "Cookie: 17\n",
      "Privacy: 4\n",
      "Cookie / privacy: 425.0%\n",
      "File name: data/policy_www.vanityfair.it.txt\n",
      "Cookie: 12\n",
      "Privacy: 3\n",
      "Cookie / privacy: 400.0%\n",
      "File name: data/policy_www.sda.it.txt\n",
      "Cookie: 2\n",
      "Privacy: 4\n",
      "Cookie / privacy: 50.0%\n",
      "File name: data/policy_www.italia.it.txt\n",
      "Cookie: 2\n",
      "Privacy: 3\n",
      "Cookie / privacy: 66.7%\n",
      "File name: data/policy_www.borsaitaliana.it.txt\n",
      "Cookie: 1\n",
      "Privacy: 1\n",
      "Cookie / privacy: 100.0%\n",
      "File name: data/policy_www.fastweb.it.txt\n",
      "Cookie: 0\n",
      "Privacy: 0\n",
      "Cookie / privacy: 100%\n",
      "File name: data/policy_www.italotreno.it.txt\n",
      "Cookie: 0\n",
      "Privacy: 1\n",
      "Cookie / privacy: 0.0%\n",
      "File name: data/policy_quifinanza.it.txt\n",
      "Cookie: 7\n",
      "Privacy: 3\n",
      "Cookie / privacy: 233.3%\n",
      "File name: data/policy_www.esteri.it.txt\n",
      "Cookie: 27\n",
      "Privacy: 4\n",
      "Cookie / privacy: 675.0%\n",
      "File name: data/policy_www.unieuro.it.txt\n",
      "Cookie: 2\n",
      "Privacy: 9\n",
      "Cookie / privacy: 22.2%\n",
      "File name: data/policy_coggle.it.txt\n",
      "Cookie: 2\n",
      "Privacy: 1\n",
      "Cookie / privacy: 200.0%\n",
      "File name: data/policy_www.bakeca.it.txt\n",
      "Cookie: 5\n",
      "Privacy: 1\n",
      "Cookie / privacy: 500.0%\n",
      "File name: data/policy_justpaste.it.txt\n",
      "Cookie: 2\n",
      "Privacy: 4\n",
      "Cookie / privacy: 50.0%\n",
      "File name: data/policy_follow.it.txt\n",
      "Cookie: 28\n",
      "Privacy: 5\n",
      "Cookie / privacy: 560.0%\n",
      "File name: data/policy_www.lafeltrinelli.it.txt\n",
      "Cookie: 0\n",
      "Privacy: 2\n",
      "Cookie / privacy: 0.0%\n",
      "File name: data/policy_www.wired.it.txt\n",
      "Cookie: 12\n",
      "Privacy: 4\n",
      "Cookie / privacy: 300.0%\n",
      "File name: data/policy_www.today.it.txt\n",
      "Cookie: 74\n",
      "Privacy: 12\n",
      "Cookie / privacy: 616.7%\n",
      "File name: data/policy_www.la7.it.txt\n",
      "Cookie: 47\n",
      "Privacy: 13\n",
      "Cookie / privacy: 361.5%\n",
      "File name: data/policy_www.airbnb.it.txt\n",
      "Cookie: 3\n",
      "Privacy: 23\n",
      "Cookie / privacy: 13.0%\n",
      "File name: data/policy_www.money.it.txt\n",
      "Cookie: 11\n",
      "Privacy: 45\n",
      "Cookie / privacy: 24.4%\n",
      "File name: data/policy_www.ilrestodelcarlino.it.txt\n",
      "Cookie: 4\n",
      "Privacy: 4\n",
      "Cookie / privacy: 100.0%\n",
      "File name: data/policy_dilei.it.txt\n",
      "Cookie: 7\n",
      "Privacy: 3\n",
      "Cookie / privacy: 233.3%\n",
      "File name: data/policy_www.euronics.it.txt\n",
      "Cookie: 6\n",
      "Privacy: 11\n",
      "Cookie / privacy: 54.5%\n",
      "File name: data/policy_www.laleggepertutti.it.txt\n",
      "Cookie: 3\n",
      "Privacy: 1\n",
      "Cookie / privacy: 300.0%\n",
      "File name: data/policy_www.medicitalia.it.txt\n",
      "Cookie: 23\n",
      "Privacy: 6\n",
      "Cookie / privacy: 383.3%\n",
      "File name: data/policy_www.tomshw.it.txt\n",
      "Cookie: 58\n",
      "Privacy: 4\n",
      "Cookie / privacy: 1450.0%\n",
      "File name: data/policy_www.lanazione.it.txt\n",
      "Cookie: 4\n",
      "Privacy: 4\n",
      "Cookie / privacy: 100.0%\n",
      "File name: data/policy_www.expedia.it.txt\n",
      "Cookie: 0\n",
      "Privacy: 2\n",
      "Cookie / privacy: 0.0%\n",
      "File name: data/policy_www.studenti.it.txt\n",
      "Cookie: 0\n",
      "Privacy: 7\n",
      "Cookie / privacy: 0.0%\n",
      "File name: data/policy_www.nexi.it.txt\n",
      "Cookie: 1\n",
      "Privacy: 6\n",
      "Cookie / privacy: 16.7%\n",
      "File name: data/policy_www.mondadoristore.it.txt\n",
      "Cookie: 0\n",
      "Privacy: 6\n",
      "Cookie / privacy: 0.0%\n",
      "File name: data/policy_www.windtre.it.txt\n",
      "Cookie: 41\n",
      "Privacy: 23\n",
      "Cookie / privacy: 178.3%\n",
      "File name: data/policy_www.bancaditalia.it.txt\n",
      "Cookie: 18\n",
      "Privacy: 4\n",
      "Cookie / privacy: 450.0%\n",
      "File name: data/policy_www.paginebianche.it.txt\n",
      "Cookie: 0\n",
      "Privacy: 3\n",
      "Cookie / privacy: 0.0%\n",
      "File name: data/policy_www.teleborsa.it.txt\n",
      "Cookie: 0\n",
      "Privacy: 0\n",
      "Cookie / privacy: 100%\n",
      "File name: data/policy_polimi.it.txt\n",
      "Cookie: 0\n",
      "Privacy: 2\n",
      "Cookie / privacy: 0.0%\n",
      "File name: data/policy_www.huffingtonpost.it.txt\n",
      "Cookie: 99\n",
      "Privacy: 10\n",
      "Cookie / privacy: 990.0%\n",
      "File name: data/policy_www.iodonna.it.txt\n",
      "Cookie: 1\n",
      "Privacy: 3\n",
      "Cookie / privacy: 33.3%\n",
      "File name: data/policy_www.inps.it.txt\n",
      "Cookie: 7\n",
      "Privacy: 3\n",
      "Cookie / privacy: 233.3%\n",
      "File name: data/policy_www.orizzontescuola.it.txt\n",
      "Cookie: 12\n",
      "Privacy: 1\n",
      "Cookie / privacy: 1200.0%\n",
      "File name: data/policy_www.ilgiorno.it.txt\n",
      "Cookie: 4\n",
      "Privacy: 4\n",
      "Cookie / privacy: 100.0%\n",
      "File name: data/policy_www.infocert.it.txt\n",
      "Cookie: 1\n",
      "Privacy: 5\n",
      "Cookie / privacy: 20.0%\n",
      "File name: data/policy_www.unionesarda.it.txt\n",
      "Cookie: 3\n",
      "Privacy: 2\n",
      "Cookie / privacy: 150.0%\n",
      "File name: data/policy_www.brocardi.it.txt\n",
      "Cookie: 1\n",
      "Privacy: 4\n",
      "Cookie / privacy: 25.0%\n",
      "File name: data/policy_www.unipd.it.txt\n",
      "Cookie: 1\n",
      "Privacy: 4\n",
      "Cookie / privacy: 25.0%\n",
      "File name: data/policy_www.polito.it.txt\n",
      "Cookie: 1\n",
      "Privacy: 3\n",
      "Cookie / privacy: 33.3%\n",
      "File name: data/policy_www.oggi.it.txt\n",
      "Cookie: 50\n",
      "Privacy: 14\n",
      "Cookie / privacy: 357.1%\n",
      "File name: data/policy_www.alvolante.it.txt\n",
      "Cookie: 1\n",
      "Privacy: 6\n",
      "Cookie / privacy: 16.7%\n",
      "File name: data/policy_hwupgrade.it.txt\n",
      "Cookie: 95\n",
      "Privacy: 8\n",
      "Cookie / privacy: 1187.5%\n",
      "File name: data/policy_www.ilfoglio.it.txt\n",
      "Cookie: 0\n",
      "Privacy: 8\n",
      "Cookie / privacy: 0.0%\n",
      "File name: data/policy_www.iltempo.it.txt\n",
      "Cookie: 49\n",
      "Privacy: 1\n",
      "Cookie / privacy: 4900.0%\n",
      "File name: data/policy_movieplayer.it.txt\n",
      "Cookie: 30\n",
      "Privacy: 51\n",
      "Cookie / privacy: 58.8%\n",
      "File name: data/policy_www.vogue.it.txt\n",
      "Cookie: 12\n",
      "Privacy: 3\n",
      "Cookie / privacy: 400.0%\n",
      "File name: data/policy_www.linkiesta.it.txt\n",
      "Cookie: 3\n",
      "Privacy: 6\n",
      "Cookie / privacy: 50.0%\n",
      "File name: data/policy_www.romatoday.it.txt\n",
      "Cookie: 74\n",
      "Privacy: 12\n",
      "Cookie / privacy: 616.7%\n",
      "File name: data/policy_www.thewom.it.txt\n",
      "Cookie: 0\n",
      "Privacy: 7\n",
      "Cookie / privacy: 0.0%\n",
      "File name: data/policy_www.eurobet.it.txt\n",
      "Cookie: 25\n",
      "Privacy: 5\n",
      "Cookie / privacy: 500.0%\n",
      "File name: data/policy_siviaggia.it.txt\n",
      "Cookie: 7\n",
      "Privacy: 3\n",
      "Cookie / privacy: 233.3%\n",
      "File name: data/policy_www.investireoggi.it.txt\n",
      "Cookie: 0\n",
      "Privacy: 1\n",
      "Cookie / privacy: 0.0%\n",
      "File name: data/policy_www.cybrary.it:443.txt\n",
      "Cookie: 5\n",
      "Privacy: 37\n",
      "Cookie / privacy: 13.5%\n",
      "File name: data/policy_www.inter.it.txt\n",
      "Cookie: 7\n",
      "Privacy: 4\n",
      "Cookie / privacy: 175.0%\n",
      "File name: data/policy_www.carrefour.it.txt\n",
      "Cookie: 67\n",
      "Privacy: 6\n",
      "Cookie / privacy: 1116.7%\n",
      "File name: data/policy_www.enel.it.txt\n",
      "Cookie: 4\n",
      "Privacy: 11\n",
      "Cookie / privacy: 36.4%\n",
      "File name: data/policy_www.greenme.it.txt\n",
      "Cookie: 12\n",
      "Privacy: 31\n",
      "Cookie / privacy: 38.7%\n"
     ]
    },
    {
     "name": "stdout",
     "output_type": "stream",
     "text": [
      "File name: data/policy_www.italiaonline.it.txt\n",
      "Cookie: 7\n",
      "Privacy: 5\n",
      "Cookie / privacy: 140.0%\n",
      "File name: data/policy_www.unimi.it.txt\n",
      "Cookie: 2\n",
      "Privacy: 1\n",
      "Cookie / privacy: 200.0%\n",
      "File name: data/policy_www.affaritaliani.it.txt\n",
      "Cookie: 1\n",
      "Privacy: 1\n",
      "Cookie / privacy: 100.0%\n",
      "File name: data/policy_www.unipi.it.txt\n",
      "Cookie: 10\n",
      "Privacy: 4\n",
      "Cookie / privacy: 250.0%\n",
      "File name: data/policy_www.notizie.it.txt\n",
      "Cookie: 17\n",
      "Privacy: 1\n",
      "Cookie / privacy: 1700.0%\n",
      "File name: data/policy_www.douglas.it.txt\n",
      "Cookie: 11\n",
      "Privacy: 7\n",
      "Cookie / privacy: 157.1%\n",
      "File name: data/policy_www.focus.it.txt\n",
      "Cookie: 0\n",
      "Privacy: 7\n",
      "Cookie / privacy: 0.0%\n",
      "File name: data/policy_www.milanotoday.it.txt\n",
      "Cookie: 74\n",
      "Privacy: 12\n",
      "Cookie / privacy: 616.7%\n",
      "File name: data/policy_www.unict.it.txt\n",
      "Cookie: 0\n",
      "Privacy: 6\n",
      "Cookie / privacy: 0.0%\n",
      "File name: data/policy_www.garr.it.txt\n",
      "Cookie: 2\n",
      "Privacy: 1\n",
      "Cookie / privacy: 200.0%\n",
      "File name: data/policy_www.varesenews.it.txt\n",
      "Cookie: 11\n",
      "Privacy: 45\n",
      "Cookie / privacy: 24.4%\n",
      "File name: data/policy_www.hoepli.it.txt\n",
      "Cookie: 75\n",
      "Privacy: 5\n",
      "Cookie / privacy: 1500.0%\n",
      "File name: data/policy_www.eolo.it.txt\n",
      "Cookie: 33\n",
      "Privacy: 3\n",
      "Cookie / privacy: 1100.0%\n",
      "File name: data/policy_www.pec.it.txt\n",
      "Cookie: 0\n",
      "Privacy: 0\n",
      "Cookie / privacy: 100%\n",
      "File name: data/policy_www.wikihow.it.txt\n",
      "Cookie: 33\n",
      "Privacy: 1\n",
      "Cookie / privacy: 3300.0%\n",
      "File name: data/policy_unige.it.txt\n",
      "Cookie: 1\n",
      "Privacy: 14\n",
      "Cookie / privacy: 7.1%\n",
      "File name: data/policy_www.autostrade.it.txt\n",
      "Cookie: 26\n",
      "Privacy: 32\n",
      "Cookie / privacy: 81.2%\n",
      "File name: data/policy_www.unilibro.it.txt\n",
      "Cookie: 51\n",
      "Privacy: 26\n",
      "Cookie / privacy: 196.2%\n",
      "File name: data/policy_www.pmi.it.txt\n",
      "Cookie: 0\n",
      "Privacy: 4\n",
      "Cookie / privacy: 0.0%\n",
      "File name: data/policy_home.infn.it.txt\n",
      "Cookie: 7\n",
      "Privacy: 3\n",
      "Cookie / privacy: 233.3%\n",
      "File name: data/policy_www.conad.it.txt\n",
      "Cookie: 7\n",
      "Privacy: 4\n",
      "Cookie / privacy: 175.0%\n",
      "File name: data/policy_business.aruba.it.txt\n",
      "Cookie: 0\n",
      "Privacy: 1\n",
      "Cookie / privacy: 0.0%\n",
      "File name: data/policy_www.agid.gov.it:443.txt\n",
      "Cookie: 0\n",
      "Privacy: 5\n",
      "Cookie / privacy: 0.0%\n",
      "File name: data/policy_www.trenitalia.com.txt\n",
      "Cookie: 4\n",
      "Privacy: 0\n",
      "Cookie / privacy: inf%\n",
      "File name: data/policy_www.eurosport.it:443.txt\n",
      "Cookie: 1\n",
      "Privacy: 4\n",
      "Cookie / privacy: 25.0%\n",
      "File name: data/policy_www.supereva.it.txt\n",
      "Cookie: 7\n",
      "Privacy: 3\n",
      "Cookie / privacy: 233.3%\n",
      "File name: data/policy_www.libraccio.it.txt\n",
      "Cookie: 0\n",
      "Privacy: 1\n",
      "Cookie / privacy: 0.0%\n",
      "File name: data/policy_www.cucchiaio.it.txt\n",
      "Cookie: 10\n",
      "Privacy: 1\n",
      "Cookie / privacy: 1000.0%\n",
      "File name: data/policy_www.ionos.it.txt\n",
      "Cookie: 21\n",
      "Privacy: 10\n",
      "Cookie / privacy: 210.0%\n",
      "File name: data/policy_www.intervieweb.it:443.txt\n",
      "Cookie: 12\n",
      "Privacy: 0\n",
      "Cookie / privacy: inf%\n",
      "File name: data/policy_www.internazionale.it.txt\n",
      "Cookie: 15\n",
      "Privacy: 3\n",
      "Cookie / privacy: 500.0%\n",
      "File name: data/policy_monclick.it.txt\n",
      "Cookie: 7\n",
      "Privacy: 19\n",
      "Cookie / privacy: 36.8%\n",
      "File name: data/policy_tnt.it.txt\n",
      "Cookie: 8\n",
      "Privacy: 6\n",
      "Cookie / privacy: 133.3%\n",
      "File name: data/policy_www.informazionefiscale.it.txt\n",
      "Cookie: 11\n",
      "Privacy: 35\n",
      "Cookie / privacy: 31.4%\n",
      "File name: data/policy_www.unifi.it.txt\n",
      "Cookie: 15\n",
      "Privacy: 3\n",
      "Cookie / privacy: 500.0%\n",
      "File name: data/policy_livesicilia.it.txt\n",
      "Cookie: 0\n",
      "Privacy: 9\n",
      "Cookie / privacy: 0.0%\n",
      "File name: data/policy_www.agi.it.txt\n",
      "Cookie: 3\n",
      "Privacy: 3\n",
      "Cookie / privacy: 100.0%\n",
      "File name: data/policy_www.audible.it.txt\n",
      "Cookie: 12\n",
      "Privacy: 21\n",
      "Cookie / privacy: 57.1%\n",
      "File name: data/policy_www.deejay.it.txt\n",
      "Cookie: 99\n",
      "Privacy: 10\n",
      "Cookie / privacy: 990.0%\n",
      "File name: data/policy_www.skyscanner.it.txt\n",
      "Cookie: 74\n",
      "Privacy: 26\n",
      "Cookie / privacy: 284.6%\n",
      "File name: data/policy_www.angolotesti.it.txt\n",
      "Cookie: 18\n",
      "Privacy: 18\n",
      "Cookie / privacy: 100.0%\n",
      "File name: data/policy_www.nostrofiglio.it.txt\n",
      "Cookie: 0\n",
      "Privacy: 7\n",
      "Cookie / privacy: 0.0%\n",
      "File name: data/policy_www.lacucinaitaliana.it.txt\n",
      "Cookie: 12\n",
      "Privacy: 3\n",
      "Cookie / privacy: 400.0%\n",
      "File name: data/policy_www.ilsecoloxix.it.txt\n",
      "Cookie: 99\n",
      "Privacy: 10\n",
      "Cookie / privacy: 990.0%\n",
      "File name: data/policy_www.macrolibrarsi.it.txt\n",
      "Cookie: 8\n",
      "Privacy: 2\n",
      "Cookie / privacy: 400.0%\n",
      "File name: data/policy_www.nintendo.it.txt\n",
      "Cookie: 64\n",
      "Privacy: 11\n",
      "Cookie / privacy: 581.8%\n",
      "File name: data/policy_meglio.it.txt\n",
      "Cookie: 1\n",
      "Privacy: 5\n",
      "Cookie / privacy: 20.0%\n",
      "File name: data/policy_simplybook.me.txt\n",
      "Cookie: 6\n",
      "Privacy: 10\n",
      "Cookie / privacy: 60.0%\n",
      "File name: data/policy_www.beniculturali.it.txt\n",
      "Cookie: 8\n",
      "Privacy: 3\n",
      "Cookie / privacy: 266.7%\n",
      "File name: data/policy_www.ilriformista.it.txt\n",
      "Cookie: 13\n",
      "Privacy: 8\n",
      "Cookie / privacy: 162.5%\n",
      "File name: data/policy_www.motociclismo.it.txt\n",
      "Cookie: 1\n",
      "Privacy: 7\n",
      "Cookie / privacy: 14.3%\n",
      "File name: data/policy_www.intel.it.txt\n",
      "Cookie: 32\n",
      "Privacy: 3\n",
      "Cookie / privacy: 1066.7%\n",
      "File name: data/policy_www.napolitoday.it.txt\n",
      "Cookie: 74\n",
      "Privacy: 12\n",
      "Cookie / privacy: 616.7%\n",
      "File name: data/policy_www.diritto.it.txt\n",
      "Cookie: 2\n",
      "Privacy: 11\n",
      "Cookie / privacy: 18.2%\n",
      "File name: data/policy_www.email.it.txt\n",
      "Cookie: 0\n",
      "Privacy: 5\n",
      "Cookie / privacy: 0.0%\n",
      "File name: data/policy_www.frasicelebri.it.txt\n",
      "Cookie: 16\n",
      "Privacy: 5\n",
      "Cookie / privacy: 320.0%\n",
      "File name: data/policy_www.trivago.it.txt\n",
      "Cookie: 39\n",
      "Privacy: 12\n",
      "Cookie / privacy: 325.0%\n",
      "File name: data/policy_gazzettadelsud.it.txt\n",
      "Cookie: 37\n",
      "Privacy: 62\n",
      "Cookie / privacy: 59.7%\n",
      "File name: data/policy_www.palermotoday.it.txt\n",
      "Cookie: 74\n",
      "Privacy: 12\n",
      "Cookie / privacy: 616.7%\n",
      "File name: data/policy_www.cookist.it.txt\n",
      "Cookie: 15\n",
      "Privacy: 62\n",
      "Cookie / privacy: 24.2%\n",
      "File name: data/policy_www.automoto.it.txt\n",
      "Cookie: 0\n",
      "Privacy: 3\n",
      "Cookie / privacy: 0.0%\n",
      "File name: data/policy_gds.it.txt\n",
      "Cookie: 34\n",
      "Privacy: 59\n",
      "Cookie / privacy: 57.6%\n",
      "File name: data/policy_www.governo.it.txt\n",
      "Cookie: 9\n",
      "Privacy: 4\n",
      "Cookie / privacy: 225.0%\n",
      "File name: data/policy_www.tpi.it.txt\n",
      "Cookie: 25\n",
      "Privacy: 6\n",
      "Cookie / privacy: 416.7%\n",
      "File name: data/policy_www.stol.it.txt\n",
      "Cookie: 5\n",
      "Privacy: 0\n",
      "Cookie / privacy: inf%\n",
      "File name: data/policy_biografieonline.it.txt\n",
      "Cookie: 1\n",
      "Privacy: 1\n",
      "Cookie / privacy: 100.0%\n",
      "File name: data/policy_www.rollingstone.it.txt\n",
      "Cookie: 19\n",
      "Privacy: 8\n",
      "Cookie / privacy: 237.5%\n",
      "File name: data/policy_www.macitynet.it.txt\n",
      "Cookie: 61\n",
      "Privacy: 8\n",
      "Cookie / privacy: 762.5%\n",
      "File name: data/policy_www.tesionline.it.txt\n",
      "Cookie: 7\n",
      "Privacy: 7\n",
      "Cookie / privacy: 100.0%\n",
      "File name: data/policy_www.padovaoggi.it.txt\n",
      "Cookie: 74\n",
      "Privacy: 12\n",
      "Cookie / privacy: 616.7%\n",
      "File name: data/policy_www.gqitalia.it.txt\n",
      "Cookie: 12\n",
      "Privacy: 3\n",
      "Cookie / privacy: 400.0%\n",
      "File name: data/policy_www.spaziogames.it.txt\n",
      "Cookie: 58\n",
      "Privacy: 6\n",
      "Cookie / privacy: 966.7%\n",
      "File name: data/policy_www.edreams.it.txt\n",
      "Cookie: 53\n",
      "Privacy: 2\n",
      "Cookie / privacy: 2650.0%\n",
      "File name: data/policy_unica.it.txt\n",
      "Cookie: 5\n",
      "Privacy: 7\n",
      "Cookie / privacy: 71.4%\n",
      "File name: data/policy_www.abebooks.it.txt\n",
      "Cookie: 12\n",
      "Privacy: 14\n",
      "Cookie / privacy: 85.7%\n",
      "File name: data/policy_www.altroconsumo.it.txt\n",
      "Cookie: 1\n",
      "Privacy: 1\n",
      "Cookie / privacy: 100.0%\n",
      "File name: data/policy_www.cinematographe.it.txt\n",
      "Cookie: 68\n",
      "Privacy: 69\n",
      "Cookie / privacy: 98.6%\n",
      "File name: data/policy_www.unimib.it.txt\n",
      "Cookie: 3\n",
      "Privacy: 8\n",
      "Cookie / privacy: 37.5%\n",
      "File name: data/policy_www.pianetadonna.it.txt\n",
      "Cookie: 0\n",
      "Privacy: 1\n",
      "Cookie / privacy: 0.0%\n",
      "File name: data/policy_contactlab.com.txt\n",
      "Cookie: 13\n",
      "Privacy: 6\n",
      "Cookie / privacy: 216.7%\n",
      "File name: data/policy_www.units.it.txt\n",
      "Cookie: 51\n",
      "Privacy: 4\n",
      "Cookie / privacy: 1275.0%\n",
      "File name: data/policy_www.fcinter1908.it.txt\n",
      "Cookie: 2\n",
      "Privacy: 4\n",
      "Cookie / privacy: 50.0%\n",
      "File name: data/policy_www.oraridiapertura24.it.txt\n",
      "Cookie: 0\n",
      "Privacy: 0\n",
      "Cookie / privacy: 100%\n",
      "File name: data/policy_www.unitn.it.txt\n",
      "Cookie: 5\n",
      "Privacy: 7\n",
      "Cookie / privacy: 71.4%\n",
      "File name: data/policy_www.edenred.it.txt\n",
      "Cookie: 85\n",
      "Privacy: 40\n",
      "Cookie / privacy: 212.5%\n",
      "File name: data/policy_www.sella.it.txt\n",
      "Cookie: 40\n",
      "Privacy: 0\n",
      "Cookie / privacy: inf%\n",
      "File name: data/policy_www.smartworld.it.txt\n",
      "Cookie: 0\n",
      "Privacy: 7\n",
      "Cookie / privacy: 0.0%\n",
      "File name: data/policy_www.panorama.it.txt\n",
      "Cookie: 70\n",
      "Privacy: 69\n",
      "Cookie / privacy: 101.4%\n",
      "File name: data/policy_unive.it.txt\n",
      "Cookie: 50\n",
      "Privacy: 3\n",
      "Cookie / privacy: 1666.7%\n",
      "File name: data/policy_www.trenord.it.txt\n",
      "Cookie: 2\n",
      "Privacy: 1\n",
      "Cookie / privacy: 200.0%\n",
      "File name: data/policy_www.superguidatv.it.txt\n",
      "Cookie: 0\n",
      "Privacy: 3\n",
      "Cookie / privacy: 0.0%\n",
      "File name: data/policy_www.corriereadriatico.it.txt\n",
      "Cookie: 192\n",
      "Privacy: 234\n",
      "Cookie / privacy: 82.1%\n",
      "File name: data/policy_www.calciomercato.it.txt\n",
      "Cookie: 36\n",
      "Privacy: 7\n",
      "Cookie / privacy: 514.3%\n",
      "File name: data/policy_www.uniba.it.txt\n",
      "Cookie: 0\n",
      "Privacy: 6\n",
      "Cookie / privacy: 0.0%\n",
      "File name: data/policy_gizchina.it.txt\n",
      "Cookie: 14\n",
      "Privacy: 59\n",
      "Cookie / privacy: 23.7%\n",
      "File name: data/policy_www.dday.it.txt\n",
      "Cookie: 1\n",
      "Privacy: 4\n",
      "Cookie / privacy: 25.0%\n",
      "File name: data/policy_www.bolognatoday.it.txt\n",
      "Cookie: 74\n",
      "Privacy: 12\n",
      "Cookie / privacy: 616.7%\n",
      "File name: data/policy_www.poliziadistato.it.txt\n",
      "Cookie: 0\n",
      "Privacy: 3\n",
      "Cookie / privacy: 0.0%\n",
      "File name: data/policy_www.punto-informatico.it.txt\n",
      "Cookie: 35\n",
      "Privacy: 4\n",
      "Cookie / privacy: 875.0%\n",
      "File name: data/policy_www.kayak.it.txt\n",
      "Cookie: 50\n",
      "Privacy: 15\n",
      "Cookie / privacy: 333.3%\n",
      "File name: data/policy_bnl.it.txt\n",
      "Cookie: 6\n",
      "Privacy: 21\n",
      "Cookie / privacy: 28.6%\n",
      "File name: data/policy_www.avvenire.it.txt\n",
      "Cookie: 24\n",
      "Privacy: 9\n",
      "Cookie / privacy: 266.7%\n",
      "File name: data/policy_www.lasicilia.it.txt\n",
      "Cookie: 0\n",
      "Privacy: 3\n",
      "Cookie / privacy: 0.0%\n",
      "File name: data/policy_www.teamworld.it.txt\n",
      "Cookie: 20\n",
      "Privacy: 6\n",
      "Cookie / privacy: 333.3%\n",
      "File name: data/policy_www.luiss.it.txt\n",
      "Cookie: 13\n",
      "Privacy: 2\n",
      "Cookie / privacy: 650.0%\n",
      "File name: data/policy_www.acea.it.txt\n",
      "Cookie: 0\n",
      "Privacy: 1\n",
      "Cookie / privacy: 0.0%\n",
      "File name: data/policy_www.vinted.it.txt\n",
      "Cookie: 85\n",
      "Privacy: 0\n",
      "Cookie / privacy: inf%\n",
      "File name: data/policy_www.gazzettaufficiale.it.txt\n",
      "Cookie: 7\n",
      "Privacy: 3\n",
      "Cookie / privacy: 233.3%\n",
      "File name: data/policy_www.eng.it.txt\n",
      "Cookie: 26\n",
      "Privacy: 1\n",
      "Cookie / privacy: 2600.0%\n",
      "File name: data/policy_www.unipr.it.txt\n",
      "Cookie: 1\n",
      "Privacy: 2\n",
      "Cookie / privacy: 50.0%\n",
      "File name: data/policy_www.cronachemaceratesi.it.txt\n",
      "Cookie: 4\n",
      "Privacy: 6\n",
      "Cookie / privacy: 66.7%\n",
      "File name: data/policy_www.rinascente.it:443.txt\n",
      "Cookie: 11\n",
      "Privacy: 8\n",
      "Cookie / privacy: 137.5%\n",
      "File name: data/policy_www.larena.it.txt\n",
      "Cookie: 6\n",
      "Privacy: 7\n",
      "Cookie / privacy: 85.7%\n",
      "File name: data/policy_www.amando.it.txt\n",
      "Cookie: 42\n",
      "Privacy: 30\n",
      "Cookie / privacy: 140.0%\n",
      "File name: data/policy_www.badtaste.it.txt\n",
      "Cookie: 2\n",
      "Privacy: 8\n",
      "Cookie / privacy: 25.0%\n",
      "File name: data/policy_www.nanopress.it.txt\n",
      "Cookie: 40\n",
      "Privacy: 8\n",
      "Cookie / privacy: 500.0%\n",
      "File name: data/policy_www.univpm.it.txt\n",
      "Cookie: 1\n",
      "Privacy: 0\n",
      "Cookie / privacy: inf%\n",
      "File name: data/policy_www.trovit.it.txt\n",
      "Cookie: 3\n",
      "Privacy: 23\n",
      "Cookie / privacy: 13.0%\n",
      "File name: data/policy_www.amica.it.txt\n",
      "Cookie: 49\n",
      "Privacy: 12\n",
      "Cookie / privacy: 408.3%\n",
      "File name: data/policy_shop.wki.it:443.txt\n",
      "Cookie: 3\n",
      "Privacy: 2\n",
      "Cookie / privacy: 150.0%\n",
      "File name: data/policy_www.tuttitalia.it.txt\n",
      "Cookie: 8\n",
      "Privacy: 3\n",
      "Cookie / privacy: 266.7%\n",
      "File name: data/policy_www.unisi.it.txt\n",
      "Cookie: 2\n",
      "Privacy: 1\n",
      "Cookie / privacy: 200.0%\n",
      "File name: data/policy_www.bresciatoday.it.txt\n",
      "Cookie: 74\n",
      "Privacy: 12\n",
      "Cookie / privacy: 616.7%\n",
      "File name: data/policy_www.lecceprima.it.txt\n",
      "Cookie: 74\n",
      "Privacy: 12\n",
      "Cookie / privacy: 616.7%\n",
      "File name: data/policy_www.promoqui.it.txt\n",
      "Cookie: 33\n",
      "Privacy: 40\n",
      "Cookie / privacy: 82.5%\n",
      "File name: data/policy_www.soldionline.it.txt\n",
      "Cookie: 0\n",
      "Privacy: 7\n",
      "Cookie / privacy: 0.0%\n",
      "File name: data/policy_blog.virgilio.it.txt\n",
      "Cookie: 7\n",
      "Privacy: 3\n",
      "Cookie / privacy: 233.3%\n",
      "File name: data/policy_www.raiplaysound.it.txt\n",
      "Cookie: 15\n",
      "Privacy: 2\n",
      "Cookie / privacy: 750.0%\n",
      "File name: data/policy_www.youmath.it.txt\n",
      "Cookie: 50\n",
      "Privacy: 23\n",
      "Cookie / privacy: 217.4%\n",
      "File name: data/policy_www.gamestop.it:443.txt\n",
      "Cookie: 13\n",
      "Privacy: 6\n",
      "Cookie / privacy: 216.7%\n",
      "File name: data/policy_www.uniud.it.txt\n",
      "Cookie: 1\n",
      "Privacy: 2\n",
      "Cookie / privacy: 50.0%\n",
      "File name: data/policy_www.foggiatoday.it.txt\n",
      "Cookie: 74\n",
      "Privacy: 12\n",
      "Cookie / privacy: 616.7%\n",
      "File name: data/policy_www.domusweb.it.txt\n",
      "Cookie: 0\n",
      "Privacy: 2\n",
      "Cookie / privacy: 0.0%\n",
      "File name: data/policy_www.tvblog.it.txt\n",
      "Cookie: 0\n",
      "Privacy: 4\n",
      "Cookie / privacy: 0.0%\n",
      "File name: data/policy_www.zooplus.it.txt\n",
      "Cookie: 17\n",
      "Privacy: 13\n",
      "Cookie / privacy: 130.8%\n",
      "File name: data/policy_www.rds.it.txt\n",
      "Cookie: 1\n",
      "Privacy: 4\n",
      "Cookie / privacy: 25.0%\n",
      "File name: data/policy_www.ipsoa.it.txt\n",
      "Cookie: 42\n",
      "Privacy: 2\n",
      "Cookie / privacy: 2100.0%\n",
      "File name: data/policy_www.adm.gov.it.txt\n",
      "Cookie: 22\n",
      "Privacy: 7\n",
      "Cookie / privacy: 314.3%\n",
      "File name: data/policy_www.cinefilos.it.txt\n",
      "Cookie: 44\n",
      "Privacy: 9\n",
      "Cookie / privacy: 488.9%\n",
      "File name: data/policy_www.eventbrite.it.txt\n",
      "Cookie: 3\n",
      "Privacy: 25\n",
      "Cookie / privacy: 12.0%\n",
      "File name: data/policy_www.davidemaggio.it.txt\n",
      "Cookie: 31\n",
      "Privacy: 0\n",
      "Cookie / privacy: inf%\n",
      "File name: data/policy_www.unipol.it.txt\n",
      "Cookie: 53\n",
      "Privacy: 2\n",
      "Cookie / privacy: 2650.0%\n",
      "File name: data/policy_www.buonissimo.it.txt\n",
      "Cookie: 7\n",
      "Privacy: 3\n",
      "Cookie / privacy: 233.3%\n",
      "File name: data/policy_www.accordiespartiti.it.txt\n",
      "Cookie: 4\n",
      "Privacy: 6\n",
      "Cookie / privacy: 66.7%\n",
      "File name: data/policy_www.agrodolce.it.txt\n",
      "Cookie: 0\n",
      "Privacy: 4\n",
      "Cookie / privacy: 0.0%\n",
      "File name: data/policy_web.unisa.it.txt\n",
      "Cookie: 0\n",
      "Privacy: 5\n",
      "Cookie / privacy: 0.0%\n",
      "File name: data/policy_www.finanze.it.txt\n",
      "Cookie: 7\n",
      "Privacy: 0\n",
      "Cookie / privacy: inf%\n",
      "File name: data/policy_www.bticino.it.txt\n",
      "Cookie: 11\n",
      "Privacy: 2\n",
      "Cookie / privacy: 550.0%\n",
      "File name: data/policy_www.centrometeoitaliano.it.txt\n",
      "Cookie: 40\n",
      "Privacy: 15\n",
      "Cookie / privacy: 266.7%\n",
      "File name: data/policy_www.torinotoday.it.txt\n",
      "Cookie: 74\n",
      "Privacy: 12\n",
      "Cookie / privacy: 616.7%\n",
      "File name: data/policy_www.segugio.it.txt\n",
      "Cookie: 2\n",
      "Privacy: 5\n",
      "Cookie / privacy: 40.0%\n",
      "File name: data/policy_www.mohd.it.txt\n",
      "Cookie: 1\n",
      "Privacy: 3\n",
      "Cookie / privacy: 33.3%\n",
      "File name: data/policy_www.ovs.it.txt\n",
      "Cookie: 73\n",
      "Privacy: 11\n",
      "Cookie / privacy: 663.6%\n",
      "File name: data/policy_www.tecnicadellascuola.it.txt\n",
      "Cookie: 8\n",
      "Privacy: 0\n",
      "Cookie / privacy: inf%\n",
      "File name: data/policy_www.forlitoday.it.txt\n",
      "Cookie: 74\n",
      "Privacy: 12\n",
      "Cookie / privacy: 616.7%\n",
      "File name: data/policy_www.starbene.it.txt\n",
      "Cookie: 0\n",
      "Privacy: 1\n",
      "Cookie / privacy: 0.0%\n",
      "File name: data/policy_arera.it.txt\n",
      "Cookie: 12\n",
      "Privacy: 4\n",
      "Cookie / privacy: 300.0%\n",
      "File name: data/policy_www.ecodibergamo.it.txt\n",
      "Cookie: 12\n",
      "Privacy: 10\n",
      "Cookie / privacy: 120.0%\n",
      "File name: data/policy_www.lottomatica.it.txt\n",
      "Cookie: 94\n",
      "Privacy: 1\n",
      "Cookie / privacy: 9400.0%\n",
      "File name: data/policy_www.doveconviene.it.txt\n",
      "Cookie: 11\n",
      "Privacy: 12\n",
      "Cookie / privacy: 91.7%\n",
      "File name: data/policy_www.posteitaliane.it.txt\n",
      "Cookie: 2\n",
      "Privacy: 0\n",
      "Cookie / privacy: inf%\n",
      "File name: data/policy_www.aci.it.txt\n",
      "Cookie: 23\n",
      "Privacy: 18\n",
      "Cookie / privacy: 127.8%\n",
      "File name: data/policy_clyp.it.txt\n",
      "Cookie: 7\n",
      "Privacy: 5\n",
      "Cookie / privacy: 140.0%\n",
      "File name: data/policy_www.gruppotim.it.txt\n",
      "Cookie: 0\n",
      "Privacy: 0\n",
      "Cookie / privacy: 100%\n",
      "File name: data/policy_www.agenziaentrate.gov.it.txt\n",
      "Cookie: 17\n",
      "Privacy: 4\n",
      "Cookie / privacy: 425.0%\n",
      "File name: data/policy_www.blogsicilia.it.txt\n",
      "Cookie: 0\n",
      "Privacy: 3\n",
      "Cookie / privacy: 0.0%\n",
      "File name: data/policy_libreriamo.it.txt\n",
      "Cookie: 1\n",
      "Privacy: 3\n",
      "Cookie / privacy: 33.3%\n",
      "File name: data/policy_www.lavoro.gov.it.txt\n",
      "Cookie: 0\n",
      "Privacy: 5\n",
      "Cookie / privacy: 0.0%\n",
      "File name: data/policy_www.secoloditalia.it.txt\n",
      "Cookie: 11\n",
      "Privacy: 5\n",
      "Cookie / privacy: 220.0%\n",
      "File name: data/policy_www.normattiva.it.txt\n",
      "Cookie: 40\n",
      "Privacy: 6\n",
      "Cookie / privacy: 666.7%\n",
      "File name: data/policy_www.camera.it.txt\n",
      "Cookie: 3\n",
      "Privacy: 4\n",
      "Cookie / privacy: 75.0%\n",
      "File name: data/policy_www.wittytv.it.txt\n",
      "Cookie: 1\n",
      "Privacy: 5\n",
      "Cookie / privacy: 20.0%\n",
      "File name: data/policy_www.sicurauto.it.txt\n",
      "Cookie: 14\n",
      "Privacy: 49\n",
      "Cookie / privacy: 28.6%\n",
      "File name: data/policy_www.ilnapolista.it.txt\n",
      "Cookie: 42\n",
      "Privacy: 66\n",
      "Cookie / privacy: 63.6%\n",
      "File name: data/policy_www.unimore.it.txt\n",
      "Cookie: 1\n",
      "Privacy: 8\n",
      "Cookie / privacy: 12.5%\n",
      "File name: data/policy_www.ing.it.txt\n",
      "Cookie: 147\n",
      "Privacy: 3\n",
      "Cookie / privacy: 4900.0%\n",
      "File name: data/policy_www.firenzetoday.it.txt\n",
      "Cookie: 74\n",
      "Privacy: 12\n",
      "Cookie / privacy: 616.7%\n",
      "File name: data/policy_www.genovatoday.it.txt\n",
      "Cookie: 74\n",
      "Privacy: 12\n",
      "Cookie / privacy: 616.7%\n",
      "File name: data/policy_www.fattoincasadabenedetta.it.txt\n",
      "Cookie: 19\n",
      "Privacy: 12\n",
      "Cookie / privacy: 158.3%\n",
      "File name: data/policy_www.avmagazine.it.txt\n",
      "Cookie: 32\n",
      "Privacy: 13\n",
      "Cookie / privacy: 246.2%\n",
      "File name: data/policy_www.cataniatoday.it.txt\n",
      "Cookie: 74\n",
      "Privacy: 12\n",
      "Cookie / privacy: 616.7%\n",
      "File name: data/policy_www.credit-agricole.it.txt\n",
      "Cookie: 2\n",
      "Privacy: 1\n",
      "Cookie / privacy: 200.0%\n",
      "File name: data/policy_www.wikicasa.it.txt\n",
      "Cookie: 1\n",
      "Privacy: 1\n",
      "Cookie / privacy: 100.0%\n",
      "File name: data/policy_www.androidworld.it.txt\n",
      "Cookie: 110\n",
      "Privacy: 64\n",
      "Cookie / privacy: 171.9%\n",
      "File name: data/policy_ildolomiti.it.txt\n",
      "Cookie: 11\n",
      "Privacy: 19\n",
      "Cookie / privacy: 57.9%\n",
      "File name: data/policy_www.rcsmediagroup.it.txt\n",
      "Cookie: 42\n",
      "Privacy: 12\n",
      "Cookie / privacy: 350.0%\n",
      "File name: data/policy_www.ohga.it.txt\n",
      "Cookie: 1\n",
      "Privacy: 6\n",
      "Cookie / privacy: 16.7%\n",
      "File name: data/policy_www.casertanews.it.txt\n",
      "Cookie: 74\n",
      "Privacy: 12\n",
      "Cookie / privacy: 616.7%\n",
      "File name: data/policy_www.dire.it.txt\n",
      "Cookie: 1\n",
      "Privacy: 4\n",
      "Cookie / privacy: 25.0%\n",
      "File name: data/policy_www.gossip.it.txt\n",
      "Cookie: 11\n",
      "Privacy: 5\n",
      "Cookie / privacy: 220.0%\n",
      "File name: data/policy_www.rtl.it.txt\n",
      "Cookie: 1\n",
      "Privacy: 5\n",
      "Cookie / privacy: 20.0%\n",
      "File name: data/policy_www.unical.it.txt\n",
      "Cookie: 3\n",
      "Privacy: 6\n",
      "Cookie / privacy: 50.0%\n",
      "File name: data/policy_www.bancobpm.it.txt\n",
      "Cookie: 37\n",
      "Privacy: 3\n",
      "Cookie / privacy: 1233.3%\n",
      "File name: data/policy_savee.it.txt\n",
      "Cookie: 4\n",
      "Privacy: 6\n",
      "Cookie / privacy: 66.7%\n",
      "File name: data/policy_www.humanitas.it.txt\n",
      "Cookie: 104\n",
      "Privacy: 1\n",
      "Cookie / privacy: 10400.0%\n",
      "File name: data/policy_www.asianews.it.txt\n",
      "Cookie: 1\n",
      "Privacy: 1\n",
      "Cookie / privacy: 100.0%\n",
      "File name: data/policy_www.inail.it.txt\n",
      "Cookie: 2\n",
      "Privacy: 1\n",
      "Cookie / privacy: 200.0%\n",
      "File name: data/policy_www.marieclaire.it.txt\n",
      "Cookie: 22\n",
      "Privacy: 31\n",
      "Cookie / privacy: 71.0%\n",
      "File name: data/policy_www.gettyimages.it.txt\n",
      "Cookie: 26\n",
      "Privacy: 38\n",
      "Cookie / privacy: 68.4%\n",
      "File name: data/policy_www.zanichelli.it.txt\n",
      "Cookie: 27\n",
      "Privacy: 17\n",
      "Cookie / privacy: 158.8%\n",
      "File name: data/policy_www.unipg.it.txt\n",
      "Cookie: 5\n",
      "Privacy: 0\n",
      "Cookie / privacy: inf%\n",
      "File name: data/policy_www.lookfantastic.it.txt\n",
      "Cookie: 9\n",
      "Privacy: 6\n",
      "Cookie / privacy: 150.0%\n",
      "File name: data/policy_www.iss.it.txt\n",
      "Cookie: 0\n",
      "Privacy: 9\n",
      "Cookie / privacy: 0.0%\n",
      "File name: data/policy_www.tvserial.it.txt\n",
      "Cookie: 46\n",
      "Privacy: 5\n",
      "Cookie / privacy: 920.0%\n",
      "File name: data/policy_www.dueruote.it.txt\n",
      "Cookie: 0\n",
      "Privacy: 2\n",
      "Cookie / privacy: 0.0%\n",
      "File name: data/policy_www.sportface.it.txt\n",
      "Cookie: 37\n",
      "Privacy: 2\n",
      "Cookie / privacy: 1850.0%\n",
      "File name: data/policy_credem.it.txt\n",
      "Cookie: 12\n",
      "Privacy: 8\n",
      "Cookie / privacy: 150.0%\n",
      "File name: data/policy_fumettologica.it.txt\n",
      "Cookie: 9\n",
      "Privacy: 8\n",
      "Cookie / privacy: 112.5%\n",
      "File name: data/policy_www.ladige.it.txt\n",
      "Cookie: 3\n",
      "Privacy: 3\n",
      "Cookie / privacy: 100.0%\n",
      "File name: data/policy_www.eni.com.txt\n",
      "Cookie: 0\n",
      "Privacy: 1\n",
      "Cookie / privacy: 0.0%\n",
      "File name: data/policy_www.tuttogreen.it.txt\n",
      "Cookie: 10\n",
      "Privacy: 7\n",
      "Cookie / privacy: 142.9%\n",
      "File name: data/policy_www.registroimprese.it.txt\n",
      "Cookie: 23\n",
      "Privacy: 1\n",
      "Cookie / privacy: 2300.0%\n",
      "File name: data/policy_www.williamhill.it.txt\n",
      "Cookie: 5\n",
      "Privacy: 13\n",
      "Cookie / privacy: 38.5%\n"
     ]
    },
    {
     "name": "stdout",
     "output_type": "stream",
     "text": [
      "File name: data/policy_www.unisalento.it.txt\n",
      "Cookie: 20\n",
      "Privacy: 8\n",
      "Cookie / privacy: 250.0%\n",
      "File name: data/policy_cultura.gov.it.txt\n",
      "Cookie: 8\n",
      "Privacy: 3\n",
      "Cookie / privacy: 266.7%\n",
      "File name: data/policy_www.businessonline.it.txt\n",
      "Cookie: 18\n",
      "Privacy: 48\n",
      "Cookie / privacy: 37.5%\n",
      "File name: data/policy_www.spid.gov.it.txt\n",
      "Cookie: 0\n",
      "Privacy: 5\n",
      "Cookie / privacy: 0.0%\n",
      "File name: data/policy_www.lidl.it.txt\n",
      "Cookie: 25\n",
      "Privacy: 5\n",
      "Cookie / privacy: 500.0%\n",
      "File name: data/policy_www.miodottore.it.txt\n",
      "Cookie: 0\n",
      "Privacy: 1\n",
      "Cookie / privacy: 0.0%\n",
      "File name: data/policy_www.cure-naturali.it.txt\n",
      "Cookie: 3\n",
      "Privacy: 8\n",
      "Cookie / privacy: 37.5%\n",
      "File name: data/policy_fip.it.txt\n",
      "Cookie: 51\n",
      "Privacy: 1\n",
      "Cookie / privacy: 5100.0%\n",
      "File name: data/policy_www.lalaziosiamonoi.it.txt\n",
      "Cookie: 4\n",
      "Privacy: 4\n",
      "Cookie / privacy: 100.0%\n",
      "File name: data/policy_www.randstad.it.txt\n",
      "Cookie: 0\n",
      "Privacy: 4\n",
      "Cookie / privacy: 0.0%\n",
      "File name: data/policy_www.editorialedomani.it.txt\n",
      "Cookie: 28\n",
      "Privacy: 3\n",
      "Cookie / privacy: 933.3%\n",
      "File name: data/policy_www.quotidianosanita.it.txt\n",
      "Cookie: 14\n",
      "Privacy: 3\n",
      "Cookie / privacy: 466.7%\n",
      "File name: data/policy_www.donnaglamour.it.txt\n",
      "Cookie: 1\n",
      "Privacy: 3\n",
      "Cookie / privacy: 33.3%\n",
      "File name: data/policy_vesuviolive.it.txt\n",
      "Cookie: 103\n",
      "Privacy: 13\n",
      "Cookie / privacy: 792.3%\n",
      "File name: data/policy_finecobank.com.txt\n",
      "Cookie: 3\n",
      "Privacy: 3\n",
      "Cookie / privacy: 100.0%\n",
      "File name: data/policy_senato.it.txt\n",
      "Cookie: 14\n",
      "Privacy: 5\n",
      "Cookie / privacy: 280.0%\n",
      "File name: data/policy_www.bergamonews.it.txt\n",
      "Cookie: 27\n",
      "Privacy: 27\n",
      "Cookie / privacy: 100.0%\n",
      "File name: data/policy_oggitreviso.it.txt\n",
      "Cookie: 25\n",
      "Privacy: 3\n",
      "Cookie / privacy: 833.3%\n",
      "File name: data/policy_www.neosair.it.txt\n",
      "Cookie: 0\n",
      "Privacy: 2\n",
      "Cookie / privacy: 0.0%\n",
      "File name: data/policy_gse.it.txt\n",
      "Cookie: 3\n",
      "Privacy: 4\n",
      "Cookie / privacy: 75.0%\n",
      "File name: data/policy_www.sissa.it.txt\n",
      "Cookie: 51\n",
      "Privacy: 5\n",
      "Cookie / privacy: 1020.0%\n",
      "File name: data/policy_www.lanuovasardegna.it:443.txt\n",
      "Cookie: 7\n",
      "Privacy: 21\n",
      "Cookie / privacy: 33.3%\n",
      "File name: data/policy_www.giornaledibrescia.it.txt\n",
      "Cookie: 19\n",
      "Privacy: 7\n",
      "Cookie / privacy: 271.4%\n",
      "File name: data/policy_www.baritoday.it.txt\n",
      "Cookie: 74\n",
      "Privacy: 12\n",
      "Cookie / privacy: 616.7%\n",
      "File name: data/policy_sports.bwin.it.txt\n",
      "Cookie: 53\n",
      "Privacy: 4\n",
      "Cookie / privacy: 1325.0%\n",
      "File name: data/policy_www.spartoo.it.txt\n",
      "Cookie: 8\n",
      "Privacy: 0\n",
      "Cookie / privacy: inf%\n",
      "File name: data/policy_www.ticketmaster.it.txt\n",
      "Cookie: 2\n",
      "Privacy: 8\n",
      "Cookie / privacy: 25.0%\n",
      "File name: data/policy_medialibrary.it.txt\n",
      "Cookie: 25\n",
      "Privacy: 1\n",
      "Cookie / privacy: 2500.0%\n",
      "File name: data/policy_www.farmae.it.txt\n",
      "Cookie: 2\n",
      "Privacy: 9\n",
      "Cookie / privacy: 22.2%\n",
      "File name: data/policy_www.ilgiornaledivicenza.it.txt\n",
      "Cookie: 6\n",
      "Privacy: 7\n",
      "Cookie / privacy: 85.7%\n",
      "File name: data/policy_www.bonprix.it.txt\n",
      "Cookie: 70\n",
      "Privacy: 13\n",
      "Cookie / privacy: 538.5%\n",
      "File name: data/policy_www.flixbus.it.txt\n",
      "Cookie: 18\n",
      "Privacy: 5\n",
      "Cookie / privacy: 360.0%\n",
      "File name: data/policy_www.chiesacattolica.it.txt\n",
      "Cookie: 0\n",
      "Privacy: 1\n",
      "Cookie / privacy: 0.0%\n",
      "File name: data/policy_www.nicolaporro.it.txt\n",
      "Cookie: 0\n",
      "Privacy: 1\n",
      "Cookie / privacy: 0.0%\n",
      "File name: data/policy_www.laprovinciadicomo.it.txt\n",
      "Cookie: 12\n",
      "Privacy: 10\n",
      "Cookie / privacy: 120.0%\n",
      "File name: data/policy_www.filmtv.it.txt\n",
      "Cookie: 4\n",
      "Privacy: 4\n",
      "Cookie / privacy: 100.0%\n",
      "File name: data/policy_www.calcioefinanza.it.txt\n",
      "Cookie: 20\n",
      "Privacy: 8\n",
      "Cookie / privacy: 250.0%\n",
      "File name: data/policy_opac.sbn.it.txt\n",
      "Cookie: 8\n",
      "Privacy: 3\n",
      "Cookie / privacy: 266.7%\n",
      "File name: data/policy_www.animeclick.it.txt\n",
      "Cookie: 56\n",
      "Privacy: 64\n",
      "Cookie / privacy: 87.5%\n",
      "File name: data/policy_www.mitula.it.txt\n",
      "Cookie: 38\n",
      "Privacy: 2\n",
      "Cookie / privacy: 1900.0%\n",
      "File name: data/policy_tin.it.txt\n",
      "Cookie: 2\n",
      "Privacy: 1\n",
      "Cookie / privacy: 200.0%\n",
      "File name: data/policy_www.unibocconi.it.txt\n",
      "Cookie: 1\n",
      "Privacy: 0\n",
      "Cookie / privacy: inf%\n",
      "File name: data/policy_www.mamme.it.txt\n",
      "Cookie: 17\n",
      "Privacy: 3\n",
      "Cookie / privacy: 566.7%\n",
      "File name: data/policy_www.perugiatoday.it.txt\n",
      "Cookie: 74\n",
      "Privacy: 12\n",
      "Cookie / privacy: 616.7%\n",
      "File name: data/policy_www.informazione.it.txt\n",
      "Cookie: 31\n",
      "Privacy: 6\n",
      "Cookie / privacy: 516.7%\n",
      "File name: data/policy_www.robadadonne.it.txt\n",
      "Cookie: 0\n",
      "Privacy: 3\n",
      "Cookie / privacy: 0.0%\n",
      "File name: data/policy_agenziaentrateriscossione.gov.it.txt\n",
      "Cookie: 0\n",
      "Privacy: 1\n",
      "Cookie / privacy: 0.0%\n",
      "File name: data/policy_www.unicusano.it.txt\n",
      "Cookie: 4\n",
      "Privacy: 3\n",
      "Cookie / privacy: 133.3%\n",
      "File name: data/policy_www.tag24.it.txt\n",
      "Cookie: 6\n",
      "Privacy: 7\n",
      "Cookie / privacy: 85.7%\n",
      "File name: data/policy_www.pagopa.gov.it:443.txt\n",
      "Cookie: 12\n",
      "Privacy: 5\n",
      "Cookie / privacy: 240.0%\n",
      "File name: data/policy_www.playbasket.it.txt\n",
      "Cookie: 6\n",
      "Privacy: 5\n",
      "Cookie / privacy: 120.0%\n",
      "File name: data/policy_www.sony.it:443.txt\n",
      "Cookie: 7\n",
      "Privacy: 16\n",
      "Cookie / privacy: 43.8%\n",
      "File name: data/policy_www.impresainungiorno.gov.it.txt\n",
      "Cookie: 8\n",
      "Privacy: 2\n",
      "Cookie / privacy: 400.0%\n",
      "File name: data/policy_www.anpal.gov.it.txt\n",
      "Cookie: 7\n",
      "Privacy: 1\n",
      "Cookie / privacy: 700.0%\n",
      "File name: data/policy_www.redditodicittadinanza.gov.it.txt\n",
      "Cookie: 19\n",
      "Privacy: 6\n",
      "Cookie / privacy: 316.7%\n",
      "File name: data/policy_innovazione.gov.it.txt\n",
      "Cookie: 7\n",
      "Privacy: 1\n",
      "Cookie / privacy: 700.0%\n",
      "File name: data/policy_www.funzionepubblica.gov.it.txt\n",
      "Cookie: 8\n",
      "Privacy: 4\n",
      "Cookie / privacy: 200.0%\n",
      "File name: data/policy_inipec.gov.it.txt\n",
      "Cookie: 5\n",
      "Privacy: 1\n",
      "Cookie / privacy: 500.0%\n",
      "File name: data/policy_www.mur.gov.it.txt\n",
      "Cookie: 9\n",
      "Privacy: 3\n",
      "Cookie / privacy: 300.0%\n",
      "File name: data/policy_www.finanze.gov.it.txt\n",
      "Cookie: 7\n",
      "Privacy: 0\n",
      "Cookie / privacy: inf%\n",
      "File name: data/policy_www.protezionecivile.gov.it.txt\n",
      "Cookie: 9\n",
      "Privacy: 5\n",
      "Cookie / privacy: 180.0%\n",
      "File name: data/policy_www.rna.gov.it.txt\n",
      "Cookie: 3\n",
      "Privacy: 0\n",
      "Cookie / privacy: inf%\n",
      "File name: data/policy_www.gdf.gov.it.txt\n",
      "Cookie: 16\n",
      "Privacy: 0\n",
      "Cookie / privacy: inf%\n",
      "File name: data/policy_www.enac.gov.it.txt\n",
      "Cookie: 1\n",
      "Privacy: 1\n",
      "Cookie / privacy: 100.0%\n",
      "File name: data/policy_www.agenziacoesione.gov.it.txt\n",
      "Cookie: 6\n",
      "Privacy: 6\n",
      "Cookie / privacy: 100.0%\n",
      "File name: data/policy_www.istruzioneer.gov.it.txt\n",
      "Cookie: 12\n",
      "Privacy: 5\n",
      "Cookie / privacy: 240.0%\n",
      "File name: data/policy_www.unioncamere.gov.it.txt\n",
      "Cookie: 0\n",
      "Privacy: 2\n",
      "Cookie / privacy: 0.0%\n",
      "File name: data/policy_www.politichegiovanili.gov.it.txt\n",
      "Cookie: 0\n",
      "Privacy: 0\n",
      "Cookie / privacy: 100%\n",
      "File name: data/policy_uibm.mise.gov.it.txt\n",
      "Cookie: 15\n",
      "Privacy: 5\n",
      "Cookie / privacy: 300.0%\n",
      "File name: data/policy_www.italiadomani.gov.it.txt\n",
      "Cookie: 9\n",
      "Privacy: 4\n",
      "Cookie / privacy: 225.0%\n",
      "File name: data/policy_artbonus.gov.it.txt\n",
      "Cookie: 2\n",
      "Privacy: 2\n",
      "Cookie / privacy: 100.0%\n",
      "File name: data/policy_www.lotteriadegliscontrini.gov.it.txt\n",
      "Cookie: 5\n",
      "Privacy: 2\n",
      "Cookie / privacy: 250.0%\n",
      "File name: data/policy_scelgoilserviziocivile.gov.it.txt\n",
      "Cookie: 0\n",
      "Privacy: 2\n",
      "Cookie / privacy: 0.0%\n",
      "File name: data/policy_www.serviziocivile.gov.it.txt\n",
      "Cookie: 0\n",
      "Privacy: 1\n",
      "Cookie / privacy: 0.0%\n",
      "File name: data/policy_integrazionemigranti.gov.it.txt\n",
      "Cookie: 0\n",
      "Privacy: 1\n",
      "Cookie / privacy: 0.0%\n",
      "File name: data/policy_dati.gov.it.txt\n",
      "Cookie: 0\n",
      "Privacy: 2\n",
      "Cookie / privacy: 0.0%\n",
      "File name: data/policy_www.aics.gov.it.txt\n",
      "Cookie: 0\n",
      "Privacy: 2\n",
      "Cookie / privacy: 0.0%\n",
      "File name: data/policy_sna.gov.it.txt\n",
      "Cookie: 21\n",
      "Privacy: 6\n",
      "Cookie / privacy: 350.0%\n",
      "File name: data/policy_politichegiovanilieserviziocivile.gov.it.txt\n",
      "Cookie: 0\n",
      "Privacy: 1\n",
      "Cookie / privacy: 0.0%\n",
      "File name: data/policy_www.politicheeuropee.gov.it.txt\n",
      "Cookie: 8\n",
      "Privacy: 5\n",
      "Cookie / privacy: 160.0%\n",
      "File name: data/policy_lineaamica.gov.it.txt\n",
      "Cookie: 32\n",
      "Privacy: 2\n",
      "Cookie / privacy: 1600.0%\n",
      "File name: data/policy_opencoesione.gov.it.txt\n",
      "Cookie: 28\n",
      "Privacy: 3\n",
      "Cookie / privacy: 933.3%\n",
      "File name: data/policy_www.fascicolosanitario.gov.it.txt\n",
      "Cookie: 6\n",
      "Privacy: 3\n",
      "Cookie / privacy: 200.0%\n",
      "File name: data/policy_www.ministeroturismo.gov.it.txt\n",
      "Cookie: 4\n",
      "Privacy: 2\n",
      "Cookie / privacy: 200.0%\n",
      "File name: data/policy_eid.gov.it.txt\n",
      "Cookie: 5\n",
      "Privacy: 3\n",
      "Cookie / privacy: 166.7%\n",
      "File name: data/policy_www.csirt.gov.it.txt\n",
      "Cookie: 6\n",
      "Privacy: 2\n",
      "Cookie / privacy: 300.0%\n",
      "File name: data/policy_www.informazioneeditoria.gov.it.txt\n",
      "Cookie: 10\n",
      "Privacy: 4\n",
      "Cookie / privacy: 250.0%\n",
      "File name: data/policy_partecipa.gov.it.txt\n",
      "Cookie: 13\n",
      "Privacy: 2\n",
      "Cookie / privacy: 650.0%\n",
      "File name: data/policy_www.politicheantidroga.gov.it.txt\n",
      "Cookie: 10\n",
      "Privacy: 5\n",
      "Cookie / privacy: 200.0%\n",
      "File name: data/policy_sisma2016.gov.it.txt\n",
      "Cookie: 19\n",
      "Privacy: 3\n",
      "Cookie / privacy: 633.3%\n",
      "File name: data/policy_consulentipubblici.dfp.gov.it.txt\n",
      "Cookie: 6\n",
      "Privacy: 7\n",
      "Cookie / privacy: 85.7%\n",
      "File name: data/policy_www.pugliausr.gov.it.txt\n",
      "Cookie: 32\n",
      "Privacy: 4\n",
      "Cookie / privacy: 800.0%\n",
      "File name: data/policy_open.gov.it.txt\n",
      "Cookie: 13\n",
      "Privacy: 1\n",
      "Cookie / privacy: 1300.0%\n",
      "File name: data/policy_competenzedigitali.gov.it.txt\n",
      "Cookie: 9\n",
      "Privacy: 3\n",
      "Cookie / privacy: 300.0%\n",
      "File name: data/policy_padigitale2026.gov.it.txt\n",
      "Cookie: 7\n",
      "Privacy: 3\n",
      "Cookie / privacy: 233.3%\n",
      "File name: data/policy_istruzioneveneto.gov.it.txt\n",
      "Cookie: 5\n",
      "Privacy: 2\n",
      "Cookie / privacy: 250.0%\n",
      "File name: data/policy_microcredito.gov.it.txt\n",
      "Cookie: 15\n",
      "Privacy: 8\n",
      "Cookie / privacy: 187.5%\n",
      "File name: data/policy_www.minori.gov.it.txt\n",
      "Cookie: 8\n",
      "Privacy: 5\n",
      "Cookie / privacy: 160.0%\n",
      "File name: data/policy_www.agea.gov.it.txt\n",
      "Cookie: 5\n",
      "Privacy: 3\n",
      "Cookie / privacy: 166.7%\n",
      "File name: data/policy_www.acn.gov.it.txt\n",
      "Cookie: 4\n",
      "Privacy: 3\n",
      "Cookie / privacy: 133.3%\n",
      "File name: data/policy_performance.gov.it.txt\n",
      "Cookie: 10\n",
      "Privacy: 5\n",
      "Cookie / privacy: 200.0%\n",
      "File name: data/policy_www.riformeistituzionali.gov.it.txt\n",
      "Cookie: 12\n",
      "Privacy: 3\n",
      "Cookie / privacy: 400.0%\n",
      "File name: data/policy_www.perlapa.gov.it.txt\n",
      "Cookie: 16\n",
      "Privacy: 6\n",
      "Cookie / privacy: 266.7%\n",
      "File name: data/policy_www.malattierare.gov.it.txt\n",
      "Cookie: 6\n",
      "Privacy: 3\n",
      "Cookie / privacy: 200.0%\n",
      "File name: data/policy_cert-agid.gov.it.txt\n",
      "Cookie: 4\n",
      "Privacy: 2\n",
      "Cookie / privacy: 200.0%\n",
      "File name: data/policy_sicurezzait.gov.it.txt\n",
      "Cookie: 6\n",
      "Privacy: 2\n",
      "Cookie / privacy: 300.0%\n",
      "File name: data/policy_lavoropubblico.gov.it.txt\n",
      "Cookie: 11\n",
      "Privacy: 5\n",
      "Cookie / privacy: 220.0%\n",
      "File name: data/policy_agenziariscossione.gov.it.txt\n",
      "Cookie: 0\n",
      "Privacy: 1\n",
      "Cookie / privacy: 0.0%\n",
      "File name: data/policy_opencup.gov.it.txt\n",
      "Cookie: 12\n",
      "Privacy: 5\n",
      "Cookie / privacy: 240.0%\n",
      "File name: data/policy_madeinitaly.gov.it.txt\n",
      "Cookie: 6\n",
      "Privacy: 0\n",
      "Cookie / privacy: inf%\n",
      "File name: data/policy_auu.gov.it.txt\n",
      "Cookie: 9\n",
      "Privacy: 5\n",
      "Cookie / privacy: 180.0%\n",
      "File name: data/policy_fermenti.gov.it.txt\n",
      "Cookie: 9\n",
      "Privacy: 2\n",
      "Cookie / privacy: 450.0%\n",
      "File name: data/policy_www.rapportiparlamento.gov.it.txt\n",
      "Cookie: 4\n",
      "Privacy: 5\n",
      "Cookie / privacy: 80.0%\n",
      "File name: data/policy_identitadigitale.gov.it.txt\n",
      "Cookie: 8\n",
      "Privacy: 3\n",
      "Cookie / privacy: 266.7%\n",
      "File name: data/policy_www.programmagoverno.gov.it.txt\n",
      "Cookie: 16\n",
      "Privacy: 4\n",
      "Cookie / privacy: 400.0%\n",
      "File name: data/policy_cittametropolitana.mi.it.txt\n",
      "Cookie: 1\n",
      "Privacy: 7\n",
      "Cookie / privacy: 14.3%\n",
      "File name: data/policy_www.comune.corbetta.mi.it.txt\n",
      "Cookie: 25\n",
      "Privacy: 14\n",
      "Cookie / privacy: 178.6%\n",
      "File name: data/policy_www.policlinico.mi.it.txt\n",
      "Cookie: 19\n",
      "Privacy: 14\n",
      "Cookie / privacy: 135.7%\n",
      "File name: data/policy_ordinearchitetti.mi.it.txt\n",
      "Cookie: 11\n",
      "Privacy: 2\n",
      "Cookie / privacy: 550.0%\n",
      "File name: data/policy_www.odcec.mi.it.txt\n",
      "Cookie: 4\n",
      "Privacy: 2\n",
      "Cookie / privacy: 200.0%\n",
      "File name: data/policy_www.istitutotumori.mi.it.txt\n",
      "Cookie: 7\n",
      "Privacy: 5\n",
      "Cookie / privacy: 140.0%\n",
      "File name: data/policy_www.comune.cinisello-balsamo.mi.it.txt\n",
      "Cookie: 63\n",
      "Privacy: 5\n",
      "Cookie / privacy: 1260.0%\n",
      "File name: data/policy_www.comune.paderno-dugnano.mi.it.txt\n",
      "Cookie: 12\n",
      "Privacy: 2\n",
      "Cookie / privacy: 600.0%\n",
      "File name: data/policy_consulentidellavoro.mi.it.txt\n",
      "Cookie: 0\n",
      "Privacy: 1\n",
      "Cookie / privacy: 0.0%\n",
      "File name: data/policy_www.comune.rozzano.mi.it.txt\n",
      "Cookie: 6\n",
      "Privacy: 20\n",
      "Cookie / privacy: 30.0%\n",
      "File name: data/policy_comune.magenta.mi.it.txt\n",
      "Cookie: 23\n",
      "Privacy: 1\n",
      "Cookie / privacy: 2300.0%\n",
      "File name: data/policy_comune.garbagnate-milanese.mi.it.txt\n",
      "Cookie: 25\n",
      "Privacy: 2\n",
      "Cookie / privacy: 1250.0%\n",
      "File name: data/policy_www.comune.segrate.mi.it.txt\n",
      "Cookie: 7\n",
      "Privacy: 17\n",
      "Cookie / privacy: 41.2%\n",
      "File name: data/policy_www.comune.peschieraborromeo.mi.it.txt\n",
      "Cookie: 8\n",
      "Privacy: 13\n",
      "Cookie / privacy: 61.5%\n",
      "File name: data/policy_www.comune.parabiago.mi.it.txt\n",
      "Cookie: 4\n",
      "Privacy: 4\n",
      "Cookie / privacy: 100.0%\n",
      "File name: data/policy_www.comune.gorgonzola.mi.it.txt\n",
      "Cookie: 0\n",
      "Privacy: 3\n",
      "Cookie / privacy: 0.0%\n",
      "File name: data/policy_geometri.mi.it.txt\n",
      "Cookie: 1\n",
      "Privacy: 5\n",
      "Cookie / privacy: 20.0%\n",
      "File name: data/policy_www.comune.cassanodadda.mi.it.txt\n",
      "Cookie: 36\n",
      "Privacy: 12\n",
      "Cookie / privacy: 300.0%\n",
      "File name: data/policy_www.legatumori.mi.it.txt\n",
      "Cookie: 2\n",
      "Privacy: 2\n",
      "Cookie / privacy: 100.0%\n",
      "File name: data/policy_www.comune.baranzate.mi.it.txt\n",
      "Cookie: 4\n",
      "Privacy: 10\n",
      "Cookie / privacy: 40.0%\n",
      "File name: data/policy_www.comune.lacchiarella.mi.it.txt\n",
      "Cookie: 1\n",
      "Privacy: 1\n",
      "Cookie / privacy: 100.0%\n",
      "File name: data/policy_www.comune.lainate.mi.it.txt\n",
      "Cookie: 28\n",
      "Privacy: 12\n",
      "Cookie / privacy: 233.3%\n",
      "File name: data/policy_comune.bollate.mi.it.txt\n",
      "Cookie: 3\n",
      "Privacy: 4\n",
      "Cookie / privacy: 75.0%\n",
      "File name: data/policy_www.comune.trezzosulladda.mi.it.txt\n",
      "Cookie: 1\n",
      "Privacy: 3\n",
      "Cookie / privacy: 33.3%\n",
      "File name: data/policy_www.comune.mediglia.mi.it.txt\n",
      "Cookie: 6\n",
      "Privacy: 3\n",
      "Cookie / privacy: 200.0%\n",
      "File name: data/policy_aler.mi.it.txt\n",
      "Cookie: 24\n",
      "Privacy: 11\n",
      "Cookie / privacy: 218.2%\n",
      "File name: data/policy_www.comune.cesano-boscone.mi.it.txt\n",
      "Cookie: 2\n",
      "Privacy: 5\n",
      "Cookie / privacy: 40.0%\n",
      "File name: data/policy_comune.cesate.mi.it.txt\n",
      "Cookie: 27\n",
      "Privacy: 2\n",
      "Cookie / privacy: 1350.0%\n",
      "File name: data/policy_www.comune.vapriodadda.mi.it.txt\n",
      "Cookie: 1\n",
      "Privacy: 3\n",
      "Cookie / privacy: 33.3%\n",
      "File name: data/policy_fast.mi.it.txt\n",
      "Cookie: 0\n",
      "Privacy: 2\n",
      "Cookie / privacy: 0.0%\n",
      "File name: data/policy_www.comune.melzo.mi.it.txt\n",
      "Cookie: 26\n",
      "Privacy: 12\n",
      "Cookie / privacy: 216.7%\n",
      "File name: data/policy_www.comune.cormano.mi.it.txt\n",
      "Cookie: 26\n",
      "Privacy: 12\n",
      "Cookie / privacy: 216.7%\n",
      "File name: data/policy_www.comune.pioltello.mi.it.txt\n",
      "Cookie: 1\n",
      "Privacy: 3\n",
      "Cookie / privacy: 33.3%\n",
      "File name: data/policy_aji.mi.it.txt\n",
      "Cookie: 1\n",
      "Privacy: 2\n",
      "Cookie / privacy: 50.0%\n",
      "File name: data/policy_www.pim.mi.it.txt\n",
      "Cookie: 0\n",
      "Privacy: 1\n",
      "Cookie / privacy: 0.0%\n",
      "File name: data/policy_www.comune.binasco.mi.it.txt\n",
      "Cookie: 8\n",
      "Privacy: 12\n",
      "Cookie / privacy: 66.7%\n",
      "File name: data/policy_www.comune.gessate.mi.it.txt\n",
      "Cookie: 8\n",
      "Privacy: 12\n",
      "Cookie / privacy: 66.7%\n",
      "File name: data/policy_www.comune.inzago.mi.it.txt\n",
      "Cookie: 28\n",
      "Privacy: 12\n",
      "Cookie / privacy: 233.3%\n",
      "File name: data/policy_www.comune.novate-milanese.mi.it.txt\n",
      "Cookie: 0\n",
      "Privacy: 4\n",
      "Cookie / privacy: 0.0%\n",
      "File name: data/policy_comune.sedriano.mi.it.txt\n",
      "Cookie: 30\n",
      "Privacy: 2\n",
      "Cookie / privacy: 1500.0%\n",
      "File name: data/policy_www.comune.abbiategrasso.mi.it.txt\n",
      "Cookie: 24\n",
      "Privacy: 5\n",
      "Cookie / privacy: 480.0%\n",
      "File name: data/policy_www.comune.cusano-milanino.mi.it.txt\n",
      "Cookie: 25\n",
      "Privacy: 7\n",
      "Cookie / privacy: 357.1%\n",
      "File name: data/policy_comune.dairago.mi.it.txt\n",
      "Cookie: 32\n",
      "Privacy: 2\n",
      "Cookie / privacy: 1600.0%\n",
      "File name: data/policy_www.comune.buccinasco.mi.it.txt\n",
      "Cookie: 8\n",
      "Privacy: 12\n",
      "Cookie / privacy: 66.7%\n",
      "File name: data/policy_www.comune.poglianomilanese.mi.it.txt\n",
      "Cookie: 1\n",
      "Privacy: 3\n",
      "Cookie / privacy: 33.3%\n",
      "File name: data/policy_comune.santostefanoticino.mi.it.txt\n",
      "Cookie: 9\n",
      "Privacy: 10\n",
      "Cookie / privacy: 90.0%\n",
      "File name: data/policy_www.comune.pero.mi.it.txt\n",
      "Cookie: 1\n",
      "Privacy: 0\n",
      "Cookie / privacy: inf%\n",
      "File name: data/policy_www.comune.assago.mi.it.txt\n",
      "Cookie: 8\n",
      "Privacy: 13\n",
      "Cookie / privacy: 61.5%\n",
      "File name: data/policy_www.comune.cassinadepecchi.mi.it.txt\n",
      "Cookie: 25\n",
      "Privacy: 11\n",
      "Cookie / privacy: 227.3%\n",
      "File name: data/policy_www.maart.mi.it.txt\n",
      "Cookie: 1\n",
      "Privacy: 3\n",
      "Cookie / privacy: 33.3%\n",
      "File name: data/policy_www.comune.sanvittoreolona.mi.it.txt\n",
      "Cookie: 31\n",
      "Privacy: 1\n",
      "Cookie / privacy: 3100.0%\n",
      "File name: data/policy_www.comune.cuggiono.mi.it.txt\n",
      "Cookie: 59\n",
      "Privacy: 5\n",
      "Cookie / privacy: 1180.0%\n",
      "File name: data/policy_www.comune.ozzero.mi.it.txt\n",
      "Cookie: 7\n",
      "Privacy: 8\n",
      "Cookie / privacy: 87.5%\n",
      "File name: data/policy_www.comune.vernate.mi.it.txt\n",
      "Cookie: 4\n",
      "Privacy: 10\n",
      "Cookie / privacy: 40.0%\n",
      "File name: data/policy_www.comune.settala.mi.it.txt\n",
      "Cookie: 34\n",
      "Privacy: 15\n",
      "Cookie / privacy: 226.7%\n",
      "File name: data/policy_www.afor.mi.it.txt\n",
      "Cookie: 4\n",
      "Privacy: 6\n",
      "Cookie / privacy: 66.7%\n",
      "File name: data/policy_comune.vizzolopredabissi.mi.it.txt\n",
      "Cookie: 25\n",
      "Privacy: 2\n",
      "Cookie / privacy: 1250.0%\n",
      "File name: data/policy_comune.vanzaghello.mi.it.txt\n",
      "Cookie: 32\n",
      "Privacy: 2\n",
      "Cookie / privacy: 1600.0%\n",
      "File name: data/policy_comune.vanzago.mi.it.txt\n",
      "Cookie: 3\n",
      "Privacy: 5\n",
      "Cookie / privacy: 60.0%\n",
      "File name: data/policy_www.garanteprivacy.it.txt\n",
      "Cookie: 3\n",
      "Privacy: 1\n",
      "Cookie / privacy: 300.0%\n",
      "File name: data/policy_instagram.com.txt\n",
      "Cookie: 25\n",
      "Privacy: 8\n",
      "Cookie / privacy: 312.5%\n",
      "File name: data/policy_facebook.com.txt\n",
      "Cookie: 25\n",
      "Privacy: 7\n",
      "Cookie / privacy: 357.1%\n",
      "File name: data/policy_youtube.com.txt\n",
      "Cookie: 0\n",
      "Privacy: 3\n",
      "Cookie / privacy: 0.0%\n",
      "\n",
      "Twice as many cookie: 233\n",
      "Twice as many privacy: 149\n"
     ]
    }
   ],
   "source": [
    "policy_files = make_policy_files()\n",
    "\n",
    "twice_co = 0\n",
    "twice_pri = 0\n",
    "\n",
    "for file in policy_files:\n",
    "    cookie_ctr = 0\n",
    "    privacy_ctr = 0\n",
    "    \n",
    "    for word in file.read().split():\n",
    "        word = word.lower()\n",
    "        if word == \"cookie\" or word == \"cookies\":\n",
    "            cookie_ctr = cookie_ctr + 1\n",
    "        elif word == \"privacy\":\n",
    "            privacy_ctr = privacy_ctr + 1\n",
    "        \n",
    "    print(\"File name: \" + file.name)\n",
    "    print(\"Cookie: \" + str(cookie_ctr))\n",
    "    print(\"Privacy: \" + str(privacy_ctr))\n",
    "    if privacy_ctr != 0:\n",
    "        ratio = cookie_ctr / privacy_ctr\n",
    "    elif cookie_ctr == 0:\n",
    "        ratio = 1\n",
    "    else:\n",
    "        ratio = math.inf\n",
    "    print(\"Cookie / privacy: \" + str(round(ratio * 100, 1)) + \"%\")\n",
    "    if ratio > 2:\n",
    "        twice_co = twice_co + 1\n",
    "    elif ratio < 0.5:\n",
    "        twice_pri = twice_pri + 1\n",
    "\n",
    "print(\"\")\n",
    "print(\"Twice as many cookie: \" + str(twice_co))\n",
    "print(\"Twice as many privacy: \" + str(twice_pri))"
   ]
  },
  {
   "cell_type": "markdown",
   "id": "75da564b",
   "metadata": {},
   "source": [
    "### 2.2 Detecting suspicious entries with DBSCAN\n",
    "Some bad text will make it through the spider. With some clustering we can find suspicious texts and weed them out manually.  \n",
    "Language detection is done before this in order to do clustering separately for each detected language.  \n",
    "This step also detects policies from the same company on different sites i.e. wikimedia.org and wikipedia.org quite well."
   ]
  },
  {
   "cell_type": "code",
   "execution_count": 19,
   "id": "2a956b34",
   "metadata": {
    "scrolled": true
   },
   "outputs": [
    {
     "name": "stdout",
     "output_type": "stream",
     "text": [
      "\n",
      "Current language: en\n",
      "METRICS:\n",
      "[[1.         0.16165239 0.23648447 ... 0.12345536 0.13548157 0.17630907]\n",
      " [0.16165239 1.         0.16507959 ... 0.1955391  0.1531459  0.09007639]\n",
      " [0.23648447 0.16507959 1.         ... 0.09117512 0.07869364 0.09124961]\n",
      " ...\n",
      " [0.12345536 0.1955391  0.09117512 ... 1.         0.06396197 0.08826827]\n",
      " [0.13548157 0.1531459  0.07869364 ... 0.06396197 1.         0.09502935]\n",
      " [0.17630907 0.09007639 0.09124961 ... 0.08826827 0.09502935 1.        ]]\n",
      "Found 5 clusters\n",
      "Labels: \n",
      "[-1 -1 -1  0  1  0  0  0 -1 -1  0 -1  0 -1  0 -1  0  0  1 -1  0  0  2 -1\n",
      "  3  3 -1  2 -1 -1 -1  0]\n"
     ]
    },
    {
     "data": {
      "image/png": "[encoded data removed]",
      "text/plain": [
       "<Figure size 432x288 with 1 Axes>"
      ]
     },
     "metadata": {
      "needs_background": "light"
     },
     "output_type": "display_data"
    },
    {
     "name": "stdout",
     "output_type": "stream",
     "text": [
      "\n",
      "Cluster: -1 with 14 elements\n",
      "data/policy_www.wikipedia.org.txt     Privacy policy From Meta, a Wikimedia project ...\n",
      "data/policy_search-hub.co.txt         MENU Home OEMs/Carriers Developers Technology ...\n",
      "data/policy_duckduckgo.com.txt        DuckDuckGo does not collect or share personal ...\n",
      "data/policy_airporthandling.eu.txt    b'COOKIE POLICYRev. October 2022Airport Handli...\n",
      "data/policy_bitly.com.txt             Skip Navigation Why Bitly? Bitly 101An introdu...\n",
      "data/policy_chaturbate.com.txt        THE ACT OF MASTURBATING WHILE CHATTING ONLINE ...\n",
      "data/policy_famiboards.com.txt        Forums TreehouseThe RoostPokémon CenterWarp Zo...\n",
      "data/policy_www.netsdaily.com.txt     Skip to main content Cookie banner We use cook...\n",
      "data/policy_freenem.com.txt           \\nGDPR\\n\\n\\nFreeNEM takes the GDPR extremely s...\n",
      "data/policy_coggle.it.txt             Your Data, Sharing, and Privacy\\n\\nWe want to ...\n",
      "data/policy_www.airbnb.it.txt         Privacy Policy\\n\\nFor a list of Privacy Polici...\n",
      "data/policy_clyp.it.txt               Clyp Privacy Policy About Widgets Developer AP...\n",
      "data/policy_savee.it.txt              This is the most sincere Terms and Conditions ...\n",
      "data/policy_madeinitaly.gov.it.txt    Use of cookies and trackers\\n\\nThis site\\n\\n  ...\n",
      "Name: Text, dtype: object\n",
      "\n",
      "Higher score is harder to read.\n",
      "Hard to read texts: 2\n",
      "as a percentage of total: 14.3%\n",
      "Average grade level: 14.5\n",
      "Texts above recommended level (8th grade) 100.0%\n",
      "[15.0, 16.0, 9.0, 19.0, 16.0, 15.0, 13.0, 21.0, 12.0, 11.0, 15.0, 15.0, 11.0, 15.0]\n"
     ]
    },
    {
     "data": {
      "image/png": "[encoded data removed]",
      "text/plain": [
       "<Figure size 432x288 with 1 Axes>"
      ]
     },
     "metadata": {
      "needs_background": "light"
     },
     "output_type": "display_data"
    },
    {
     "name": "stdout",
     "output_type": "stream",
     "text": [
      "\n",
      "Cluster: 0 with 12 elements\n",
      "data/policy_www.fandom.com.txt            FANDOM Fan Central Beta Games Anime Movies TV ...\n",
      "data/policy_www.tiktok.com.txt            TikTok Web Cookies Policy\\n\\nLast updated: 16 ...\n",
      "data/policy_www.reddit.com.txt            Advertisement Reddit and its partners use cook...\n",
      "data/policy_www.libero.it.txt             Privacy & Terms Sign in Overview Privacy Polic...\n",
      "data/policy_www.booking.com.txt           Skip to main content Select your language Sugg...\n",
      "data/policy_onlyfans.com.txt              \\nPRIVACY POLICY\\n\\nLast Modified: December 20...\n",
      "data/policy_silverprice.org.txt           Skip to main content Main Menu SPX Charts Silv...\n",
      "data/policy_telegram.org.txt              English Bahasa Indonesia Bahasa Melayu Deutsch...\n",
      "data/policy_www.germancarforum.com.txt    We want you to understand how and why GermanCa...\n",
      "data/policy_www.dailyfx.com.txt           PRIVACY NOTICE\\nPRIVACY NOTICE\\nAs part of our...\n",
      "data/policy_kahoot.it.txt                 Modified: July 28th 2021\\nKahoot! Privacy Poli...\n",
      "data/policy_instagram.com.txt             Privacy Policy\\nWhat is the Privacy Policy and...\n",
      "Name: Text, dtype: object\n",
      "\n",
      "Higher score is harder to read.\n",
      "Hard to read texts: 1\n",
      "as a percentage of total: 8.3%\n",
      "Average grade level: 14.7\n",
      "Texts above recommended level (8th grade) 100.0%\n",
      "[15.0, 14.0, 14.0, 15.0, 13.0, 14.0, 15.0, 10.0, 13.0, 18.0, 13.0, 22.0]\n"
     ]
    },
    {
     "data": {
      "image/png": "[encoded data removed]",
      "text/plain": [
       "<Figure size 432x288 with 1 Axes>"
      ]
     },
     "metadata": {
      "needs_background": "light"
     },
     "output_type": "display_data"
    },
    {
     "name": "stdout",
     "output_type": "stream",
     "text": [
      "\n",
      "Cluster: 1 with 2 elements\n",
      "data/policy_asura.gg.txt       \\nPrivacy Policy\\nPrivacy Policy\\n\\nThe follow...\n",
      "data/policy_toonily.com.txt    \\nPrivacy Policy\\n\\nThe following webpage outl...\n",
      "Name: Text, dtype: object\n",
      "\n",
      "Higher score is harder to read.\n",
      "Hard to read texts: 0\n",
      "as a percentage of total: 0.0%\n",
      "Average grade level: 14.5\n",
      "Texts above recommended level (8th grade) 100.0%\n",
      "[13.0, 16.0]\n"
     ]
    },
    {
     "data": {
      "image/png": "[encoded data removed]",
      "text/plain": [
       "<Figure size 432x288 with 1 Axes>"
      ]
     },
     "metadata": {
      "needs_background": "light"
     },
     "output_type": "display_data"
    },
    {
     "name": "stdout",
     "output_type": "stream",
     "text": [
      "\n",
      "Cluster: 2 with 2 elements\n",
      "data/policy_www.scoop.it.txt          Research and publish the best content. Get Sta...\n",
      "data/policy_www.cybrary.it:443.txt    Training Library Start Your Career Certificati...\n",
      "Name: Text, dtype: object\n",
      "\n",
      "Higher score is harder to read.\n",
      "Hard to read texts: 0\n",
      "as a percentage of total: 0.0%\n",
      "Average grade level: 16.5\n",
      "Texts above recommended level (8th grade) 100.0%\n",
      "[16.0, 17.0]\n"
     ]
    },
    {
     "data": {
      "image/png": "[encoded data removed]",
      "text/plain": [
       "<Figure size 432x288 with 1 Axes>"
      ]
     },
     "metadata": {
      "needs_background": "light"
     },
     "output_type": "display_data"
    },
    {
     "name": "stdout",
     "output_type": "stream",
     "text": [
      "\n",
      "Cluster: 3 with 2 elements\n",
      "data/policy_justpaste.it.txt    Privacy Policy 1. Introduction 1.1 We are comm...\n",
      "data/policy_follow.it.txt       follow.it Privacy Policy\\n\\nLast Updated: Marc...\n",
      "Name: Text, dtype: object\n",
      "\n",
      "Higher score is harder to read.\n",
      "Hard to read texts: 0\n",
      "as a percentage of total: 0.0%\n",
      "Average grade level: 13.5\n",
      "Texts above recommended level (8th grade) 100.0%\n",
      "[13.0, 14.0]\n"
     ]
    },
    {
     "data": {
      "image/png": "[encoded data removed]",
      "text/plain": [
       "<Figure size 432x288 with 1 Axes>"
      ]
     },
     "metadata": {
      "needs_background": "light"
     },
     "output_type": "display_data"
    },
    {
     "name": "stdout",
     "output_type": "stream",
     "text": [
      "\n",
      "\n",
      "READABILTY FOR WHOLE LANGUAGE en\n",
      "\n",
      "Higher score is harder to read.\n",
      "Hard to read texts: 21\n",
      "as a percentage of total: 65.6%\n",
      "Average grade level: 14.6\n",
      "Texts above recommended level (8th grade) 100.0%\n",
      "Median score: 14.5\n"
     ]
    },
    {
     "data": {
      "image/png": "[encoded data removed]",
      "text/plain": [
       "<Figure size 432x288 with 1 Axes>"
      ]
     },
     "metadata": {
      "needs_background": "light"
     },
     "output_type": "display_data"
    },
    {
     "name": "stdout",
     "output_type": "stream",
     "text": [
      "\n",
      "Current language: it\n",
      "METRICS:\n",
      "[[1.         0.19993166 0.17956196 ... 0.06969978 0.81529325 0.57884324]\n",
      " [0.19993166 1.         0.98544868 ... 0.13408197 0.23263795 0.13378266]\n",
      " [0.17956196 0.98544868 1.         ... 0.15895512 0.19913772 0.1303974 ]\n",
      " ...\n",
      " [0.06969978 0.13408197 0.15895512 ... 1.         0.11887667 0.07093034]\n",
      " [0.81529325 0.23263795 0.19913772 ... 0.11887667 1.         0.55894053]\n",
      " [0.57884324 0.13378266 0.1303974  ... 0.07093034 0.55894053 1.        ]]\n",
      "Found 76 clusters\n",
      "Labels: \n",
      "[ 0  1  1  0  0 -1  0  0 -1  0  2  3  4  3  5  2  2  6  2  7 -1  2  8 -1\n",
      "  5 -1  2  0 -1  3  0 -1  0 -1 -1  9 10  0 11 12  2  8  0 13  3 -1  2 -1\n",
      " -1 -1 -1 -1 -1  8 14 15  0 16 -1 -1 11 17  0 18 19 20 -1 21 -1 -1 22 23\n",
      " 23  2 24 25 26 27 -1 -1 -1 17 28 11 -1 29 14 -1 27 30  1  2 31 11 29 28\n",
      " -1 32 31 -1  0 -1  0 -1 -1 11 -1 33  7  1 -1 -1 31 -1 -1 -1 33 -1  1 -1\n",
      " -1  0 10  2 27 21 30  0 -1 11 -1 12 -1 14  2 11 33 -1 33 -1  0  0 30 33\n",
      " -1  2 -1 34 15  0 33 -1 -1 20 -1  0 -1 35 -1 -1 11 28 -1 22 28  0  0 24\n",
      "  2 33 36 37  0  7 38  2  0 27  7 -1 -1 13 39 40 -1 13 38 30 -1 -1 -1  0\n",
      "  2 30  2 18  2 41 42 -1 -1 -1 -1 30 27 32 -1 33  0 -1  2 33 -1 -1 43  1\n",
      " -1 -1 34 44  0  2 33 -1 45  2 46 33  2 -1 30 -1 -1  0  0 -1 -1 -1 47 -1\n",
      " 44 48 -1 33 49 50 51 -1 52 46 -1  0  1 -1 -1 33 30 30  2  0 11 23 -1 50\n",
      " 33 30 21 20  0 13 53 26 54  0 -1 -1 11 -1 20 55 56 -1 25 30 -1 -1 39 52\n",
      " 30  0 -1 57 44  0  6  2 16 26 36 49 58 47 -1 59 -1  2  2 33 39 30 30 -1\n",
      " -1 30 -1 -1 -1  2  1 13 30 13 -1 -1 33 -1 -1 13 -1  0  4 -1 33 -1 -1 54\n",
      " 21 -1 -1 -1 -1 37 -1 -1  0 33 40  2 35 22 14 -1 -1  3  0 42 -1 -1 -1 -1\n",
      " -1  2 -1 28 -1 43  2  9 30  0 -1 -1 -1 -1 51  0 -1 -1 28 57 45  1 40  2\n",
      " -1 16 33 -1 30 42 19 60 28 -1 -1 -1 -1 -1 -1 -1 61 62 -1 33 56 41 63 26\n",
      " -1 26 64 59 65 63 -1 40 -1 65 65 58 -1 -1 -1 65 41 -1 66 66 55 -1 67 41\n",
      " 62 41 -1 62 -1 62 62 61 -1 -1 -1 26 67 62 41 62 26 64 64 62 60 41 61 -1\n",
      " 41 61 41 -1 68 69 69 -1 69 -1 -1 13  2 70 70  2 71 68 -1 -1 68 -1 71 68\n",
      " 71 72 68 73 -1 68 70 68 -1 71 71 68 13 13 71 71 71 74 70 53 73 70 71 74\n",
      " -1 -1 71 71 -1  0 -1 72 71 -1 -1 70 70 72 48  0 -1]\n"
     ]
    },
    {
     "data": {
      "image/png": "[encoded data removed]",
      "text/plain": [
       "<Figure size 432x288 with 1 Axes>"
      ]
     },
     "metadata": {
      "needs_background": "light"
     },
     "output_type": "display_data"
    },
    {
     "name": "stdout",
     "output_type": "stream",
     "text": [
      "\n",
      "Cluster: -1 with 167 elements\n",
      "data/policy_www.repubblica.it.txt            Abbonati Abbonati AbbonatiGedi Smile Menu di n...\n",
      "data/policy_www.ansa.it.txt                  Social: Rss Facebook Twitter Linkedin Youtube ...\n",
      "data/policy_www.sky.it.txt                   COOKIE POLICY\\n(versione del\\n14.07.2022)\\nSky...\n",
      "data/policy_www.messinanelpallone.it.txt     Ven 09 dicembre 2022Utenti online: 14 HomeAcr ...\n",
      "data/policy_www.ilgiornale.it.txt            \\nPrivacy Policy\\nInformativa al trattamento d...\n",
      "                                                                   ...                        \n",
      "data/policy_www.maart.mi.it.txt              chi siamo contatti Maart magazine NEWSLETTER I...\n",
      "data/policy_www.comune.cuggiono.mi.it.txt    Vai ai contenuti Vai al menu di navigazione Re...\n",
      "data/policy_www.comune.settala.mi.it.txt     Passa al contenuto principale Passa alla barra...\n",
      "data/policy_www.afor.mi.it.txt               Chi siamo Accreditamenti I nostri corsi Gestio...\n",
      "data/policy_youtube.com.txt                  Termini di servizio di Google\\n\\nIn vigore dal...\n",
      "Name: Text, Length: 167, dtype: object\n",
      "\n",
      "Higher score is easier to read\n",
      "Hard to read texts: 94\n",
      "as a percentage of total: 56.3%\n",
      "Average gulpease index: 39.1\n",
      "Texts above recommended level (8th grade rough italian equivalent) 100.0%\n",
      "[35.2, 38.2, 38.9, 37.5, 39.1, 39.9, 47.3, 44.0, 38.5, 53.3, 42.8, 39.5, 35.4, 41.7, 39.4, 44.0, 39.0, 41.0, 38.4, 35.9, 35.2, 38.4, 37.0, 38.0, 37.0, 35.2, 41.5, 42.9, 34.6, 41.6, 42.3, 37.1, 35.1, 43.6, 37.7, 39.8, 38.2, 37.9, 43.6, 43.9, 45.6, 43.6, 39.0, 46.8, 40.3, 34.8, 44.9, 35.1, 37.4, 35.0, 31.4, 28.7, 16.1, 46.8, 39.4, 41.9, 42.7, 36.7, 41.7, 41.0, 42.3, 39.5, 44.0, 40.4, 44.6, 33.3, 39.8, 38.5, 49.6, 37.8, 35.2, 43.5, 40.3, 31.6, 40.6, 36.3, 38.2, 36.7, 46.2, 41.6, 38.1, 39.2, 43.9, 44.3, 41.9, 34.8, 42.0, 41.4, 38.0, 42.2, 35.8, 39.8, 40.7, 40.8, 38.8, 39.1, 38.7, 43.7, 44.8, 43.1, 33.3, 37.5, 29.9, 44.7, 38.2, 43.9, 42.4, 37.3, 41.6, 36.1, 42.2, 38.0, 39.0, 36.5, 44.2, 42.5, 43.9, 39.2, 41.0, 37.7, 36.6, 39.6, 41.6, 40.4, 31.2, 42.2, 33.1, 46.3, 40.0, 40.1, 42.4, 39.4, 39.3, 34.0, 38.5, 38.8, 39.8, 27.5, 34.1, 42.4, 43.9, 41.9, 36.0, 41.9, 41.2, 38.2, 37.1, 37.0, 41.8, 29.3, 38.6, 39.3, 20.1, 38.0, 35.8, 41.6, 27.0, 39.8, 42.0, 38.2, 39.6, 18.6, 43.0, 40.1, 41.5, 37.8, 41.1]\n"
     ]
    },
    {
     "data": {
      "image/png": "[encoded data removed]",
      "text/plain": [
       "<Figure size 432x288 with 1 Axes>"
      ]
     },
     "metadata": {
      "needs_background": "light"
     },
     "output_type": "display_data"
    },
    {
     "name": "stdout",
     "output_type": "stream",
     "text": [
      "\n",
      "Cluster: 0 with 43 elements\n",
      "data/policy_www.google.com.txt                      Privacy e termini Privacy e termini Accedi Int...\n",
      "data/policy_twitter.com.txt                         \\nSkip to main content\\nInformativa sulla Priv...\n",
      "data/policy_www.youtube.com.txt                     Privacy e termini Accedi Introduzione Norme su...\n",
      "data/policy_www.google.it.txt                       Privacy e termini Privacy e termini Accedi Int...\n",
      "data/policy_www.amazon.it.txt                       Continua senza accettare Selezione delle prefe...\n",
      "data/policy_mediasetinfinity.mediaset.it.txt        \\nINFORMATIVA PRIVACY\\nNel seguente documento ...\n",
      "data/policy_www.ebay.it.txt                         Passa al contenuto principale Servizio clienti...\n",
      "data/policy_www.my-personaltrainer.it.txt           INFORMATIVA PRIVACYex articolo 13 del Regolame...\n",
      "data/policy_www.giallozafferano.it.txt              INFORMATIVA PRIVACYex articolo 13 del Regolame...\n",
      "data/policy_www.whatsapp.com.txt                    Cookie\\nInfo sui cookie\\n\\nUn cookie è un picc...\n",
      "data/policy_consent.yahoo.com.txt                   \\nYahoo logoYahoo logo\\n\\n    Condizioni\\n    ...\n",
      "data/policy_www.autoscout24.it.txt                  Passa al contenuto principale Causa lavori di ...\n",
      "data/policy_www.pinterest.it.txt                    \\nNorme sulla privacy\\n\\n    California Reside...\n",
      "data/policy_www.studenti.it.txt                     INFORMATIVA PRIVACYex articolo 13 del Regolame...\n",
      "data/policy_www.mondadoristore.it.txt               INFORMATIVA PRIVACYex articolo 13 del Regolame...\n",
      "data/policy_www.ilfoglio.it.txt                     il Foglio Utility Il Foglio di Oggi Il Foglio ...\n",
      "data/policy_www.thewom.it.txt                       INFORMATIVA PRIVACYex articolo 13 del Regolame...\n",
      "data/policy_www.douglas.it.txt                      2 campioni omaggio per ogni ordine* Pagamenti ...\n",
      "data/policy_www.focus.it.txt                        INFORMATIVA PRIVACYex articolo 13 del Regolame...\n",
      "data/policy_www.wikihow.it.txt                      wikiHow:Policy relativa ai Cookie\\n\\nQuesta pa...\n",
      "data/policy_www.conad.it.txt                        Cosa stai cercando? Ultimo negozio visitato:Ne...\n",
      "data/policy_www.internazionale.it.txt               pubblicità Ultimi articoli I più letti Sezioni...\n",
      "data/policy_monclick.it.txt                         Iscriviti alla newsletter Accedi Registrati St...\n",
      "data/policy_www.audible.it.txt                      Aiuto Accedi Esplora Suggerimenti Bestseller N...\n",
      "data/policy_www.nostrofiglio.it.txt                 INFORMATIVA PRIVACYex articolo 13 del Regolame...\n",
      "data/policy_www.trivago.it.txt                      Informativa sulla privacy di trivago\\n\\nLa pre...\n",
      "data/policy_www.abebooks.it.txt                     ` Al contenuto principale AbeBooks.it LoginMio...\n",
      "data/policy_www.smartworld.it.txt                   INFORMATIVA PRIVACYex articolo 13 del Regolame...\n",
      "data/policy_www.kayak.it.txt                        Informativa sulla privacy\\nData di entrata in ...\n",
      "data/policy_bnl.it.txt                              Individui e Famiglie Private Banking Life Bank...\n",
      "data/policy_www.trovit.it.txt                       skip to content About us Our divisions Our bra...\n",
      "data/policy_www.soldionline.it.txt                  INFORMATIVA PRIVACYex articolo 13 del Regolame...\n",
      "data/policy_www.zooplus.it.txt                      Servizio clienti Ricerca Ricerca Cani Gatti Di...\n",
      "data/policy_www.eventbrite.it.txt                   Skip Main Navigation Eventbrite\\nCentro di Ass...\n",
      "data/policy_www.starbene.it.txt                     INFORMATIVA AI SENSI DELL'ART. 13 DEL REGOLAME...\n",
      "data/policy_www.doveconviene.it.txt                 INFORMATIVA PRIVACY GLOBAL (in vigore dal 26/1...\n",
      "data/policy_www.marieclaire.it.txt                  Contattaci Breadcrumb Informativa Privacy Info...\n",
      "data/policy_www.williamhill.it.txt                  Williamhill.it Home FAQ più ricercate Anti-Ric...\n",
      "data/policy_www.randstad.it.txt                     \\ninformativa privacy\\n\\nRandstad è impegnata ...\n",
      "data/policy_sports.bwin.it.txt                      \\nINFORMATIVA SUI COOKIE\\nINFORMAZIONI RELATIV...\n",
      "data/policy_www.bonprix.it.txt                      Cookie bonprix utilizza cookie e altri strumen...\n",
      "data/policy_www.comune.sanvittoreolona.mi.it.txt    \\nDimensione testo:\\n     \\n[?] Come si usa l'...\n",
      "data/policy_facebook.com.txt                        Informativa sulla privacy\\nChe cos'è l'Informa...\n",
      "Name: Text, dtype: object\n",
      "\n",
      "Higher score is easier to read\n",
      "Hard to read texts: 14\n",
      "as a percentage of total: 32.6%\n",
      "Average gulpease index: 41.5\n",
      "Texts above recommended level (8th grade rough italian equivalent) 100.0%\n",
      "[42.0, 45.5, 42.0, 42.0, 41.2, 42.7, 40.9, 38.1, 38.1, 45.0, 42.3, 41.8, 46.8, 38.1, 37.6, 42.7, 38.1, 43.4, 37.6, 45.6, 40.1, 42.9, 41.7, 43.3, 37.6, 44.6, 45.3, 38.1, 38.8, 36.4, 42.8, 38.1, 45.9, 43.8, 37.0, 41.5, 43.2, 39.0, 42.4, 46.8, 45.5, 41.2, 38.7]\n"
     ]
    },
    {
     "data": {
      "image/png": "[encoded data removed]",
      "text/plain": [
       "<Figure size 432x288 with 1 Axes>"
      ]
     },
     "metadata": {
      "needs_background": "light"
     },
     "output_type": "display_data"
    },
    {
     "name": "stdout",
     "output_type": "stream",
     "text": [
      "\n",
      "Cluster: 1 with 9 elements\n",
      "data/policy_www.corriere.it.txt          desktop includes2013/SSI/notification/global.j...\n",
      "data/policy_www.gazzetta.it.txt          desktop //js2.gazzettaobjects.it//notifiche/gl...\n",
      "data/policy_www.la7.it.txt               LA7 LA7d TG LA7 Frequenze LA7 Programmi Guida ...\n",
      "data/policy_www.iodonna.it.txt           HOMEPAGE Attualità Moda Bellezza Benessere Per...\n",
      "data/policy_www.oggi.it.txt              Accedi\\nRegistrati\\nLogout\\nIl tuo profilo Att...\n",
      "data/policy_www.fcinter1908.it.txt       Questo sito contribuisce alla audience de Il t...\n",
      "data/policy_www.amica.it.txt             Moda News Moda Fashion Story Star look Special...\n",
      "data/policy_www.rcsmediagroup.it.txt     Cerca Tools Menu Tienimi aggiornato Contatti F...\n",
      "data/policy_www.calcioefinanza.it.txt    Finanza Governance Media Stadi Marketing Sport...\n",
      "Name: Text, dtype: object\n",
      "\n",
      "Higher score is easier to read\n",
      "Hard to read texts: 2\n",
      "as a percentage of total: 22.2%\n",
      "Average gulpease index: 41.6\n",
      "Texts above recommended level (8th grade rough italian equivalent) 100.0%\n",
      "[38.0, 37.7, 40.3, 46.0, 42.6, 46.4, 40.8, 40.7, 41.7]\n"
     ]
    },
    {
     "data": {
      "image/png": "[encoded data removed]",
      "text/plain": [
       "<Figure size 432x288 with 1 Axes>"
      ]
     },
     "metadata": {
      "needs_background": "light"
     },
     "output_type": "display_data"
    },
    {
     "name": "stdout",
     "output_type": "stream",
     "text": [
      "\n",
      "Cluster: 2 with 33 elements\n",
      "data/policy_www.3bmeteo.com.txt               \\nINFORMATIVA PRIVACY & COOKIE POLICY\\n\\nLa pr...\n",
      "data/policy_www.mygpteam.com.txt              Informativa Privacy\\nLo scopo del presente doc...\n",
      "data/policy_www.fantacalcio.it.txt            Fantacalcio Serie A TIM Leghe Fantacalcio Seri...\n",
      "data/policy_multiplayer.it.txt                Piattaforme TUTTE PC PLAYSTATION 5 PLAYSTATION...\n",
      "data/policy_www.fanpage.it.txt                Privacy Policy di www.fanpage.it Questa Applic...\n",
      "data/policy_www.ilmessaggero.it.txt           \\nCookie Policy di ilmessaggero.it\\n\\nQuesto d...\n",
      "data/policy_spunteblu.it.txt                  Home Raccontaci la tua storia Cristina&Luca Cr...\n",
      "data/policy_www.ilgazzettino.it.txt           \\nCookie Policy di ilgazzettino.it\\n\\nQuesto d...\n",
      "data/policy_www.leggo.it.txt                  \\nCookie Policy di leggo.it\\n\\nQuesto document...\n",
      "data/policy_www.money.it.txt                  document.getElementById('search-input').focus(...\n",
      "data/policy_movieplayer.it.txt                Film Serie TV personaggi Cinema Streaming Guid...\n",
      "data/policy_www.greenme.it.txt                \\nPrivacy Policy di greenMe\\n\\nGreenMe raccogl...\n",
      "data/policy_www.varesenews.it.txt             \\nPrivacy Policy di www.varesenews.it\\n\\nQuest...\n",
      "data/policy_www.informazionefiscale.it.txt    \\nPrivacy Policy di www.informazionefiscale.it...\n",
      "data/policy_www.angolotesti.it.txt            Informativa privacy Angolotesti.it Informativa...\n",
      "data/policy_gazzettadelsud.it.txt             Questo sito contribuisce all’audience di Leggi...\n",
      "data/policy_www.cookist.it.txt                Privacy Policy di www.cookist.it Questa Applic...\n",
      "data/policy_gds.it.txt                        Questo sito contribuisce all’audience di Menu ...\n",
      "data/policy_www.cinematographe.it.txt         News Box office Speciali IMAX e 3D Cinema busi...\n",
      "data/policy_www.panorama.it.txt               Cookie Policy di www.panorama.it Questo docume...\n",
      "data/policy_www.corriereadriatico.it.txt      \\nCookie Policy di corriereadriatico.it\\n\\nQue...\n",
      "data/policy_gizchina.it.txt                   ­ 💰 Risparmia grazie al nostro canale Telegram...\n",
      "data/policy_www.promoqui.it.txt               \\nCookie Policy di PromoQui\\n\\nQuesto document...\n",
      "data/policy_www.aci.it.txt                    Questo documento contiene informazioni in meri...\n",
      "data/policy_www.sicurauto.it.txt              Privacy Policy di SicurAUTO.it & SicurMOTO.it ...\n",
      "data/policy_www.ilnapolista.it.txt            Cookie Policy di ilnapolista Questo documento ...\n",
      "data/policy_ildolomiti.it.txt                 NAVIGA HOME chiudi menu HOME SEZIONI Cronaca E...\n",
      "data/policy_www.businessonline.it.txt         Home Lavoro Fisco e Tasse Economia e Finanza I...\n",
      "data/policy_www.bergamonews.it.txt            menu home Bergamo Provincia Politica Economia ...\n",
      "data/policy_www.lanuovasardegna.it:443.txt    \\nPrivacy Policy di www.lanuovasardegna.it\\n\\n...\n",
      "data/policy_www.animeclick.it.txt             \\nPrivacy Policy\\n\\nQuesto Sito Web raccoglie ...\n",
      "data/policy_www.comune.rozzano.mi.it.txt      Privacy Policy di Comune di Rozzano (MI) Quest...\n",
      "data/policy_www.comune.segrate.mi.it.txt      \\nPrivacy-Cookies\\nIn dettaglio\\n\\nQuesta Appl...\n",
      "Name: Text, dtype: object\n",
      "\n",
      "Higher score is easier to read\n",
      "Hard to read texts: 2\n",
      "as a percentage of total: 6.1%\n",
      "Average gulpease index: 43.2\n",
      "Texts above recommended level (8th grade rough italian equivalent) 100.0%\n",
      "[41.0, 37.6, 42.8, 44.4, 43.7, 46.6, 50.1, 46.8, 46.9, 44.0, 44.6, 42.3, 44.2, 42.5, 48.0, 41.1, 44.4, 41.7, 44.6, 44.1, 47.2, 42.1, 42.9, 40.7, 43.0, 42.4, 40.1, 40.8, 38.4, 42.1, 44.0, 40.6, 40.4]\n"
     ]
    },
    {
     "data": {
      "image/png": "[encoded data removed]",
      "text/plain": [
       "<Figure size 432x288 with 1 Axes>"
      ]
     },
     "metadata": {
      "needs_background": "light"
     },
     "output_type": "display_data"
    },
    {
     "name": "stdout",
     "output_type": "stream",
     "text": [
      "\n",
      "Cluster: 3 with 5 elements\n",
      "data/policy_www.tuttojuve.com.txt          Privacy Policy\\n\\nIl GDPR (General Data Protec...\n",
      "data/policy_www.tuttomercatoweb.com.txt    MenuSerie ASerie BSerie CCalcio EsteroQatar 20...\n",
      "data/policy_www.tuttonapoli.net.txt        Privacy Policy\\n\\nIl GDPR (General Data Protec...\n",
      "data/policy_www.milannews.it.txt           Privacy Policy\\n\\nIl GDPR (General Data Protec...\n",
      "data/policy_www.lalaziosiamonoi.it.txt     Privacy Policy\\n\\nIl GDPR (General Data Protec...\n",
      "Name: Text, dtype: object\n",
      "\n",
      "Higher score is easier to read\n",
      "Hard to read texts: 0\n",
      "as a percentage of total: 0.0%\n",
      "Average gulpease index: 42.0\n",
      "Texts above recommended level (8th grade rough italian equivalent) 100.0%\n",
      "[42.1, 41.6, 42.4, 42.9, 41.2]\n"
     ]
    },
    {
     "data": {
      "image/png": "[encoded data removed]",
      "text/plain": [
       "<Figure size 432x288 with 1 Axes>"
      ]
     },
     "metadata": {
      "needs_background": "light"
     },
     "output_type": "display_data"
    },
    {
     "name": "stdout",
     "output_type": "stream",
     "text": [
      "\n",
      "Cluster: 4 with 2 elements\n",
      "data/policy_weather.com.txt           Passa al contenuto principaleAssistenza per ac...\n",
      "data/policy_www.gettyimages.it.txt    Bacheche 0 Accedi Creative Editorial Sport Ent...\n",
      "Name: Text, dtype: object\n",
      "\n",
      "Higher score is easier to read\n",
      "Hard to read texts: 1\n",
      "as a percentage of total: 50.0%\n",
      "Average gulpease index: 39.5\n",
      "Texts above recommended level (8th grade rough italian equivalent) 100.0%\n",
      "[38.2, 40.8]\n"
     ]
    },
    {
     "data": {
      "image/png": "[encoded data removed]",
      "text/plain": [
       "<Figure size 432x288 with 1 Axes>"
      ]
     },
     "metadata": {
      "needs_background": "light"
     },
     "output_type": "display_data"
    },
    {
     "name": "stdout",
     "output_type": "stream",
     "text": [
      "\n",
      "Cluster: 5 with 2 elements\n",
      "data/policy_www.tuttosport.com.txt           Tuttosport.comTuttosport.com ABBONATI A €0,99 ...\n",
      "data/policy_www.corrieredellosport.it.txt    Corriere dello Sport.itCorriere dello Sport.it...\n",
      "Name: Text, dtype: object\n",
      "\n",
      "Higher score is easier to read\n",
      "Hard to read texts: 0\n",
      "as a percentage of total: 0.0%\n",
      "Average gulpease index: 41.8\n",
      "Texts above recommended level (8th grade rough italian equivalent) 100.0%\n",
      "[41.9, 41.6]\n"
     ]
    },
    {
     "data": {
      "image/png": "[encoded data removed]",
      "text/plain": [
       "<Figure size 432x288 with 1 Axes>"
      ]
     },
     "metadata": {
      "needs_background": "light"
     },
     "output_type": "display_data"
    },
    {
     "name": "stdout",
     "output_type": "stream",
     "text": [
      "\n",
      "Cluster: 6 with 2 elements\n",
      "data/policy_poste.it.txt                La versione del tuo browser non è aggiornata. ...\n",
      "data/policy_www.posteitaliane.it.txt    Stai utilizzando una versione obsoleta di Inte...\n",
      "Name: Text, dtype: object\n",
      "\n",
      "Higher score is easier to read\n",
      "Hard to read texts: 1\n",
      "as a percentage of total: 50.0%\n",
      "Average gulpease index: 39.7\n",
      "Texts above recommended level (8th grade rough italian equivalent) 100.0%\n",
      "[33.2, 46.2]\n"
     ]
    },
    {
     "data": {
      "image/png": "[encoded data removed]",
      "text/plain": [
       "<Figure size 432x288 with 1 Axes>"
      ]
     },
     "metadata": {
      "needs_background": "light"
     },
     "output_type": "display_data"
    },
    {
     "name": "stdout",
     "output_type": "stream",
     "text": [
      "\n",
      "Cluster: 7 with 4 elements\n",
      "data/policy_www.lastampa.it.txt          \\nCookie Policy\\n\\nUltimo aggiornamento: Ottob...\n",
      "data/policy_www.huffingtonpost.it.txt    \\nCookie Policy\\n\\nUltimo aggiornamento: Ottob...\n",
      "data/policy_www.deejay.it.txt            \\nCookie Policy\\n\\nUltimo aggiornamento: Ottob...\n",
      "data/policy_www.ilsecoloxix.it.txt       \\nCookie Policy\\n\\nUltimo aggiornamento: Ottob...\n",
      "Name: Text, dtype: object\n",
      "\n",
      "Higher score is easier to read\n",
      "Hard to read texts: 4\n",
      "as a percentage of total: 100.0%\n",
      "Average gulpease index: 38.0\n",
      "Texts above recommended level (8th grade rough italian equivalent) 100.0%\n",
      "[38.0, 38.0, 38.0, 38.0]\n"
     ]
    },
    {
     "data": {
      "image/png": "[encoded data removed]",
      "text/plain": [
       "<Figure size 432x288 with 1 Axes>"
      ]
     },
     "metadata": {
      "needs_background": "light"
     },
     "output_type": "display_data"
    },
    {
     "name": "stdout",
     "output_type": "stream",
     "text": [
      "\n",
      "Cluster: 8 with 3 elements\n",
      "data/policy_www.bing.com.txt         Informativa sulla privacy di Microsoft\\nUltimo...\n",
      "data/policy_outlook.live.com.txt     Informativa sulla privacy di Microsoft\\nUltimo...\n",
      "data/policy_www.microsoft.com.txt    Informativa sulla privacy di Microsoft\\nUltimo...\n",
      "Name: Text, dtype: object\n",
      "\n",
      "Higher score is easier to read\n",
      "Hard to read texts: 1\n",
      "as a percentage of total: 33.3%\n",
      "Average gulpease index: 41.4\n",
      "Texts above recommended level (8th grade rough italian equivalent) 100.0%\n",
      "[39.3, 42.4, 42.4]\n"
     ]
    },
    {
     "data": {
      "image/png": "[encoded data removed]",
      "text/plain": [
       "<Figure size 432x288 with 1 Axes>"
      ]
     },
     "metadata": {
      "needs_background": "light"
     },
     "output_type": "display_data"
    },
    {
     "name": "stdout",
     "output_type": "stream",
     "text": [
      "\n",
      "Cluster: 9 with 2 elements\n",
      "data/policy_diretta.it.txt                  La tua privacy\\n\\nTrattiamo i vostri dati per ...\n",
      "data/policy_www.giornaledibrescia.it.txt    ABBONATI Indice Stai leggendo: Il tuo profilo ...\n",
      "Name: Text, dtype: object\n",
      "\n",
      "Higher score is easier to read\n",
      "Hard to read texts: 1\n",
      "as a percentage of total: 50.0%\n",
      "Average gulpease index: 40.3\n",
      "Texts above recommended level (8th grade rough italian equivalent) 100.0%\n",
      "[42.5, 38.1]\n"
     ]
    },
    {
     "data": {
      "image/png": "[encoded data removed]",
      "text/plain": [
       "<Figure size 432x288 with 1 Axes>"
      ]
     },
     "metadata": {
      "needs_background": "light"
     },
     "output_type": "display_data"
    },
    {
     "name": "stdout",
     "output_type": "stream",
     "text": [
      "\n",
      "Cluster: 10 with 2 elements\n",
      "data/policy_www.liberoquotidiano.it.txt    Cerca Più su questo argomento #Qatar2022 #Mano...\n",
      "data/policy_www.iltempo.it.txt             Cerca Più su questo argomento Cerca CHI SIAMO ...\n",
      "Name: Text, dtype: object\n",
      "\n",
      "Higher score is easier to read\n",
      "Hard to read texts: 0\n",
      "as a percentage of total: 0.0%\n",
      "Average gulpease index: 42.7\n",
      "Texts above recommended level (8th grade rough italian equivalent) 100.0%\n",
      "[42.6, 42.8]\n"
     ]
    },
    {
     "data": {
      "image/png": "[encoded data removed]",
      "text/plain": [
       "<Figure size 432x288 with 1 Axes>"
      ]
     },
     "metadata": {
      "needs_background": "light"
     },
     "output_type": "display_data"
    },
    {
     "name": "stdout",
     "output_type": "stream",
     "text": [
      "\n",
      "Cluster: 11 with 10 elements\n",
      "data/policy_www.virgilio.it.txt         COOKIE POLICY DI ITALIAONLINE Gentile utente, ...\n",
      "data/policy_www.paginegialle.it.txt     Le più cercateVedi tutte Farmacie Supermercati...\n",
      "data/policy_quifinanza.it.txt           Informativa Privacy per i visitatori del sito ...\n",
      "data/policy_dilei.it.txt                Informativa Privacy per i visitatori del sito ...\n",
      "data/policy_www.paginebianche.it.txt    LIBEROVIRGILIOPAGINEGIALLEPGCASA PAGINEBIANCHE...\n",
      "data/policy_siviaggia.it.txt            Informativa Privacy per i visitatori del sito ...\n",
      "data/policy_www.italiaonline.it.txt     Soluzioni per le aziende IOL Advertising Corpo...\n",
      "data/policy_www.supereva.it.txt         INFORMATIVA PRIVACY PER I VISITATORI DEL SITO ...\n",
      "data/policy_blog.virgilio.it.txt        Informativa Privacy per i visitatori del sito ...\n",
      "data/policy_www.buonissimo.it.txt       Informativa Privacy per i visitatori del sito ...\n",
      "Name: Text, dtype: object\n",
      "\n",
      "Higher score is easier to read\n",
      "Hard to read texts: 3\n",
      "as a percentage of total: 30.0%\n",
      "Average gulpease index: 40.3\n",
      "Texts above recommended level (8th grade rough italian equivalent) 100.0%\n",
      "[29.8, 39.6, 43.2, 43.2, 33.0, 43.2, 41.9, 43.2, 43.2, 43.2]\n"
     ]
    },
    {
     "data": {
      "image/png": "[encoded data removed]",
      "text/plain": [
       "<Figure size 432x288 with 1 Axes>"
      ]
     },
     "metadata": {
      "needs_background": "light"
     },
     "output_type": "display_data"
    },
    {
     "name": "stdout",
     "output_type": "stream",
     "text": [
      "\n",
      "Cluster: 12 with 2 elements\n",
      "data/policy_www.fcinternews.it.txt    tutte le notizie nerazzurre, aggiornate 24H Ve...\n",
      "data/policy_www.inter.it.txt          Notizie Squadre Società OrganigrammaHall of Fa...\n",
      "Name: Text, dtype: object\n",
      "\n",
      "Higher score is easier to read\n",
      "Hard to read texts: 0\n",
      "as a percentage of total: 0.0%\n",
      "Average gulpease index: 42.8\n",
      "Texts above recommended level (8th grade rough italian equivalent) 100.0%\n",
      "[43.8, 41.8]\n"
     ]
    },
    {
     "data": {
      "image/png": "[encoded data removed]",
      "text/plain": [
       "<Figure size 432x288 with 1 Axes>"
      ]
     },
     "metadata": {
      "needs_background": "light"
     },
     "output_type": "display_data"
    },
    {
     "name": "stdout",
     "output_type": "stream",
     "text": [
      "\n",
      "Cluster: 13 with 10 elements\n",
      "data/policy_www.aranzulla.it:443.txt         \\nPrivacy Policy di aranzulla.it\\n\\nQuesto Sit...\n",
      "data/policy_meglio.it.txt                    \\nPrivacy Policy di aforismi.meglio.it/\\n\\nQue...\n",
      "data/policy_www.motociclismo.it.txt          Privacy Policy di Motociclismo.it Questo Sito ...\n",
      "data/policy_www.rds.it.txt                   \\nPrivacy Policy di rds.it\\n\\nQuesta Applicazi...\n",
      "data/policy_www.ohga.it.txt                  Privacy Policy di www.ohga.it Questo Sito Web ...\n",
      "data/policy_www.dire.it.txt                  \\nPrivacy Policy di dire.it\\n\\nQuesta Applicaz...\n",
      "data/policy_www.asianews.it.txt              \\nPrivacy Policy di asianews.it\\n\\nQuesto Sito...\n",
      "data/policy_consulentidellavoro.mi.it.txt    \\nPrivacy Policy di consulentidellavoro.mi.it\\...\n",
      "data/policy_aji.mi.it.txt                    \\nPrivacy Policy di aji.mi.it\\n\\nQuesto Sito W...\n",
      "data/policy_www.pim.mi.it.txt                \\nPrivacy Policy di pim.mi.it\\n\\nQuesta Applic...\n",
      "Name: Text, dtype: object\n",
      "\n",
      "Higher score is easier to read\n",
      "Hard to read texts: 10\n",
      "as a percentage of total: 100.0%\n",
      "Average gulpease index: 31.8\n",
      "Texts above recommended level (8th grade rough italian equivalent) 100.0%\n",
      "[29.1, 29.1, 29.3, 29.8, 32.3, 30.9, 34.1, 36.3, 34.1, 33.3]\n"
     ]
    },
    {
     "data": {
      "image/png": "[encoded data removed]",
      "text/plain": [
       "<Figure size 432x288 with 1 Axes>"
      ]
     },
     "metadata": {
      "needs_background": "light"
     },
     "output_type": "display_data"
    },
    {
     "name": "stdout",
     "output_type": "stream",
     "text": [
      "\n",
      "Cluster: 14 with 4 elements\n",
      "data/policy_www.register.it.txt      Domini Domini Dominio .it gratis Trasferimenti...\n",
      "data/policy_www.bakeca.it.txt        PreferitiAccediRegistratiPreferitiAccediRegist...\n",
      "data/policy_www.enel.it.txt          Quick links Gestisci la tua fornitura Trova le...\n",
      "data/policy_www.miodottore.it.txt    ati personali degli utenti\\nChi è il titolare ...\n",
      "Name: Text, dtype: object\n",
      "\n",
      "Higher score is easier to read\n",
      "Hard to read texts: 1\n",
      "as a percentage of total: 25.0%\n",
      "Average gulpease index: 39.8\n",
      "Texts above recommended level (8th grade rough italian equivalent) 100.0%\n",
      "[40.2, 34.2, 40.0, 44.6]\n"
     ]
    },
    {
     "data": {
      "image/png": "[encoded data removed]",
      "text/plain": [
       "<Figure size 432x288 with 1 Axes>"
      ]
     },
     "metadata": {
      "needs_background": "light"
     },
     "output_type": "display_data"
    },
    {
     "name": "stdout",
     "output_type": "stream",
     "text": [
      "\n",
      "Cluster: 15 with 2 elements\n",
      "data/policy_www.aruba.it.txt    Highlight AllMatch Case Match DiacriticsWhole ...\n",
      "data/policy_www.pec.it.txt      Highlight AllMatch Case Match DiacriticsWhole ...\n",
      "Name: Text, dtype: object\n",
      "\n",
      "Higher score is easier to read\n",
      "Hard to read texts: 2\n",
      "as a percentage of total: 100.0%\n",
      "Average gulpease index: 19.0\n",
      "Texts above recommended level (8th grade rough italian equivalent) 100.0%\n",
      "[19.0, 19.0]\n"
     ]
    },
    {
     "data": {
      "image/png": "[encoded data removed]",
      "text/plain": [
       "<Figure size 432x288 with 1 Axes>"
      ]
     },
     "metadata": {
      "needs_background": "light"
     },
     "output_type": "display_data"
    },
    {
     "name": "stdout",
     "output_type": "stream",
     "text": [
      "\n",
      "Cluster: 16 with 3 elements\n",
      "data/policy_www.tim.it.txt          PRIVATI P.IVA e PMI AZIENDE E PA Fisso e Mobil...\n",
      "data/policy_www.gruppotim.it.txt    La forza delle connessioni PreviousNext Chi si...\n",
      "data/policy_tin.it.txt              PRIVATI P.IVA e PMI AZIENDE E PA Fisso e Mobil...\n",
      "Name: Text, dtype: object\n",
      "\n",
      "Higher score is easier to read\n",
      "Hard to read texts: 3\n",
      "as a percentage of total: 100.0%\n",
      "Average gulpease index: 35.2\n",
      "Texts above recommended level (8th grade rough italian equivalent) 100.0%\n",
      "[39.2, 27.2, 39.2]\n"
     ]
    },
    {
     "data": {
      "image/png": "[encoded data removed]",
      "text/plain": [
       "<Figure size 432x288 with 1 Axes>"
      ]
     },
     "metadata": {
      "needs_background": "light"
     },
     "output_type": "display_data"
    },
    {
     "name": "stdout",
     "output_type": "stream",
     "text": [
      "\n",
      "Cluster: 17 with 2 elements\n",
      "data/policy_www.ibs.it.txt        Highlight AllMatch Case Match DiacriticsWhole ...\n",
      "data/policy_www.fastweb.it.txt    Highlight AllMatch Case Match DiacriticsWhole ...\n",
      "Name: Text, dtype: object\n",
      "\n",
      "Higher score is easier to read\n",
      "Hard to read texts: 2\n",
      "as a percentage of total: 100.0%\n",
      "Average gulpease index: 36.3\n",
      "Texts above recommended level (8th grade rough italian equivalent) 100.0%\n",
      "[35.2, 37.4]\n"
     ]
    },
    {
     "data": {
      "image/png": "[encoded data removed]",
      "text/plain": [
       "<Figure size 432x288 with 1 Axes>"
      ]
     },
     "metadata": {
      "needs_background": "light"
     },
     "output_type": "display_data"
    },
    {
     "name": "stdout",
     "output_type": "stream",
     "text": [
      "\n",
      "Cluster: 18 with 2 elements\n",
      "data/policy_www.moto.it.txt        News Prove Elettrico MotoGP SBK Sport Viaggi V...\n",
      "data/policy_www.automoto.it.txt    News Prove Elettrico F1 Saloni Listino Nuovo L...\n",
      "Name: Text, dtype: object\n",
      "\n",
      "Higher score is easier to read\n",
      "Hard to read texts: 0\n",
      "as a percentage of total: 0.0%\n",
      "Average gulpease index: 42.0\n",
      "Texts above recommended level (8th grade rough italian equivalent) 100.0%\n",
      "[42.3, 41.6]\n"
     ]
    },
    {
     "data": {
      "image/png": "[encoded data removed]",
      "text/plain": [
       "<Figure size 432x288 with 1 Axes>"
      ]
     },
     "metadata": {
      "needs_background": "light"
     },
     "output_type": "display_data"
    },
    {
     "name": "stdout",
     "output_type": "stream",
     "text": [
      "\n",
      "Cluster: 19 with 2 elements\n",
      "data/policy_forumfree.it.txt          Privacy Policy\\nForumFree di Walter Labbate, P...\n",
      "data/policy_www.robadadonne.it.txt    \\nInformativa Privacy\\n\\nMedia Prime S.r.l., c...\n",
      "Name: Text, dtype: object\n",
      "\n",
      "Higher score is easier to read\n",
      "Hard to read texts: 1\n",
      "as a percentage of total: 50.0%\n",
      "Average gulpease index: 39.5\n",
      "Texts above recommended level (8th grade rough italian equivalent) 100.0%\n",
      "[41.3, 37.8]\n"
     ]
    },
    {
     "data": {
      "image/png": "[encoded data removed]",
      "text/plain": [
       "<Figure size 432x288 with 1 Axes>"
      ]
     },
     "metadata": {
      "needs_background": "light"
     },
     "output_type": "display_data"
    },
    {
     "name": "stdout",
     "output_type": "stream",
     "text": [
      "\n",
      "Cluster: 20 with 4 elements\n",
      "data/policy_www.html.it.txt         Nessun risultato. Prova con un altro termine. ...\n",
      "data/policy_www.pmi.it.txt          \\nInformativa Privacy\\n\\nT-Mediahouse s.r.l, S...\n",
      "data/policy_www.tvblog.it.txt       \\nInformativa Privacy\\n\\nT-Mediahouse s.r.l, S...\n",
      "data/policy_www.agrodolce.it.txt    \\nInformativa Privacy\\n\\nT-Mediahouse s.r.l, S...\n",
      "Name: Text, dtype: object\n",
      "\n",
      "Higher score is easier to read\n",
      "Hard to read texts: 4\n",
      "as a percentage of total: 100.0%\n",
      "Average gulpease index: 36.4\n",
      "Texts above recommended level (8th grade rough italian equivalent) 100.0%\n",
      "[36.2, 36.4, 36.4, 36.4]\n"
     ]
    },
    {
     "data": {
      "image/png": "[encoded data removed]",
      "text/plain": [
       "<Figure size 432x288 with 1 Axes>"
      ]
     },
     "metadata": {
      "needs_background": "light"
     },
     "output_type": "display_data"
    },
    {
     "name": "stdout",
     "output_type": "stream",
     "text": [
      "\n",
      "Cluster: 21 with 4 elements\n",
      "data/policy_www.quattroruote.it.txt    Informativa privacy ai sensi del Regolamento G...\n",
      "data/policy_www.linkiesta.it.txt       Accedi Ricerca per: Store\\nLINKIESTA CLUB\\nNew...\n",
      "data/policy_www.domusweb.it.txt        Informativa privacy ai sensi del Regolamento G...\n",
      "data/policy_www.dueruote.it.txt        Informativa privacy ai sensi del Regolamento G...\n",
      "Name: Text, dtype: object\n",
      "\n",
      "Higher score is easier to read\n",
      "Hard to read texts: 0\n",
      "as a percentage of total: 0.0%\n",
      "Average gulpease index: 42.8\n",
      "Texts above recommended level (8th grade rough italian equivalent) 100.0%\n",
      "[42.9, 42.3, 42.9, 42.9]\n"
     ]
    },
    {
     "data": {
      "image/png": "[encoded data removed]",
      "text/plain": [
       "<Figure size 432x288 with 1 Axes>"
      ]
     },
     "metadata": {
      "needs_background": "light"
     },
     "output_type": "display_data"
    },
    {
     "name": "stdout",
     "output_type": "stream",
     "text": [
      "\n",
      "Cluster: 22 with 3 elements\n",
      "data/policy_www.groupon.it.txt    If you're seeing this message, that means Java...\n",
      "data/policy_www.ionos.it.txt      Termini e Condizioni T&C Condizioni Generali S...\n",
      "data/policy_www.lidl.it.txt       No Javascript No Javascript Attiva Javascript ...\n",
      "Name: Text, dtype: object\n",
      "\n",
      "Higher score is easier to read\n",
      "Hard to read texts: 1\n",
      "as a percentage of total: 33.3%\n",
      "Average gulpease index: 43.0\n",
      "Texts above recommended level (8th grade rough italian equivalent) 100.0%\n",
      "[40.9, 48.1, 39.9]\n"
     ]
    },
    {
     "data": {
      "image/png": "[encoded data removed]",
      "text/plain": [
       "<Figure size 432x288 with 1 Axes>"
      ]
     },
     "metadata": {
      "needs_background": "light"
     },
     "output_type": "display_data"
    },
    {
     "name": "stdout",
     "output_type": "stream",
     "text": [
      "\n",
      "Cluster: 23 with 3 elements\n",
      "data/policy_www.rai.it.txt             \\nChi siamo e quali sono le nostre garanzie su...\n",
      "data/policy_www.raiplay.it.txt         RAIPLAY TV RAIPLAY SOUND NEWS SPORT BAMBINI RA...\n",
      "data/policy_www.raiplaysound.it.txt    RAIPLAY TV RAIPLAY SOUND NEWS SPORT BAMBINI RA...\n",
      "Name: Text, dtype: object\n",
      "\n",
      "Higher score is easier to read\n",
      "Hard to read texts: 0\n",
      "as a percentage of total: 0.0%\n",
      "Average gulpease index: 44.8\n",
      "Texts above recommended level (8th grade rough italian equivalent) 100.0%\n",
      "[46.4, 44.0, 44.0]\n"
     ]
    },
    {
     "data": {
      "image/png": "[encoded data removed]",
      "text/plain": [
       "<Figure size 432x288 with 1 Axes>"
      ]
     },
     "metadata": {
      "needs_background": "light"
     },
     "output_type": "display_data"
    },
    {
     "name": "stdout",
     "output_type": "stream",
     "text": [
      "\n",
      "Cluster: 24 with 2 elements\n",
      "data/policy_www.brt.it.txt    Spedire Ricevere Business Le filiali BRT-fermo...\n",
      "data/policy_tnt.it.txt        Accedi a myTNT/\\nRicaricaMenu Spedisci ora Tra...\n",
      "Name: Text, dtype: object\n",
      "\n",
      "Higher score is easier to read\n",
      "Hard to read texts: 0\n",
      "as a percentage of total: 0.0%\n",
      "Average gulpease index: 41.5\n",
      "Texts above recommended level (8th grade rough italian equivalent) 100.0%\n",
      "[40.4, 42.6]\n"
     ]
    },
    {
     "data": {
      "image/png": "[encoded data removed]",
      "text/plain": [
       "<Figure size 432x288 with 1 Axes>"
      ]
     },
     "metadata": {
      "needs_background": "light"
     },
     "output_type": "display_data"
    },
    {
     "name": "stdout",
     "output_type": "stream",
     "text": [
      "\n",
      "Cluster: 25 with 2 elements\n",
      "data/policy_www.meteo.it.txt                  Previsioni Previsioni meteo Italia Previsioni ...\n",
      "data/policy_www.centrometeoitaliano.it.txt    Questo sito contribuisce alla audience di Chi ...\n",
      "Name: Text, dtype: object\n",
      "\n",
      "Higher score is easier to read\n",
      "Hard to read texts: 0\n",
      "as a percentage of total: 0.0%\n",
      "Average gulpease index: 41.6\n",
      "Texts above recommended level (8th grade rough italian equivalent) 100.0%\n",
      "[41.5, 41.8]\n"
     ]
    },
    {
     "data": {
      "image/png": "[encoded data removed]",
      "text/plain": [
       "<Figure size 432x288 with 1 Axes>"
      ]
     },
     "metadata": {
      "needs_background": "light"
     },
     "output_type": "display_data"
    },
    {
     "name": "stdout",
     "output_type": "stream",
     "text": [
      "\n",
      "Cluster: 26 with 7 elements\n",
      "data/policy_agenziaentrate.gov.it.txt         Navigazione Salta al contenuto Ministero dell'...\n",
      "data/policy_www.adm.gov.it.txt                L'Agenzia delle Accise, Dogane e Monopoli Navi...\n",
      "data/policy_www.agenziaentrate.gov.it.txt     Navigazione Salta al contenuto Ministero dell'...\n",
      "data/policy_www.gdf.gov.it.txt                Informativa sul trattamento dei dati personali...\n",
      "data/policy_www.agenziacoesione.gov.it.txt    Filtri Homepage L'Agenzia Brochure Agenzia (IT...\n",
      "data/policy_www.agea.gov.it.txt               Chi siamo Contatti Comunicazione PEC Area cons...\n",
      "data/policy_www.malattierare.gov.it.txt       Privacy Policy del Sito\\nPERCHÈ QUESTO AVVISO\\...\n",
      "Name: Text, dtype: object\n",
      "\n",
      "Higher score is easier to read\n",
      "Hard to read texts: 4\n",
      "as a percentage of total: 57.1%\n",
      "Average gulpease index: 38.8\n",
      "Texts above recommended level (8th grade rough italian equivalent) 100.0%\n",
      "[36.2, 36.9, 36.2, 42.6, 36.1, 40.3, 43.0]\n"
     ]
    },
    {
     "data": {
      "image/png": "[encoded data removed]",
      "text/plain": [
       "<Figure size 432x288 with 1 Axes>"
      ]
     },
     "metadata": {
      "needs_background": "light"
     },
     "output_type": "display_data"
    },
    {
     "name": "stdout",
     "output_type": "stream",
     "text": [
      "\n",
      "Cluster: 27 with 5 elements\n",
      "data/policy_www.vanityfair.it.txt          Skip to main content Edizione Stati Uniti Spag...\n",
      "data/policy_www.wired.it.txt               Skip to main content Privacy Scienza Economia ...\n",
      "data/policy_www.vogue.it.txt               Skip to main content Edizione Arabia Australia...\n",
      "data/policy_www.lacucinaitaliana.it.txt    Skip to main content Abbonamenti Newsletter Ce...\n",
      "data/policy_www.gqitalia.it.txt            Skip to main content Edition Australia Brasil ...\n",
      "Name: Text, dtype: object\n",
      "\n",
      "Higher score is easier to read\n",
      "Hard to read texts: 5\n",
      "as a percentage of total: 100.0%\n",
      "Average gulpease index: 39.6\n",
      "Texts above recommended level (8th grade rough italian equivalent) 100.0%\n",
      "[39.5, 39.7, 39.6, 39.6, 39.6]\n"
     ]
    },
    {
     "data": {
      "image/png": "[encoded data removed]",
      "text/plain": [
       "<Figure size 432x288 with 1 Axes>"
      ]
     },
     "metadata": {
      "needs_background": "light"
     },
     "output_type": "display_data"
    },
    {
     "name": "stdout",
     "output_type": "stream",
     "text": [
      "\n",
      "Cluster: 28 with 7 elements\n",
      "data/policy_www.italotreno.it.txt         b\"INFORMATIVA AGLI INTERESSATI AI SENSI DELLAR...\n",
      "data/policy_www.laleggepertutti.it.txt    b\"INFORMATIVA PRIVACYGENERAL DATA PROTECTION R...\n",
      "data/policy_www.libraccio.it.txt          b'INFORMATIVA SUL TRATTAMENTO DEI DATI PERSONA...\n",
      "data/policy_www.intervieweb.it:443.txt    b'INFORMATIVAsul trattamento dei dati personal...\n",
      "data/policy_www.neosair.it.txt            b'Informativa al trattamento dei dati ex art. ...\n",
      "data/policy_www.nicolaporro.it.txt        b\"Lunifin SrlLargo F. Richini 2\\\\A20122 Milano...\n",
      "data/policy_www.unicusano.it.txt          b\"INFORMATIVA WEB PRIVACY AI SENSI DELLARTICOL...\n",
      "Name: Text, dtype: object\n",
      "\n",
      "Higher score is easier to read\n",
      "Hard to read texts: 6\n",
      "as a percentage of total: 85.7%\n",
      "Average gulpease index: 36.6\n",
      "Texts above recommended level (8th grade rough italian equivalent) 100.0%\n",
      "[34.9, 35.7, 36.2, 34.8, 35.8, 38.3, 40.5]\n"
     ]
    },
    {
     "data": {
      "image/png": "[encoded data removed]",
      "text/plain": [
       "<Figure size 432x288 with 1 Axes>"
      ]
     },
     "metadata": {
      "needs_background": "light"
     },
     "output_type": "display_data"
    },
    {
     "name": "stdout",
     "output_type": "stream",
     "text": [
      "\n",
      "Cluster: 29 with 2 elements\n",
      "data/policy_www.unieuro.it.txt     Ricevi in tempo i tuoi regali di Natale 🎁 Scop...\n",
      "data/policy_www.euronics.it.txt    Skip to main contentSkip to footer content SOT...\n",
      "Name: Text, dtype: object\n",
      "\n",
      "Higher score is easier to read\n",
      "Hard to read texts: 2\n",
      "as a percentage of total: 100.0%\n",
      "Average gulpease index: 34.3\n",
      "Texts above recommended level (8th grade rough italian equivalent) 100.0%\n",
      "[31.6, 37.0]\n"
     ]
    },
    {
     "data": {
      "image/png": "[encoded data removed]",
      "text/plain": [
       "<Figure size 432x288 with 1 Axes>"
      ]
     },
     "metadata": {
      "needs_background": "light"
     },
     "output_type": "display_data"
    },
    {
     "name": "stdout",
     "output_type": "stream",
     "text": [
      "\n",
      "Cluster: 30 with 18 elements\n",
      "data/policy_www.today.it.txt           Informativa Privacy e Cookie Policy Siti Web C...\n",
      "data/policy_www.romatoday.it.txt       Informativa Privacy e Cookie Policy Siti Web C...\n",
      "data/policy_www.milanotoday.it.txt     Informativa Privacy e Cookie Policy Siti Web C...\n",
      "data/policy_www.napolitoday.it.txt     Informativa Privacy e Cookie Policy Siti Web C...\n",
      "data/policy_www.palermotoday.it.txt    Informativa Privacy e Cookie Policy Siti Web C...\n",
      "data/policy_www.padovaoggi.it.txt      Informativa Privacy e Cookie Policy Siti Web C...\n",
      "data/policy_www.bolognatoday.it.txt    Informativa Privacy e Cookie Policy Siti Web C...\n",
      "data/policy_www.bresciatoday.it.txt    Informativa Privacy e Cookie Policy Siti Web C...\n",
      "data/policy_www.lecceprima.it.txt      Informativa Privacy e Cookie Policy Siti Web C...\n",
      "data/policy_www.foggiatoday.it.txt     Informativa Privacy e Cookie Policy Siti Web C...\n",
      "data/policy_www.torinotoday.it.txt     Informativa Privacy e Cookie Policy Siti Web C...\n",
      "data/policy_www.forlitoday.it.txt      Informativa Privacy e Cookie Policy Siti Web C...\n",
      "data/policy_www.firenzetoday.it.txt    Informativa Privacy e Cookie Policy Siti Web C...\n",
      "data/policy_www.genovatoday.it.txt     Informativa Privacy e Cookie Policy Siti Web C...\n",
      "data/policy_www.cataniatoday.it.txt    Informativa Privacy e Cookie Policy Siti Web C...\n",
      "data/policy_www.casertanews.it.txt     Informativa Privacy e Cookie Policy Siti Web C...\n",
      "data/policy_www.baritoday.it.txt       Informativa Privacy e Cookie Policy Siti Web C...\n",
      "data/policy_www.perugiatoday.it.txt    Informativa Privacy e Cookie Policy Siti Web C...\n",
      "Name: Text, dtype: object\n",
      "\n",
      "Higher score is easier to read\n",
      "Hard to read texts: 0\n",
      "as a percentage of total: 0.0%\n",
      "Average gulpease index: 40.2\n",
      "Texts above recommended level (8th grade rough italian equivalent) 100.0%\n",
      "[40.2, 40.2, 40.2, 40.2, 40.2, 40.2, 40.2, 40.2, 40.2, 40.2, 40.2, 40.2, 40.2, 40.2, 40.2, 40.2, 40.2, 40.2]\n"
     ]
    },
    {
     "data": {
      "image/png": "[encoded data removed]",
      "text/plain": [
       "<Figure size 432x288 with 1 Axes>"
      ]
     },
     "metadata": {
      "needs_background": "light"
     },
     "output_type": "display_data"
    },
    {
     "name": "stdout",
     "output_type": "stream",
     "text": [
      "\n",
      "Cluster: 31 with 3 elements\n",
      "data/policy_www.ilrestodelcarlino.it.txt    Privacy Robin\\n\\nInformativa Privacy ai sensi ...\n",
      "data/policy_www.lanazione.it.txt            Privacy Robin\\n\\nInformativa Privacy ai sensi ...\n",
      "data/policy_www.ilgiorno.it.txt             Privacy Robin\\n\\nInformativa Privacy ai sensi ...\n",
      "Name: Text, dtype: object\n",
      "\n",
      "Higher score is easier to read\n",
      "Hard to read texts: 3\n",
      "as a percentage of total: 100.0%\n",
      "Average gulpease index: 39.9\n",
      "Texts above recommended level (8th grade rough italian equivalent) 100.0%\n",
      "[39.9, 39.9, 39.9]\n"
     ]
    },
    {
     "data": {
      "image/png": "[encoded data removed]",
      "text/plain": [
       "<Figure size 432x288 with 1 Axes>"
      ]
     },
     "metadata": {
      "needs_background": "light"
     },
     "output_type": "display_data"
    },
    {
     "name": "stdout",
     "output_type": "stream",
     "text": [
      "\n",
      "Cluster: 32 with 2 elements\n",
      "data/policy_www.tomshw.it.txt         HOME Tom’s hardware Game Division MobileLabs C...\n",
      "data/policy_www.spaziogames.it.txt    News Articoli Recensioni Anteprime Rubriche Sp...\n",
      "Name: Text, dtype: object\n",
      "\n",
      "Higher score is easier to read\n",
      "Hard to read texts: 0\n",
      "as a percentage of total: 0.0%\n",
      "Average gulpease index: 42.9\n",
      "Texts above recommended level (8th grade rough italian equivalent) 100.0%\n",
      "[42.9, 42.9]\n"
     ]
    },
    {
     "data": {
      "image/png": "[encoded data removed]",
      "text/plain": [
       "<Figure size 432x288 with 1 Axes>"
      ]
     },
     "metadata": {
      "needs_background": "light"
     },
     "output_type": "display_data"
    },
    {
     "name": "stdout",
     "output_type": "stream",
     "text": [
      "\n",
      "Cluster: 33 with 20 elements\n",
      "data/policy_polimi.it.txt            Covid-19 Menu Il Politecnico Chi siamo Network...\n",
      "data/policy_www.unipd.it.txt         Vai al contenuto Uniweb Area stampa Dipartimen...\n",
      "data/policy_www.unimi.it.txt         Salta al contenuto principale Language switche...\n",
      "data/policy_www.unipi.it.txt         Contenuto principale della paginaMenu di navig...\n",
      "data/policy_www.unict.it.txt         Vai al contenuto principaleVai al menu di navi...\n",
      "data/policy_unige.it.txt             Salta al contenuto principale Studia con noi C...\n",
      "data/policy_www.unifi.it.txt         _SKIPNAVIGATION ITA | ENG Cerca nel sito Cerca...\n",
      "data/policy_unica.it.txt             Vai al Contenuto Vai alla navigazione del sito...\n",
      "data/policy_www.unimib.it.txt        Salta al contenuto principale ACCEDI A... Segr...\n",
      "data/policy_unive.it.txt             Università Ca' Foscari Venezia Futuri studenti...\n",
      "data/policy_www.uniba.it.txt         Vai al ContenutoVai alla navigazione del sito ...\n",
      "data/policy_www.unipr.it.txt         Salta al contenuto principaleSalta a fondo pag...\n",
      "data/policy_www.unisi.it.txt         Salta al contenuto principale Università degli...\n",
      "data/policy_www.uniud.it.txt         Passa al contenuto principale biblioteche serv...\n",
      "data/policy_www.unimore.it.txt       Salta al contenuto principale Università degli...\n",
      "data/policy_www.unical.it.txt        Cerca Cerca Campus I Servizi del Campus Futuri...\n",
      "data/policy_www.unipg.it.txt         Università degli Studi di Perugia Vai al conte...\n",
      "data/policy_www.unisalento.it.txt    Salta al contenuto principale Salta al contenu...\n",
      "data/policy_www.unibocconi.it.txt    Home Chi siamo Chi siamo Storia e identità Ate...\n",
      "data/policy_www.mur.gov.it.txt       Salta al contenuto principale Menu Governo Ita...\n",
      "Name: Text, dtype: object\n",
      "\n",
      "Higher score is easier to read\n",
      "Hard to read texts: 19\n",
      "as a percentage of total: 95.0%\n",
      "Average gulpease index: 32.2\n",
      "Texts above recommended level (8th grade rough italian equivalent) 100.0%\n",
      "[28.4, 31.0, 30.1, 41.2, 35.0, 36.7, 34.2, 33.7, 26.7, 33.4, 33.3, 32.1, 32.2, 26.2, 29.1, 29.1, 32.8, 32.9, 34.6, 31.3]\n"
     ]
    },
    {
     "data": {
      "image/png": "[encoded data removed]",
      "text/plain": [
       "<Figure size 432x288 with 1 Axes>"
      ]
     },
     "metadata": {
      "needs_background": "light"
     },
     "output_type": "display_data"
    },
    {
     "name": "stdout",
     "output_type": "stream",
     "text": [
      "\n",
      "Cluster: 34 with 2 elements\n",
      "data/policy_www.eolo.it.txt       Benvenuto Area Cliente Area Partner Codice cli...\n",
      "data/policy_www.edenred.it.txt    Chi Siamo Chi Siamo Chi Siamo Edenred Sostenib...\n",
      "Name: Text, dtype: object\n",
      "\n",
      "Higher score is easier to read\n",
      "Hard to read texts: 1\n",
      "as a percentage of total: 50.0%\n",
      "Average gulpease index: 40.0\n",
      "Texts above recommended level (8th grade rough italian equivalent) 100.0%\n",
      "[38.8, 41.3]\n"
     ]
    },
    {
     "data": {
      "image/png": "[encoded data removed]",
      "text/plain": [
       "<Figure size 432x288 with 1 Axes>"
      ]
     },
     "metadata": {
      "needs_background": "light"
     },
     "output_type": "display_data"
    },
    {
     "name": "stdout",
     "output_type": "stream",
     "text": [
      "\n",
      "Cluster: 35 with 2 elements\n",
      "data/policy_www.agid.gov.it:443.txt    Go to main content Go to site navigation Presi...\n",
      "data/policy_www.spid.gov.it.txt        agid Italiano Italiano English Deutsch SPID Si...\n",
      "Name: Text, dtype: object\n",
      "\n",
      "Higher score is easier to read\n",
      "Hard to read texts: 2\n",
      "as a percentage of total: 100.0%\n",
      "Average gulpease index: 36.6\n",
      "Texts above recommended level (8th grade rough italian equivalent) 100.0%\n",
      "[35.5, 37.8]\n"
     ]
    },
    {
     "data": {
      "image/png": "[encoded data removed]",
      "text/plain": [
       "<Figure size 432x288 with 1 Axes>"
      ]
     },
     "metadata": {
      "needs_background": "light"
     },
     "output_type": "display_data"
    },
    {
     "name": "stdout",
     "output_type": "stream",
     "text": [
      "\n",
      "Cluster: 36 with 2 elements\n",
      "data/policy_livesicilia.it.txt        Sezioni Tutte le notizie in tempo reale Cronac...\n",
      "data/policy_www.blogsicilia.it.txt    Palermo Catania Siracusa Cronaca Politica Food...\n",
      "Name: Text, dtype: object\n",
      "\n",
      "Higher score is easier to read\n",
      "Hard to read texts: 1\n",
      "as a percentage of total: 50.0%\n",
      "Average gulpease index: 39.4\n",
      "Texts above recommended level (8th grade rough italian equivalent) 100.0%\n",
      "[41.6, 37.1]\n"
     ]
    },
    {
     "data": {
      "image/png": "[encoded data removed]",
      "text/plain": [
       "<Figure size 432x288 with 1 Axes>"
      ]
     },
     "metadata": {
      "needs_background": "light"
     },
     "output_type": "display_data"
    },
    {
     "name": "stdout",
     "output_type": "stream",
     "text": [
      "\n",
      "Cluster: 37 with 2 elements\n",
      "data/policy_www.agi.it.txt     Search in primo piano Ponte ferro Monte bianco...\n",
      "data/policy_www.eni.com.txt    \\nPrivacy Policy\\n\\nL'informativa riguardante ...\n",
      "Name: Text, dtype: object\n",
      "\n",
      "Higher score is easier to read\n",
      "Hard to read texts: 2\n",
      "as a percentage of total: 100.0%\n",
      "Average gulpease index: 37.6\n",
      "Texts above recommended level (8th grade rough italian equivalent) 100.0%\n",
      "[38.3, 36.9]\n"
     ]
    },
    {
     "data": {
      "image/png": "[encoded data removed]",
      "text/plain": [
       "<Figure size 432x288 with 1 Axes>"
      ]
     },
     "metadata": {
      "needs_background": "light"
     },
     "output_type": "display_data"
    },
    {
     "name": "stdout",
     "output_type": "stream",
     "text": [
      "\n",
      "Cluster: 38 with 2 elements\n",
      "data/policy_www.skyscanner.it.txt    Informativa sull'uso dei cookie\\n\\nlunedì 28 n...\n",
      "data/policy_www.intel.it.txt         Passa al contenuto principale Login Nome utent...\n",
      "Name: Text, dtype: object\n",
      "\n",
      "Higher score is easier to read\n",
      "Hard to read texts: 1\n",
      "as a percentage of total: 50.0%\n",
      "Average gulpease index: 39.6\n",
      "Texts above recommended level (8th grade rough italian equivalent) 100.0%\n",
      "[35.4, 43.8]\n"
     ]
    },
    {
     "data": {
      "image/png": "[encoded data removed]",
      "text/plain": [
       "<Figure size 432x288 with 1 Axes>"
      ]
     },
     "metadata": {
      "needs_background": "light"
     },
     "output_type": "display_data"
    },
    {
     "name": "stdout",
     "output_type": "stream",
     "text": [
      "\n",
      "Cluster: 39 with 3 elements\n",
      "data/policy_simplybook.me.txt    SimplyBook.me Iscriviti Menù Home Funzioni Fun...\n",
      "data/policy_www.ovs.it.txt       cookie policy | OVS it IT Vai al contenuto pri...\n",
      "data/policy_www.ing.it.txt       ATTENTO AL PHISHING! Daresti mai le tue chiavi...\n",
      "Name: Text, dtype: object\n",
      "\n",
      "Higher score is easier to read\n",
      "Hard to read texts: 0\n",
      "as a percentage of total: 0.0%\n",
      "Average gulpease index: 43.4\n",
      "Texts above recommended level (8th grade rough italian equivalent) 100.0%\n",
      "[46.0, 41.9, 42.4]\n"
     ]
    },
    {
     "data": {
      "image/png": "[encoded data removed]",
      "text/plain": [
       "<Figure size 432x288 with 1 Axes>"
      ]
     },
     "metadata": {
      "needs_background": "light"
     },
     "output_type": "display_data"
    },
    {
     "name": "stdout",
     "output_type": "stream",
     "text": [
      "\n",
      "Cluster: 40 with 4 elements\n",
      "data/policy_www.beniculturali.it.txt    Facebook Twitter Instagram Youtube E-mail Tele...\n",
      "data/policy_cultura.gov.it.txt          Facebook Twitter Instagram Youtube E-mail Tele...\n",
      "data/policy_opac.sbn.it.txt             Facebook Twitter Instagram Youtube E-mail Tele...\n",
      "data/policy_artbonus.gov.it.txt         INFORMATIVA SUL TRATTAMENTO DEI DATI PERSONALI...\n",
      "Name: Text, dtype: object\n",
      "\n",
      "Higher score is easier to read\n",
      "Hard to read texts: 3\n",
      "as a percentage of total: 75.0%\n",
      "Average gulpease index: 39.1\n",
      "Texts above recommended level (8th grade rough italian equivalent) 100.0%\n",
      "[37.1, 37.1, 37.1, 45.0]\n"
     ]
    },
    {
     "data": {
      "image/png": "[encoded data removed]",
      "text/plain": [
       "<Figure size 432x288 with 1 Axes>"
      ]
     },
     "metadata": {
      "needs_background": "light"
     },
     "output_type": "display_data"
    },
    {
     "name": "stdout",
     "output_type": "stream",
     "text": [
      "\n",
      "Cluster: 41 with 9 elements\n",
      "data/policy_www.governo.it.txt                     Vai al ContenutoRaggiungi il piè di pagina MEN...\n",
      "data/policy_www.protezionecivile.gov.it.txt        Vai al contenuto principaleRaggiungi il piè di...\n",
      "data/policy_www.politicheeuropee.gov.it.txt        Questo sito utilizza cookie tecnici, analytics...\n",
      "data/policy_www.informazioneeditoria.gov.it.txt    Vai al contenuto Vai alla navigazione del sito...\n",
      "data/policy_www.politicheantidroga.gov.it.txt      Vai al contenuto Vai alla navigazione del sito...\n",
      "data/policy_www.riformeistituzionali.gov.it.txt    Vai al contenuto Vai alla navigazione del sito...\n",
      "data/policy_opencup.gov.it.txt                     Utilizzando questo sito accetti l'uso di cooki...\n",
      "data/policy_www.rapportiparlamento.gov.it.txt      Vai al contenuto Vai alla navigazione del sito...\n",
      "data/policy_www.programmagoverno.gov.it.txt        Vai al contenuto Vai alla navigazione del sito...\n",
      "Name: Text, dtype: object\n",
      "\n",
      "Higher score is easier to read\n",
      "Hard to read texts: 8\n",
      "as a percentage of total: 88.9%\n",
      "Average gulpease index: 36.9\n",
      "Texts above recommended level (8th grade rough italian equivalent) 100.0%\n",
      "[38.3, 37.0, 28.9, 36.2, 39.5, 37.6, 35.5, 37.2, 41.5]\n"
     ]
    },
    {
     "data": {
      "image/png": "[encoded data removed]",
      "text/plain": [
       "<Figure size 432x288 with 1 Axes>"
      ]
     },
     "metadata": {
      "needs_background": "light"
     },
     "output_type": "display_data"
    },
    {
     "name": "stdout",
     "output_type": "stream",
     "text": [
      "\n",
      "Cluster: 42 with 3 elements\n",
      "data/policy_www.tpi.it.txt                 Leggi TPI direttamente dalla nostra app: facil...\n",
      "data/policy_www.editorialedomani.it.txt    \\nInformativa sul trattamento dei dati persona...\n",
      "data/policy_www.informazione.it.txt        Gli altri portali Notizie a Confronto Comunica...\n",
      "Name: Text, dtype: object\n",
      "\n",
      "Higher score is easier to read\n",
      "Hard to read texts: 1\n",
      "as a percentage of total: 33.3%\n",
      "Average gulpease index: 39.9\n",
      "Texts above recommended level (8th grade rough italian equivalent) 100.0%\n",
      "[36.7, 41.4, 41.6]\n"
     ]
    },
    {
     "data": {
      "image/png": "[encoded data removed]",
      "text/plain": [
       "<Figure size 432x288 with 1 Axes>"
      ]
     },
     "metadata": {
      "needs_background": "light"
     },
     "output_type": "display_data"
    },
    {
     "name": "stdout",
     "output_type": "stream",
     "text": [
      "\n",
      "Cluster: 43 with 2 elements\n",
      "data/policy_www.units.it.txt    Informativa sull'uso dei cookie sul sito web d...\n",
      "data/policy_www.sissa.it.txt    \\nCookie Policy\\nCookie Policy\\n\\nQuesta pagin...\n",
      "Name: Text, dtype: object\n",
      "\n",
      "Higher score is easier to read\n",
      "Hard to read texts: 1\n",
      "as a percentage of total: 50.0%\n",
      "Average gulpease index: 42.1\n",
      "Texts above recommended level (8th grade rough italian equivalent) 100.0%\n",
      "[37.3, 46.9]\n"
     ]
    },
    {
     "data": {
      "image/png": "[encoded data removed]",
      "text/plain": [
       "<Figure size 432x288 with 1 Axes>"
      ]
     },
     "metadata": {
      "needs_background": "light"
     },
     "output_type": "display_data"
    },
    {
     "name": "stdout",
     "output_type": "stream",
     "text": [
      "\n",
      "Cluster: 44 with 3 elements\n",
      "data/policy_www.sella.it.txt          \\n\\nInformativa Cookie\\n(REGOLAMENTO UE 2016/6...\n",
      "data/policy_www.vinted.it.txt         \\nInformativa sui cookie\\n \\nData ultimo aggio...\n",
      "data/policy_www.lottomatica.it.txt    Informativa Cookie\\n\\nBenvenuto in www.lottoma...\n",
      "Name: Text, dtype: object\n",
      "\n",
      "Higher score is easier to read\n",
      "Hard to read texts: 1\n",
      "as a percentage of total: 33.3%\n",
      "Average gulpease index: 43.6\n",
      "Texts above recommended level (8th grade rough italian equivalent) 100.0%\n",
      "[46.2, 45.9, 38.7]\n"
     ]
    },
    {
     "data": {
      "image/png": "[encoded data removed]",
      "text/plain": [
       "<Figure size 432x288 with 1 Axes>"
      ]
     },
     "metadata": {
      "needs_background": "light"
     },
     "output_type": "display_data"
    },
    {
     "name": "stdout",
     "output_type": "stream",
     "text": [
      "\n",
      "Cluster: 45 with 2 elements\n",
      "data/policy_www.superguidatv.it.txt    Home Guida TV Ora in Tv Pomeriggio in Tv Oggi ...\n",
      "data/policy_www.filmtv.it.txt          Espandi menu FilmTv Registrati oppure effettua...\n",
      "Name: Text, dtype: object\n",
      "\n",
      "Higher score is easier to read\n",
      "Hard to read texts: 0\n",
      "as a percentage of total: 0.0%\n",
      "Average gulpease index: 42.9\n",
      "Texts above recommended level (8th grade rough italian equivalent) 100.0%\n",
      "[41.5, 44.2]\n"
     ]
    },
    {
     "data": {
      "image/png": "[encoded data removed]",
      "text/plain": [
       "<Figure size 432x288 with 1 Axes>"
      ]
     },
     "metadata": {
      "needs_background": "light"
     },
     "output_type": "display_data"
    },
    {
     "name": "stdout",
     "output_type": "stream",
     "text": [
      "\n",
      "Cluster: 46 with 2 elements\n",
      "data/policy_www.calciomercato.it.txt    Primo piano Tutte le notizie Mercato Esclusive...\n",
      "data/policy_www.nanopress.it.txt        Sign in News Cronaca Politica Ambiente Spettac...\n",
      "Name: Text, dtype: object\n",
      "\n",
      "Higher score is easier to read\n",
      "Hard to read texts: 1\n",
      "as a percentage of total: 50.0%\n",
      "Average gulpease index: 39.9\n",
      "Texts above recommended level (8th grade rough italian equivalent) 100.0%\n",
      "[40.0, 39.8]\n"
     ]
    },
    {
     "data": {
      "image/png": "[encoded data removed]",
      "text/plain": [
       "<Figure size 432x288 with 1 Axes>"
      ]
     },
     "metadata": {
      "needs_background": "light"
     },
     "output_type": "display_data"
    },
    {
     "name": "stdout",
     "output_type": "stream",
     "text": [
      "\n",
      "Cluster: 47 with 2 elements\n",
      "data/policy_www.luiss.it.txt            Informativa sul trattamento dei dati di naviga...\n",
      "data/policy_www.secoloditalia.it.txt    Chi siamo Sostienici Edicola Registrati Accedi...\n",
      "Name: Text, dtype: object\n",
      "\n",
      "Higher score is easier to read\n",
      "Hard to read texts: 1\n",
      "as a percentage of total: 50.0%\n",
      "Average gulpease index: 40.0\n",
      "Texts above recommended level (8th grade rough italian equivalent) 100.0%\n",
      "[40.6, 39.5]\n"
     ]
    },
    {
     "data": {
      "image/png": "[encoded data removed]",
      "text/plain": [
       "<Figure size 432x288 with 1 Axes>"
      ]
     },
     "metadata": {
      "needs_background": "light"
     },
     "output_type": "display_data"
    },
    {
     "name": "stdout",
     "output_type": "stream",
     "text": [
      "\n",
      "Cluster: 48 with 2 elements\n",
      "data/policy_www.gazzettaufficiale.it.txt    Home la gazzetta ufficiale guida all'uso f.a.q...\n",
      "data/policy_www.garanteprivacy.it.txt       Ultimo aggiornamento: 27 luglio 2021.\\n\\nVEDI ...\n",
      "Name: Text, dtype: object\n",
      "\n",
      "Higher score is easier to read\n",
      "Hard to read texts: 1\n",
      "as a percentage of total: 50.0%\n",
      "Average gulpease index: 39.5\n",
      "Texts above recommended level (8th grade rough italian equivalent) 100.0%\n",
      "[41.0, 38.1]\n"
     ]
    },
    {
     "data": {
      "image/png": "[encoded data removed]",
      "text/plain": [
       "<Figure size 432x288 with 1 Axes>"
      ]
     },
     "metadata": {
      "needs_background": "light"
     },
     "output_type": "display_data"
    },
    {
     "name": "stdout",
     "output_type": "stream",
     "text": [
      "\n",
      "Cluster: 49 with 2 elements\n",
      "data/policy_www.cronachemaceratesi.it.txt    CHI SIAMO Redazione Licenza sui contenuti Priv...\n",
      "data/policy_libreriamo.it.txt                Vai al contenuto Libri Poesie Frasi Arte Fotog...\n",
      "Name: Text, dtype: object\n",
      "\n",
      "Higher score is easier to read\n",
      "Hard to read texts: 1\n",
      "as a percentage of total: 50.0%\n",
      "Average gulpease index: 42.8\n",
      "Texts above recommended level (8th grade rough italian equivalent) 100.0%\n",
      "[39.5, 46.0]\n"
     ]
    },
    {
     "data": {
      "image/png": "[encoded data removed]",
      "text/plain": [
       "<Figure size 432x288 with 1 Axes>"
      ]
     },
     "metadata": {
      "needs_background": "light"
     },
     "output_type": "display_data"
    },
    {
     "name": "stdout",
     "output_type": "stream",
     "text": [
      "\n",
      "Cluster: 50 with 2 elements\n",
      "data/policy_www.rinascente.it:443.txt    You need to enable JavaScript to run this app....\n",
      "data/policy_www.gamestop.it:443.txt      Cerca Cerca GS Deals Negozi Servizio clienti C...\n",
      "Name: Text, dtype: object\n",
      "\n",
      "Higher score is easier to read\n",
      "Hard to read texts: 1\n",
      "as a percentage of total: 50.0%\n",
      "Average gulpease index: 39.7\n",
      "Texts above recommended level (8th grade rough italian equivalent) 100.0%\n",
      "[38.7, 40.7]\n"
     ]
    },
    {
     "data": {
      "image/png": "[encoded data removed]",
      "text/plain": [
       "<Figure size 432x288 with 1 Axes>"
      ]
     },
     "metadata": {
      "needs_background": "light"
     },
     "output_type": "display_data"
    },
    {
     "name": "stdout",
     "output_type": "stream",
     "text": [
      "\n",
      "Cluster: 51 with 2 elements\n",
      "data/policy_www.larena.it.txt                 Edizione digitale Newsletter Segnala Necrologi...\n",
      "data/policy_www.ilgiornaledivicenza.it.txt    Edizione digitale Newsletter Segnala Necrologi...\n",
      "Name: Text, dtype: object\n",
      "\n",
      "Higher score is easier to read\n",
      "Hard to read texts: 0\n",
      "as a percentage of total: 0.0%\n",
      "Average gulpease index: 42.5\n",
      "Texts above recommended level (8th grade rough italian equivalent) 100.0%\n",
      "[42.5, 42.6]\n"
     ]
    },
    {
     "data": {
      "image/png": "[encoded data removed]",
      "text/plain": [
       "<Figure size 432x288 with 1 Axes>"
      ]
     },
     "metadata": {
      "needs_background": "light"
     },
     "output_type": "display_data"
    },
    {
     "name": "stdout",
     "output_type": "stream",
     "text": [
      "\n",
      "Cluster: 52 with 2 elements\n",
      "data/policy_www.badtaste.it.txt              Cinema TV Casa Alò Podcast News Speciali Recen...\n",
      "data/policy_www.tecnicadellascuola.it.txt     Disclaimer\\n\\n1. Regole Generali e definizion...\n",
      "Name: Text, dtype: object\n",
      "\n",
      "Higher score is easier to read\n",
      "Hard to read texts: 0\n",
      "as a percentage of total: 0.0%\n",
      "Average gulpease index: 41.3\n",
      "Texts above recommended level (8th grade rough italian equivalent) 100.0%\n",
      "[41.2, 41.4]\n"
     ]
    },
    {
     "data": {
      "image/png": "[encoded data removed]",
      "text/plain": [
       "<Figure size 432x288 with 1 Axes>"
      ]
     },
     "metadata": {
      "needs_background": "light"
     },
     "output_type": "display_data"
    },
    {
     "name": "stdout",
     "output_type": "stream",
     "text": [
      "\n",
      "Cluster: 53 with 2 elements\n",
      "data/policy_www.ipsoa.it.txt                      Privacy e cookie policy INFORMATIVA PER IL TRA...\n",
      "data/policy_www.comune.abbiategrasso.mi.it.txt    Questo sito web utilizza cookie tecnici necess...\n",
      "Name: Text, dtype: object\n",
      "\n",
      "Higher score is easier to read\n",
      "Hard to read texts: 2\n",
      "as a percentage of total: 100.0%\n",
      "Average gulpease index: 38.4\n",
      "Texts above recommended level (8th grade rough italian equivalent) 100.0%\n",
      "[39.0, 37.8]\n"
     ]
    },
    {
     "data": {
      "image/png": "[encoded data removed]",
      "text/plain": [
       "<Figure size 432x288 with 1 Axes>"
      ]
     },
     "metadata": {
      "needs_background": "light"
     },
     "output_type": "display_data"
    },
    {
     "name": "stdout",
     "output_type": "stream",
     "text": [
      "\n",
      "Cluster: 54 with 2 elements\n",
      "data/policy_www.cinefilos.it.txt    Film 2019 2020 2021 2022 2023 2024 2025 Film N...\n",
      "data/policy_www.tvserial.it.txt     Passa alla navigazione primaria Passa al conte...\n",
      "Name: Text, dtype: object\n",
      "\n",
      "Higher score is easier to read\n",
      "Hard to read texts: 0\n",
      "as a percentage of total: 0.0%\n",
      "Average gulpease index: 43.9\n",
      "Texts above recommended level (8th grade rough italian equivalent) 100.0%\n",
      "[42.8, 45.0]\n"
     ]
    },
    {
     "data": {
      "image/png": "[encoded data removed]",
      "text/plain": [
       "<Figure size 432x288 with 1 Axes>"
      ]
     },
     "metadata": {
      "needs_background": "light"
     },
     "output_type": "display_data"
    },
    {
     "name": "stdout",
     "output_type": "stream",
     "text": [
      "\n",
      "Cluster: 55 with 2 elements\n",
      "data/policy_web.unisa.it.txt                   skip to main content Cerca persona Search Engl...\n",
      "data/policy_www.ministeroturismo.gov.it.txt    Ricerca per: Menu Il Ministero Ministro Daniel...\n",
      "Name: Text, dtype: object\n",
      "\n",
      "Higher score is easier to read\n",
      "Hard to read texts: 2\n",
      "as a percentage of total: 100.0%\n",
      "Average gulpease index: 28.3\n",
      "Texts above recommended level (8th grade rough italian equivalent) 100.0%\n",
      "[25.4, 31.2]\n"
     ]
    },
    {
     "data": {
      "image/png": "[encoded data removed]",
      "text/plain": [
       "<Figure size 432x288 with 1 Axes>"
      ]
     },
     "metadata": {
      "needs_background": "light"
     },
     "output_type": "display_data"
    },
    {
     "name": "stdout",
     "output_type": "stream",
     "text": [
      "\n",
      "Cluster: 56 with 2 elements\n",
      "data/policy_www.finanze.it.txt        b\"INFORMATIVA SUL TRATTAMENTOhttps://www.finan...\n",
      "data/policy_www.finanze.gov.it.txt    b\"INFORMATIVA SUL TRATTAMENTOhttps://www.finan...\n",
      "Name: Text, dtype: object\n",
      "\n",
      "Higher score is easier to read\n",
      "Hard to read texts: 2\n",
      "as a percentage of total: 100.0%\n",
      "Average gulpease index: 32.9\n",
      "Texts above recommended level (8th grade rough italian equivalent) 100.0%\n",
      "[32.9, 32.9]\n"
     ]
    },
    {
     "data": {
      "image/png": "[encoded data removed]",
      "text/plain": [
       "<Figure size 432x288 with 1 Axes>"
      ]
     },
     "metadata": {
      "needs_background": "light"
     },
     "output_type": "display_data"
    },
    {
     "name": "stdout",
     "output_type": "stream",
     "text": [
      "\n",
      "Cluster: 57 with 2 elements\n",
      "data/policy_www.ecodibergamo.it.txt         Cerca nel sito PUBBLICITÀ ABBONAMENTI NECROLOG...\n",
      "data/policy_www.laprovinciadicomo.it.txt    Cerca nel sito PUBBLICITÀ ABBONAMENTI NECROLOG...\n",
      "Name: Text, dtype: object\n",
      "\n",
      "Higher score is easier to read\n",
      "Hard to read texts: 0\n",
      "as a percentage of total: 0.0%\n",
      "Average gulpease index: 42.4\n",
      "Texts above recommended level (8th grade rough italian equivalent) 100.0%\n",
      "[42.4, 42.4]\n"
     ]
    },
    {
     "data": {
      "image/png": "[encoded data removed]",
      "text/plain": [
       "<Figure size 432x288 with 1 Axes>"
      ]
     },
     "metadata": {
      "needs_background": "light"
     },
     "output_type": "display_data"
    },
    {
     "name": "stdout",
     "output_type": "stream",
     "text": [
      "\n",
      "Cluster: 58 with 2 elements\n",
      "data/policy_www.lavoro.gov.it.txt              \\nServizi\\nURP online\\n\\nStudi e Statistiche\\n...\n",
      "data/policy_integrazionemigranti.gov.it.txt    NOTE LEGALI\\n\\nIl portale www.integrazionemigr...\n",
      "Name: Text, dtype: object\n",
      "\n",
      "Higher score is easier to read\n",
      "Hard to read texts: 1\n",
      "as a percentage of total: 50.0%\n",
      "Average gulpease index: 39.9\n",
      "Texts above recommended level (8th grade rough italian equivalent) 100.0%\n",
      "[36.1, 43.7]\n"
     ]
    },
    {
     "data": {
      "image/png": "[encoded data removed]",
      "text/plain": [
       "<Figure size 432x288 with 1 Axes>"
      ]
     },
     "metadata": {
      "needs_background": "light"
     },
     "output_type": "display_data"
    },
    {
     "name": "stdout",
     "output_type": "stream",
     "text": [
      "\n",
      "Cluster: 59 with 2 elements\n",
      "data/policy_www.camera.it.txt             Salta al contenuto principale Social media pol...\n",
      "data/policy_www.unioncamere.gov.it.txt    Salta al contenuto principale Menu hamburgher ...\n",
      "Name: Text, dtype: object\n",
      "\n",
      "Higher score is easier to read\n",
      "Hard to read texts: 2\n",
      "as a percentage of total: 100.0%\n",
      "Average gulpease index: 35.7\n",
      "Texts above recommended level (8th grade rough italian equivalent) 100.0%\n",
      "[38.2, 33.1]\n"
     ]
    },
    {
     "data": {
      "image/png": "[encoded data removed]",
      "text/plain": [
       "<Figure size 432x288 with 1 Axes>"
      ]
     },
     "metadata": {
      "needs_background": "light"
     },
     "output_type": "display_data"
    },
    {
     "name": "stdout",
     "output_type": "stream",
     "text": [
      "\n",
      "Cluster: 60 with 2 elements\n",
      "data/policy_agenziaentrateriscossione.gov.it.txt    Vai al contenuto |\\nVai al menu principale |\\n...\n",
      "data/policy_agenziariscossione.gov.it.txt           Vai al contenuto |\\nVai al menu principale |\\n...\n",
      "Name: Text, dtype: object\n",
      "\n",
      "Higher score is easier to read\n",
      "Hard to read texts: 2\n",
      "as a percentage of total: 100.0%\n",
      "Average gulpease index: 38.5\n",
      "Texts above recommended level (8th grade rough italian equivalent) 100.0%\n",
      "[38.5, 38.5]\n"
     ]
    },
    {
     "data": {
      "image/png": "[encoded data removed]",
      "text/plain": [
       "<Figure size 432x288 with 1 Axes>"
      ]
     },
     "metadata": {
      "needs_background": "light"
     },
     "output_type": "display_data"
    },
    {
     "name": "stdout",
     "output_type": "stream",
     "text": [
      "\n",
      "Cluster: 61 with 4 elements\n",
      "data/policy_innovazione.gov.it.txt         Vai al contenuto principaleVai al footer Gover...\n",
      "data/policy_padigitale2026.gov.it.txt      Menù principaleVai al contenuto principaleVai ...\n",
      "data/policy_auu.gov.it.txt                 Dipartimento per le politiche della famiglia D...\n",
      "data/policy_identitadigitale.gov.it.txt    Vai al contenuto principaleVai al footer Dipar...\n",
      "Name: Text, dtype: object\n",
      "\n",
      "Higher score is easier to read\n",
      "Hard to read texts: 3\n",
      "as a percentage of total: 75.0%\n",
      "Average gulpease index: 38.9\n",
      "Texts above recommended level (8th grade rough italian equivalent) 100.0%\n",
      "[37.8, 36.9, 41.7, 39.1]\n"
     ]
    },
    {
     "data": {
      "image/png": "[encoded data removed]",
      "text/plain": [
       "<Figure size 432x288 with 1 Axes>"
      ]
     },
     "metadata": {
      "needs_background": "light"
     },
     "output_type": "display_data"
    },
    {
     "name": "stdout",
     "output_type": "stream",
     "text": [
      "\n",
      "Cluster: 62 with 8 elements\n",
      "data/policy_www.funzionepubblica.gov.it.txt      Vai al ContenutoRaggiungi il piè di pagina MEN...\n",
      "data/policy_partecipa.gov.it.txt                 Questo sito utilizza cookies. Se continui la n...\n",
      "data/policy_consulentipubblici.dfp.gov.it.txt    Questo sito utilizza cookies tecnici ma, altre...\n",
      "data/policy_open.gov.it.txt                      \\nPremessa\\n\\nIl Dipartimento per la Funzione ...\n",
      "data/policy_competenzedigitali.gov.it.txt        Privacy\\n\\nIn questa pagina si descrivono le m...\n",
      "data/policy_performance.gov.it.txt               Salta al contenuto principale MENU Chiudi menu...\n",
      "data/policy_www.perlapa.gov.it.txt               Questo sito utilizza cookies tecnici ma, altre...\n",
      "data/policy_lavoropubblico.gov.it.txt            Governo Italiano Presidenza del Consiglio dei ...\n",
      "Name: Text, dtype: object\n",
      "\n",
      "Higher score is easier to read\n",
      "Hard to read texts: 6\n",
      "as a percentage of total: 75.0%\n",
      "Average gulpease index: 38.1\n",
      "Texts above recommended level (8th grade rough italian equivalent) 100.0%\n",
      "[33.3, 38.6, 37.1, 40.3, 41.6, 36.6, 39.8, 37.9]\n"
     ]
    },
    {
     "data": {
      "image/png": "[encoded data removed]",
      "text/plain": [
       "<Figure size 432x288 with 1 Axes>"
      ]
     },
     "metadata": {
      "needs_background": "light"
     },
     "output_type": "display_data"
    },
    {
     "name": "stdout",
     "output_type": "stream",
     "text": [
      "\n",
      "Cluster: 63 with 2 elements\n",
      "data/policy_www.rna.gov.it.txt      INFORMATIVA SUL TRATTAMENTO DEI DATI PERSONALI...\n",
      "data/policy_uibm.mise.gov.it.txt    Il sito usa cookie per offrire un servizio mig...\n",
      "Name: Text, dtype: object\n",
      "\n",
      "Higher score is easier to read\n",
      "Hard to read texts: 1\n",
      "as a percentage of total: 50.0%\n",
      "Average gulpease index: 39.4\n",
      "Texts above recommended level (8th grade rough italian equivalent) 100.0%\n",
      "[37.6, 41.2]\n"
     ]
    },
    {
     "data": {
      "image/png": "[encoded data removed]",
      "text/plain": [
       "<Figure size 432x288 with 1 Axes>"
      ]
     },
     "metadata": {
      "needs_background": "light"
     },
     "output_type": "display_data"
    },
    {
     "name": "stdout",
     "output_type": "stream",
     "text": [
      "\n",
      "Cluster: 64 with 3 elements\n",
      "data/policy_www.istruzioneer.gov.it.txt    Skip to content +39 051 37851 direzione-emilia...\n",
      "data/policy_cert-agid.gov.it.txt           Vai al contenuto Vai alla navigazione del sito...\n",
      "data/policy_sicurezzait.gov.it.txt         Privacy Policy\\nInformativa sul trattamento de...\n",
      "Name: Text, dtype: object\n",
      "\n",
      "Higher score is easier to read\n",
      "Hard to read texts: 3\n",
      "as a percentage of total: 100.0%\n",
      "Average gulpease index: 38.3\n",
      "Texts above recommended level (8th grade rough italian equivalent) 100.0%\n",
      "[37.7, 37.8, 39.4]\n"
     ]
    },
    {
     "data": {
      "image/png": "[encoded data removed]",
      "text/plain": [
       "<Figure size 432x288 with 1 Axes>"
      ]
     },
     "metadata": {
      "needs_background": "light"
     },
     "output_type": "display_data"
    },
    {
     "name": "stdout",
     "output_type": "stream",
     "text": [
      "\n",
      "Cluster: 65 with 4 elements\n",
      "data/policy_www.politichegiovanili.gov.it.txt               \\n\\nIl Dipartimento per le Politiche Giovanili...\n",
      "data/policy_scelgoilserviziocivile.gov.it.txt               \\nPrivacy Policy\\n\\nPrivacy\\n\\nIl Dipartimento...\n",
      "data/policy_www.serviziocivile.gov.it.txt                   \\nPrivacy Policy\\n\\nIl Dipartimento per le Pol...\n",
      "data/policy_politichegiovanilieserviziocivile.gov.it.txt    \\nPrivacy Policy\\n\\nIl Dipartimento per le Pol...\n",
      "Name: Text, dtype: object\n",
      "\n",
      "Higher score is easier to read\n",
      "Hard to read texts: 4\n",
      "as a percentage of total: 100.0%\n",
      "Average gulpease index: 39.0\n",
      "Texts above recommended level (8th grade rough italian equivalent) 100.0%\n",
      "[39.2, 38.8, 38.9, 38.9]\n"
     ]
    },
    {
     "data": {
      "image/png": "[encoded data removed]",
      "text/plain": [
       "<Figure size 432x288 with 1 Axes>"
      ]
     },
     "metadata": {
      "needs_background": "light"
     },
     "output_type": "display_data"
    },
    {
     "name": "stdout",
     "output_type": "stream",
     "text": [
      "\n",
      "Cluster: 66 with 2 elements\n",
      "data/policy_opencoesione.gov.it.txt              Scrivi a OpenCoesione News RSS Open Data Engli...\n",
      "data/policy_www.fascicolosanitario.gov.it.txt    Salta al contenuto principale Agenzia per l'It...\n",
      "Name: Text, dtype: object\n",
      "\n",
      "Higher score is easier to read\n",
      "Hard to read texts: 1\n",
      "as a percentage of total: 50.0%\n",
      "Average gulpease index: 38.5\n",
      "Texts above recommended level (8th grade rough italian equivalent) 100.0%\n",
      "[40.9, 36.0]\n"
     ]
    },
    {
     "data": {
      "image/png": "[encoded data removed]",
      "text/plain": [
       "<Figure size 432x288 with 1 Axes>"
      ]
     },
     "metadata": {
      "needs_background": "light"
     },
     "output_type": "display_data"
    },
    {
     "name": "stdout",
     "output_type": "stream",
     "text": [
      "\n",
      "Cluster: 67 with 2 elements\n",
      "data/policy_www.csirt.gov.it.txt    Privacy Policy\\nInformazioni sul trattamento d...\n",
      "data/policy_www.acn.gov.it.txt      Agenzia per laCybersicurezza Nazionale Seguici...\n",
      "Name: Text, dtype: object\n",
      "\n",
      "Higher score is easier to read\n",
      "Hard to read texts: 2\n",
      "as a percentage of total: 100.0%\n",
      "Average gulpease index: 37.0\n",
      "Texts above recommended level (8th grade rough italian equivalent) 100.0%\n",
      "[37.6, 36.3]\n"
     ]
    },
    {
     "data": {
      "image/png": "[encoded data removed]",
      "text/plain": [
       "<Figure size 432x288 with 1 Axes>"
      ]
     },
     "metadata": {
      "needs_background": "light"
     },
     "output_type": "display_data"
    },
    {
     "name": "stdout",
     "output_type": "stream",
     "text": [
      "\n",
      "Cluster: 68 with 8 elements\n",
      "data/policy_www.comune.corbetta.mi.it.txt          Regione Lombardia Comune di Corbetta Seguici s...\n",
      "data/policy_www.comune.parabiago.mi.it.txt         Regione Lombardia Accedi ai servizi Città di P...\n",
      "data/policy_www.comune.cassanodadda.mi.it.txt      Benvenuto nel\\nportale della Città di Cassano ...\n",
      "data/policy_www.comune.lacchiarella.mi.it.txt      Passa al contenuto principale Passa alla barra...\n",
      "data/policy_www.comune.trezzosulladda.mi.it.txt    Vai al ContenutoRaggiungi il piè di pagina Hom...\n",
      "data/policy_www.comune.cesano-boscone.mi.it.txt    Messaggio per utenti con sintetizzatori vocali...\n",
      "data/policy_www.comune.vapriodadda.mi.it.txt       Eventi Uffici Trasparenza Comune Albo Online A...\n",
      "data/policy_www.comune.pioltello.mi.it.txt         Questo sito utilizza cookie tecnici, analytics...\n",
      "Name: Text, dtype: object\n",
      "\n",
      "Higher score is easier to read\n",
      "Hard to read texts: 8\n",
      "as a percentage of total: 100.0%\n",
      "Average gulpease index: 34.9\n",
      "Texts above recommended level (8th grade rough italian equivalent) 100.0%\n",
      "[35.3, 35.1, 37.7, 24.4, 35.7, 38.2, 39.8, 33.2]\n"
     ]
    },
    {
     "data": {
      "image/png": "[encoded data removed]",
      "text/plain": [
       "<Figure size 432x288 with 1 Axes>"
      ]
     },
     "metadata": {
      "needs_background": "light"
     },
     "output_type": "display_data"
    },
    {
     "name": "stdout",
     "output_type": "stream",
     "text": [
      "\n",
      "Cluster: 69 with 3 elements\n",
      "data/policy_www.policlinico.mi.it.txt       \\nInformativa al paziente sul trattamento dei ...\n",
      "data/policy_ordinearchitetti.mi.it.txt      Caricamento... Serve aiuto? Serve aiuto? Lo St...\n",
      "data/policy_www.istitutotumori.mi.it.txt    Navigazione Salta al contenuto Regione Lombard...\n",
      "Name: Text, dtype: object\n",
      "\n",
      "Higher score is easier to read\n",
      "Hard to read texts: 2\n",
      "as a percentage of total: 66.7%\n",
      "Average gulpease index: 39.7\n",
      "Texts above recommended level (8th grade rough italian equivalent) 100.0%\n",
      "[38.9, 41.1, 39.0]\n"
     ]
    },
    {
     "data": {
      "image/png": "[encoded data removed]",
      "text/plain": [
       "<Figure size 432x288 with 1 Axes>"
      ]
     },
     "metadata": {
      "needs_background": "light"
     },
     "output_type": "display_data"
    },
    {
     "name": "stdout",
     "output_type": "stream",
     "text": [
      "\n",
      "Cluster: 70 with 7 elements\n",
      "data/policy_comune.magenta.mi.it.txt                \\n\\nCookie\\n\\nLa presente Cookie Policy costit...\n",
      "data/policy_comune.garbagnate-milanese.mi.it.txt    Amministrazione Sindaco Giunta Comunale Consig...\n",
      "data/policy_comune.cesate.mi.it.txt                 Questo sito utilizza solo cookie tecnici e ana...\n",
      "data/policy_comune.sedriano.mi.it.txt               Questo sito utilizza solo cookie tecnici e ana...\n",
      "data/policy_comune.dairago.mi.it.txt                Questo sito utilizza solo cookie tecnici e ana...\n",
      "data/policy_comune.vizzolopredabissi.mi.it.txt      Amministrazione Sindaco Consiglio Comunale Giu...\n",
      "data/policy_comune.vanzaghello.mi.it.txt            Questo sito utilizza solo cookie tecnici e ana...\n",
      "Name: Text, dtype: object\n",
      "\n",
      "Higher score is easier to read\n",
      "Hard to read texts: 3\n",
      "as a percentage of total: 42.9%\n",
      "Average gulpease index: 39.2\n",
      "Texts above recommended level (8th grade rough italian equivalent) 100.0%\n",
      "[42.5, 40.3, 42.3, 34.3, 38.2, 41.0, 36.0]\n"
     ]
    },
    {
     "data": {
      "image/png": "[encoded data removed]",
      "text/plain": [
       "<Figure size 432x288 with 1 Axes>"
      ]
     },
     "metadata": {
      "needs_background": "light"
     },
     "output_type": "display_data"
    },
    {
     "name": "stdout",
     "output_type": "stream",
     "text": [
      "\n",
      "Cluster: 71 with 12 elements\n",
      "data/policy_www.comune.peschieraborromeo.mi.it.txt    Regione Lombardia Città di Peschiera Borromeo ...\n",
      "data/policy_www.comune.baranzate.mi.it.txt            \\nPrivacy Policy Sito su format Municipium\\n\\n...\n",
      "data/policy_www.comune.lainate.mi.it.txt              Regione Lombardia Comune di Lainate Seguici su...\n",
      "data/policy_www.comune.melzo.mi.it.txt                Regione Lombardia Comune di Melzo - Città Metr...\n",
      "data/policy_www.comune.cormano.mi.it.txt              Regione Lombardia Comune di Cormano Seguici su...\n",
      "data/policy_www.comune.binasco.mi.it.txt              Regione Lombardia Comune di Binasco Seguici su...\n",
      "data/policy_www.comune.gessate.mi.it.txt              Regione Lombardia Comune di Gessate Seguici su...\n",
      "data/policy_www.comune.inzago.mi.it.txt               Regione Lombardia Comune di Inzago Seguici su ...\n",
      "data/policy_www.comune.buccinasco.mi.it.txt           Regione Lombardia Comune di Buccinasco Seguici...\n",
      "data/policy_www.comune.assago.mi.it.txt               Regione Lombardia Comune di Assago Seguici su ...\n",
      "data/policy_www.comune.cassinadepecchi.mi.it.txt      Regione Lombardia Comune di Cassina de' Pecchi...\n",
      "data/policy_www.comune.vernate.mi.it.txt              \\nPrivacy Policy Sito su format Municipium\\n\\n...\n",
      "Name: Text, dtype: object\n",
      "\n",
      "Higher score is easier to read\n",
      "Hard to read texts: 0\n",
      "as a percentage of total: 0.0%\n",
      "Average gulpease index: 41.0\n",
      "Texts above recommended level (8th grade rough italian equivalent) 100.0%\n",
      "[40.3, 40.8, 41.0, 41.9, 40.9, 41.1, 40.7, 41.2, 40.3, 41.0, 41.1, 41.2]\n"
     ]
    },
    {
     "data": {
      "image/png": "[encoded data removed]",
      "text/plain": [
       "<Figure size 432x288 with 1 Axes>"
      ]
     },
     "metadata": {
      "needs_background": "light"
     },
     "output_type": "display_data"
    },
    {
     "name": "stdout",
     "output_type": "stream",
     "text": [
      "\n",
      "Cluster: 72 with 3 elements\n",
      "data/policy_comune.bollate.mi.it.txt       Salta al contenuto Albo Pretorio Statuto Comun...\n",
      "data/policy_www.comune.ozzero.mi.it.txt    bubblejoomlalockstar-fulltelegramuser Vai al C...\n",
      "data/policy_comune.vanzago.mi.it.txt       Salta al contenuto Cerca per: HOME IL COMUNE O...\n",
      "Name: Text, dtype: object\n",
      "\n",
      "Higher score is easier to read\n",
      "Hard to read texts: 3\n",
      "as a percentage of total: 100.0%\n",
      "Average gulpease index: 36.7\n",
      "Texts above recommended level (8th grade rough italian equivalent) 100.0%\n",
      "[37.5, 38.8, 33.9]\n"
     ]
    },
    {
     "data": {
      "image/png": "[encoded data removed]",
      "text/plain": [
       "<Figure size 432x288 with 1 Axes>"
      ]
     },
     "metadata": {
      "needs_background": "light"
     },
     "output_type": "display_data"
    },
    {
     "name": "stdout",
     "output_type": "stream",
     "text": [
      "\n",
      "Cluster: 73 with 2 elements\n",
      "data/policy_www.comune.mediglia.mi.it.txt           Regione Lombardia Accedi all'area personale Co...\n",
      "data/policy_www.comune.cusano-milanino.mi.it.txt    vai al contenuto principale Regione Lombardia–...\n",
      "Name: Text, dtype: object\n",
      "\n",
      "Higher score is easier to read\n",
      "Hard to read texts: 2\n",
      "as a percentage of total: 100.0%\n",
      "Average gulpease index: 38.7\n",
      "Texts above recommended level (8th grade rough italian equivalent) 100.0%\n",
      "[38.3, 39.1]\n"
     ]
    },
    {
     "data": {
      "image/png": "[encoded data removed]",
      "text/plain": [
       "<Figure size 432x288 with 1 Axes>"
      ]
     },
     "metadata": {
      "needs_background": "light"
     },
     "output_type": "display_data"
    },
    {
     "name": "stdout",
     "output_type": "stream",
     "text": [
      "\n",
      "Cluster: 74 with 2 elements\n",
      "data/policy_www.comune.novate-milanese.mi.it.txt     Comune di Novate Milanese venerdì 9 dicembre 2...\n",
      "data/policy_www.comune.poglianomilanese.mi.it.txt    Regione Lombardia Home Aree Tematiche Aree Tem...\n",
      "Name: Text, dtype: object\n",
      "\n",
      "Higher score is easier to read\n",
      "Hard to read texts: 1\n",
      "as a percentage of total: 50.0%\n",
      "Average gulpease index: 39.5\n",
      "Texts above recommended level (8th grade rough italian equivalent) 100.0%\n",
      "[41.3, 37.7]\n"
     ]
    },
    {
     "data": {
      "image/png": "[encoded data removed]",
      "text/plain": [
       "<Figure size 432x288 with 1 Axes>"
      ]
     },
     "metadata": {
      "needs_background": "light"
     },
     "output_type": "display_data"
    },
    {
     "name": "stdout",
     "output_type": "stream",
     "text": [
      "\n",
      "\n",
      "READABILTY FOR WHOLE LANGUAGE it\n",
      "\n",
      "Higher score is easier to read\n",
      "Hard to read texts: 211\n",
      "as a percentage of total: 40.5%\n",
      "Average gulpease index: 40.2\n",
      "Texts above recommended level (8th grade rough italian equivalent) 100.0%\n",
      "Median score: 41.110891740704176\n"
     ]
    },
    {
     "data": {
      "image/png": "[encoded data removed]",
      "text/plain": [
       "<Figure size 432x288 with 1 Axes>"
      ]
     },
     "metadata": {
      "needs_background": "light"
     },
     "output_type": "display_data"
    },
    {
     "name": "stdout",
     "output_type": "stream",
     "text": [
      "\n",
      "Current language: pl\n",
      "Sample size for  too small\n",
      "\n",
      "Current language: ar\n",
      "Sample size for  too small\n",
      "\n",
      "Current language: de\n",
      "Sample size for  too small\n"
     ]
    }
   ],
   "source": [
    "# core_samples_mask = np.zeros_like(db.labels_, dtype=bool)\n",
    "# core_samples_mask[db.core_sample_indices_] = True\n",
    "\n",
    "# # n_clusters_ = len(set(labels)) - (1 if -1 in labels else 0)\n",
    "\n",
    "langs = pd.Series(languages).unique()\n",
    "\n",
    "for lang in langs:\n",
    "    language = \"\"\n",
    "    \n",
    "    if lang == \"it\":\n",
    "        language = \"italian\"\n",
    "    elif lang == \"en\":\n",
    "        language = \"english\"\n",
    "#     else:\n",
    "#         break\n",
    "        \n",
    "    print(\"\\nCurrent language: \" + lang)\n",
    "\n",
    "    vectorizer = TfidfVectorizer(\n",
    "        max_df=0.5,\n",
    "        min_df=5,\n",
    "    )\n",
    "\n",
    "\n",
    "    texts_in_lang = []\n",
    "    \n",
    "    df_texts_in_lang = pd.DataFrame(columns = [\"Text\"])\n",
    "\n",
    "    for file in make_policy_files():\n",
    "        file_text = file.read()\n",
    "        file_lang = langid.classify(file_text)[0]\n",
    "        if file_lang == lang:\n",
    "            texts_in_lang.append(file_text)\n",
    "            df_texts_in_lang.loc[file.name] = file_text\n",
    "            \n",
    "    if len(texts_in_lang) < 10: # Ignore small sample sizes\n",
    "        print(\"Sample size for \" + language + \" too small\")\n",
    "        continue\n",
    "\n",
    "    # --\n",
    "\n",
    "    X_tfidf = vectorizer.fit_transform(df_texts_in_lang.Text)\n",
    "    \n",
    "    lsa = make_pipeline(TruncatedSVD(n_components=100), Normalizer(copy=False))\n",
    "\n",
    "    X_lsa = lsa.fit_transform(X_tfidf)\n",
    "    explained_variance = lsa[0].explained_variance_ratio_.sum()\n",
    "\n",
    "    X = X_lsa\n",
    "\n",
    "    # eps=1.30 works well\n",
    "    # 1.20 is where it starts to make to many clusters with just one element\n",
    "    # 1.25 with min_samples=2 has a reasonable amount of outliers\n",
    "    \n",
    "    custom_eps = 1.10\n",
    "    \n",
    "    if lang == \"it\":\n",
    "        custom_eps = 0.75 # 0.75 to 1.075 is a good range\n",
    "                          # around 0.90 is a decent amount to find bad entries with noise\n",
    "    elif lang == \"en\":\n",
    "        custom_eps = 1.175\n",
    "    \n",
    "#     db = DBSCAN(eps=custom_eps, min_samples=len(df_texts_in_lang) // 10).fit(X) # each cluster must contain at lesast 1/10th of the total\n",
    "#     db = DBSCAN(eps=custom_eps, min_samples=1).fit(X)\n",
    "    db = DBSCAN(eps=custom_eps, min_samples=2).fit(X) # Avoid singletons\n",
    "    \n",
    "    print(\"METRICS:\")\n",
    "    print(sklearn.metrics.pairwise.cosine_similarity(X, dense_output = True))\n",
    "\n",
    "    print(\"Found \" +  str(len(np.unique(db.labels_))) + \" clusters\")\n",
    "    print(\"Labels: \\n\" + str(db.labels_))\n",
    "    plt.bar(pd.Series(db.labels_).value_counts().keys(), pd.Series(db.labels_).value_counts())\n",
    "    plt.savefig('images/clusterlabels' + lang + '.svg')\n",
    "    plt.show()\n",
    "    \n",
    "    db_df = pd.DataFrame(data = {\"Cluster\" : db.labels_,\n",
    "                                 \"Text\" : df_texts_in_lang.Text},\n",
    "    #                              \"Filename\" : df_texts_in_lang.index},\n",
    "                         index = df_texts_in_lang.index)\n",
    "    db_df\n",
    "\n",
    "    dissimilar_entries_urls = db_df.loc[db_df[\"Cluster\"] != 0].index.tolist()\n",
    "#     print(dissimilar_entries_urls) # Dissimilar entries\n",
    "#     print(db_df.loc[db_df[\"Cluster\"] == 0])\n",
    "\n",
    "    # Print out each cluster\n",
    "    for cluster in np.unique(db.labels_):\n",
    "        cluster_content = db_df.loc[db_df[\"Cluster\"] == cluster][\"Text\"]\n",
    "        cluster_size = len(cluster_content)\n",
    "        \n",
    "        print(\"\\nCluster: \" + str(cluster) + \" with \" + str(cluster_size) + \" elements\")\n",
    "        print(cluster_content)\n",
    "        \n",
    "        ## Make wordclouds for each cluster?\n",
    "#         all_policy_text = \"\"\n",
    "#         for policy_text in cluster_content:\n",
    "#             all_policy_text += policy_text\n",
    "\n",
    "#         wordcloud = WordCloud().generate(all_policy_text)\n",
    "\n",
    "#         plt.imshow(wordcloud, interpolation='bilinear')\n",
    "#         plt.axis(\"off\")\n",
    "#         plt.show()\n",
    "        \n",
    "        ## Readability analysis\n",
    "        ar_readability_scores = []\n",
    "        \n",
    "        if lang == \"en\": ## Readability is only available in English and Italian\n",
    "            # Set box plot scale\n",
    "            plt.ylim(0, 100)\n",
    "            \n",
    "            hard_to_read = 0\n",
    "            above_8th_grade = 0\n",
    "            avg_grade_level = 0.0\n",
    "            for policy_text in cluster_content:\n",
    "                r = Readability(policy_text)\n",
    "                fk = r.flesch_kincaid()\n",
    "                grade_level = fk.grade_level\n",
    "\n",
    "                avg_grade_level = avg_grade_level + float(grade_level)\n",
    "\n",
    "                if int(grade_level) > 8:\n",
    "                    above_8th_grade = above_8th_grade + 1\n",
    "\n",
    "                if int(grade_level) > 18:\n",
    "    #                 print(fk.grade_level)\n",
    "                    hard_to_read = hard_to_read + 1\n",
    "            \n",
    "                ar_readability_scores.append(float(grade_level))\n",
    "\n",
    "            avg_grade_level = round((avg_grade_level / len(cluster_content)), 1)\n",
    "\n",
    "            print(\"\\nHigher score is harder to read.\\nHard to read texts: \" + str(hard_to_read) + \"\\n\" +\n",
    "                \"as a percentage of total: \"  + str(round((100 * hard_to_read / len(cluster_content)), 1)) + \"%\\n\" + \n",
    "                 \"Average grade level: \" + str(avg_grade_level) + \"\\n\" +\n",
    "                 \"Texts above recommended level (8th grade) \" + str(round((100 * above_8th_grade / len(cluster_content)), 1)) + \"%\")\n",
    "        elif lang == \"it\":\n",
    "            # Set box plot scale\n",
    "            plt.ylim(-10, 110)\n",
    "            \n",
    "            hard_to_read = 0\n",
    "            above_8th_grade = 0\n",
    "            avg_gulpease_index = 0.0\n",
    "            for policy_text in cluster_content:\n",
    "                gulpease = textstat.gulpease_index(policy_text) # Lower is more complex\n",
    "\n",
    "                avg_gulpease_index = avg_gulpease_index + float(gulpease)\n",
    "                \n",
    "                if int(gulpease) < 60:\n",
    "                    above_8th_grade = above_8th_grade + 1\n",
    "                    \n",
    "                if gulpease < 40:\n",
    "                    hard_to_read = hard_to_read + 1\n",
    "            \n",
    "                ar_readability_scores.append(float(gulpease))\n",
    "                    \n",
    "            avg_gulpease_index = round((avg_gulpease_index / len(cluster_content)), 1)\n",
    "            \n",
    "            print(\"\\nHigher score is easier to read\\nHard to read texts: \" + str(hard_to_read) + \"\\n\" +\n",
    "                \"as a percentage of total: \"  + str(round((100 * hard_to_read / len(cluster_content)), 1)) + \"%\\n\" + \n",
    "                 \"Average gulpease index: \" + str(avg_gulpease_index) + \"\\n\" +\n",
    "                 \"Texts above recommended level (8th grade rough italian equivalent) \" + str(round((100 * above_8th_grade / len(cluster_content)), 1)) + \"%\")\n",
    "        \n",
    "        print(ar_readability_scores)\n",
    "        plt.boxplot(ar_readability_scores)\n",
    "        plt.xticks([])\n",
    "        plt.show()\n",
    "            \n",
    "        \n",
    "        # Would probably be better to visualize these readability scores\n",
    "\n",
    "        \n",
    "    thresh_8th = 0\n",
    "    thresh_hard = 0\n",
    "        \n",
    "    # Readability for whole language\n",
    "    print(\"\\n\\nREADABILTY FOR WHOLE LANGUAGE \" + lang)\n",
    "    if lang == \"en\": ## Readability is only available in English and Italian\n",
    "        # Set box plot scale\n",
    "        plt.ylim(0, 40)\n",
    "        \n",
    "        thresh_8th = 8\n",
    "        thresh_hard = 13 # Livello sopra il liceo\n",
    "\n",
    "        hard_to_read = 0\n",
    "        above_8th_grade = 0\n",
    "        avg_grade_level = 0.0\n",
    "        for policy_text in texts_in_lang:\n",
    "            r = Readability(policy_text)\n",
    "            fk = r.flesch_kincaid()\n",
    "            grade_level = fk.grade_level\n",
    "\n",
    "            avg_grade_level = avg_grade_level + float(grade_level)\n",
    "\n",
    "            if int(grade_level) > thresh_8th:\n",
    "                above_8th_grade = above_8th_grade + 1\n",
    "\n",
    "            if int(grade_level) > thresh_hard:\n",
    "#                 print(fk.grade_level)\n",
    "                hard_to_read = hard_to_read + 1\n",
    "\n",
    "            ar_readability_scores.append(float(grade_level))\n",
    "\n",
    "        avg_grade_level = round((avg_grade_level / len(texts_in_lang)), 1)\n",
    "        median_grade_level = np.median(ar_readability_scores)\n",
    "\n",
    "        print(\"\\nHigher score is harder to read.\\nHard to read texts: \" + str(hard_to_read) + \"\\n\" +\n",
    "            \"as a percentage of total: \"  + str(round((100 * hard_to_read / len(texts_in_lang)), 1)) + \"%\\n\" + \n",
    "             \"Average grade level: \" + str(avg_grade_level) + \"\\n\" +\n",
    "             \"Texts above recommended level (8th grade) \" + str(round((100 * above_8th_grade / len(texts_in_lang)), 1)) + \"%\")\n",
    "        print(\"Median score: \" + str(median_grade_level))\n",
    "    elif lang == \"it\":\n",
    "            # Qui figura 7, indice gulpease su tutti i testi in italiano\n",
    "            # Set box plot scale\n",
    "            plt.ylim(-10, 110)\n",
    "            \n",
    "            thresh_8th = 60\n",
    "            thresh_hard = 40\n",
    "            \n",
    "            hard_to_read = 0\n",
    "            above_8th_grade = 0\n",
    "            avg_gulpease_index = 0.0\n",
    "            for policy_text in texts_in_lang:\n",
    "#                 gulpease = textstat.gulpease_index(policy_text) # Lower is more complex\n",
    "                gulpease = custom_gulpease(policy_text) # Lower is more complex\n",
    "    \n",
    "                if gulpease < 0:\n",
    "                    print(\"Under 0\")\n",
    "                    print(policy_text)\n",
    "\n",
    "                avg_gulpease_index = avg_gulpease_index + float(gulpease)\n",
    "                \n",
    "                if int(gulpease) < thresh_8th:\n",
    "                    above_8th_grade = above_8th_grade + 1\n",
    "                    \n",
    "                if gulpease < thresh_hard:\n",
    "                    hard_to_read = hard_to_read + 1\n",
    "            \n",
    "                ar_readability_scores.append(float(gulpease))\n",
    "                    \n",
    "            avg_gulpease_index = round((avg_gulpease_index / len(texts_in_lang)), 1)\n",
    "            median_gulpease_index = np.median(ar_readability_scores)\n",
    "            \n",
    "            print(\"\\nHigher score is easier to read\\nHard to read texts: \" + str(hard_to_read) + \"\\n\" +\n",
    "                \"as a percentage of total: \"  + str(round((100 * hard_to_read / len(texts_in_lang)), 1)) + \"%\\n\" + \n",
    "                 \"Average gulpease index: \" + str(avg_gulpease_index) + \"\\n\" +\n",
    "                 \"Texts above recommended level (8th grade rough italian equivalent) \" + str(round((100 * above_8th_grade / len(texts_in_lang)), 1)) + \"%\")\n",
    "            print(\"Median score: \" + str(median_gulpease_index))\n",
    "    \n",
    "    plt.boxplot(ar_readability_scores)\n",
    "    plt.axhline(y = thresh_8th, color = 'orange')\n",
    "    plt.axhline(y = thresh_hard, color = '#E50000')\n",
    "    plt.xticks([])\n",
    "    plt.savefig('images/readabilitybox' + lang + '.svg')\n",
    "    plt.show()\n",
    "#     print(\"Found \" + str(len(dissimilar_entries_urls)) + \" dissimilar entries\")\n",
    "\n"
   ]
  },
  {
   "cell_type": "code",
   "execution_count": 31,
   "id": "e26ea709",
   "metadata": {},
   "outputs": [],
   "source": [
    "def cluster_center_by_cluster_label(cluster_query):\n",
    "    cluster_vectors = []\n",
    "    for i, l in enumerate(db.labels_):\n",
    "        if l == cluster_query:\n",
    "            cluster_vectors.append(X[i])\n",
    "\n",
    "    # cluster_vectors = [[6,4,100], [0,0,0]]\n",
    "    cluster_center = []\n",
    "    for i in range (0, 100):\n",
    "        avg = 0\n",
    "        for cluster_element in cluster_vectors:\n",
    "            avg = avg + cluster_element[i]\n",
    "\n",
    "        cluster_center.append(avg/len(cluster_vectors))\n",
    "\n",
    "    return cluster_center"
   ]
  },
  {
   "cell_type": "code",
   "execution_count": 32,
   "id": "1a6290f9",
   "metadata": {},
   "outputs": [],
   "source": [
    "def euc_distance(cluster_center1, cluster_center2):\n",
    "    res = 0\n",
    "    for i in range (100):\n",
    "        res = res + ((cluster_center2[i] - cluster_center1[i]) ** 2)\n",
    "    return math.sqrt(res)\n",
    "\n",
    "def euc_distance_by_label(l1, l2):\n",
    "    return euc_distance(cluster_center_by_cluster_label(c1), cluster_center_by_cluster_label(c2))"
   ]
  },
  {
   "cell_type": "code",
   "execution_count": 33,
   "id": "4110352d",
   "metadata": {},
   "outputs": [
    {
     "data": {
      "text/plain": [
       "1.2764790710349045"
      ]
     },
     "execution_count": 33,
     "metadata": {},
     "output_type": "execute_result"
    }
   ],
   "source": [
    "euc_distance(cluster_center_by_cluster_label(13), cluster_center_by_cluster_label(15))"
   ]
  },
  {
   "cell_type": "code",
   "execution_count": 34,
   "id": "d8a8d9ff",
   "metadata": {},
   "outputs": [
    {
     "data": {
      "image/png": "[encoded data removed]",
      "text/plain": [
       "<Figure size 432x288 with 2 Axes>"
      ]
     },
     "metadata": {
      "needs_background": "light"
     },
     "output_type": "display_data"
    }
   ],
   "source": [
    "interesting_clusters = [8,16,1,6,11,37,39,57,61,64,7,18,27,31,51,23,60,69,41,62]\n",
    "\n",
    "min_d = 100\n",
    "\n",
    "d_m = []\n",
    "for i, c1 in enumerate(interesting_clusters):\n",
    "    d_m.append([])\n",
    "    for c2 in interesting_clusters:\n",
    "        if c1 != c2:\n",
    "            d = euc_distance_by_label(c1, c2)\n",
    "            if d < min_d:\n",
    "                min_d = d\n",
    "        else:\n",
    "            d = 0.0\n",
    "#         print(\"c1 \" + str(c1) + \", c2 \" + str(c2) + \" d = \" + str(d))\n",
    "        d_m[i].append(d)\n",
    "\n",
    "# d_norm = []\n",
    "# for i, c1 in enumerate(interesting_clusters):\n",
    "#     d_norm.append([])\n",
    "#     for c2 in interesting_clusters:\n",
    "#         if c1 != c2:\n",
    "#             d = euc_distance_by_label(c1, c2) - min_d\n",
    "#         else:\n",
    "#             d = 0.0\n",
    "# #         print(\"c1 \" + str(c1) + \", c2 \" + str(c2) + \" d = \" + str(d))\n",
    "#         d_norm[i].append(d)\n",
    "\n",
    "# import matplotlib\n",
    "plt.imshow(d_m)\n",
    "plt.xticks(np.arange(0, 20, step=1), fontsize = 8)\n",
    "plt.yticks(np.arange(0, 20, step=1), fontsize = 8)\n",
    "# plt.margins(0.2)\n",
    "# plt.subplots_adjust(bottom=0.15)\n",
    "plt.colorbar()\n",
    "plt.savefig(\"images/clusterdistances.svg\")\n",
    "plt.show()"
   ]
  },
  {
   "cell_type": "code",
   "execution_count": 35,
   "id": "f4d9f2d8",
   "metadata": {},
   "outputs": [],
   "source": [
    "# db_df = pd.DataFrame(data = {\"Cluster\" : db.labels_,\n",
    "#                              \"Text\" : df_texts_in_lang.Text},\n",
    "# #                              \"Filename\" : df_texts_in_lang.index},\n",
    "#                      index = df_texts_in_lang.index)\n",
    "# db_df"
   ]
  },
  {
   "attachments": {
    "image.png": {
     "image/png": "[encoded data removed]"
    }
   },
   "cell_type": "markdown",
   "id": "bb2cfc8b",
   "metadata": {},
   "source": [
    "![image.png](attachment:image.png)"
   ]
  },
  {
   "cell_type": "code",
   "execution_count": 36,
   "id": "08ab5769",
   "metadata": {},
   "outputs": [
    {
     "name": "stdout",
     "output_type": "stream",
     "text": [
      "32.09167333470114\n",
      "32\n"
     ]
    }
   ],
   "source": [
    "r = Readability(make_policy_files()[23].read())\n",
    "fk = r.flesch_kincaid()\n",
    "print(fk.score)\n",
    "print(fk.grade_level) ## Higher is more complex"
   ]
  },
  {
   "cell_type": "code",
   "execution_count": 37,
   "id": "6d342ab3",
   "metadata": {},
   "outputs": [],
   "source": [
    "# db_df.loc[db_df[\"Cluster\"] == -1] # Dissimilar entries"
   ]
  },
  {
   "cell_type": "markdown",
   "id": "373d9bf8",
   "metadata": {},
   "source": [
    "### 2.3 Wordcounts"
   ]
  },
  {
   "cell_type": "code",
   "execution_count": 38,
   "id": "10cc96c1",
   "metadata": {},
   "outputs": [
    {
     "name": "stdout",
     "output_type": "stream",
     "text": [
      "it\n",
      "521 total policies\n",
      "Beware different scales!\n",
      "Median wordcount: 1953.0\n",
      "Max wordcount: 51160\n"
     ]
    },
    {
     "data": {
      "image/png": "[encoded data removed]",
      "text/plain": [
       "<Figure size 432x288 with 1 Axes>"
      ]
     },
     "metadata": {
      "needs_background": "light"
     },
     "output_type": "display_data"
    },
    {
     "data": {
      "image/png": "[encoded data removed]",
      "text/plain": [
       "<Figure size 432x288 with 1 Axes>"
      ]
     },
     "metadata": {
      "needs_background": "light"
     },
     "output_type": "display_data"
    },
    {
     "name": "stdout",
     "output_type": "stream",
     "text": [
      "en\n",
      "32 total policies\n",
      "Beware different scales!\n",
      "Median wordcount: 3513.5\n",
      "Max wordcount: 15845\n"
     ]
    },
    {
     "data": {
      "image/png": "[encoded data removed]",
      "text/plain": [
       "<Figure size 432x288 with 1 Axes>"
      ]
     },
     "metadata": {
      "needs_background": "light"
     },
     "output_type": "display_data"
    },
    {
     "data": {
      "image/png": "[encoded data removed]",
      "text/plain": [
       "<Figure size 432x288 with 1 Axes>"
      ]
     },
     "metadata": {
      "needs_background": "light"
     },
     "output_type": "display_data"
    },
    {
     "name": "stdout",
     "output_type": "stream",
     "text": [
      "pl\n",
      "1 total policies\n",
      "Sample size for pl too small\n",
      "ar\n",
      "1 total policies\n",
      "Sample size for ar too small\n",
      "de\n",
      "1 total policies\n",
      "Sample size for de too small\n"
     ]
    }
   ],
   "source": [
    "# Simple analysis i.e. wordcount\n",
    "\n",
    "policy_files = []\n",
    "for filename in policy_file_names:\n",
    "    policy_files.append(open(DATADIR + filename))\n",
    "\n",
    "highest_wordcount = 0\n",
    "for file in policy_files:\n",
    "    file_wordcount = len(file.read().split())\n",
    "    if file_wordcount > highest_wordcount:\n",
    "        highest_wordcount = file_wordcount\n",
    "\n",
    "    \n",
    "for language in pd.Series(languages).value_counts().keys():\n",
    "    policy_files = []\n",
    "    for filename in languages.keys():\n",
    "        if languages[filename] == language:\n",
    "            filename = filename[len(\"data/\"):]\n",
    "            policy_files.append(open(DATADIR + filename))\n",
    "    \n",
    "    print(language)\n",
    "    total_policies_current_language = len(policy_files)\n",
    "    print(str(total_policies_current_language) + \" total policies\")\n",
    "    if total_policies_current_language < 10: # Ignore small sample sizes\n",
    "        print(\"Sample size for \" + language + \" too small\")\n",
    "        continue\n",
    "    \n",
    "    wordcounts = []\n",
    "    max_wordcount = 0\n",
    "    for file in policy_files:\n",
    "        wc = len(file.read().split())\n",
    "        wordcounts.append(wc)\n",
    "        if wc > max_wordcount:\n",
    "            max_wordcount = wc \n",
    "\n",
    "#     plt.ylim(0, 15)\n",
    "\n",
    "#     plt.ylim(0, 300) # !!!\n",
    "    print(\"Beware different scales!\")\n",
    "    \n",
    "    median_wordcount = np.median(wordcounts)\n",
    "    print(\"Median wordcount: \" + str(median_wordcount))\n",
    "    print(\"Max wordcount: \" + str(max_wordcount))\n",
    "\n",
    "    plt.xlim(0, highest_wordcount * 1.1)\n",
    "    plt.hist(wordcounts, 15)\n",
    "    plt.savefig('images/wordcounthist' + language + '.svg')\n",
    "    plt.show()\n",
    "    \n",
    "    plt.ylim(-(highest_wordcount / 100), highest_wordcount * 1.1)\n",
    "    plt.boxplot(wordcounts)\n",
    "#     plt.axhline(y = 20000)\n",
    "    plt.xticks([])\n",
    "    plt.savefig('images/wordcountbox' + language + '.svg')\n",
    "    plt.show()"
   ]
  },
  {
   "cell_type": "code",
   "execution_count": 42,
   "id": "5d7e870b",
   "metadata": {},
   "outputs": [
    {
     "data": {
      "image/png": "[encoded data removed]",
      "text/plain": [
       "<Figure size 432x288 with 1 Axes>"
      ]
     },
     "metadata": {
      "needs_background": "light"
     },
     "output_type": "display_data"
    }
   ],
   "source": [
    "# Top 3 longest policies by wordcount overall\n",
    "\n",
    "policy_files = []\n",
    "for filename in policy_file_names:\n",
    "    policy_files.append(open(DATADIR + filename))\n",
    "\n",
    "wc_dict = {}\n",
    "\n",
    "for file in policy_files:\n",
    "    wc_dict[file.name] = len(file.read().split())\n",
    "    \n",
    "wc_s = pd.Series(wc_dict).sort_values(ascending=True)\n",
    "wc_s[len(wc_s) - 3:].plot.barh()\n",
    "plt.show()"
   ]
  },
  {
   "cell_type": "code",
   "execution_count": 43,
   "id": "1168e1ef",
   "metadata": {},
   "outputs": [
    {
     "data": {
      "image/png": "[encoded data removed]",
      "text/plain": [
       "<Figure size 432x288 with 1 Axes>"
      ]
     },
     "metadata": {
      "needs_background": "light"
     },
     "output_type": "display_data"
    }
   ],
   "source": [
    "# longer than 20000 words\n",
    "policy_files = make_policy_files()\n",
    "\n",
    "wc_dict = {}\n",
    "\n",
    "for file in policy_files:\n",
    "    wc =  len(file.read().split())\n",
    "    if wc > 20000:\n",
    "        wc_dict[file.name] =wc\n",
    "    \n",
    "wc_s = pd.Series(wc_dict).sort_values(ascending=True)\n",
    "wc_s.plot.barh()\n",
    "plt.show()"
   ]
  },
  {
   "cell_type": "code",
   "execution_count": 44,
   "id": "8cac3cfc",
   "metadata": {},
   "outputs": [
    {
     "data": {
      "text/plain": [
       "data/policy_outlook.live.com.txt     42793\n",
       "data/policy_www.microsoft.com.txt    42793\n",
       "data/policy_www.edenred.it.txt       51160\n",
       "dtype: int64"
      ]
     },
     "execution_count": 44,
     "metadata": {},
     "output_type": "execute_result"
    }
   ],
   "source": [
    "wc_s[len(wc_s) - 3:]"
   ]
  },
  {
   "cell_type": "markdown",
   "id": "422378b5",
   "metadata": {},
   "source": [
    "### 2.4 Wordclouds"
   ]
  },
  {
   "cell_type": "code",
   "execution_count": null,
   "id": "6c4de764",
   "metadata": {
    "scrolled": false
   },
   "outputs": [],
   "source": [
    "# Some fun wordclouds :)\n",
    "# policy_files = []\n",
    "# for filename in policy_file_names:\n",
    "#     policy_files.append(open(DATADIR + filename))\n",
    "    \n",
    "\n",
    "for language in pd.Series(languages).value_counts().keys():\n",
    "    policy_files = []\n",
    "    for filename in languages.keys():\n",
    "        if languages[filename] == language:\n",
    "            filename = filename[len(\"data/\"):]\n",
    "            policy_files.append(open(DATADIR + filename))\n",
    "    \n",
    "    print(language)  \n",
    "    \n",
    "    if len(policy_files) < 10: # Ignore small sample sizes\n",
    "        print(\"Sample size for \" + language + \" too small\")\n",
    "        continue\n",
    "    \n",
    "    if language == \"it\":\n",
    "        stoplist_lang = \"Italian\"\n",
    "    elif language == \"en\":\n",
    "        stoplist_lang = \"English\"\n",
    "    else:\n",
    "        print(\"Not english or italian\")\n",
    "        continue\n",
    "\n",
    "    all_policy_text = \"\"\n",
    "    for file in policy_files:\n",
    "        all_policy_text += file.read()\n",
    "\n",
    "    wordcloud = WordCloud().generate(all_policy_text)\n",
    "\n",
    "    plt.imshow(wordcloud, interpolation='bilinear')\n",
    "    plt.axis(\"off\")\n",
    "    plt.show()\n",
    "\n",
    "    # Unsurprisingly you have to filter out heaps of words...\n",
    "#     policy_files = []\n",
    "#     for filename in policy_file_names:\n",
    "#         policy_files.append(open(DATADIR + filename))\n",
    "    policy_files = []\n",
    "    for filename in languages.keys():\n",
    "        if languages[filename] == language:\n",
    "            filename = filename[len(\"data/\"):]\n",
    "            policy_files.append(open(DATADIR + filename))\n",
    "\n",
    "    all_policy_text_filtered = \"\"\n",
    "    for file in policy_files:\n",
    "        for word in file.read().split():\n",
    "            if word not in (justext.get_stoplist(stoplist_lang)): # Those built in stoplists are kinda awful\n",
    "                all_policy_text_filtered += word + \" \"\n",
    "\n",
    "    wordcloud = WordCloud().generate(all_policy_text_filtered)\n",
    "\n",
    "    plt.imshow(wordcloud, interpolation='bilinear')\n",
    "    plt.axis(\"off\")\n",
    "    plt.show()"
   ]
  },
  {
   "cell_type": "markdown",
   "id": "a605ffdb",
   "metadata": {},
   "source": [
    "### 2.5 Emotion analysis"
   ]
  },
  {
   "cell_type": "code",
   "execution_count": null,
   "id": "bc4314ee",
   "metadata": {},
   "outputs": [],
   "source": [
    "# # Text2Emotion\n",
    "# import text2emotion as t2e\n",
    "# import emoji\n",
    "# import nltk\n",
    "# nltk.download('omw-1.4')"
   ]
  },
  {
   "cell_type": "code",
   "execution_count": null,
   "id": "219eb8e1",
   "metadata": {},
   "outputs": [],
   "source": [
    "# emotions_dict = {\n",
    "#     \"Angry\" : 0,\n",
    "#     \"Fear\" : 0,\n",
    "#     \"Happy\" : 0,\n",
    "#     \"Sad\" : 0,\n",
    "#     \"Surprise\" : 0\n",
    "# }"
   ]
  },
  {
   "cell_type": "code",
   "execution_count": null,
   "id": "de0d6194",
   "metadata": {},
   "outputs": [],
   "source": [
    "# policy_files = []\n",
    "# for filename in policy_file_names:\n",
    "#     policy_files.append(open(DATADIR + filename))"
   ]
  },
  {
   "cell_type": "code",
   "execution_count": null,
   "id": "98aa6444",
   "metadata": {},
   "outputs": [],
   "source": [
    "# for file in policy_files:\n",
    "#     emotions = t2e.get_emotion(file.read())\n",
    "#     top_emotion = max(emotions)\n",
    "#     emotions_dict[top_emotion] = emotions_dict[top_emotion] + 1\n",
    "\n",
    "# emotions_dict"
   ]
  },
  {
   "cell_type": "code",
   "execution_count": null,
   "id": "c34eb3fb",
   "metadata": {},
   "outputs": [],
   "source": [
    "# emotions_dict = {\n",
    "#     \"Angry\" : 0,\n",
    "#     \"Fear\" : 0,\n",
    "#     \"Happy\" : 0,\n",
    "#     \"Sad\" : 0,\n",
    "#     \"Surprise\" : 0\n",
    "# }\n",
    "\n",
    "# policy_files = []\n",
    "# for filename in policy_file_names:\n",
    "#     policy_files.append(open(DATADIR + filename))\n",
    "\n",
    "# for file in policy_files:\n",
    "#     emotions = t2e.get_emotion(file.read())\n",
    "#     for emotion in emotions:\n",
    "#         emotions_dict[emotion] = emotions_dict[emotion] + emotions[emotion] # maybe normalize?\n",
    "\n",
    "# emotions_dict"
   ]
  },
  {
   "cell_type": "code",
   "execution_count": null,
   "id": "4e79735c",
   "metadata": {},
   "outputs": [],
   "source": [
    "# for e in emotions_dict.keys():\n",
    "#     emotions_dict[e] = round(emotions_dict[e] / len(policy_files), 3)\n",
    "\n",
    "# emotions_dict"
   ]
  },
  {
   "cell_type": "markdown",
   "id": "5ab9e7d1",
   "metadata": {},
   "source": [
    "### 2.6 Text clustering"
   ]
  },
  {
   "cell_type": "code",
   "execution_count": null,
   "id": "63e1f8cf",
   "metadata": {},
   "outputs": [],
   "source": [
    "policy_files = []\n",
    "for filename in policy_file_names:\n",
    "    policy_files.append(open(DATADIR + filename))\n",
    "\n",
    "policy_texts = []\n",
    "\n",
    "for file in policy_files:\n",
    "    policy_texts.append(file.read())\n",
    "\n",
    "df = pd.DataFrame(data = policy_texts, columns = [\"Text\"])\n",
    "df"
   ]
  },
  {
   "cell_type": "code",
   "execution_count": null,
   "id": "37d7a04b",
   "metadata": {},
   "outputs": [],
   "source": [
    "# There should be a separation based on the policy's language\n",
    "\n",
    "vec = TfidfVectorizer(stop_words = \"english\", ngram_range = (1, 3))\n",
    "vec.fit(df.Text.values)\n",
    "features = vec.transform(df.Text.values)"
   ]
  },
  {
   "cell_type": "code",
   "execution_count": null,
   "id": "a1979dc3",
   "metadata": {},
   "outputs": [],
   "source": [
    "clust = KMeans(init = \"k-means++\", n_clusters = 2, n_init = 10)\n",
    "\n",
    "clust.fit(features)\n",
    "yhat = clust.predict(features)\n",
    "df['Cluster Labels'] = clust.labels_\n",
    "\n",
    "# df.loc[df[\"Cluster Labels\"] == 1]"
   ]
  },
  {
   "cell_type": "code",
   "execution_count": null,
   "id": "fcc17e83",
   "metadata": {},
   "outputs": [],
   "source": [
    "df_similar = pd.DataFrame(df.loc[df[\"Cluster Labels\"] == 1].values)\n",
    "# df_similar"
   ]
  },
  {
   "cell_type": "code",
   "execution_count": null,
   "id": "104d81f4",
   "metadata": {},
   "outputs": [],
   "source": [
    "df_dissimilar = pd.DataFrame(df.loc[df[\"Cluster Labels\"] == 0].values)\n",
    "# df_dissimilar"
   ]
  },
  {
   "cell_type": "code",
   "execution_count": null,
   "id": "61448af2",
   "metadata": {},
   "outputs": [],
   "source": [
    "langs = pd.Series(languages).unique()\n",
    "\n",
    "for lang in langs:\n",
    "    print(lang)"
   ]
  },
  {
   "cell_type": "code",
   "execution_count": null,
   "id": "5f1ffba1",
   "metadata": {},
   "outputs": [],
   "source": [
    "for lang in langs:\n",
    "    language = \"\"\n",
    "    \n",
    "    if lang == \"it\":\n",
    "        language = \"italian\"\n",
    "    elif lang == \"en\":\n",
    "        language = \"english\"\n",
    "    else:\n",
    "        break\n",
    "        \n",
    "    print(\"Current language: \" + lang)\n",
    "\n",
    "#     texts_in_lang = {}\n",
    "\n",
    "    df_texts_in_lang = pd.DataFrame(columns = [\"Text\"])\n",
    "    \n",
    "    for file in make_policy_files():\n",
    "        file_text = file.read()\n",
    "        file_lang = langid.classify(file_text)[0]\n",
    "        if file_lang == lang:\n",
    "#             texts_in_lang.append(file_text)\n",
    "#             texts_in_lang[file.name] = file_text\n",
    "#             print(df_texts_in_lang)\n",
    "#             df_texts_in_lang = df_texts_in_lang.append([file.name, file_text])\n",
    "            df_texts_in_lang.loc[file.name] = file_text\n",
    "    \n",
    "#     print(texts_in_lang)\n",
    "    \n",
    "#     df_texts_in_lang = pd.DataFrame(data = texts_in_lang, columns = [\"Filename\", \"Text\"])\n",
    "\n",
    "    lsa = make_pipeline(TruncatedSVD(n_components=100), Normalizer(copy=False))\n",
    "\n",
    "\n",
    "    vectorizer = TfidfVectorizer(\n",
    "        max_df=0.5,\n",
    "        min_df=5,\n",
    "#         stop_words=\"english\",\n",
    "    )\n",
    "\n",
    "    try:\n",
    "        X_tfidf = vectorizer.fit_transform(df_texts_in_lang.Text)\n",
    "    except ValueError:\n",
    "        continue\n",
    "    \n",
    "    X_lsa = lsa.fit_transform(X_tfidf)\n",
    "    explained_variance = lsa[0].explained_variance_ratio_.sum()\n",
    "\n",
    "\n",
    "    kmeans = KMeans(\n",
    "        n_clusters=2,\n",
    "        max_iter=100,\n",
    "        n_init=1,\n",
    "    )\n",
    "\n",
    "    kmeans.fit(X_lsa)\n",
    "\n",
    "    original_space_centroids = lsa[0].inverse_transform(kmeans.cluster_centers_)\n",
    "    order_centroids = original_space_centroids.argsort()[:, ::-1]\n",
    "    terms = vectorizer.get_feature_names_out()\n",
    "\n",
    "    for i in range(2):\n",
    "        print(f\"Cluster {i}: \", end=\"\")\n",
    "        for ind in order_centroids[i, :10]:\n",
    "            print(f\"{terms[ind]} \", end=\"\")\n",
    "        print()"
   ]
  },
  {
   "cell_type": "code",
   "execution_count": null,
   "id": "20945099",
   "metadata": {},
   "outputs": [],
   "source": [
    "df_texts_in_lang"
   ]
  },
  {
   "cell_type": "code",
   "execution_count": null,
   "id": "10a56182",
   "metadata": {},
   "outputs": [],
   "source": [
    "# df_texts_in_lang[\"Text\"].index[2]"
   ]
  },
  {
   "cell_type": "markdown",
   "id": "eeda0a54",
   "metadata": {},
   "source": [
    "#### DBSCAN"
   ]
  },
  {
   "cell_type": "code",
   "execution_count": null,
   "id": "d9616ac7",
   "metadata": {},
   "outputs": [],
   "source": [
    "core_samples_mask = np.zeros_like(db.labels_, dtype=bool)\n",
    "core_samples_mask[db.core_sample_indices_] = True\n",
    "\n",
    "n_clusters_ = len(set(labels)) - (1 if -1 in labels else 0)\n",
    "\n",
    "vectorizer = TfidfVectorizer(\n",
    "    max_df=0.5,\n",
    "    min_df=5,\n",
    ")\n",
    "\n",
    "\n",
    "texts_in_lang = []\n",
    "\n",
    "for file in make_policy_files():\n",
    "    file_text = file.read()\n",
    "#     file_lang = langid.classify(file_text)[0]\n",
    "#     if file_lang == lang:\n",
    "    texts_in_lang.append(file_text)\n",
    "\n",
    "# df_texts_in_lang = pd.DataFrame(data = texts_in_lang, columns = [\"Text\"])\n",
    "\n",
    "# --\n",
    "\n",
    "X_tfidf = vectorizer.fit_transform(df_texts_in_lang.Text)\n",
    "\n",
    "X_lsa = lsa.fit_transform(X_tfidf)\n",
    "explained_variance = lsa[0].explained_variance_ratio_.sum()\n",
    "\n",
    "X = X_lsa\n",
    "\n",
    "db = DBSCAN(eps=1, min_samples=len(df_texts_in_lang) // 10).fit(X) # each cluster must contain at lesast 1/10th of the total\n",
    "# db.labels_"
   ]
  },
  {
   "cell_type": "code",
   "execution_count": null,
   "id": "cb8c100d",
   "metadata": {},
   "outputs": [],
   "source": [
    "db_df = pd.DataFrame(data = {\"Cluster\" : db.labels_,\n",
    "                             \"Text\" : df_texts_in_lang.Text},\n",
    "#                              \"Filename\" : df_texts_in_lang.index},\n",
    "                     index = df_texts_in_lang.index)\n",
    "db_df"
   ]
  },
  {
   "cell_type": "code",
   "execution_count": null,
   "id": "ad6d369d",
   "metadata": {},
   "outputs": [],
   "source": [
    "db_df.loc[db_df[\"Cluster\"] == -1] # Dissimilar entries"
   ]
  },
  {
   "cell_type": "code",
   "execution_count": null,
   "id": "78bdc093",
   "metadata": {},
   "outputs": [],
   "source": [
    "# import matplotlib.pyplot as plt\n",
    "\n",
    "# # Black removed and is used for noise instead.\n",
    "# labels = [0, -1]\n",
    "# unique_labels = set(labels)\n",
    "# colors = [plt.cm.Spectral(each) for each in np.linspace(0, 1, len(unique_labels))]\n",
    "\n",
    "# for k, col in zip(unique_labels, colors):\n",
    "#     if k == -1:\n",
    "#         # Black used for noise.\n",
    "#         col = [0, 0, 0, 1]\n",
    "\n",
    "#     class_member_mask = labels == k\n",
    "    \n",
    "#     xy = X[class_member_mask & core_samples_mask]\n",
    "#     plt.plot(\n",
    "#         xy[:, 0],\n",
    "#         xy[:, 1],\n",
    "#         \"o\",\n",
    "#         markerfacecolor=tuple(col),\n",
    "#         markeredgecolor=\"k\",\n",
    "#         markersize=14,\n",
    "#     )\n",
    "\n",
    "#     xy = X[class_member_mask & ~core_samples_mask]\n",
    "#     plt.plot(\n",
    "#         xy[:, 0],\n",
    "#         xy[:, 1],\n",
    "#         \"o\",\n",
    "#         markerfacecolor=tuple(col),\n",
    "#         markeredgecolor=\"k\",\n",
    "#         markersize=6,\n",
    "#     )\n",
    "\n",
    "# plt.title(\"Estimated number of clusters: %d\" % n_clusters_)\n",
    "# plt.show()"
   ]
  },
  {
   "cell_type": "markdown",
   "id": "f2c1beaa",
   "metadata": {},
   "source": [
    "#### 2.6.2 Finer Clustering"
   ]
  },
  {
   "cell_type": "code",
   "execution_count": null,
   "id": "6e85152b",
   "metadata": {},
   "outputs": [],
   "source": [
    "from sklearn.metrics.pairwise import cosine_similarity\n",
    "cosine_sim = cosine_similarity(features)\n",
    "\n",
    "def getind(c):\n",
    "    return df[df.Text == c].index.tolist()\n",
    "\n",
    "def gettext(i):\n",
    "    return df[df.index == i].Text.tolist()"
   ]
  },
  {
   "cell_type": "code",
   "execution_count": null,
   "id": "42db1930",
   "metadata": {},
   "outputs": [],
   "source": [
    "similar = list(enumerate(cosine_sim[0]))\n",
    "# similar"
   ]
  },
  {
   "cell_type": "code",
   "execution_count": null,
   "id": "87784729",
   "metadata": {},
   "outputs": [],
   "source": [
    "# This one kinda does the same thing as the 2 clusters\n",
    "\n",
    "sim_list = []\n",
    "unsim_list = []\n",
    "for m in similar:\n",
    "    t = gettext(m[0])\n",
    "    if m[1] > 0.15:\n",
    "        sim_list.append(t)\n",
    "    else:\n",
    "        unsim_list.append(t)"
   ]
  },
  {
   "cell_type": "code",
   "execution_count": null,
   "id": "abefc054",
   "metadata": {},
   "outputs": [],
   "source": [
    "df_sim = pd.DataFrame(sim_list, columns = [\"Text\"])\n",
    "df_unsim = pd.DataFrame(unsim_list, columns = [\"Text\"])"
   ]
  },
  {
   "cell_type": "code",
   "execution_count": null,
   "id": "53dcc089",
   "metadata": {},
   "outputs": [],
   "source": [
    "# df_sim"
   ]
  },
  {
   "cell_type": "code",
   "execution_count": null,
   "id": "6f2149c5",
   "metadata": {},
   "outputs": [],
   "source": [
    "# df_unsim"
   ]
  },
  {
   "cell_type": "code",
   "execution_count": null,
   "id": "334a6228",
   "metadata": {},
   "outputs": [],
   "source": []
  },
  {
   "cell_type": "code",
   "execution_count": null,
   "id": "ebf28971",
   "metadata": {},
   "outputs": [],
   "source": [
    "cosim = list(enumerate(cosine_sim))\n",
    "cumulative_sim = []\n",
    "\n",
    "for entry in cosim:\n",
    "    cumulative_sim.append(0)\n",
    "\n",
    "for entry in cosim:\n",
    "    i = 0\n",
    "    for sim_value in entry[1]:\n",
    "        cumulative_sim[i] = cumulative_sim[i] + (sim_value / len(cosim)) # Normalization\n",
    "        \n",
    "        i = i + 1"
   ]
  },
  {
   "cell_type": "code",
   "execution_count": null,
   "id": "cd28a4a6",
   "metadata": {},
   "outputs": [],
   "source": [
    "plt.plot(cumulative_sim)"
   ]
  },
  {
   "cell_type": "code",
   "execution_count": null,
   "id": "f893bd62",
   "metadata": {},
   "outputs": [],
   "source": [
    "sim_list = []\n",
    "unsim_list = []\n",
    "\n",
    "threshold = 0.085\n",
    "\n",
    "i = 0\n",
    "for k in cumulative_sim:\n",
    "    t = gettext(i)\n",
    "    if k > threshold:\n",
    "        sim_list.append(t)\n",
    "    else:\n",
    "        unsim_list.append(t)\n",
    "    i = i + 1"
   ]
  },
  {
   "cell_type": "code",
   "execution_count": null,
   "id": "d5b1d9a2",
   "metadata": {},
   "outputs": [],
   "source": [
    "df_sim = pd.DataFrame(sim_list, columns = [\"Text\"])\n",
    "df_unsim = pd.DataFrame(unsim_list, columns = [\"Text\"])"
   ]
  },
  {
   "cell_type": "code",
   "execution_count": null,
   "id": "291314ef",
   "metadata": {},
   "outputs": [],
   "source": [
    "# df_sim"
   ]
  },
  {
   "cell_type": "code",
   "execution_count": null,
   "id": "1b0fa842",
   "metadata": {},
   "outputs": [],
   "source": [
    "# df_unsim"
   ]
  },
  {
   "cell_type": "code",
   "execution_count": null,
   "id": "155cfa46",
   "metadata": {},
   "outputs": [],
   "source": [
    "verysim_list = []\n",
    "\n",
    "threshold = 0.185\n",
    "\n",
    "i = 0\n",
    "for k in cumulative_sim:\n",
    "    t = gettext(i)\n",
    "    if k > threshold:\n",
    "        verysim_list.append(t)\n",
    "#     else:\n",
    "#         unsim_list.append(t)\n",
    "    i = i + 1"
   ]
  },
  {
   "cell_type": "code",
   "execution_count": null,
   "id": "7f7183fd",
   "metadata": {},
   "outputs": [],
   "source": [
    "df_verysim = pd.DataFrame(verysim_list, columns = [\"Text\"])\n",
    "df_verysim"
   ]
  }
 ],
 "metadata": {
  "kernelspec": {
   "display_name": "Python 3 (ipykernel)",
   "language": "python",
   "name": "python3"
  },
  "language_info": {
   "codemirror_mode": {
    "name": "ipython",
    "version": 3
   },
   "file_extension": ".py",
   "mimetype": "text/x-python",
   "name": "python",
   "nbconvert_exporter": "python",
   "pygments_lexer": "ipython3",
   "version": "3.10.10"
  }
 },
 "nbformat": 4,
 "nbformat_minor": 5
}
