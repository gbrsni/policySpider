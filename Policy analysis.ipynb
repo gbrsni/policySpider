{
 "cells": [
  {
   "cell_type": "markdown",
   "id": "ea808d30",
   "metadata": {},
   "source": [
    "# Policy analysis\n",
    "The point of this notebook is to analyze the privacy policies fetched with the spider.  \n",
    "This presumes all the policies that are marked as successfully gathered in the report file are good, and only looks at said policies"
   ]
  },
  {
   "cell_type": "code",
   "execution_count": 149,
   "id": "21766db6",
   "metadata": {},
   "outputs": [],
   "source": [
    "import os\n",
    "import json\n",
    "import justext\n",
    "import math\n",
    "import numpy as np\n",
    "import pandas as pd\n",
    "import matplotlib.pyplot as plt\n",
    "from wordcloud import WordCloud, STOPWORDS, ImageColorGenerator\n",
    "import langid"
   ]
  },
  {
   "cell_type": "code",
   "execution_count": 150,
   "id": "5197ab8a",
   "metadata": {},
   "outputs": [],
   "source": [
    "def site_name_from_file_name(file_name):\n",
    "    return file_name[len(\"policy_\"):len(file_name) - 4]"
   ]
  },
  {
   "cell_type": "code",
   "execution_count": 151,
   "id": "8f9c977f",
   "metadata": {},
   "outputs": [],
   "source": [
    "def make_policy_files():\n",
    "    policy_files = []\n",
    "    for filename in policy_file_names:\n",
    "        policy_files.append(open(DATADIR + filename))\n",
    "    return policy_files"
   ]
  },
  {
   "cell_type": "markdown",
   "id": "d76e338b",
   "metadata": {},
   "source": [
    "## 1 Overview"
   ]
  },
  {
   "cell_type": "code",
   "execution_count": 152,
   "id": "19be9b07",
   "metadata": {},
   "outputs": [],
   "source": [
    "DATADIR = \"data/\"\n",
    "POLICY_FILE_PREFIX = \"policy_\"\n",
    "REPORT_FILE_NAME = \"crawl_report.json\""
   ]
  },
  {
   "cell_type": "code",
   "execution_count": 153,
   "id": "b59a3306",
   "metadata": {},
   "outputs": [
    {
     "data": {
      "text/html": [
       "<div>\n",
       "<style scoped>\n",
       "    .dataframe tbody tr th:only-of-type {\n",
       "        vertical-align: middle;\n",
       "    }\n",
       "\n",
       "    .dataframe tbody tr th {\n",
       "        vertical-align: top;\n",
       "    }\n",
       "\n",
       "    .dataframe thead th {\n",
       "        text-align: right;\n",
       "    }\n",
       "</style>\n",
       "<table border=\"1\" class=\"dataframe\">\n",
       "  <thead>\n",
       "    <tr style=\"text-align: right;\">\n",
       "      <th></th>\n",
       "      <th>url</th>\n",
       "      <th>policy_domain</th>\n",
       "      <th>policy_url</th>\n",
       "      <th>policy_file</th>\n",
       "      <th>uses_iubenda</th>\n",
       "      <th>success</th>\n",
       "    </tr>\n",
       "  </thead>\n",
       "  <tbody>\n",
       "    <tr>\n",
       "      <th>0</th>\n",
       "      <td>https://www.google.com/</td>\n",
       "      <td>www.google.com</td>\n",
       "      <td>https://www.google.com/intl/it/policies/privacy/</td>\n",
       "      <td>policy_www.google.com.txt</td>\n",
       "      <td>False</td>\n",
       "      <td>True</td>\n",
       "    </tr>\n",
       "    <tr>\n",
       "      <th>1</th>\n",
       "      <td>https://twitter.com</td>\n",
       "      <td>twitter.com</td>\n",
       "      <td>https://twitter.com/privacy</td>\n",
       "      <td>policy_twitter.com.txt</td>\n",
       "      <td>False</td>\n",
       "      <td>True</td>\n",
       "    </tr>\n",
       "    <tr>\n",
       "      <th>2</th>\n",
       "      <td>https://www.youtube.com/</td>\n",
       "      <td>www.youtube.com</td>\n",
       "      <td>https://www.youtube.com/t/privacy</td>\n",
       "      <td>policy_www.youtube.com.txt</td>\n",
       "      <td>False</td>\n",
       "      <td>True</td>\n",
       "    </tr>\n",
       "    <tr>\n",
       "      <th>3</th>\n",
       "      <td>https://www.microsoft.com/it-it/</td>\n",
       "      <td>privacy.microsoft.com</td>\n",
       "      <td>https://privacy.microsoft.com/it-it</td>\n",
       "      <td>policy_www.microsoft.com.txt</td>\n",
       "      <td>False</td>\n",
       "      <td>True</td>\n",
       "    </tr>\n",
       "    <tr>\n",
       "      <th>4</th>\n",
       "      <td>https://www.wikipedia.org/</td>\n",
       "      <td>meta.wikimedia.org</td>\n",
       "      <td>https://meta.wikimedia.org/wiki/Privacy_policy</td>\n",
       "      <td>policy_www.wikipedia.org.txt</td>\n",
       "      <td>False</td>\n",
       "      <td>True</td>\n",
       "    </tr>\n",
       "    <tr>\n",
       "      <th>...</th>\n",
       "      <td>...</td>\n",
       "      <td>...</td>\n",
       "      <td>...</td>\n",
       "      <td>...</td>\n",
       "      <td>...</td>\n",
       "      <td>...</td>\n",
       "    </tr>\n",
       "    <tr>\n",
       "      <th>354</th>\n",
       "      <td>https://www.trendyol.com/</td>\n",
       "      <td>None</td>\n",
       "      <td>None</td>\n",
       "      <td>policy_www.trendyol.com.txt</td>\n",
       "      <td>False</td>\n",
       "      <td>False</td>\n",
       "    </tr>\n",
       "    <tr>\n",
       "      <th>355</th>\n",
       "      <td>https://www.americanexpress.com/it-it/</td>\n",
       "      <td>www.americanexpress.com</td>\n",
       "      <td>https://www.americanexpress.com/it-it/chi-siam...</td>\n",
       "      <td>policy_www.americanexpress.com.txt</td>\n",
       "      <td>False</td>\n",
       "      <td>True</td>\n",
       "    </tr>\n",
       "    <tr>\n",
       "      <th>356</th>\n",
       "      <td>https://www.fedex.com/</td>\n",
       "      <td>None</td>\n",
       "      <td>None</td>\n",
       "      <td>policy_www.fedex.com.txt</td>\n",
       "      <td>False</td>\n",
       "      <td>False</td>\n",
       "    </tr>\n",
       "    <tr>\n",
       "      <th>357</th>\n",
       "      <td>https://www.oreilly.com/</td>\n",
       "      <td>www.oreilly.com</td>\n",
       "      <td>https://www.oreilly.com/privacy.html</td>\n",
       "      <td>policy_www.oreilly.com.txt</td>\n",
       "      <td>False</td>\n",
       "      <td>True</td>\n",
       "    </tr>\n",
       "    <tr>\n",
       "      <th>358</th>\n",
       "      <td>https://uci.edu</td>\n",
       "      <td>uci.edu</td>\n",
       "      <td>https://uci.edu/privacy/index.php</td>\n",
       "      <td>policy_uci.edu.txt</td>\n",
       "      <td>False</td>\n",
       "      <td>True</td>\n",
       "    </tr>\n",
       "  </tbody>\n",
       "</table>\n",
       "<p>359 rows × 6 columns</p>\n",
       "</div>"
      ],
      "text/plain": [
       "                                        url            policy_domain  \\\n",
       "0                   https://www.google.com/           www.google.com   \n",
       "1                       https://twitter.com              twitter.com   \n",
       "2                  https://www.youtube.com/          www.youtube.com   \n",
       "3          https://www.microsoft.com/it-it/    privacy.microsoft.com   \n",
       "4                https://www.wikipedia.org/       meta.wikimedia.org   \n",
       "..                                      ...                      ...   \n",
       "354               https://www.trendyol.com/                     None   \n",
       "355  https://www.americanexpress.com/it-it/  www.americanexpress.com   \n",
       "356                  https://www.fedex.com/                     None   \n",
       "357                https://www.oreilly.com/          www.oreilly.com   \n",
       "358                         https://uci.edu                  uci.edu   \n",
       "\n",
       "                                            policy_url  \\\n",
       "0     https://www.google.com/intl/it/policies/privacy/   \n",
       "1                          https://twitter.com/privacy   \n",
       "2                    https://www.youtube.com/t/privacy   \n",
       "3                  https://privacy.microsoft.com/it-it   \n",
       "4       https://meta.wikimedia.org/wiki/Privacy_policy   \n",
       "..                                                 ...   \n",
       "354                                               None   \n",
       "355  https://www.americanexpress.com/it-it/chi-siam...   \n",
       "356                                               None   \n",
       "357               https://www.oreilly.com/privacy.html   \n",
       "358                  https://uci.edu/privacy/index.php   \n",
       "\n",
       "                            policy_file  uses_iubenda  success  \n",
       "0             policy_www.google.com.txt         False     True  \n",
       "1                policy_twitter.com.txt         False     True  \n",
       "2            policy_www.youtube.com.txt         False     True  \n",
       "3          policy_www.microsoft.com.txt         False     True  \n",
       "4          policy_www.wikipedia.org.txt         False     True  \n",
       "..                                  ...           ...      ...  \n",
       "354         policy_www.trendyol.com.txt         False    False  \n",
       "355  policy_www.americanexpress.com.txt         False     True  \n",
       "356            policy_www.fedex.com.txt         False    False  \n",
       "357          policy_www.oreilly.com.txt         False     True  \n",
       "358                  policy_uci.edu.txt         False     True  \n",
       "\n",
       "[359 rows x 6 columns]"
      ]
     },
     "execution_count": 153,
     "metadata": {},
     "output_type": "execute_result"
    }
   ],
   "source": [
    "report_json = pd.read_json(DATADIR + REPORT_FILE_NAME)\n",
    "report_json"
   ]
  },
  {
   "cell_type": "markdown",
   "id": "0ddaa9cd",
   "metadata": {},
   "source": [
    "### 1.1 Success rate"
   ]
  },
  {
   "cell_type": "code",
   "execution_count": 154,
   "id": "ff28d040",
   "metadata": {},
   "outputs": [
    {
     "name": "stdout",
     "output_type": "stream",
     "text": [
      "Analyzed sites: 359\n",
      "Successfully downloaded: 280\n",
      "Success rate: 78.0%\n",
      "Policy url found but no good policy found: 0\n"
     ]
    },
    {
     "data": {
      "text/html": [
       "<div>\n",
       "<style scoped>\n",
       "    .dataframe tbody tr th:only-of-type {\n",
       "        vertical-align: middle;\n",
       "    }\n",
       "\n",
       "    .dataframe tbody tr th {\n",
       "        vertical-align: top;\n",
       "    }\n",
       "\n",
       "    .dataframe thead th {\n",
       "        text-align: right;\n",
       "    }\n",
       "</style>\n",
       "<table border=\"1\" class=\"dataframe\">\n",
       "  <thead>\n",
       "    <tr style=\"text-align: right;\">\n",
       "      <th></th>\n",
       "      <th>url</th>\n",
       "      <th>policy_domain</th>\n",
       "      <th>policy_url</th>\n",
       "      <th>policy_file</th>\n",
       "      <th>uses_iubenda</th>\n",
       "      <th>success</th>\n",
       "    </tr>\n",
       "  </thead>\n",
       "  <tbody>\n",
       "  </tbody>\n",
       "</table>\n",
       "</div>"
      ],
      "text/plain": [
       "Empty DataFrame\n",
       "Columns: [url, policy_domain, policy_url, policy_file, uses_iubenda, success]\n",
       "Index: []"
      ]
     },
     "execution_count": 154,
     "metadata": {},
     "output_type": "execute_result"
    }
   ],
   "source": [
    "# Recap\n",
    "number_total = len(report_json)\n",
    "print(\"Analyzed sites: \" + str(number_total))\n",
    "\n",
    "successful = report_json.loc[report_json[\"success\"] == True]\n",
    "number_successful = len(successful)\n",
    "print(\"Successfully downloaded: \" + str(number_successful))\n",
    "\n",
    "print(\"Success rate: \" + str(round((100 * number_successful / number_total), 1)) + \"%\")\n",
    "\n",
    "failed_with_url = report_json.loc[pd.notna(report_json[\"policy_url\"])\n",
    "                                  & (report_json[\"success\"] == False)]\n",
    "print(\"Policy url found but no good policy found: \" + str(len(failed_with_url)))\n",
    "failed_with_url"
   ]
  },
  {
   "cell_type": "markdown",
   "id": "a49cae29",
   "metadata": {},
   "source": [
    "### 1.2 Sites overview"
   ]
  },
  {
   "cell_type": "code",
   "execution_count": 155,
   "id": "5361d9ce",
   "metadata": {},
   "outputs": [
    {
     "data": {
      "image/png": "[encoded data removed]",
      "text/plain": [
       "<Figure size 432x288 with 1 Axes>"
      ]
     },
     "metadata": {
      "needs_background": "light"
     },
     "output_type": "display_data"
    }
   ],
   "source": [
    "# TLDs\n",
    "\n",
    "urls = report_json[\"url\"]\n",
    "ul = urls.tolist()\n",
    "\n",
    "tlds = {}\n",
    "for url in ul:\n",
    "    tld = ((url.split(\".\")[len(url.split(\".\")) - 1]).split(\"/\")[0]).split(\":\")[0]\n",
    "    if tld in tlds.keys():\n",
    "        tlds[tld] = tlds[tld] + 1\n",
    "    else:\n",
    "        tlds[tld] = 1\n",
    "        \n",
    "pd.Series(tlds).sort_values(ascending = False).plot.bar()\n",
    "plt.show()"
   ]
  },
  {
   "cell_type": "markdown",
   "id": "a37d8f56",
   "metadata": {},
   "source": [
    "## 2 Simple analysis"
   ]
  },
  {
   "cell_type": "code",
   "execution_count": 156,
   "id": "f5d25eb2",
   "metadata": {},
   "outputs": [],
   "source": [
    "# Open policy files\n",
    "policy_file_names = successful[\"policy_file\"].tolist()"
   ]
  },
  {
   "cell_type": "markdown",
   "id": "64f4cebf",
   "metadata": {},
   "source": [
    "### 2.1 Language detection"
   ]
  },
  {
   "cell_type": "code",
   "execution_count": 157,
   "id": "50ebd697",
   "metadata": {},
   "outputs": [
    {
     "data": {
      "image/png": "[encoded data removed]",
      "text/plain": [
       "<Figure size 432x288 with 1 Axes>"
      ]
     },
     "metadata": {
      "needs_background": "light"
     },
     "output_type": "display_data"
    }
   ],
   "source": [
    "# Language detection\n",
    "policy_files = []\n",
    "for filename in policy_file_names:\n",
    "    policy_files.append(open(DATADIR + filename))\n",
    "\n",
    "\n",
    "languages = {}\n",
    "for file in policy_files:\n",
    "    languages[file.name] = langid.classify(file.read())[0]\n",
    "\n",
    "plt.bar(pd.Series(languages).value_counts().keys(), pd.Series(languages).value_counts())\n",
    "plt.show()"
   ]
  },
  {
   "cell_type": "markdown",
   "id": "373d9bf8",
   "metadata": {},
   "source": [
    "### 2.2 Wordcounts"
   ]
  },
  {
   "cell_type": "code",
   "execution_count": 163,
   "id": "10cc96c1",
   "metadata": {},
   "outputs": [
    {
     "name": "stdout",
     "output_type": "stream",
     "text": [
      "en\n",
      "221 total policies\n"
     ]
    },
    {
     "data": {
      "image/png": "[encoded data removed]",
      "text/plain": [
       "<Figure size 432x288 with 1 Axes>"
      ]
     },
     "metadata": {
      "needs_background": "light"
     },
     "output_type": "display_data"
    },
    {
     "data": {
      "image/png": "[encoded data removed]",
      "text/plain": [
       "<Figure size 432x288 with 1 Axes>"
      ]
     },
     "metadata": {
      "needs_background": "light"
     },
     "output_type": "display_data"
    },
    {
     "name": "stdout",
     "output_type": "stream",
     "text": [
      "it\n",
      "46 total policies\n"
     ]
    },
    {
     "data": {
      "image/png": "[encoded data removed]",
      "text/plain": [
       "<Figure size 432x288 with 1 Axes>"
      ]
     },
     "metadata": {
      "needs_background": "light"
     },
     "output_type": "display_data"
    },
    {
     "data": {
      "image/png": "[encoded data removed]",
      "text/plain": [
       "<Figure size 432x288 with 1 Axes>"
      ]
     },
     "metadata": {
      "needs_background": "light"
     },
     "output_type": "display_data"
    },
    {
     "name": "stdout",
     "output_type": "stream",
     "text": [
      "zh\n",
      "3 total policies\n",
      "Sample size for zh too small\n",
      "qu\n",
      "1 total policies\n",
      "Sample size for qu too small\n",
      "la\n",
      "1 total policies\n",
      "Sample size for la too small\n",
      "fr\n",
      "1 total policies\n",
      "Sample size for fr too small\n",
      "pt\n",
      "1 total policies\n",
      "Sample size for pt too small\n"
     ]
    }
   ],
   "source": [
    "# Simple analysis i.e. wordcount\n",
    "\n",
    "policy_files = []\n",
    "for filename in policy_file_names:\n",
    "    policy_files.append(open(DATADIR + filename))\n",
    "\n",
    "highest_wordcount = 0\n",
    "for file in policy_files:\n",
    "    file_wordcount = len(file.read().split())\n",
    "    if file_wordcount > highest_wordcount:\n",
    "        highest_wordcount = file_wordcount\n",
    "\n",
    "    \n",
    "for language in pd.Series(languages).value_counts().keys():\n",
    "    policy_files = []\n",
    "    for filename in languages.keys():\n",
    "        if languages[filename] == language:\n",
    "            filename = filename[len(\"data/\"):]\n",
    "            policy_files.append(open(DATADIR + filename))\n",
    "    \n",
    "    print(language)\n",
    "    total_policies_current_language = len(policy_files)\n",
    "    print(str(total_policies_current_language) + \" total policies\")\n",
    "    if total_policies_current_language < 10: # Ignore small sample sizes\n",
    "        print(\"Sample size for \" + language + \" too small\")\n",
    "        continue\n",
    "    \n",
    "    wordcounts = []\n",
    "    for file in policy_files:\n",
    "        wordcounts.append(len(file.read().split()))\n",
    "\n",
    "#     plt.ylim(0, 15)\n",
    "    plt.ylim(0, 110)\n",
    "    plt.xlim(0, highest_wordcount * 1.1)\n",
    "    plt.hist(wordcounts, 20)\n",
    "    plt.show()\n",
    "    \n",
    "    plt.ylim(-(highest_wordcount / 100), highest_wordcount * 1.1)\n",
    "    plt.boxplot(wordcounts)\n",
    "    plt.show()"
   ]
  },
  {
   "cell_type": "code",
   "execution_count": 159,
   "id": "5d7e870b",
   "metadata": {},
   "outputs": [
    {
     "data": {
      "image/png": "[encoded data removed]",
      "text/plain": [
       "<Figure size 432x288 with 1 Axes>"
      ]
     },
     "metadata": {
      "needs_background": "light"
     },
     "output_type": "display_data"
    }
   ],
   "source": [
    "# Top 3 longest policies by wordcount overall\n",
    "\n",
    "policy_files = []\n",
    "for filename in policy_file_names:\n",
    "    policy_files.append(open(DATADIR + filename))\n",
    "\n",
    "wc_dict = {}\n",
    "\n",
    "for file in policy_files:\n",
    "    wc_dict[file.name] = len(file.read().split())\n",
    "    \n",
    "wc_s = pd.Series(wc_dict).sort_values(ascending=True)\n",
    "wc_s[len(wc_s) - 3:].plot.barh()\n",
    "plt.show()"
   ]
  },
  {
   "cell_type": "code",
   "execution_count": 160,
   "id": "8cac3cfc",
   "metadata": {},
   "outputs": [
    {
     "data": {
      "text/plain": [
       "data/policy_outlook.live.com.txt              39532\n",
       "data/policy_visualstudio.microsoft.com.txt    42626\n",
       "data/policy_www.pixiv.net.txt                 54348\n",
       "dtype: int64"
      ]
     },
     "execution_count": 160,
     "metadata": {},
     "output_type": "execute_result"
    }
   ],
   "source": [
    "wc_s[len(wc_s) - 3:]"
   ]
  },
  {
   "cell_type": "markdown",
   "id": "422378b5",
   "metadata": {},
   "source": [
    "### 2.3 Wordclouds"
   ]
  },
  {
   "cell_type": "code",
   "execution_count": 23,
   "id": "6c4de764",
   "metadata": {
    "scrolled": false
   },
   "outputs": [
    {
     "data": {
      "image/png": "[encoded data removed]",
      "text/plain": [
       "<Figure size 432x288 with 1 Axes>"
      ]
     },
     "metadata": {
      "needs_background": "light"
     },
     "output_type": "display_data"
    },
    {
     "data": {
      "image/png": "[encoded data removed]",
      "text/plain": [
       "<Figure size 432x288 with 1 Axes>"
      ]
     },
     "metadata": {
      "needs_background": "light"
     },
     "output_type": "display_data"
    }
   ],
   "source": [
    "# Some fun wordclouds :)\n",
    "policy_files = []\n",
    "for filename in policy_file_names:\n",
    "    policy_files.append(open(DATADIR + filename))\n",
    "\n",
    "all_policy_text = \"\"\n",
    "for file in policy_files:\n",
    "    all_policy_text += file.read()\n",
    "\n",
    "wordcloud = WordCloud().generate(all_policy_text)\n",
    "\n",
    "plt.imshow(wordcloud, interpolation='bilinear')\n",
    "plt.axis(\"off\")\n",
    "plt.show()\n",
    "\n",
    "# Unsurprisingly you have to filter out heaps of words...\n",
    "policy_files = []\n",
    "for filename in policy_file_names:\n",
    "    policy_files.append(open(DATADIR + filename))\n",
    "\n",
    "all_policy_text_filtered = \"\"\n",
    "for file in policy_files:\n",
    "    for word in file.read().split():\n",
    "        if word not in (justext.get_stoplist(\"Italian\")):\n",
    "            all_policy_text_filtered += word + \" \"\n",
    "\n",
    "wordcloud = WordCloud().generate(all_policy_text_filtered)\n",
    "\n",
    "plt.imshow(wordcloud, interpolation='bilinear')\n",
    "plt.axis(\"off\")\n",
    "plt.show()"
   ]
  },
  {
   "cell_type": "markdown",
   "id": "a605ffdb",
   "metadata": {},
   "source": [
    "### 2.4 Emotion analysis"
   ]
  },
  {
   "cell_type": "code",
   "execution_count": 11,
   "id": "bc4314ee",
   "metadata": {
    "collapsed": true
   },
   "outputs": [
    {
     "name": "stderr",
     "output_type": "stream",
     "text": [
      "[nltk_data] Downloading package stopwords to /home/user/nltk_data...\n",
      "[nltk_data]   Package stopwords is already up-to-date!\n",
      "[nltk_data] Downloading package punkt to /home/user/nltk_data...\n",
      "[nltk_data]   Package punkt is already up-to-date!\n",
      "[nltk_data] Downloading package wordnet to /home/user/nltk_data...\n",
      "[nltk_data]   Package wordnet is already up-to-date!\n",
      "[nltk_data] Downloading package omw-1.4 to /home/user/nltk_data...\n",
      "[nltk_data]   Package omw-1.4 is already up-to-date!\n"
     ]
    },
    {
     "data": {
      "text/plain": [
       "True"
      ]
     },
     "execution_count": 11,
     "metadata": {},
     "output_type": "execute_result"
    }
   ],
   "source": [
    "# Text2Emotion\n",
    "import text2emotion as t2e\n",
    "import emoji\n",
    "import nltk\n",
    "nltk.download('omw-1.4')"
   ]
  },
  {
   "cell_type": "code",
   "execution_count": 17,
   "id": "219eb8e1",
   "metadata": {},
   "outputs": [],
   "source": [
    "emotions_dict = {\n",
    "    \"Angry\" : 0,\n",
    "    \"Fear\" : 0,\n",
    "    \"Happy\" : 0,\n",
    "    \"Sad\" : 0,\n",
    "    \"Surprise\" : 0\n",
    "}"
   ]
  },
  {
   "cell_type": "code",
   "execution_count": 18,
   "id": "de0d6194",
   "metadata": {},
   "outputs": [],
   "source": [
    "policy_files = []\n",
    "for filename in policy_file_names:\n",
    "    policy_files.append(open(DATADIR + filename))"
   ]
  },
  {
   "cell_type": "code",
   "execution_count": 19,
   "id": "98aa6444",
   "metadata": {},
   "outputs": [
    {
     "data": {
      "text/plain": [
       "{'Angry': 0, 'Fear': 0, 'Happy': 0, 'Sad': 0, 'Surprise': 65}"
      ]
     },
     "execution_count": 19,
     "metadata": {},
     "output_type": "execute_result"
    }
   ],
   "source": [
    "for file in policy_files:\n",
    "    emotions = t2e.get_emotion(file.read())\n",
    "    top_emotion = max(emotions)\n",
    "    emotions_dict[top_emotion] = emotions_dict[top_emotion] + 1\n",
    "\n",
    "emotions_dict"
   ]
  },
  {
   "cell_type": "code",
   "execution_count": 21,
   "id": "c34eb3fb",
   "metadata": {},
   "outputs": [
    {
     "data": {
      "text/plain": [
       "{'Angry': 1.7400000000000007,\n",
       " 'Fear': 40.48000000000001,\n",
       " 'Happy': 7.440000000000001,\n",
       " 'Sad': 10.629999999999995,\n",
       " 'Surprise': 4.679999999999999}"
      ]
     },
     "execution_count": 21,
     "metadata": {},
     "output_type": "execute_result"
    }
   ],
   "source": [
    "emotions_dict = {\n",
    "    \"Angry\" : 0,\n",
    "    \"Fear\" : 0,\n",
    "    \"Happy\" : 0,\n",
    "    \"Sad\" : 0,\n",
    "    \"Surprise\" : 0\n",
    "}\n",
    "\n",
    "policy_files = []\n",
    "for filename in policy_file_names:\n",
    "    policy_files.append(open(DATADIR + filename))\n",
    "\n",
    "for file in policy_files:\n",
    "    emotions = t2e.get_emotion(file.read())\n",
    "    for emotion in emotions:\n",
    "        emotions_dict[emotion] = emotions_dict[emotion] + emotions[emotion] # maybe normalize?\n",
    "\n",
    "emotions_dict"
   ]
  },
  {
   "cell_type": "code",
   "execution_count": 22,
   "id": "4e79735c",
   "metadata": {},
   "outputs": [
    {
     "data": {
      "text/plain": [
       "{'Angry': 0.027,\n",
       " 'Fear': 0.623,\n",
       " 'Happy': 0.114,\n",
       " 'Sad': 0.164,\n",
       " 'Surprise': 0.072}"
      ]
     },
     "execution_count": 22,
     "metadata": {},
     "output_type": "execute_result"
    }
   ],
   "source": [
    "for e in emotions_dict.keys():\n",
    "    emotions_dict[e] = round(emotions_dict[e] / len(policy_files), 3)\n",
    "\n",
    "emotions_dict"
   ]
  },
  {
   "cell_type": "markdown",
   "id": "5ab9e7d1",
   "metadata": {},
   "source": [
    "### 2.5 Text clustering"
   ]
  },
  {
   "cell_type": "code",
   "execution_count": 164,
   "id": "63e1f8cf",
   "metadata": {},
   "outputs": [
    {
     "data": {
      "text/html": [
       "<div>\n",
       "<style scoped>\n",
       "    .dataframe tbody tr th:only-of-type {\n",
       "        vertical-align: middle;\n",
       "    }\n",
       "\n",
       "    .dataframe tbody tr th {\n",
       "        vertical-align: top;\n",
       "    }\n",
       "\n",
       "    .dataframe thead th {\n",
       "        text-align: right;\n",
       "    }\n",
       "</style>\n",
       "<table border=\"1\" class=\"dataframe\">\n",
       "  <thead>\n",
       "    <tr style=\"text-align: right;\">\n",
       "      <th></th>\n",
       "      <th>Text</th>\n",
       "    </tr>\n",
       "  </thead>\n",
       "  <tbody>\n",
       "    <tr>\n",
       "      <th>0</th>\n",
       "      <td>Privacy e termini Accedi Introduzione Norme su...</td>\n",
       "    </tr>\n",
       "    <tr>\n",
       "      <th>1</th>\n",
       "      <td>Skip to main content Privacy Policy Twitter Pr...</td>\n",
       "    </tr>\n",
       "    <tr>\n",
       "      <th>2</th>\n",
       "      <td>Privacy e termini Accedi Introduzione Norme su...</td>\n",
       "    </tr>\n",
       "    <tr>\n",
       "      <th>3</th>\n",
       "      <td>Passa a contenuti principali Microsoft Privacy...</td>\n",
       "    </tr>\n",
       "    <tr>\n",
       "      <th>4</th>\n",
       "      <td>Privacy policy From Meta, a Wikimedia project ...</td>\n",
       "    </tr>\n",
       "    <tr>\n",
       "      <th>...</th>\n",
       "      <td>...</td>\n",
       "    </tr>\n",
       "    <tr>\n",
       "      <th>275</th>\n",
       "      <td>Skip to main content An official website of th...</td>\n",
       "    </tr>\n",
       "    <tr>\n",
       "      <th>276</th>\n",
       "      <td>Privacy e termini Privacy e termini Accedi Int...</td>\n",
       "    </tr>\n",
       "    <tr>\n",
       "      <th>277</th>\n",
       "      <td>Skip to content MenuMenu Il seguente elemento ...</td>\n",
       "    </tr>\n",
       "    <tr>\n",
       "      <th>278</th>\n",
       "      <td>Skip to main content Sign In Try Now Teams For...</td>\n",
       "    </tr>\n",
       "    <tr>\n",
       "      <th>279</th>\n",
       "      <td>Skip to main content UCI homepage About About ...</td>\n",
       "    </tr>\n",
       "  </tbody>\n",
       "</table>\n",
       "<p>280 rows × 1 columns</p>\n",
       "</div>"
      ],
      "text/plain": [
       "                                                  Text\n",
       "0    Privacy e termini Accedi Introduzione Norme su...\n",
       "1    Skip to main content Privacy Policy Twitter Pr...\n",
       "2    Privacy e termini Accedi Introduzione Norme su...\n",
       "3    Passa a contenuti principali Microsoft Privacy...\n",
       "4    Privacy policy From Meta, a Wikimedia project ...\n",
       "..                                                 ...\n",
       "275  Skip to main content An official website of th...\n",
       "276  Privacy e termini Privacy e termini Accedi Int...\n",
       "277  Skip to content MenuMenu Il seguente elemento ...\n",
       "278  Skip to main content Sign In Try Now Teams For...\n",
       "279  Skip to main content UCI homepage About About ...\n",
       "\n",
       "[280 rows x 1 columns]"
      ]
     },
     "execution_count": 164,
     "metadata": {},
     "output_type": "execute_result"
    }
   ],
   "source": [
    "policy_files = []\n",
    "for filename in policy_file_names:\n",
    "    policy_files.append(open(DATADIR + filename))\n",
    "\n",
    "policy_texts = []\n",
    "\n",
    "for file in policy_files:\n",
    "    policy_texts.append(file.read())\n",
    "\n",
    "df = pd.DataFrame(data = policy_texts, columns = [\"Text\"])\n",
    "df"
   ]
  },
  {
   "cell_type": "code",
   "execution_count": 165,
   "id": "37d7a04b",
   "metadata": {},
   "outputs": [],
   "source": [
    "# There should be a separation based on the policy's language\n",
    "\n",
    "from sklearn.feature_extraction.text import TfidfVectorizer\n",
    "vec = TfidfVectorizer(stop_words = \"english\", ngram_range = (1, 3))\n",
    "vec.fit(df.Text.values)\n",
    "features = vec.transform(df.Text.values)"
   ]
  },
  {
   "cell_type": "code",
   "execution_count": 166,
   "id": "a1979dc3",
   "metadata": {},
   "outputs": [],
   "source": [
    "from sklearn.cluster import MiniBatchKMeans, KMeans\n",
    "clust = KMeans(init = \"k-means++\", n_clusters = 2, n_init = 10)\n",
    "\n",
    "clust.fit(features)\n",
    "yhat = clust.predict(features)\n",
    "df['Cluster Labels'] = clust.labels_\n",
    "\n",
    "# df.loc[df[\"Cluster Labels\"] == 1]"
   ]
  },
  {
   "cell_type": "code",
   "execution_count": 167,
   "id": "fcc17e83",
   "metadata": {},
   "outputs": [],
   "source": [
    "df_similar = pd.DataFrame(df.loc[df[\"Cluster Labels\"] == 1].values)\n",
    "# df_similar"
   ]
  },
  {
   "cell_type": "code",
   "execution_count": 168,
   "id": "104d81f4",
   "metadata": {},
   "outputs": [],
   "source": [
    "df_dissimilar = pd.DataFrame(df.loc[df[\"Cluster Labels\"] == 0].values)\n",
    "# df_dissimilar"
   ]
  },
  {
   "cell_type": "code",
   "execution_count": 169,
   "id": "61448af2",
   "metadata": {},
   "outputs": [
    {
     "name": "stdout",
     "output_type": "stream",
     "text": [
      "it\n",
      "en\n",
      "zh\n",
      "qu\n",
      "la\n",
      "fr\n",
      "pt\n"
     ]
    }
   ],
   "source": [
    "langs = pd.Series(languages).unique()\n",
    "\n",
    "for lang in langs:\n",
    "    print(lang)"
   ]
  },
  {
   "cell_type": "code",
   "execution_count": 276,
   "id": "5f1ffba1",
   "metadata": {},
   "outputs": [
    {
     "name": "stdout",
     "output_type": "stream",
     "text": [
      "Current language: it\n",
      "Cluster 0: youtube risultati gmail esaminare vai android play identificatori chrome inserzionisti \n",
      "Cluster 1: microsoft terzi piattaforma to mail social media business proprio and \n",
      "Current language: en\n",
      "Cluster 0: amazon university gov statement microsoft resources wikimedia disney health copyright \n",
      "Cluster 1: california shield categories profile ccpa legitimate apps platform uk advertisements \n"
     ]
    }
   ],
   "source": [
    "for lang in langs:\n",
    "    language = \"\"\n",
    "    \n",
    "    if lang == \"it\":\n",
    "        language = \"italian\"\n",
    "    elif lang == \"en\":\n",
    "        language = \"english\"\n",
    "    else:\n",
    "        break\n",
    "        \n",
    "    print(\"Current language: \" + lang)\n",
    "\n",
    "#     texts_in_lang = {}\n",
    "\n",
    "    df_texts_in_lang = pd.DataFrame(columns = [\"Text\"])\n",
    "    \n",
    "    for file in make_policy_files():\n",
    "        file_text = file.read()\n",
    "        file_lang = langid.classify(file_text)[0]\n",
    "        if file_lang == lang:\n",
    "#             texts_in_lang.append(file_text)\n",
    "#             texts_in_lang[file.name] = file_text\n",
    "#             print(df_texts_in_lang)\n",
    "#             df_texts_in_lang = df_texts_in_lang.append([file.name, file_text])\n",
    "            df_texts_in_lang.loc[file.name] = file_text\n",
    "    \n",
    "#     print(texts_in_lang)\n",
    "    \n",
    "#     df_texts_in_lang = pd.DataFrame(data = texts_in_lang, columns = [\"Filename\", \"Text\"])\n",
    "    \n",
    "    \n",
    "    from sklearn.decomposition import TruncatedSVD\n",
    "    from sklearn.pipeline import make_pipeline\n",
    "    from sklearn.preprocessing import Normalizer\n",
    "\n",
    "    lsa = make_pipeline(TruncatedSVD(n_components=100), Normalizer(copy=False))\n",
    "\n",
    "\n",
    "    vectorizer = TfidfVectorizer(\n",
    "        max_df=0.5,\n",
    "        min_df=5,\n",
    "#         stop_words=\"english\",\n",
    "    )\n",
    "\n",
    "    try:\n",
    "        X_tfidf = vectorizer.fit_transform(df_texts_in_lang.Text)\n",
    "    except ValueError:\n",
    "        continue\n",
    "    \n",
    "    X_lsa = lsa.fit_transform(X_tfidf)\n",
    "    explained_variance = lsa[0].explained_variance_ratio_.sum()\n",
    "\n",
    "\n",
    "    kmeans = KMeans(\n",
    "        n_clusters=2,\n",
    "        max_iter=100,\n",
    "        n_init=1,\n",
    "    )\n",
    "\n",
    "    kmeans.fit(X_lsa)\n",
    "\n",
    "    original_space_centroids = lsa[0].inverse_transform(kmeans.cluster_centers_)\n",
    "    order_centroids = original_space_centroids.argsort()[:, ::-1]\n",
    "    terms = vectorizer.get_feature_names_out()\n",
    "\n",
    "    for i in range(2):\n",
    "        print(f\"Cluster {i}: \", end=\"\")\n",
    "        for ind in order_centroids[i, :10]:\n",
    "            print(f\"{terms[ind]} \", end=\"\")\n",
    "        print()"
   ]
  },
  {
   "cell_type": "code",
   "execution_count": 277,
   "id": "ec518b07",
   "metadata": {},
   "outputs": [
    {
     "data": {
      "text/html": [
       "<div>\n",
       "<style scoped>\n",
       "    .dataframe tbody tr th:only-of-type {\n",
       "        vertical-align: middle;\n",
       "    }\n",
       "\n",
       "    .dataframe tbody tr th {\n",
       "        vertical-align: top;\n",
       "    }\n",
       "\n",
       "    .dataframe thead th {\n",
       "        text-align: right;\n",
       "    }\n",
       "</style>\n",
       "<table border=\"1\" class=\"dataframe\">\n",
       "  <thead>\n",
       "    <tr style=\"text-align: right;\">\n",
       "      <th></th>\n",
       "      <th>Text</th>\n",
       "    </tr>\n",
       "  </thead>\n",
       "  <tbody>\n",
       "    <tr>\n",
       "      <th>data/policy_twitter.com.txt</th>\n",
       "      <td>Skip to main content Privacy Policy Twitter Pr...</td>\n",
       "    </tr>\n",
       "    <tr>\n",
       "      <th>data/policy_www.wikipedia.org.txt</th>\n",
       "      <td>Privacy policy From Meta, a Wikimedia project ...</td>\n",
       "    </tr>\n",
       "    <tr>\n",
       "      <th>data/policy_outlook.live.com.txt</th>\n",
       "      <td>Skip to main content Microsoft Privacy Privacy...</td>\n",
       "    </tr>\n",
       "    <tr>\n",
       "      <th>data/policy_github.com.txt</th>\n",
       "      <td>Skip to main content GitHub Docs All products ...</td>\n",
       "    </tr>\n",
       "    <tr>\n",
       "      <th>data/policy_wordpress.org.txt</th>\n",
       "      <td>Skip to content Log In Register WordPress.org ...</td>\n",
       "    </tr>\n",
       "    <tr>\n",
       "      <th>...</th>\n",
       "      <td>...</td>\n",
       "    </tr>\n",
       "    <tr>\n",
       "      <th>data/policy_wpengine.com.txt</th>\n",
       "      <td>Skip to content WP Engine Products Resources W...</td>\n",
       "    </tr>\n",
       "    <tr>\n",
       "      <th>data/policy_www.frontiersin.org.txt</th>\n",
       "      <td>Skip to main content Navigation Top bar naviga...</td>\n",
       "    </tr>\n",
       "    <tr>\n",
       "      <th>data/policy_www.irs.gov.txt</th>\n",
       "      <td>Skip to main content An official website of th...</td>\n",
       "    </tr>\n",
       "    <tr>\n",
       "      <th>data/policy_www.oreilly.com.txt</th>\n",
       "      <td>Skip to main content Sign In Try Now Teams For...</td>\n",
       "    </tr>\n",
       "    <tr>\n",
       "      <th>data/policy_uci.edu.txt</th>\n",
       "      <td>Skip to main content UCI homepage About About ...</td>\n",
       "    </tr>\n",
       "  </tbody>\n",
       "</table>\n",
       "<p>221 rows × 1 columns</p>\n",
       "</div>"
      ],
      "text/plain": [
       "                                                                                  Text\n",
       "data/policy_twitter.com.txt          Skip to main content Privacy Policy Twitter Pr...\n",
       "data/policy_www.wikipedia.org.txt    Privacy policy From Meta, a Wikimedia project ...\n",
       "data/policy_outlook.live.com.txt     Skip to main content Microsoft Privacy Privacy...\n",
       "data/policy_github.com.txt           Skip to main content GitHub Docs All products ...\n",
       "data/policy_wordpress.org.txt        Skip to content Log In Register WordPress.org ...\n",
       "...                                                                                ...\n",
       "data/policy_wpengine.com.txt         Skip to content WP Engine Products Resources W...\n",
       "data/policy_www.frontiersin.org.txt  Skip to main content Navigation Top bar naviga...\n",
       "data/policy_www.irs.gov.txt          Skip to main content An official website of th...\n",
       "data/policy_www.oreilly.com.txt      Skip to main content Sign In Try Now Teams For...\n",
       "data/policy_uci.edu.txt              Skip to main content UCI homepage About About ...\n",
       "\n",
       "[221 rows x 1 columns]"
      ]
     },
     "execution_count": 277,
     "metadata": {},
     "output_type": "execute_result"
    }
   ],
   "source": [
    "df_texts_in_lang"
   ]
  },
  {
   "cell_type": "code",
   "execution_count": 278,
   "id": "4a2b7766",
   "metadata": {},
   "outputs": [],
   "source": [
    "# df_texts_in_lang[\"Text\"].index[2]"
   ]
  },
  {
   "cell_type": "markdown",
   "id": "f1cb7299",
   "metadata": {},
   "source": [
    "#### DBSCAN"
   ]
  },
  {
   "cell_type": "code",
   "execution_count": 297,
   "id": "930b595f",
   "metadata": {},
   "outputs": [],
   "source": [
    "from sklearn.cluster import DBSCAN\n",
    "\n",
    "core_samples_mask = np.zeros_like(db.labels_, dtype=bool)\n",
    "core_samples_mask[db.core_sample_indices_] = True\n",
    "\n",
    "n_clusters_ = len(set(labels)) - (1 if -1 in labels else 0)\n",
    "\n",
    "vectorizer = TfidfVectorizer(\n",
    "    max_df=0.5,\n",
    "    min_df=5,\n",
    ")\n",
    "\n",
    "\n",
    "texts_in_lang = []\n",
    "\n",
    "for file in make_policy_files():\n",
    "    file_text = file.read()\n",
    "#     file_lang = langid.classify(file_text)[0]\n",
    "#     if file_lang == lang:\n",
    "    texts_in_lang.append(file_text)\n",
    "\n",
    "# df_texts_in_lang = pd.DataFrame(data = texts_in_lang, columns = [\"Text\"])\n",
    "\n",
    "# --\n",
    "\n",
    "X_tfidf = vectorizer.fit_transform(df_texts_in_lang.Text)\n",
    "\n",
    "X_lsa = lsa.fit_transform(X_tfidf)\n",
    "explained_variance = lsa[0].explained_variance_ratio_.sum()\n",
    "\n",
    "X = X_lsa\n",
    "\n",
    "db = DBSCAN(eps=1, min_samples=len(df_texts_in_lang) // 10).fit(X) # each cluster must contain at lesast 1/10th of the total\n",
    "# db.labels_"
   ]
  },
  {
   "cell_type": "code",
   "execution_count": 315,
   "id": "bcd1d056",
   "metadata": {},
   "outputs": [
    {
     "data": {
      "text/html": [
       "<div>\n",
       "<style scoped>\n",
       "    .dataframe tbody tr th:only-of-type {\n",
       "        vertical-align: middle;\n",
       "    }\n",
       "\n",
       "    .dataframe tbody tr th {\n",
       "        vertical-align: top;\n",
       "    }\n",
       "\n",
       "    .dataframe thead th {\n",
       "        text-align: right;\n",
       "    }\n",
       "</style>\n",
       "<table border=\"1\" class=\"dataframe\">\n",
       "  <thead>\n",
       "    <tr style=\"text-align: right;\">\n",
       "      <th></th>\n",
       "      <th>Cluster</th>\n",
       "      <th>Text</th>\n",
       "    </tr>\n",
       "  </thead>\n",
       "  <tbody>\n",
       "    <tr>\n",
       "      <th>data/policy_twitter.com.txt</th>\n",
       "      <td>0</td>\n",
       "      <td>Skip to main content Privacy Policy Twitter Pr...</td>\n",
       "    </tr>\n",
       "    <tr>\n",
       "      <th>data/policy_www.wikipedia.org.txt</th>\n",
       "      <td>0</td>\n",
       "      <td>Privacy policy From Meta, a Wikimedia project ...</td>\n",
       "    </tr>\n",
       "    <tr>\n",
       "      <th>data/policy_outlook.live.com.txt</th>\n",
       "      <td>0</td>\n",
       "      <td>Skip to main content Microsoft Privacy Privacy...</td>\n",
       "    </tr>\n",
       "    <tr>\n",
       "      <th>data/policy_github.com.txt</th>\n",
       "      <td>-1</td>\n",
       "      <td>Skip to main content GitHub Docs All products ...</td>\n",
       "    </tr>\n",
       "    <tr>\n",
       "      <th>data/policy_wordpress.org.txt</th>\n",
       "      <td>0</td>\n",
       "      <td>Skip to content Log In Register WordPress.org ...</td>\n",
       "    </tr>\n",
       "    <tr>\n",
       "      <th>...</th>\n",
       "      <td>...</td>\n",
       "      <td>...</td>\n",
       "    </tr>\n",
       "    <tr>\n",
       "      <th>data/policy_wpengine.com.txt</th>\n",
       "      <td>-1</td>\n",
       "      <td>Skip to content WP Engine Products Resources W...</td>\n",
       "    </tr>\n",
       "    <tr>\n",
       "      <th>data/policy_www.frontiersin.org.txt</th>\n",
       "      <td>-1</td>\n",
       "      <td>Skip to main content Navigation Top bar naviga...</td>\n",
       "    </tr>\n",
       "    <tr>\n",
       "      <th>data/policy_www.irs.gov.txt</th>\n",
       "      <td>-1</td>\n",
       "      <td>Skip to main content An official website of th...</td>\n",
       "    </tr>\n",
       "    <tr>\n",
       "      <th>data/policy_www.oreilly.com.txt</th>\n",
       "      <td>0</td>\n",
       "      <td>Skip to main content Sign In Try Now Teams For...</td>\n",
       "    </tr>\n",
       "    <tr>\n",
       "      <th>data/policy_uci.edu.txt</th>\n",
       "      <td>0</td>\n",
       "      <td>Skip to main content UCI homepage About About ...</td>\n",
       "    </tr>\n",
       "  </tbody>\n",
       "</table>\n",
       "<p>221 rows × 2 columns</p>\n",
       "</div>"
      ],
      "text/plain": [
       "                                     Cluster  \\\n",
       "data/policy_twitter.com.txt                0   \n",
       "data/policy_www.wikipedia.org.txt          0   \n",
       "data/policy_outlook.live.com.txt           0   \n",
       "data/policy_github.com.txt                -1   \n",
       "data/policy_wordpress.org.txt              0   \n",
       "...                                      ...   \n",
       "data/policy_wpengine.com.txt              -1   \n",
       "data/policy_www.frontiersin.org.txt       -1   \n",
       "data/policy_www.irs.gov.txt               -1   \n",
       "data/policy_www.oreilly.com.txt            0   \n",
       "data/policy_uci.edu.txt                    0   \n",
       "\n",
       "                                                                                  Text  \n",
       "data/policy_twitter.com.txt          Skip to main content Privacy Policy Twitter Pr...  \n",
       "data/policy_www.wikipedia.org.txt    Privacy policy From Meta, a Wikimedia project ...  \n",
       "data/policy_outlook.live.com.txt     Skip to main content Microsoft Privacy Privacy...  \n",
       "data/policy_github.com.txt           Skip to main content GitHub Docs All products ...  \n",
       "data/policy_wordpress.org.txt        Skip to content Log In Register WordPress.org ...  \n",
       "...                                                                                ...  \n",
       "data/policy_wpengine.com.txt         Skip to content WP Engine Products Resources W...  \n",
       "data/policy_www.frontiersin.org.txt  Skip to main content Navigation Top bar naviga...  \n",
       "data/policy_www.irs.gov.txt          Skip to main content An official website of th...  \n",
       "data/policy_www.oreilly.com.txt      Skip to main content Sign In Try Now Teams For...  \n",
       "data/policy_uci.edu.txt              Skip to main content UCI homepage About About ...  \n",
       "\n",
       "[221 rows x 2 columns]"
      ]
     },
     "execution_count": 315,
     "metadata": {},
     "output_type": "execute_result"
    }
   ],
   "source": [
    "db_df = pd.DataFrame(data = {\"Cluster\" : db.labels_,\n",
    "                             \"Text\" : df_texts_in_lang.Text},\n",
    "#                              \"Filename\" : df_texts_in_lang.index},\n",
    "                     index = df_texts_in_lang.index)\n",
    "db_df"
   ]
  },
  {
   "cell_type": "code",
   "execution_count": 299,
   "id": "6b50ee1c",
   "metadata": {},
   "outputs": [
    {
     "data": {
      "text/html": [
       "<div>\n",
       "<style scoped>\n",
       "    .dataframe tbody tr th:only-of-type {\n",
       "        vertical-align: middle;\n",
       "    }\n",
       "\n",
       "    .dataframe tbody tr th {\n",
       "        vertical-align: top;\n",
       "    }\n",
       "\n",
       "    .dataframe thead th {\n",
       "        text-align: right;\n",
       "    }\n",
       "</style>\n",
       "<table border=\"1\" class=\"dataframe\">\n",
       "  <thead>\n",
       "    <tr style=\"text-align: right;\">\n",
       "      <th></th>\n",
       "      <th>Cluster</th>\n",
       "      <th>Text</th>\n",
       "      <th>Filename</th>\n",
       "    </tr>\n",
       "  </thead>\n",
       "  <tbody>\n",
       "    <tr>\n",
       "      <th>data/policy_github.com.txt</th>\n",
       "      <td>-1</td>\n",
       "      <td>Skip to main content GitHub Docs All products ...</td>\n",
       "      <td>data/policy_github.com.txt</td>\n",
       "    </tr>\n",
       "    <tr>\n",
       "      <th>data/policy_www.apple.com.txt</th>\n",
       "      <td>-1</td>\n",
       "      <td>Global Nav Open MenuGlobal Nav Close Menu Appl...</td>\n",
       "      <td>data/policy_www.apple.com.txt</td>\n",
       "    </tr>\n",
       "    <tr>\n",
       "      <th>data/policy_wordpress.com.txt</th>\n",
       "      <td>-1</td>\n",
       "      <td>Automattic Home About Us News Work With Us Pri...</td>\n",
       "      <td>data/policy_wordpress.com.txt</td>\n",
       "    </tr>\n",
       "    <tr>\n",
       "      <th>data/policy_bitly.com.txt</th>\n",
       "      <td>-1</td>\n",
       "      <td>Skip Navigation Get the tools to grow with Sta...</td>\n",
       "      <td>data/policy_bitly.com.txt</td>\n",
       "    </tr>\n",
       "    <tr>\n",
       "      <th>data/policy_www.nih.gov.txt</th>\n",
       "      <td>-1</td>\n",
       "      <td>Skip to main content An official website of th...</td>\n",
       "      <td>data/policy_www.nih.gov.txt</td>\n",
       "    </tr>\n",
       "    <tr>\n",
       "      <th>...</th>\n",
       "      <td>...</td>\n",
       "      <td>...</td>\n",
       "      <td>...</td>\n",
       "    </tr>\n",
       "    <tr>\n",
       "      <th>data/policy_www.ea.com.txt</th>\n",
       "      <td>-1</td>\n",
       "      <td>Electronic Arts Home\\nFeatured GamesAll GamesC...</td>\n",
       "      <td>data/policy_www.ea.com.txt</td>\n",
       "    </tr>\n",
       "    <tr>\n",
       "      <th>data/policy_www.newyorker.com.txt</th>\n",
       "      <td>-1</td>\n",
       "      <td>Skip to main content About Brands Stores Comme...</td>\n",
       "      <td>data/policy_www.newyorker.com.txt</td>\n",
       "    </tr>\n",
       "    <tr>\n",
       "      <th>data/policy_wpengine.com.txt</th>\n",
       "      <td>-1</td>\n",
       "      <td>Skip to content WP Engine Products Resources W...</td>\n",
       "      <td>data/policy_wpengine.com.txt</td>\n",
       "    </tr>\n",
       "    <tr>\n",
       "      <th>data/policy_www.frontiersin.org.txt</th>\n",
       "      <td>-1</td>\n",
       "      <td>Skip to main content Navigation Top bar naviga...</td>\n",
       "      <td>data/policy_www.frontiersin.org.txt</td>\n",
       "    </tr>\n",
       "    <tr>\n",
       "      <th>data/policy_www.irs.gov.txt</th>\n",
       "      <td>-1</td>\n",
       "      <td>Skip to main content An official website of th...</td>\n",
       "      <td>data/policy_www.irs.gov.txt</td>\n",
       "    </tr>\n",
       "  </tbody>\n",
       "</table>\n",
       "<p>66 rows × 3 columns</p>\n",
       "</div>"
      ],
      "text/plain": [
       "                                     Cluster  \\\n",
       "data/policy_github.com.txt                -1   \n",
       "data/policy_www.apple.com.txt             -1   \n",
       "data/policy_wordpress.com.txt             -1   \n",
       "data/policy_bitly.com.txt                 -1   \n",
       "data/policy_www.nih.gov.txt               -1   \n",
       "...                                      ...   \n",
       "data/policy_www.ea.com.txt                -1   \n",
       "data/policy_www.newyorker.com.txt         -1   \n",
       "data/policy_wpengine.com.txt              -1   \n",
       "data/policy_www.frontiersin.org.txt       -1   \n",
       "data/policy_www.irs.gov.txt               -1   \n",
       "\n",
       "                                                                                  Text  \\\n",
       "data/policy_github.com.txt           Skip to main content GitHub Docs All products ...   \n",
       "data/policy_www.apple.com.txt        Global Nav Open MenuGlobal Nav Close Menu Appl...   \n",
       "data/policy_wordpress.com.txt        Automattic Home About Us News Work With Us Pri...   \n",
       "data/policy_bitly.com.txt            Skip Navigation Get the tools to grow with Sta...   \n",
       "data/policy_www.nih.gov.txt          Skip to main content An official website of th...   \n",
       "...                                                                                ...   \n",
       "data/policy_www.ea.com.txt           Electronic Arts Home\\nFeatured GamesAll GamesC...   \n",
       "data/policy_www.newyorker.com.txt    Skip to main content About Brands Stores Comme...   \n",
       "data/policy_wpengine.com.txt         Skip to content WP Engine Products Resources W...   \n",
       "data/policy_www.frontiersin.org.txt  Skip to main content Navigation Top bar naviga...   \n",
       "data/policy_www.irs.gov.txt          Skip to main content An official website of th...   \n",
       "\n",
       "                                                                Filename  \n",
       "data/policy_github.com.txt                    data/policy_github.com.txt  \n",
       "data/policy_www.apple.com.txt              data/policy_www.apple.com.txt  \n",
       "data/policy_wordpress.com.txt              data/policy_wordpress.com.txt  \n",
       "data/policy_bitly.com.txt                      data/policy_bitly.com.txt  \n",
       "data/policy_www.nih.gov.txt                  data/policy_www.nih.gov.txt  \n",
       "...                                                                  ...  \n",
       "data/policy_www.ea.com.txt                    data/policy_www.ea.com.txt  \n",
       "data/policy_www.newyorker.com.txt      data/policy_www.newyorker.com.txt  \n",
       "data/policy_wpengine.com.txt                data/policy_wpengine.com.txt  \n",
       "data/policy_www.frontiersin.org.txt  data/policy_www.frontiersin.org.txt  \n",
       "data/policy_www.irs.gov.txt                  data/policy_www.irs.gov.txt  \n",
       "\n",
       "[66 rows x 3 columns]"
      ]
     },
     "execution_count": 299,
     "metadata": {},
     "output_type": "execute_result"
    }
   ],
   "source": [
    "db_df.loc[db_df[\"Cluster\"] == -1] # Dissimilar entries"
   ]
  },
  {
   "cell_type": "code",
   "execution_count": 300,
   "id": "c0b18e01",
   "metadata": {},
   "outputs": [],
   "source": [
    "# import matplotlib.pyplot as plt\n",
    "\n",
    "# # Black removed and is used for noise instead.\n",
    "# labels = [0, -1]\n",
    "# unique_labels = set(labels)\n",
    "# colors = [plt.cm.Spectral(each) for each in np.linspace(0, 1, len(unique_labels))]\n",
    "\n",
    "# for k, col in zip(unique_labels, colors):\n",
    "#     if k == -1:\n",
    "#         # Black used for noise.\n",
    "#         col = [0, 0, 0, 1]\n",
    "\n",
    "#     class_member_mask = labels == k\n",
    "    \n",
    "#     xy = X[class_member_mask & core_samples_mask]\n",
    "#     plt.plot(\n",
    "#         xy[:, 0],\n",
    "#         xy[:, 1],\n",
    "#         \"o\",\n",
    "#         markerfacecolor=tuple(col),\n",
    "#         markeredgecolor=\"k\",\n",
    "#         markersize=14,\n",
    "#     )\n",
    "\n",
    "#     xy = X[class_member_mask & ~core_samples_mask]\n",
    "#     plt.plot(\n",
    "#         xy[:, 0],\n",
    "#         xy[:, 1],\n",
    "#         \"o\",\n",
    "#         markerfacecolor=tuple(col),\n",
    "#         markeredgecolor=\"k\",\n",
    "#         markersize=6,\n",
    "#     )\n",
    "\n",
    "# plt.title(\"Estimated number of clusters: %d\" % n_clusters_)\n",
    "# plt.show()"
   ]
  },
  {
   "cell_type": "markdown",
   "id": "f2c1beaa",
   "metadata": {},
   "source": [
    "#### 2.5.2 Finer Clustering"
   ]
  },
  {
   "cell_type": "code",
   "execution_count": 301,
   "id": "6e85152b",
   "metadata": {},
   "outputs": [],
   "source": [
    "from sklearn.metrics.pairwise import cosine_similarity\n",
    "cosine_sim = cosine_similarity(features)\n",
    "\n",
    "def getind(c):\n",
    "    return df[df.Text == c].index.tolist()\n",
    "\n",
    "def gettext(i):\n",
    "    return df[df.index == i].Text.tolist()"
   ]
  },
  {
   "cell_type": "code",
   "execution_count": 302,
   "id": "42db1930",
   "metadata": {},
   "outputs": [],
   "source": [
    "similar = list(enumerate(cosine_sim[0]))\n",
    "# similar"
   ]
  },
  {
   "cell_type": "code",
   "execution_count": 303,
   "id": "87784729",
   "metadata": {},
   "outputs": [],
   "source": [
    "# This one kinda does the same thing as the 2 clusters\n",
    "\n",
    "sim_list = []\n",
    "unsim_list = []\n",
    "for m in similar:\n",
    "    t = gettext(m[0])\n",
    "    if m[1] > 0.15:\n",
    "        sim_list.append(t)\n",
    "    else:\n",
    "        unsim_list.append(t)"
   ]
  },
  {
   "cell_type": "code",
   "execution_count": 304,
   "id": "abefc054",
   "metadata": {},
   "outputs": [],
   "source": [
    "df_sim = pd.DataFrame(sim_list, columns = [\"Text\"])\n",
    "df_unsim = pd.DataFrame(unsim_list, columns = [\"Text\"])"
   ]
  },
  {
   "cell_type": "code",
   "execution_count": 305,
   "id": "53dcc089",
   "metadata": {},
   "outputs": [],
   "source": [
    "# df_sim"
   ]
  },
  {
   "cell_type": "code",
   "execution_count": 306,
   "id": "6f2149c5",
   "metadata": {},
   "outputs": [],
   "source": [
    "# df_unsim"
   ]
  },
  {
   "cell_type": "code",
   "execution_count": null,
   "id": "334a6228",
   "metadata": {},
   "outputs": [],
   "source": []
  },
  {
   "cell_type": "code",
   "execution_count": 307,
   "id": "ebf28971",
   "metadata": {},
   "outputs": [],
   "source": [
    "cosim = list(enumerate(cosine_sim))\n",
    "cumulative_sim = []\n",
    "\n",
    "for entry in cosim:\n",
    "    cumulative_sim.append(0)\n",
    "\n",
    "for entry in cosim:\n",
    "    i = 0\n",
    "    for sim_value in entry[1]:\n",
    "        cumulative_sim[i] = cumulative_sim[i] + (sim_value / len(cosim)) # Normalization\n",
    "        \n",
    "        i = i + 1"
   ]
  },
  {
   "cell_type": "code",
   "execution_count": 308,
   "id": "cd28a4a6",
   "metadata": {},
   "outputs": [
    {
     "data": {
      "text/plain": [
       "[<matplotlib.lines.Line2D at 0x7fdee2a18af0>]"
      ]
     },
     "execution_count": 308,
     "metadata": {},
     "output_type": "execute_result"
    },
    {
     "data": {
      "image/png": "[encoded data removed]",
      "text/plain": [
       "<Figure size 432x288 with 1 Axes>"
      ]
     },
     "metadata": {
      "needs_background": "light"
     },
     "output_type": "display_data"
    }
   ],
   "source": [
    "plt.plot(cumulative_sim)"
   ]
  },
  {
   "cell_type": "code",
   "execution_count": 309,
   "id": "f893bd62",
   "metadata": {},
   "outputs": [],
   "source": [
    "sim_list = []\n",
    "unsim_list = []\n",
    "\n",
    "threshold = 0.085\n",
    "\n",
    "i = 0\n",
    "for k in cumulative_sim:\n",
    "    t = gettext(i)\n",
    "    if k > threshold:\n",
    "        sim_list.append(t)\n",
    "    else:\n",
    "        unsim_list.append(t)\n",
    "    i = i + 1"
   ]
  },
  {
   "cell_type": "code",
   "execution_count": 310,
   "id": "d5b1d9a2",
   "metadata": {},
   "outputs": [],
   "source": [
    "df_sim = pd.DataFrame(sim_list, columns = [\"Text\"])\n",
    "df_unsim = pd.DataFrame(unsim_list, columns = [\"Text\"])"
   ]
  },
  {
   "cell_type": "code",
   "execution_count": 311,
   "id": "291314ef",
   "metadata": {},
   "outputs": [],
   "source": [
    "# df_sim"
   ]
  },
  {
   "cell_type": "code",
   "execution_count": 312,
   "id": "1b0fa842",
   "metadata": {},
   "outputs": [],
   "source": [
    "# df_unsim"
   ]
  },
  {
   "cell_type": "code",
   "execution_count": 313,
   "id": "155cfa46",
   "metadata": {},
   "outputs": [],
   "source": [
    "verysim_list = []\n",
    "\n",
    "threshold = 0.185\n",
    "\n",
    "i = 0\n",
    "for k in cumulative_sim:\n",
    "    t = gettext(i)\n",
    "    if k > threshold:\n",
    "        verysim_list.append(t)\n",
    "#     else:\n",
    "#         unsim_list.append(t)\n",
    "    i = i + 1"
   ]
  },
  {
   "cell_type": "code",
   "execution_count": 314,
   "id": "7f7183fd",
   "metadata": {},
   "outputs": [
    {
     "data": {
      "text/html": [
       "<div>\n",
       "<style scoped>\n",
       "    .dataframe tbody tr th:only-of-type {\n",
       "        vertical-align: middle;\n",
       "    }\n",
       "\n",
       "    .dataframe tbody tr th {\n",
       "        vertical-align: top;\n",
       "    }\n",
       "\n",
       "    .dataframe thead th {\n",
       "        text-align: right;\n",
       "    }\n",
       "</style>\n",
       "<table border=\"1\" class=\"dataframe\">\n",
       "  <thead>\n",
       "    <tr style=\"text-align: right;\">\n",
       "      <th></th>\n",
       "      <th>Text</th>\n",
       "    </tr>\n",
       "  </thead>\n",
       "  <tbody>\n",
       "  </tbody>\n",
       "</table>\n",
       "</div>"
      ],
      "text/plain": [
       "Empty DataFrame\n",
       "Columns: [Text]\n",
       "Index: []"
      ]
     },
     "execution_count": 314,
     "metadata": {},
     "output_type": "execute_result"
    }
   ],
   "source": [
    "df_verysim = pd.DataFrame(verysim_list, columns = [\"Text\"])\n",
    "df_verysim"
   ]
  }
 ],
 "metadata": {
  "kernelspec": {
   "display_name": "Python 3 (ipykernel)",
   "language": "python",
   "name": "python3"
  },
  "language_info": {
   "codemirror_mode": {
    "name": "ipython",
    "version": 3
   },
   "file_extension": ".py",
   "mimetype": "text/x-python",
   "name": "python",
   "nbconvert_exporter": "python",
   "pygments_lexer": "ipython3",
   "version": "3.10.8"
  }
 },
 "nbformat": 4,
 "nbformat_minor": 5
}
